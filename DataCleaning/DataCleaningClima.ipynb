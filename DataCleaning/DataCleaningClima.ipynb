{
 "cells": [
  {
   "cell_type": "markdown",
   "metadata": {
    "id": "alw0Rqc-CSpG"
   },
   "source": [
    "# **MINERIA DE DATOS** 🔎\n",
    "Maester U. en Big Data y Ciencia de datos\n",
    "\n",
    "DATOS CLIMATOLOGICOS DE ESPAÑA POR PROVINCIA\n",
    "\n",
    "\n",
    "\n",
    "*   **Danilo Plazas Irreño**"
   ]
  },
  {
   "cell_type": "markdown",
   "metadata": {
    "id": "TUGY1oHNH4DX"
   },
   "source": [
    "# INTRODUCCIÓN\n",
    "\n",
    "La información presentada en este documento es la descripción secuencial de las metodologías implementadas en la base de datos de acceso público sobre el clima en españa en cada una de sus provincias."
   ]
  },
  {
   "cell_type": "markdown",
   "metadata": {
    "id": "nilS-JgJIxvl"
   },
   "source": [
    "# CARGUE DE DATOS\n",
    "\n",
    "Se realizo el cargue del set de datos, los cuales fueron descargados del siguiente link:\n",
    "https://opendata.aemet.es/centrodedescargas/productosAEMET?\n",
    "\n",
    "Posteriormente asignamos permisos a colab para acceder a nuestro drive en donde se encuentra nuestro dataset y realizamos el cargue de las diferentes librerías necesarias para el análisis y preparación de los datos."
   ]
  },
  {
   "cell_type": "markdown",
   "metadata": {
    "id": "tZgxuf66S61W"
   },
   "source": [
    "Para un correcto funcionamiento de pandas-profiling se deben instalar las siguientes versiones de librerías:"
   ]
  },
  {
   "cell_type": "code",
   "execution_count": 1,
   "metadata": {},
   "outputs": [
    {
     "name": "stdout",
     "output_type": "stream",
     "text": [
      "3.7.1\n"
     ]
    }
   ],
   "source": [
    "import matplotlib\n",
    "print(matplotlib.__version__)"
   ]
  },
  {
   "cell_type": "code",
   "execution_count": 4,
   "metadata": {
    "executionInfo": {
     "elapsed": 1218,
     "status": "ok",
     "timestamp": 1655767591668,
     "user": {
      "displayName": "Danilo Plazas Irrenno",
      "userId": "03881415684539109829"
     },
     "user_tz": 300
    },
    "id": "5kaD2UWmC_Tu",
    "scrolled": true
   },
   "outputs": [],
   "source": [
    "import os\n",
    "import pandas as pd\n",
    "import numpy as np\n",
    "from datetime import datetime\n",
    "import datetime\n",
    "from scipy import stats\n",
    "import matplotlib\n",
    "import matplotlib.pyplot as plt\n",
    "import matplotlib.mlab as mlab\n",
    "import matplotlib\n",
    "%matplotlib inline\n",
    "plt.style.use(\"ggplot\")\n",
    "from matplotlib.pyplot import figure\n",
    "matplotlib.rcParams['figure.figsize'] = (12,8)\n",
    "pd.options.mode.chained_assignment = None\n",
    "import seaborn as sns\n",
    "from pandas_profiling import ProfileReport"
   ]
  },
  {
   "cell_type": "markdown",
   "metadata": {
    "id": "WD_hS7NMKcVs"
   },
   "source": [
    "Leemos el archivo CSV"
   ]
  },
  {
   "cell_type": "code",
   "execution_count": 9,
   "metadata": {},
   "outputs": [],
   "source": [
    "path = os.getcwd()\n",
    "path = path.replace(\"\\\\\", \"\\\\\\\\\")\n",
    "path = path.replace(\"\\\\\\\\\", \"/\")\n",
    "path = \"/\".join(path.split(\"/\")[:-1]) + \"/Data/Data_Climatologica/Diaria/\""
   ]
  },
  {
   "cell_type": "code",
   "execution_count": 120,
   "metadata": {
    "colab": {
     "base_uri": "https://localhost:8080/"
    },
    "executionInfo": {
     "elapsed": 17665,
     "status": "ok",
     "timestamp": 1655767612951,
     "user": {
      "displayName": "Danilo Plazas Irrenno",
      "userId": "03881415684539109829"
     },
     "user_tz": 300
    },
    "id": "9iU1IRtWE6Bt",
    "outputId": "7450e663-3650-4ca7-820e-bdfd88060155"
   },
   "outputs": [],
   "source": [
    "# read the data\n",
    "df = pd.read_json(path + 'A_CORUÑA_D.json', encoding=\"latin\")"
   ]
  },
  {
   "cell_type": "code",
   "execution_count": 12,
   "metadata": {},
   "outputs": [
    {
     "data": {
      "text/html": [
       "<div>\n",
       "<style scoped>\n",
       "    .dataframe tbody tr th:only-of-type {\n",
       "        vertical-align: middle;\n",
       "    }\n",
       "\n",
       "    .dataframe tbody tr th {\n",
       "        vertical-align: top;\n",
       "    }\n",
       "\n",
       "    .dataframe thead th {\n",
       "        text-align: right;\n",
       "    }\n",
       "</style>\n",
       "<table border=\"1\" class=\"dataframe\">\n",
       "  <thead>\n",
       "    <tr style=\"text-align: right;\">\n",
       "      <th></th>\n",
       "      <th>fecha</th>\n",
       "      <th>indicativo</th>\n",
       "      <th>nombre</th>\n",
       "      <th>provincia</th>\n",
       "      <th>altitud</th>\n",
       "      <th>tmed</th>\n",
       "      <th>prec</th>\n",
       "      <th>tmin</th>\n",
       "      <th>horatmin</th>\n",
       "      <th>tmax</th>\n",
       "      <th>horatmax</th>\n",
       "      <th>dir</th>\n",
       "      <th>velmedia</th>\n",
       "      <th>racha</th>\n",
       "      <th>horaracha</th>\n",
       "      <th>sol</th>\n",
       "      <th>presMax</th>\n",
       "      <th>horaPresMax</th>\n",
       "      <th>presMin</th>\n",
       "      <th>horaPresMin</th>\n",
       "    </tr>\n",
       "  </thead>\n",
       "  <tbody>\n",
       "    <tr>\n",
       "      <th>0</th>\n",
       "      <td>2020-01-01</td>\n",
       "      <td>1387</td>\n",
       "      <td>A CORUÑA</td>\n",
       "      <td>A CORUÑA</td>\n",
       "      <td>58</td>\n",
       "      <td>9,0</td>\n",
       "      <td>0,0</td>\n",
       "      <td>6,4</td>\n",
       "      <td>23:40</td>\n",
       "      <td>11,5</td>\n",
       "      <td>14:10</td>\n",
       "      <td>16.0</td>\n",
       "      <td>1,9</td>\n",
       "      <td>5,3</td>\n",
       "      <td>05:50</td>\n",
       "      <td>6,8</td>\n",
       "      <td>1025,4</td>\n",
       "      <td>Varias</td>\n",
       "      <td>1021,7</td>\n",
       "      <td>24</td>\n",
       "    </tr>\n",
       "    <tr>\n",
       "      <th>1</th>\n",
       "      <td>2020-01-02</td>\n",
       "      <td>1387</td>\n",
       "      <td>A CORUÑA</td>\n",
       "      <td>A CORUÑA</td>\n",
       "      <td>58</td>\n",
       "      <td>9,3</td>\n",
       "      <td>0,2</td>\n",
       "      <td>6,2</td>\n",
       "      <td>04:10</td>\n",
       "      <td>12,4</td>\n",
       "      <td>Varias</td>\n",
       "      <td>22.0</td>\n",
       "      <td>2,8</td>\n",
       "      <td>11,4</td>\n",
       "      <td>14:20</td>\n",
       "      <td>0,0</td>\n",
       "      <td>1021,7</td>\n",
       "      <td>00</td>\n",
       "      <td>1019,5</td>\n",
       "      <td>16</td>\n",
       "    </tr>\n",
       "    <tr>\n",
       "      <th>2</th>\n",
       "      <td>2020-01-03</td>\n",
       "      <td>1387</td>\n",
       "      <td>A CORUÑA</td>\n",
       "      <td>A CORUÑA</td>\n",
       "      <td>58</td>\n",
       "      <td>11,9</td>\n",
       "      <td>0,0</td>\n",
       "      <td>8,8</td>\n",
       "      <td>23:59</td>\n",
       "      <td>15,0</td>\n",
       "      <td>12:40</td>\n",
       "      <td>17.0</td>\n",
       "      <td>2,5</td>\n",
       "      <td>9,2</td>\n",
       "      <td>03:30</td>\n",
       "      <td>4,5</td>\n",
       "      <td>1029,4</td>\n",
       "      <td>22</td>\n",
       "      <td>1020,6</td>\n",
       "      <td>02</td>\n",
       "    </tr>\n",
       "    <tr>\n",
       "      <th>3</th>\n",
       "      <td>2020-01-04</td>\n",
       "      <td>1387</td>\n",
       "      <td>A CORUÑA</td>\n",
       "      <td>A CORUÑA</td>\n",
       "      <td>58</td>\n",
       "      <td>9,4</td>\n",
       "      <td>0,0</td>\n",
       "      <td>5,7</td>\n",
       "      <td>08:10</td>\n",
       "      <td>13,1</td>\n",
       "      <td>14:30</td>\n",
       "      <td>99.0</td>\n",
       "      <td>0,8</td>\n",
       "      <td>4,7</td>\n",
       "      <td>Varias</td>\n",
       "      <td>7,2</td>\n",
       "      <td>1030,5</td>\n",
       "      <td>10</td>\n",
       "      <td>1026,5</td>\n",
       "      <td>24</td>\n",
       "    </tr>\n",
       "    <tr>\n",
       "      <th>4</th>\n",
       "      <td>2020-01-05</td>\n",
       "      <td>1387</td>\n",
       "      <td>A CORUÑA</td>\n",
       "      <td>A CORUÑA</td>\n",
       "      <td>58</td>\n",
       "      <td>8,2</td>\n",
       "      <td>0,0</td>\n",
       "      <td>4,4</td>\n",
       "      <td>07:50</td>\n",
       "      <td>11,9</td>\n",
       "      <td>13:30</td>\n",
       "      <td>16.0</td>\n",
       "      <td>1,7</td>\n",
       "      <td>5,8</td>\n",
       "      <td>07:20</td>\n",
       "      <td>8,5</td>\n",
       "      <td>1026,5</td>\n",
       "      <td>00</td>\n",
       "      <td>1020,8</td>\n",
       "      <td>22</td>\n",
       "    </tr>\n",
       "  </tbody>\n",
       "</table>\n",
       "</div>"
      ],
      "text/plain": [
       "        fecha  indicativo    nombre provincia  altitud  tmed prec tmin  \\\n",
       "0  2020-01-01        1387  A CORUÑA  A CORUÑA       58   9,0  0,0  6,4   \n",
       "1  2020-01-02        1387  A CORUÑA  A CORUÑA       58   9,3  0,2  6,2   \n",
       "2  2020-01-03        1387  A CORUÑA  A CORUÑA       58  11,9  0,0  8,8   \n",
       "3  2020-01-04        1387  A CORUÑA  A CORUÑA       58   9,4  0,0  5,7   \n",
       "4  2020-01-05        1387  A CORUÑA  A CORUÑA       58   8,2  0,0  4,4   \n",
       "\n",
       "  horatmin  tmax horatmax   dir velmedia racha horaracha  sol presMax  \\\n",
       "0    23:40  11,5    14:10  16.0      1,9   5,3     05:50  6,8  1025,4   \n",
       "1    04:10  12,4   Varias  22.0      2,8  11,4     14:20  0,0  1021,7   \n",
       "2    23:59  15,0    12:40  17.0      2,5   9,2     03:30  4,5  1029,4   \n",
       "3    08:10  13,1    14:30  99.0      0,8   4,7    Varias  7,2  1030,5   \n",
       "4    07:50  11,9    13:30  16.0      1,7   5,8     07:20  8,5  1026,5   \n",
       "\n",
       "  horaPresMax presMin horaPresMin  \n",
       "0      Varias  1021,7          24  \n",
       "1          00  1019,5          16  \n",
       "2          22  1020,6          02  \n",
       "3          10  1026,5          24  \n",
       "4          00  1020,8          22  "
      ]
     },
     "execution_count": 12,
     "metadata": {},
     "output_type": "execute_result"
    }
   ],
   "source": [
    "df.head()"
   ]
  },
  {
   "cell_type": "markdown",
   "metadata": {
    "id": "c4KNviVD4TNd"
   },
   "source": [
    "Comprobamos los tipos y la cantidad de instacias que tenemos:"
   ]
  },
  {
   "cell_type": "code",
   "execution_count": 13,
   "metadata": {
    "colab": {
     "base_uri": "https://localhost:8080/"
    },
    "executionInfo": {
     "elapsed": 256,
     "status": "ok",
     "timestamp": 1655767618620,
     "user": {
      "displayName": "Danilo Plazas Irrenno",
      "userId": "03881415684539109829"
     },
     "user_tz": 300
    },
    "id": "Wpo-KoLd4Kpw",
    "outputId": "bd84dd04-b23b-45ec-d7ab-1cd872b6cd4d",
    "scrolled": false
   },
   "outputs": [
    {
     "name": "stdout",
     "output_type": "stream",
     "text": [
      "Nuestro dataset tiene 1155 registros y 20 columnas \n",
      "\n",
      "fecha           object\n",
      "indicativo       int64\n",
      "nombre          object\n",
      "provincia       object\n",
      "altitud          int64\n",
      "tmed            object\n",
      "prec            object\n",
      "tmin            object\n",
      "horatmin        object\n",
      "tmax            object\n",
      "horatmax        object\n",
      "dir            float64\n",
      "velmedia        object\n",
      "racha           object\n",
      "horaracha       object\n",
      "sol             object\n",
      "presMax         object\n",
      "horaPresMax     object\n",
      "presMin         object\n",
      "horaPresMin     object\n",
      "dtype: object\n"
     ]
    }
   ],
   "source": [
    "print('Nuestro dataset tiene ' + str(df.shape[0]) + ' registros y ' + str(df.shape[1]) + ' columnas \\n')\n",
    "print(df.dtypes)"
   ]
  },
  {
   "cell_type": "markdown",
   "metadata": {
    "id": "QqIFOCYa6UEc"
   },
   "source": [
    "Comprobamos de todas las variables, que subconjunto son númericas y la cantidad que tenemos de estas:"
   ]
  },
  {
   "cell_type": "code",
   "execution_count": 14,
   "metadata": {
    "colab": {
     "base_uri": "https://localhost:8080/"
    },
    "executionInfo": {
     "elapsed": 163,
     "status": "ok",
     "timestamp": 1655767625935,
     "user": {
      "displayName": "Danilo Plazas Irrenno",
      "userId": "03881415684539109829"
     },
     "user_tz": 300
    },
    "id": "vlXOpMEW58xO",
    "outputId": "2d976956-a71b-408d-efd6-b1752c81bcbe"
   },
   "outputs": [
    {
     "name": "stdout",
     "output_type": "stream",
     "text": [
      "Tenemos 3 columnas de tipo númerico que son: \n",
      "\n",
      "['indicativo' 'altitud' 'dir']\n"
     ]
    }
   ],
   "source": [
    "df_numeric = df.select_dtypes(include=[np.number])\n",
    "numeric_cols = df_numeric.columns.values\n",
    "print('Tenemos' + ' ' +str(len(numeric_cols)) + ' columnas de tipo númerico que son: \\n')\n",
    "print(numeric_cols)"
   ]
  },
  {
   "cell_type": "markdown",
   "metadata": {
    "id": "EYpJFBMm7kPn"
   },
   "source": [
    "Comprobamos de todas las variables, que subconjunto NO son númericas y la cantidad que tenemos de estas:"
   ]
  },
  {
   "cell_type": "code",
   "execution_count": 15,
   "metadata": {
    "colab": {
     "base_uri": "https://localhost:8080/"
    },
    "executionInfo": {
     "elapsed": 397,
     "status": "ok",
     "timestamp": 1655767630679,
     "user": {
      "displayName": "Danilo Plazas Irrenno",
      "userId": "03881415684539109829"
     },
     "user_tz": 300
    },
    "id": "Nr0b-FOQ7kpL",
    "outputId": "4ca408c4-b8d7-4757-deae-6b10aa39090c"
   },
   "outputs": [
    {
     "name": "stdout",
     "output_type": "stream",
     "text": [
      "Tenemos 17 columnas de tipo NO númerico que son: \n",
      "\n",
      "['fecha' 'nombre' 'provincia' 'tmed' 'prec' 'tmin' 'horatmin' 'tmax'\n",
      " 'horatmax' 'velmedia' 'racha' 'horaracha' 'sol' 'presMax' 'horaPresMax'\n",
      " 'presMin' 'horaPresMin']\n"
     ]
    }
   ],
   "source": [
    "df_non_numeric = df.select_dtypes(exclude=[np.number])\n",
    "non_numeric_cols = df_non_numeric.columns.values\n",
    "print('Tenemos' + ' ' +str(len(non_numeric_cols)) + ' columnas de tipo NO númerico que son: \\n')\n",
    "print(non_numeric_cols)"
   ]
  },
  {
   "cell_type": "markdown",
   "metadata": {
    "id": "VIOoE-rQLNwI"
   },
   "source": [
    "Generamos reporte de perfilamiento de datos con el fin de realizar un analisis exploratorio del archivo de entrada que nos permite evaluar el estado de los datos sin ninguna intervención previa. Este archivo .html se genera en la ruta origen del drive en donde se abrio este notebook de colab, de igual forma se adjuntara el archivo en el entregable."
   ]
  },
  {
   "cell_type": "code",
   "execution_count": 121,
   "metadata": {
    "colab": {
     "base_uri": "https://localhost:8080/",
     "height": 145,
     "referenced_widgets": [
      "06da3a6ba1f0435f8255b57714389691",
      "e6c1de9f435a48ad93e7acf4dec3d55d",
      "46ed5bdb9f024367b350806add311405",
      "8c4e10bc67da4941a551d7af4c326cb3",
      "213979f9b0c8406f86f6cb03c25659a4",
      "ff05dcf275e1409d83c179f1649da5ff",
      "2a0b94c2c2e44aa78fc195fead7dbcb4",
      "694466013fd845bdbabb3055e2bed8e9",
      "7b40ac70b3c24514b1ee7482dac16f1e",
      "aca32b1b744a4c1e8d37c39da4edb283",
      "69347c5790c1465c883cbc2089fa09b5",
      "2e33083493374698b771cd5957abee3f",
      "b13b7b7eb95143a883d19e64920f2930",
      "5f650a5790754f3e92651ee5266ea1aa",
      "1ad5d0c2130145c29a52eea0546b38ab",
      "ae21454a3b96435ab3530c9678d69e87",
      "05da240cf52c42da902c0c6a55e0ba45",
      "862d5a97e37942d78cbc49c3d4160e3d",
      "c29f82ecec3e404f9f39606bb17c0c53",
      "9855f2d0a85c41acb7b76b53aa505d90",
      "44488dc86d1d4ac99a982d84c7be9ca1",
      "f9c81b82f27b4ca88a76cd32beedba44",
      "11c1c671b4d249598c65e2e765c962c6",
      "92da5ecac1ba43398cd7020cec1ecbe6",
      "5f083e85fe1b4eb498796777cc29f315",
      "63ffa4658e2341229f62bcc37fc2f57b",
      "95d00b7c42c149b89472ca549671d61c",
      "dbe0d5e8d88a446a8227359999959428",
      "04ce721742204738bf0861839b7bc11e",
      "e1f5a8a12ec6479d82badd8b1ca5952d",
      "612cdf22203741d4b33f5a0175e2d098",
      "58531900c7d2424bbb1f144d6f2ed637",
      "7bf27697c56749028a4398bde6691275",
      "b17fa0be699e456895a0b79456b9df86",
      "1b6047fbbabd498fb3a255b765b7c351",
      "00846f8dcc1b4c47902c5cf4c3a4f726",
      "e5b1529915514e458def3f7f452eaa31",
      "af4cfdf2dde44e84b551bab93af710db",
      "ae8c2f9c55f046839215787ace952e19",
      "7d128538c7df42479938519d327a93b1",
      "92e088ebc2604b02b650e16639ba4850",
      "72948d46831446f491b055259e195d93",
      "9fa24a56edf74b549e4cb685129217ec",
      "c05c15c073b84dcda2d84ca72940e057"
     ]
    },
    "executionInfo": {
     "elapsed": 53589,
     "status": "ok",
     "timestamp": 1655063418047,
     "user": {
      "displayName": "Danilo Plazas Irrenno",
      "userId": "03881415684539109829"
     },
     "user_tz": 300
    },
    "id": "sD05DwwSPK6X",
    "outputId": "70dfaa3a-4db9-4263-947e-ea34034e161e"
   },
   "outputs": [
    {
     "name": "stderr",
     "output_type": "stream",
     "text": [
      "Summarize dataset: 100%|██████████| 26/26 [00:00<00:00, 98.80it/s, Completed]                    \n",
      "Generate report structure: 100%|██████████| 1/1 [00:00<00:00,  1.23it/s]\n",
      "Render HTML: 100%|██████████| 1/1 [00:00<00:00,  1.61it/s]\n",
      "Export report to file: 100%|██████████| 1/1 [00:00<00:00, 497.54it/s]\n"
     ]
    }
   ],
   "source": [
    "#profile = ProfileReport(df, minimal=True)\n",
    "#profile.to_file(output_file=\"df_clima_prof.html\")"
   ]
  },
  {
   "cell_type": "markdown",
   "metadata": {
    "id": "foSKit7jOn-W"
   },
   "source": [
    "El perfilamiento de datos arroja los resultados en el archivo anexo"
   ]
  },
  {
   "attachments": {
    "image.png": {
     "image/png": "[encoded data removed]"
    }
   },
   "cell_type": "markdown",
   "metadata": {
    "id": "6wl3bPcRPk6g"
   },
   "source": [
    "![image.png](attachment:image.png)"
   ]
  },
  {
   "cell_type": "markdown",
   "metadata": {
    "id": "UsWa6WbqC6Zo"
   },
   "source": [
    "# MISSING VALUES"
   ]
  },
  {
   "cell_type": "markdown",
   "metadata": {
    "id": "m1jVqCwxEBHP"
   },
   "source": [
    "## Missing Data Heatmap\n",
    "Podemos visualizar los datos que faltan a través del mapa de calor."
   ]
  },
  {
   "cell_type": "code",
   "execution_count": 16,
   "metadata": {
    "colab": {
     "base_uri": "https://localhost:8080/",
     "height": 635
    },
    "executionInfo": {
     "elapsed": 71242,
     "status": "ok",
     "timestamp": 1655589442824,
     "user": {
      "displayName": "Danilo Plazas Irrenno",
      "userId": "03881415684539109829"
     },
     "user_tz": 300
    },
    "id": "FI5jSSX3EH7k",
    "outputId": "0a8e86f5-94d1-413e-8cc5-8181c9e7a947"
   },
   "outputs": [
    {
     "data": {
      "text/plain": [
       "<Axes: >"
      ]
     },
     "execution_count": 16,
     "metadata": {},
     "output_type": "execute_result"
    },
    {
     "data": {
      "image/png": "[encoded data removed]",
      "text/plain": [
       "<Figure size 1200x800 with 2 Axes>"
      ]
     },
     "metadata": {},
     "output_type": "display_data"
    }
   ],
   "source": [
    "cols = df.columns\n",
    "colours = ['#000099', '#ffff00'] # specify the colours - yellow is missing. blue is not missing.\n",
    "sns.heatmap(df[cols].isnull(), cmap=sns.color_palette(colours))"
   ]
  },
  {
   "cell_type": "markdown",
   "metadata": {
    "id": "t5M-npbfHmv9"
   },
   "source": [
    "El gráfico anterior muestra los patrones de datos que faltan de todas las columnas. \n",
    "El eje horizontal muestra el nombre del atributo de entrada; el eje vertical muestra el número de observaciones/filas; el color amarillo representa los datos que faltan, mientras que el color azul, en caso contrario.\n",
    "Detallamos que todas las características tienen muy pocos valores perdidos o inclusive no tienen."
   ]
  },
  {
   "cell_type": "markdown",
   "metadata": {
    "id": "FZhzWSvuKZHS"
   },
   "source": [
    "## Missing Data Percentage List"
   ]
  },
  {
   "cell_type": "markdown",
   "metadata": {
    "id": "jPZBOLA3PyZs"
   },
   "source": [
    "A continuación se muestra el listado con el porcentaje de los valores faltantes, para este caso tome 3 decimas ya que hay unos campos que tienen un porcentaje de faltantes muy bajo pero que igual los tiene:"
   ]
  },
  {
   "cell_type": "code",
   "execution_count": 17,
   "metadata": {
    "colab": {
     "base_uri": "https://localhost:8080/"
    },
    "executionInfo": {
     "elapsed": 1857,
     "status": "ok",
     "timestamp": 1655767646078,
     "user": {
      "displayName": "Danilo Plazas Irrenno",
      "userId": "03881415684539109829"
     },
     "user_tz": 300
    },
    "id": "-RajCx73EH-c",
    "outputId": "adad1129-51c8-41bd-d055-af852fab1ac5"
   },
   "outputs": [
    {
     "name": "stdout",
     "output_type": "stream",
     "text": [
      "fecha - 0.0%\n",
      "indicativo - 0.0%\n",
      "nombre - 0.0%\n",
      "provincia - 0.0%\n",
      "altitud - 0.0%\n",
      "tmed - 0.0%\n",
      "prec - 0.0%\n",
      "tmin - 0.0%\n",
      "horatmin - 0.0%\n",
      "tmax - 0.0%\n",
      "horatmax - 0.0%\n",
      "dir - 2.5974026%\n",
      "velmedia - 2.8571429%\n",
      "racha - 2.5974026%\n",
      "horaracha - 2.5974026%\n",
      "sol - 3.3766234%\n",
      "presMax - 0.3463203%\n",
      "horaPresMax - 0.3463203%\n",
      "presMin - 0.3463203%\n",
      "horaPresMin - 0.3463203%\n"
     ]
    }
   ],
   "source": [
    "for col in df.columns:\n",
    "    pct_missing = np.mean(df[col].isnull())\n",
    "    print('{} - {}%'.format(col, round(pct_missing*100, 7)))"
   ]
  },
  {
   "cell_type": "markdown",
   "metadata": {
    "id": "iiQqGa1cY_ig"
   },
   "source": [
    "# ¿Qué hacer?\n",
    "A continuación se describen en los siguientes métodos más comunes:\n",
    "Si lo aplicamos, a qué columna se lo aplicamos y el por qué."
   ]
  },
  {
   "cell_type": "markdown",
   "metadata": {
    "id": "rPFIaG4aZogD"
   },
   "source": [
    "##  Dejar o no dejar  la instancia\n",
    "\n",
    "Observamos que algunas columnas tiene un porcentaje menor a un 4 % de valores faltantes es bastante pequeño, no se eliminara ningun registro que contenga un nulo en alguno de sus registros ya que eliminariamos el día.\n",
    "\n"
   ]
  },
  {
   "cell_type": "markdown",
   "metadata": {
    "id": "AlV7j860lf94"
   },
   "source": [
    "## Dejar o no dejar la característica\n",
    "\n",
    "Similar a la anterior, sólo lo hacemos cuando estamos seguros de que esta característica no proporciona información útil.\n",
    "\n",
    "No se eliminará ninguna caracteristica ya que tiene su información completa o con muy pocos valores faltantes."
   ]
  },
  {
   "cell_type": "markdown",
   "metadata": {
    "id": "07kb5yn-xi2I"
   },
   "source": [
    "A continuación también se evidencia cierta correlación entre las variables descritas anteriormente, teniendo un tono más naranja claro, siendo blanco variables totalmente identicas."
   ]
  },
  {
   "cell_type": "markdown",
   "metadata": {
    "id": "HX_fBd32MHUQ"
   },
   "source": [
    "**El siguiente bloque de código solo se ejecuto una vez con fines practicos, ya que transforma las columnas categoricas en un valor numerico correspondiente para realizar la validación de la correlación, y esta columna es importante para el analisis y por el momento necesitamos la descripción, después de esta ejecución de después de generar el mapa de calor se debe ejecutar nuevamente los pasos anteriores ya que se modifico los tipos de datos de sus caracteristicas**"
   ]
  },
  {
   "cell_type": "code",
   "execution_count": null,
   "metadata": {
    "id": "pmmLRxw4Jgui"
   },
   "outputs": [],
   "source": [
    "# from sklearn.preprocessing import LabelEncoder\n",
    "# labelencoder=LabelEncoder()\n",
    "# \n",
    "# df['fecha'] = labelencoder.fit_transform(df['fecha'])\n",
    "# df['nombre'] = labelencoder.fit_transform(df['nombre'])\n",
    "# df['provincia'] = labelencoder.fit_transform(df['provincia'])\n",
    "# df['tmed'] = labelencoder.fit_transform(df['tmed'])\n",
    "# df['prec'] = labelencoder.fit_transform(df['prec'])\n",
    "# df['tmin'] = labelencoder.fit_transform(df['tmin'])\n",
    "# df['horatmin'] = labelencoder.fit_transform(df['horatmin'])\n",
    "# df['tmax'] = labelencoder.fit_transform(df['tmax'])\n",
    "# df['horatmax'] = labelencoder.fit_transform(df['horatmax'])\n",
    "# df['velmedia'] = labelencoder.fit_transform(df['velmedia'])\n",
    "# df['racha'] = labelencoder.fit_transform(df['racha'])\n",
    "# df['horaracha'] = labelencoder.fit_transform(df['horaracha'])\n",
    "# df['sol'] = labelencoder.fit_transform(df['sol'])\n",
    "# df['presMax'] = labelencoder.fit_transform(df['presMax'])\n",
    "# df['horaPresMax'] = labelencoder.fit_transform(df['horaPresMax'])\n",
    "# df['presMin'] = labelencoder.fit_transform(df['presMin'])\n",
    "# df['horaPresMin'] = labelencoder.fit_transform(df['horaPresMin'])\n"
   ]
  },
  {
   "cell_type": "code",
   "execution_count": null,
   "metadata": {
    "colab": {
     "base_uri": "https://localhost:8080/",
     "height": 811
    },
    "executionInfo": {
     "elapsed": 2523,
     "status": "ok",
     "timestamp": 1655595489543,
     "user": {
      "displayName": "Danilo Plazas Irrenno",
      "userId": "03881415684539109829"
     },
     "user_tz": 300
    },
    "id": "NUnP23fVvWmY",
    "outputId": "a6eae86b-5578-4b17-cfec-ff2cd87d98f9"
   },
   "outputs": [],
   "source": [
    "corr = df.corr(method = \"pearson\")\n",
    "%pylab inline\n",
    "pyplot.figure(figsize=(12,12))\n",
    "sns.heatmap(corr, square = True, xticklabels=1, yticklabels=1)"
   ]
  },
  {
   "cell_type": "markdown",
   "metadata": {
    "id": "VpsWBbVkyH7L"
   },
   "source": [
    "Procedemos a eliminar las variables UCR Category y Category Description por la razones expuestas anteriormente:"
   ]
  },
  {
   "cell_type": "markdown",
   "metadata": {
    "id": "fiLzDnQc2u3F"
   },
   "source": [
    "# TRANSFORMACION NOMBRE DE COLUMNAS"
   ]
  },
  {
   "cell_type": "markdown",
   "metadata": {
    "id": "4t6AfVmx4s25"
   },
   "source": [
    "Se renombramos las columnas para dar un estandar de nombramiento y facilitar el manejo."
   ]
  },
  {
   "cell_type": "code",
   "execution_count": 18,
   "metadata": {
    "executionInfo": {
     "elapsed": 241,
     "status": "ok",
     "timestamp": 1655767676774,
     "user": {
      "displayName": "Danilo Plazas Irrenno",
      "userId": "03881415684539109829"
     },
     "user_tz": 300
    },
    "id": "qgP3EOqryD-C"
   },
   "outputs": [],
   "source": [
    "df.columns = ['FECHA', 'INDICATIVO', 'NOMBRE', 'PROVINCIA', 'ALTITUD', 'TEMP_MED', 'PREC', 'TEMP_MIN', 'HORA_TEMP_MIN',\n",
    "              'TEMP_MAX', 'HORA_TEMP_MAX', 'DIR', 'VEL_MEDIA', 'RACHA', 'HORA_RACHA', 'SOL', 'PRES_MAX', 'HORA_PRES_MAX', \n",
    "              'PRES_MIN', 'HORA_PRES_MIN']"
   ]
  },
  {
   "cell_type": "markdown",
   "metadata": {
    "id": "w7m3lFrIRGLt"
   },
   "source": [
    "# REEMPLAZAR VALORES"
   ]
  },
  {
   "cell_type": "code",
   "execution_count": 67,
   "metadata": {
    "scrolled": false
   },
   "outputs": [
    {
     "data": {
      "text/plain": [
       "array([1025.4, 1021.7, 1029.4, 1030.5, 1026.5, 1024.4, 1025.7, 1023.4,\n",
       "       1022.6, 1027.2, 1026.1, 1019.2, 1005.7, 1011.7, 1014.2, 1023.7,\n",
       "       1019.3, 1029.9, 1024.9, 1018.5, 1011.2, 1012.4, 1011.6, 1012.9,\n",
       "       1010.6, 1013.7, 1012.7, 1012.5, 1015.2, 1018.6, 1022.5, 1026. ,\n",
       "       1024.3, 1017.4, 1020.1, 1023.1, 1019.9, 1017.5, 1017.9, 1014.6,\n",
       "       1028. , 1029.3, 1027.7, 1023.6, 1027.4, 1016.6, 1016.1, 1004. ,\n",
       "       1001.4, 1009.1, 1010.8, 1011.5, 1010.3, 1021.5, 1021.6, 1022.1,\n",
       "       1024.1, 1021. , 1018.7, 1017.7, 1020.2, 1020.4, 1019.1, 1006.5,\n",
       "       1005.4, 1009.8, 1011.8, 1009.9, 1009.3, 1008. , 1013.4, 1014.7,\n",
       "       1014.5, 1008.9, 1008.3, 1006.2, 1007.4, 1014.9, 1011. , 1014. ,\n",
       "       1014.1, 1013. , 1002.1, 1002.4, 1006.4, 1007.7, 1005.5, 1009.5,\n",
       "       1012.6, 1005.3, 1007.8, 1005.8, 1006.1, 1011.9, 1004.1, 1009.4,\n",
       "       1013.2, 1012.2, 1006.9, 1004.4, 1000.9, 1003.8,  998.8, 1007.5,\n",
       "       1016.7, 1017.1, 1022. , 1024.8, 1020.8, 1020.3, 1016.8, 1007.3,\n",
       "       1008.4, 1009.2, 1012. , 1015.9, 1007.1, 1003.3, 1015.1, 1015.5,\n",
       "       1019. , 1010.5, 1010.7, 1010.1, 1014.8, 1011.3, 1018.4, 1018.1,\n",
       "       1014.4, 1013.3, 1015.3, 1017.3, 1016.9, 1010.9, 1013.5, 1013.6,\n",
       "       1012.1, 1011.1, 1007.6, 1016.3, 1013.9, 1008.6, 1010.4, 1008.1,\n",
       "       1007.2, 1001.1, 1002.3, 1015. , 1013.8, 1012.3, 1016. , 1016.5,\n",
       "       1015.4, 1006.7, 1008.5, 1014.3, 1020.6, 1000.3, 1024.2, 1025.1,\n",
       "       1010. ,  997.1,  999.9, 1027.5, 1008.2, 1016.2, 1007.9, 1015.6,\n",
       "       1018.8, 1024.6, 1029.5, 1029. , 1021.2, 1020.9, 1004.6, 1018. ,\n",
       "        994.4, 1004.9, 1002.5, 1005.6, 1001.5, 1016.4, 1023.9, 1027.3,\n",
       "        997.7, 1009.6, 1009.7, 1008.7, 1018.3, 1022.4, 1025. , 1025.5,\n",
       "       1024.7,  997.8,  998.4, 1004.8, 1003.7, 1004.7,  995.2,  992.2,\n",
       "       1005.9, 1015.8, 1015.7, 1005.2,  997.2, 1006.8, 1018.9, 1022.3,\n",
       "       1020. , 1022.9, 1021.8, 1017.6, 1018.2, 1019.6, 1011.4, 1012.8,\n",
       "       1013.1, 1002.7, 1006.3, 1008.8,  999.6, 1017. , 1000.1, 1010.2,\n",
       "       1017.2, 1006.6, 1003.5, 1021.4, 1000.5,  998.6, 1006. , 1019.7,\n",
       "       1020.5, 1017.8, 1019.5, 1000.4, 1000.7, 1019.8, 1025.8, 1024. ,\n",
       "       1021.1, 1026.7, 1024.5, 1027. , 1030. , 1030.1, 1023.2, 1021.3,\n",
       "       1023.5, 1025.3, 1020.7, 1009. , 1004.3,  991. , 1003.2, 1005. ,\n",
       "       1007. , 1001. ,  995.6,  999.1, 1005.1, 1000.6,  997.4, 1001.7,\n",
       "        998.7,  993.1,  996.5, 1027.1,  998.3, 1022.2, 1025.2, 1019.4,\n",
       "       1023.8, 1002.9])"
      ]
     },
     "execution_count": 67,
     "metadata": {},
     "output_type": "execute_result"
    }
   ],
   "source": [
    "df['PRES_MAX'].unique()"
   ]
  },
  {
   "cell_type": "code",
   "execution_count": 20,
   "metadata": {},
   "outputs": [
    {
     "data": {
      "text/html": [
       "<div>\n",
       "<style scoped>\n",
       "    .dataframe tbody tr th:only-of-type {\n",
       "        vertical-align: middle;\n",
       "    }\n",
       "\n",
       "    .dataframe tbody tr th {\n",
       "        vertical-align: top;\n",
       "    }\n",
       "\n",
       "    .dataframe thead th {\n",
       "        text-align: right;\n",
       "    }\n",
       "</style>\n",
       "<table border=\"1\" class=\"dataframe\">\n",
       "  <thead>\n",
       "    <tr style=\"text-align: right;\">\n",
       "      <th></th>\n",
       "      <th>FECHA</th>\n",
       "      <th>INDICATIVO</th>\n",
       "      <th>NOMBRE</th>\n",
       "      <th>PROVINCIA</th>\n",
       "      <th>ALTITUD</th>\n",
       "      <th>TEMP_MED</th>\n",
       "      <th>PREC</th>\n",
       "      <th>TEMP_MIN</th>\n",
       "      <th>HORA_TEMP_MIN</th>\n",
       "      <th>TEMP_MAX</th>\n",
       "      <th>HORA_TEMP_MAX</th>\n",
       "      <th>DIR</th>\n",
       "      <th>VEL_MEDIA</th>\n",
       "      <th>RACHA</th>\n",
       "      <th>HORA_RACHA</th>\n",
       "      <th>SOL</th>\n",
       "      <th>PRES_MAX</th>\n",
       "      <th>HORA_PRES_MAX</th>\n",
       "      <th>PRES_MIN</th>\n",
       "      <th>HORA_PRES_MIN</th>\n",
       "    </tr>\n",
       "  </thead>\n",
       "  <tbody>\n",
       "    <tr>\n",
       "      <th>657</th>\n",
       "      <td>2021-10-19</td>\n",
       "      <td>1387</td>\n",
       "      <td>A CORUÑA</td>\n",
       "      <td>A CORUÑA</td>\n",
       "      <td>58</td>\n",
       "      <td>21,9</td>\n",
       "      <td>3,0</td>\n",
       "      <td>17,0</td>\n",
       "      <td>05:50</td>\n",
       "      <td>26,8</td>\n",
       "      <td>13:40</td>\n",
       "      <td>22.0</td>\n",
       "      <td>NaN</td>\n",
       "      <td>17,2</td>\n",
       "      <td>14:30</td>\n",
       "      <td>7,9</td>\n",
       "      <td>1012,2</td>\n",
       "      <td>01</td>\n",
       "      <td>1009,2</td>\n",
       "      <td>Varias</td>\n",
       "    </tr>\n",
       "  </tbody>\n",
       "</table>\n",
       "</div>"
      ],
      "text/plain": [
       "          FECHA  INDICATIVO    NOMBRE PROVINCIA  ALTITUD TEMP_MED PREC  \\\n",
       "657  2021-10-19        1387  A CORUÑA  A CORUÑA       58     21,9  3,0   \n",
       "\n",
       "    TEMP_MIN HORA_TEMP_MIN TEMP_MAX HORA_TEMP_MAX   DIR VEL_MEDIA RACHA  \\\n",
       "657     17,0         05:50     26,8         13:40  22.0       NaN  17,2   \n",
       "\n",
       "    HORA_RACHA  SOL PRES_MAX HORA_PRES_MAX PRES_MIN HORA_PRES_MIN  \n",
       "657      14:30  7,9   1012,2            01   1009,2        Varias  "
      ]
     },
     "execution_count": 20,
     "metadata": {},
     "output_type": "execute_result"
    }
   ],
   "source": [
    "df[df['FECHA'] == \"2021-10-19\"].head()"
   ]
  },
  {
   "cell_type": "code",
   "execution_count": 21,
   "metadata": {
    "scrolled": true
   },
   "outputs": [
    {
     "data": {
      "text/html": [
       "<div>\n",
       "<style scoped>\n",
       "    .dataframe tbody tr th:only-of-type {\n",
       "        vertical-align: middle;\n",
       "    }\n",
       "\n",
       "    .dataframe tbody tr th {\n",
       "        vertical-align: top;\n",
       "    }\n",
       "\n",
       "    .dataframe thead th {\n",
       "        text-align: right;\n",
       "    }\n",
       "</style>\n",
       "<table border=\"1\" class=\"dataframe\">\n",
       "  <thead>\n",
       "    <tr style=\"text-align: right;\">\n",
       "      <th></th>\n",
       "      <th>FECHA</th>\n",
       "      <th>INDICATIVO</th>\n",
       "      <th>NOMBRE</th>\n",
       "      <th>PROVINCIA</th>\n",
       "      <th>ALTITUD</th>\n",
       "      <th>TEMP_MED</th>\n",
       "      <th>PREC</th>\n",
       "      <th>TEMP_MIN</th>\n",
       "      <th>HORA_TEMP_MIN</th>\n",
       "      <th>TEMP_MAX</th>\n",
       "      <th>HORA_TEMP_MAX</th>\n",
       "      <th>DIR</th>\n",
       "      <th>VEL_MEDIA</th>\n",
       "      <th>RACHA</th>\n",
       "      <th>HORA_RACHA</th>\n",
       "      <th>SOL</th>\n",
       "      <th>PRES_MAX</th>\n",
       "      <th>HORA_PRES_MAX</th>\n",
       "      <th>PRES_MIN</th>\n",
       "      <th>HORA_PRES_MIN</th>\n",
       "    </tr>\n",
       "  </thead>\n",
       "  <tbody>\n",
       "    <tr>\n",
       "      <th>572</th>\n",
       "      <td>2021-07-26</td>\n",
       "      <td>1387</td>\n",
       "      <td>A CORUÑA</td>\n",
       "      <td>A CORUÑA</td>\n",
       "      <td>58</td>\n",
       "      <td>19,4</td>\n",
       "      <td>0,2</td>\n",
       "      <td>17,3</td>\n",
       "      <td>Varias</td>\n",
       "      <td>21,5</td>\n",
       "      <td>11:20</td>\n",
       "      <td>NaN</td>\n",
       "      <td>1,9</td>\n",
       "      <td>NaN</td>\n",
       "      <td>NaN</td>\n",
       "      <td>NaN</td>\n",
       "      <td>1011,3</td>\n",
       "      <td>10</td>\n",
       "      <td>1008,9</td>\n",
       "      <td>03</td>\n",
       "    </tr>\n",
       "    <tr>\n",
       "      <th>666</th>\n",
       "      <td>2021-10-28</td>\n",
       "      <td>1387</td>\n",
       "      <td>A CORUÑA</td>\n",
       "      <td>A CORUÑA</td>\n",
       "      <td>58</td>\n",
       "      <td>15,2</td>\n",
       "      <td>13,6</td>\n",
       "      <td>12,4</td>\n",
       "      <td>05:10</td>\n",
       "      <td>18,1</td>\n",
       "      <td>14:50</td>\n",
       "      <td>NaN</td>\n",
       "      <td>NaN</td>\n",
       "      <td>NaN</td>\n",
       "      <td>NaN</td>\n",
       "      <td>NaN</td>\n",
       "      <td>1008,8</td>\n",
       "      <td>00</td>\n",
       "      <td>997,4</td>\n",
       "      <td>18</td>\n",
       "    </tr>\n",
       "    <tr>\n",
       "      <th>671</th>\n",
       "      <td>2021-11-02</td>\n",
       "      <td>1387</td>\n",
       "      <td>A CORUÑA</td>\n",
       "      <td>A CORUÑA</td>\n",
       "      <td>58</td>\n",
       "      <td>13,0</td>\n",
       "      <td>21,2</td>\n",
       "      <td>10,3</td>\n",
       "      <td>23:20</td>\n",
       "      <td>15,7</td>\n",
       "      <td>11:20</td>\n",
       "      <td>NaN</td>\n",
       "      <td>NaN</td>\n",
       "      <td>NaN</td>\n",
       "      <td>NaN</td>\n",
       "      <td>NaN</td>\n",
       "      <td>1006,0</td>\n",
       "      <td>01</td>\n",
       "      <td>1000,6</td>\n",
       "      <td>15</td>\n",
       "    </tr>\n",
       "    <tr>\n",
       "      <th>679</th>\n",
       "      <td>2021-11-10</td>\n",
       "      <td>1387</td>\n",
       "      <td>A CORUÑA</td>\n",
       "      <td>A CORUÑA</td>\n",
       "      <td>58</td>\n",
       "      <td>12,7</td>\n",
       "      <td>0,0</td>\n",
       "      <td>9,2</td>\n",
       "      <td>08:20</td>\n",
       "      <td>16,2</td>\n",
       "      <td>13:20</td>\n",
       "      <td>NaN</td>\n",
       "      <td>NaN</td>\n",
       "      <td>NaN</td>\n",
       "      <td>NaN</td>\n",
       "      <td>NaN</td>\n",
       "      <td>NaN</td>\n",
       "      <td>NaN</td>\n",
       "      <td>NaN</td>\n",
       "      <td>NaN</td>\n",
       "    </tr>\n",
       "    <tr>\n",
       "      <th>699</th>\n",
       "      <td>2021-11-30</td>\n",
       "      <td>1387</td>\n",
       "      <td>A CORUÑA</td>\n",
       "      <td>A CORUÑA</td>\n",
       "      <td>58</td>\n",
       "      <td>12,7</td>\n",
       "      <td>1,0</td>\n",
       "      <td>10,5</td>\n",
       "      <td>05:40</td>\n",
       "      <td>14,9</td>\n",
       "      <td>10:50</td>\n",
       "      <td>NaN</td>\n",
       "      <td>NaN</td>\n",
       "      <td>NaN</td>\n",
       "      <td>NaN</td>\n",
       "      <td>NaN</td>\n",
       "      <td>1020,2</td>\n",
       "      <td>11</td>\n",
       "      <td>1017,0</td>\n",
       "      <td>01</td>\n",
       "    </tr>\n",
       "  </tbody>\n",
       "</table>\n",
       "</div>"
      ],
      "text/plain": [
       "          FECHA  INDICATIVO    NOMBRE PROVINCIA  ALTITUD TEMP_MED  PREC  \\\n",
       "572  2021-07-26        1387  A CORUÑA  A CORUÑA       58     19,4   0,2   \n",
       "666  2021-10-28        1387  A CORUÑA  A CORUÑA       58     15,2  13,6   \n",
       "671  2021-11-02        1387  A CORUÑA  A CORUÑA       58     13,0  21,2   \n",
       "679  2021-11-10        1387  A CORUÑA  A CORUÑA       58     12,7   0,0   \n",
       "699  2021-11-30        1387  A CORUÑA  A CORUÑA       58     12,7   1,0   \n",
       "\n",
       "    TEMP_MIN HORA_TEMP_MIN TEMP_MAX HORA_TEMP_MAX  DIR VEL_MEDIA RACHA  \\\n",
       "572     17,3        Varias     21,5         11:20  NaN       1,9   NaN   \n",
       "666     12,4         05:10     18,1         14:50  NaN       NaN   NaN   \n",
       "671     10,3         23:20     15,7         11:20  NaN       NaN   NaN   \n",
       "679      9,2         08:20     16,2         13:20  NaN       NaN   NaN   \n",
       "699     10,5         05:40     14,9         10:50  NaN       NaN   NaN   \n",
       "\n",
       "    HORA_RACHA  SOL PRES_MAX HORA_PRES_MAX PRES_MIN HORA_PRES_MIN  \n",
       "572        NaN  NaN   1011,3            10   1008,9            03  \n",
       "666        NaN  NaN   1008,8            00    997,4            18  \n",
       "671        NaN  NaN   1006,0            01   1000,6            15  \n",
       "679        NaN  NaN      NaN           NaN      NaN           NaN  \n",
       "699        NaN  NaN   1020,2            11   1017,0            01  "
      ]
     },
     "execution_count": 21,
     "metadata": {},
     "output_type": "execute_result"
    }
   ],
   "source": [
    "df[df['DIR'].isnull()].head()"
   ]
  },
  {
   "cell_type": "code",
   "execution_count": 22,
   "metadata": {},
   "outputs": [],
   "source": [
    "df.fillna(method=\"ffill\", inplace=True)\n",
    "df.fillna(method=\"bfill\", inplace=True)\n",
    "df['PREC'] = df['PREC'].replace(['Ip'], '0,0')"
   ]
  },
  {
   "cell_type": "code",
   "execution_count": 23,
   "metadata": {},
   "outputs": [
    {
     "name": "stdout",
     "output_type": "stream",
     "text": [
      "FECHA             object\n",
      "INDICATIVO         int64\n",
      "NOMBRE            object\n",
      "PROVINCIA         object\n",
      "ALTITUD            int64\n",
      "TEMP_MED          object\n",
      "PREC              object\n",
      "TEMP_MIN          object\n",
      "HORA_TEMP_MIN     object\n",
      "TEMP_MAX          object\n",
      "HORA_TEMP_MAX     object\n",
      "DIR              float64\n",
      "VEL_MEDIA         object\n",
      "RACHA             object\n",
      "HORA_RACHA        object\n",
      "SOL               object\n",
      "PRES_MAX          object\n",
      "HORA_PRES_MAX     object\n",
      "PRES_MIN          object\n",
      "HORA_PRES_MIN     object\n",
      "dtype: object\n"
     ]
    }
   ],
   "source": [
    "print(df.dtypes)"
   ]
  },
  {
   "cell_type": "markdown",
   "metadata": {
    "id": "ghMvm2OFUo8k"
   },
   "source": [
    "**Realizando nuevamente el porcentaje de valores faltantes de todas las variables se obtiene:**"
   ]
  },
  {
   "cell_type": "code",
   "execution_count": 24,
   "metadata": {
    "colab": {
     "base_uri": "https://localhost:8080/"
    },
    "executionInfo": {
     "elapsed": 1416,
     "status": "ok",
     "timestamp": 1655767806504,
     "user": {
      "displayName": "Danilo Plazas Irrenno",
      "userId": "03881415684539109829"
     },
     "user_tz": 300
    },
    "id": "D8nvVUUCUpGv",
    "outputId": "289928e2-6a4d-4902-f496-fba44a085f48"
   },
   "outputs": [
    {
     "name": "stdout",
     "output_type": "stream",
     "text": [
      "FECHA - 0.0%\n",
      "INDICATIVO - 0.0%\n",
      "NOMBRE - 0.0%\n",
      "PROVINCIA - 0.0%\n",
      "ALTITUD - 0.0%\n",
      "TEMP_MED - 0.0%\n",
      "PREC - 0.0%\n",
      "TEMP_MIN - 0.0%\n",
      "HORA_TEMP_MIN - 0.0%\n",
      "TEMP_MAX - 0.0%\n",
      "HORA_TEMP_MAX - 0.0%\n",
      "DIR - 0.0%\n",
      "VEL_MEDIA - 0.0%\n",
      "RACHA - 0.0%\n",
      "HORA_RACHA - 0.0%\n",
      "SOL - 0.0%\n",
      "PRES_MAX - 0.0%\n",
      "HORA_PRES_MAX - 0.0%\n",
      "PRES_MIN - 0.0%\n",
      "HORA_PRES_MIN - 0.0%\n"
     ]
    }
   ],
   "source": [
    "for col in df.columns:\n",
    "    pct_missing = np.mean(df[col].isnull())\n",
    "    print('{} - {}%'.format(col, round(pct_missing*100, 7)))"
   ]
  },
  {
   "cell_type": "markdown",
   "metadata": {
    "id": "hCQ63IQs5BZh"
   },
   "source": [
    "# TRANSFORMACION TIPOS DE DATOS"
   ]
  },
  {
   "cell_type": "markdown",
   "metadata": {
    "id": "LCcrG0YN5NVz"
   },
   "source": [
    "Realizaremos las siguientes transformaciónes en los datos:\n",
    "- Convertimos las variables de tiempo a tipo \"datetime\"\n",
    "- Las variables que estén tipo float y no tengan ningun valor decimal se convertiran en enteros.\n",
    "- Normalización y homologación de los valores en campos categoricos con el fin de agrupar y estandarizar."
   ]
  },
  {
   "cell_type": "code",
   "execution_count": 25,
   "metadata": {},
   "outputs": [],
   "source": [
    "df[\"FECHA\"] = pd.to_datetime(df[\"FECHA\"])\n",
    "df[\"TEMP_MED\"] = df[\"TEMP_MED\"].str.replace(\",\",\".\").astype(float)\n",
    "df[\"PREC\"] = df[\"PREC\"].str.replace(\",\",\".\").astype(float)\n",
    "df[\"TEMP_MIN\"] = df[\"TEMP_MIN\"].str.replace(\",\",\".\").astype(float)\n",
    "df[\"TEMP_MAX\"] = df[\"TEMP_MAX\"].str.replace(\",\",\".\").astype(float)\n",
    "df[\"VEL_MEDIA\"] = df[\"VEL_MEDIA\"].str.replace(\",\",\".\").astype(float)\n",
    "df[\"RACHA\"] = df[\"RACHA\"].str.replace(\",\",\".\").astype(float)\n",
    "df[\"SOL\"] = df[\"SOL\"].str.replace(\",\",\".\").astype(float)\n",
    "df[\"PRES_MAX\"] = df[\"PRES_MAX\"].str.replace(\",\",\".\").astype(float)\n",
    "df[\"PRES_MIN\"] = df[\"PRES_MIN\"].str.replace(\",\",\".\").astype(float)"
   ]
  },
  {
   "cell_type": "code",
   "execution_count": 26,
   "metadata": {
    "scrolled": true
   },
   "outputs": [
    {
     "name": "stdout",
     "output_type": "stream",
     "text": [
      "FECHA            datetime64[ns]\n",
      "INDICATIVO                int64\n",
      "NOMBRE                   object\n",
      "PROVINCIA                object\n",
      "ALTITUD                   int64\n",
      "TEMP_MED                float64\n",
      "PREC                    float64\n",
      "TEMP_MIN                float64\n",
      "HORA_TEMP_MIN            object\n",
      "TEMP_MAX                float64\n",
      "HORA_TEMP_MAX            object\n",
      "DIR                     float64\n",
      "VEL_MEDIA               float64\n",
      "RACHA                   float64\n",
      "HORA_RACHA               object\n",
      "SOL                     float64\n",
      "PRES_MAX                float64\n",
      "HORA_PRES_MAX            object\n",
      "PRES_MIN                float64\n",
      "HORA_PRES_MIN            object\n",
      "dtype: object\n"
     ]
    }
   ],
   "source": [
    "print(df.dtypes)"
   ]
  },
  {
   "cell_type": "code",
   "execution_count": 27,
   "metadata": {},
   "outputs": [
    {
     "data": {
      "text/html": [
       "<div>\n",
       "<style scoped>\n",
       "    .dataframe tbody tr th:only-of-type {\n",
       "        vertical-align: middle;\n",
       "    }\n",
       "\n",
       "    .dataframe tbody tr th {\n",
       "        vertical-align: top;\n",
       "    }\n",
       "\n",
       "    .dataframe thead th {\n",
       "        text-align: right;\n",
       "    }\n",
       "</style>\n",
       "<table border=\"1\" class=\"dataframe\">\n",
       "  <thead>\n",
       "    <tr style=\"text-align: right;\">\n",
       "      <th></th>\n",
       "      <th>FECHA</th>\n",
       "      <th>INDICATIVO</th>\n",
       "      <th>NOMBRE</th>\n",
       "      <th>PROVINCIA</th>\n",
       "      <th>ALTITUD</th>\n",
       "      <th>TEMP_MED</th>\n",
       "      <th>PREC</th>\n",
       "      <th>TEMP_MIN</th>\n",
       "      <th>HORA_TEMP_MIN</th>\n",
       "      <th>TEMP_MAX</th>\n",
       "      <th>HORA_TEMP_MAX</th>\n",
       "      <th>DIR</th>\n",
       "      <th>VEL_MEDIA</th>\n",
       "      <th>RACHA</th>\n",
       "      <th>HORA_RACHA</th>\n",
       "      <th>SOL</th>\n",
       "      <th>PRES_MAX</th>\n",
       "      <th>HORA_PRES_MAX</th>\n",
       "      <th>PRES_MIN</th>\n",
       "      <th>HORA_PRES_MIN</th>\n",
       "    </tr>\n",
       "  </thead>\n",
       "  <tbody>\n",
       "    <tr>\n",
       "      <th>0</th>\n",
       "      <td>2020-01-01</td>\n",
       "      <td>1387</td>\n",
       "      <td>A CORUÑA</td>\n",
       "      <td>A CORUÑA</td>\n",
       "      <td>58</td>\n",
       "      <td>9.0</td>\n",
       "      <td>0.0</td>\n",
       "      <td>6.4</td>\n",
       "      <td>23:40</td>\n",
       "      <td>11.5</td>\n",
       "      <td>14:10</td>\n",
       "      <td>16.0</td>\n",
       "      <td>1.9</td>\n",
       "      <td>5.3</td>\n",
       "      <td>05:50</td>\n",
       "      <td>6.8</td>\n",
       "      <td>1025.4</td>\n",
       "      <td>Varias</td>\n",
       "      <td>1021.7</td>\n",
       "      <td>24</td>\n",
       "    </tr>\n",
       "    <tr>\n",
       "      <th>1</th>\n",
       "      <td>2020-01-02</td>\n",
       "      <td>1387</td>\n",
       "      <td>A CORUÑA</td>\n",
       "      <td>A CORUÑA</td>\n",
       "      <td>58</td>\n",
       "      <td>9.3</td>\n",
       "      <td>0.2</td>\n",
       "      <td>6.2</td>\n",
       "      <td>04:10</td>\n",
       "      <td>12.4</td>\n",
       "      <td>Varias</td>\n",
       "      <td>22.0</td>\n",
       "      <td>2.8</td>\n",
       "      <td>11.4</td>\n",
       "      <td>14:20</td>\n",
       "      <td>0.0</td>\n",
       "      <td>1021.7</td>\n",
       "      <td>00</td>\n",
       "      <td>1019.5</td>\n",
       "      <td>16</td>\n",
       "    </tr>\n",
       "    <tr>\n",
       "      <th>2</th>\n",
       "      <td>2020-01-03</td>\n",
       "      <td>1387</td>\n",
       "      <td>A CORUÑA</td>\n",
       "      <td>A CORUÑA</td>\n",
       "      <td>58</td>\n",
       "      <td>11.9</td>\n",
       "      <td>0.0</td>\n",
       "      <td>8.8</td>\n",
       "      <td>23:59</td>\n",
       "      <td>15.0</td>\n",
       "      <td>12:40</td>\n",
       "      <td>17.0</td>\n",
       "      <td>2.5</td>\n",
       "      <td>9.2</td>\n",
       "      <td>03:30</td>\n",
       "      <td>4.5</td>\n",
       "      <td>1029.4</td>\n",
       "      <td>22</td>\n",
       "      <td>1020.6</td>\n",
       "      <td>02</td>\n",
       "    </tr>\n",
       "    <tr>\n",
       "      <th>3</th>\n",
       "      <td>2020-01-04</td>\n",
       "      <td>1387</td>\n",
       "      <td>A CORUÑA</td>\n",
       "      <td>A CORUÑA</td>\n",
       "      <td>58</td>\n",
       "      <td>9.4</td>\n",
       "      <td>0.0</td>\n",
       "      <td>5.7</td>\n",
       "      <td>08:10</td>\n",
       "      <td>13.1</td>\n",
       "      <td>14:30</td>\n",
       "      <td>99.0</td>\n",
       "      <td>0.8</td>\n",
       "      <td>4.7</td>\n",
       "      <td>Varias</td>\n",
       "      <td>7.2</td>\n",
       "      <td>1030.5</td>\n",
       "      <td>10</td>\n",
       "      <td>1026.5</td>\n",
       "      <td>24</td>\n",
       "    </tr>\n",
       "    <tr>\n",
       "      <th>4</th>\n",
       "      <td>2020-01-05</td>\n",
       "      <td>1387</td>\n",
       "      <td>A CORUÑA</td>\n",
       "      <td>A CORUÑA</td>\n",
       "      <td>58</td>\n",
       "      <td>8.2</td>\n",
       "      <td>0.0</td>\n",
       "      <td>4.4</td>\n",
       "      <td>07:50</td>\n",
       "      <td>11.9</td>\n",
       "      <td>13:30</td>\n",
       "      <td>16.0</td>\n",
       "      <td>1.7</td>\n",
       "      <td>5.8</td>\n",
       "      <td>07:20</td>\n",
       "      <td>8.5</td>\n",
       "      <td>1026.5</td>\n",
       "      <td>00</td>\n",
       "      <td>1020.8</td>\n",
       "      <td>22</td>\n",
       "    </tr>\n",
       "    <tr>\n",
       "      <th>...</th>\n",
       "      <td>...</td>\n",
       "      <td>...</td>\n",
       "      <td>...</td>\n",
       "      <td>...</td>\n",
       "      <td>...</td>\n",
       "      <td>...</td>\n",
       "      <td>...</td>\n",
       "      <td>...</td>\n",
       "      <td>...</td>\n",
       "      <td>...</td>\n",
       "      <td>...</td>\n",
       "      <td>...</td>\n",
       "      <td>...</td>\n",
       "      <td>...</td>\n",
       "      <td>...</td>\n",
       "      <td>...</td>\n",
       "      <td>...</td>\n",
       "      <td>...</td>\n",
       "      <td>...</td>\n",
       "      <td>...</td>\n",
       "    </tr>\n",
       "    <tr>\n",
       "      <th>1150</th>\n",
       "      <td>2023-02-24</td>\n",
       "      <td>1387</td>\n",
       "      <td>A CORUÑA</td>\n",
       "      <td>A CORUÑA</td>\n",
       "      <td>58</td>\n",
       "      <td>6.0</td>\n",
       "      <td>11.2</td>\n",
       "      <td>2.5</td>\n",
       "      <td>06:40</td>\n",
       "      <td>9.4</td>\n",
       "      <td>13:00</td>\n",
       "      <td>26.0</td>\n",
       "      <td>2.2</td>\n",
       "      <td>6.7</td>\n",
       "      <td>15:30</td>\n",
       "      <td>0.5</td>\n",
       "      <td>1006.6</td>\n",
       "      <td>00</td>\n",
       "      <td>1001.5</td>\n",
       "      <td>24</td>\n",
       "    </tr>\n",
       "    <tr>\n",
       "      <th>1151</th>\n",
       "      <td>2023-02-25</td>\n",
       "      <td>1387</td>\n",
       "      <td>A CORUÑA</td>\n",
       "      <td>A CORUÑA</td>\n",
       "      <td>58</td>\n",
       "      <td>8.9</td>\n",
       "      <td>0.4</td>\n",
       "      <td>6.7</td>\n",
       "      <td>00:20</td>\n",
       "      <td>11.1</td>\n",
       "      <td>14:40</td>\n",
       "      <td>6.0</td>\n",
       "      <td>1.9</td>\n",
       "      <td>4.7</td>\n",
       "      <td>06:10</td>\n",
       "      <td>0.8</td>\n",
       "      <td>1002.9</td>\n",
       "      <td>24</td>\n",
       "      <td>998.4</td>\n",
       "      <td>15</td>\n",
       "    </tr>\n",
       "    <tr>\n",
       "      <th>1152</th>\n",
       "      <td>2023-02-26</td>\n",
       "      <td>1387</td>\n",
       "      <td>A CORUÑA</td>\n",
       "      <td>A CORUÑA</td>\n",
       "      <td>58</td>\n",
       "      <td>9.6</td>\n",
       "      <td>0.0</td>\n",
       "      <td>6.1</td>\n",
       "      <td>06:40</td>\n",
       "      <td>13.2</td>\n",
       "      <td>11:30</td>\n",
       "      <td>99.0</td>\n",
       "      <td>4.2</td>\n",
       "      <td>13.9</td>\n",
       "      <td>Varias</td>\n",
       "      <td>5.8</td>\n",
       "      <td>1011.1</td>\n",
       "      <td>24</td>\n",
       "      <td>1002.9</td>\n",
       "      <td>00</td>\n",
       "    </tr>\n",
       "    <tr>\n",
       "      <th>1153</th>\n",
       "      <td>2023-02-27</td>\n",
       "      <td>1387</td>\n",
       "      <td>A CORUÑA</td>\n",
       "      <td>A CORUÑA</td>\n",
       "      <td>58</td>\n",
       "      <td>8.6</td>\n",
       "      <td>0.0</td>\n",
       "      <td>6.5</td>\n",
       "      <td>Varias</td>\n",
       "      <td>10.7</td>\n",
       "      <td>12:30</td>\n",
       "      <td>6.0</td>\n",
       "      <td>6.4</td>\n",
       "      <td>13.9</td>\n",
       "      <td>10:50</td>\n",
       "      <td>10.2</td>\n",
       "      <td>1018.0</td>\n",
       "      <td>24</td>\n",
       "      <td>1011.1</td>\n",
       "      <td>00</td>\n",
       "    </tr>\n",
       "    <tr>\n",
       "      <th>1154</th>\n",
       "      <td>2023-02-28</td>\n",
       "      <td>1387</td>\n",
       "      <td>A CORUÑA</td>\n",
       "      <td>A CORUÑA</td>\n",
       "      <td>58</td>\n",
       "      <td>8.4</td>\n",
       "      <td>0.0</td>\n",
       "      <td>6.5</td>\n",
       "      <td>00:00</td>\n",
       "      <td>10.4</td>\n",
       "      <td>14:50</td>\n",
       "      <td>5.0</td>\n",
       "      <td>4.7</td>\n",
       "      <td>10.0</td>\n",
       "      <td>18:10</td>\n",
       "      <td>2.3</td>\n",
       "      <td>1020.9</td>\n",
       "      <td>10</td>\n",
       "      <td>1018.0</td>\n",
       "      <td>00</td>\n",
       "    </tr>\n",
       "  </tbody>\n",
       "</table>\n",
       "<p>1155 rows × 20 columns</p>\n",
       "</div>"
      ],
      "text/plain": [
       "          FECHA  INDICATIVO    NOMBRE PROVINCIA  ALTITUD  TEMP_MED  PREC  \\\n",
       "0    2020-01-01        1387  A CORUÑA  A CORUÑA       58       9.0   0.0   \n",
       "1    2020-01-02        1387  A CORUÑA  A CORUÑA       58       9.3   0.2   \n",
       "2    2020-01-03        1387  A CORUÑA  A CORUÑA       58      11.9   0.0   \n",
       "3    2020-01-04        1387  A CORUÑA  A CORUÑA       58       9.4   0.0   \n",
       "4    2020-01-05        1387  A CORUÑA  A CORUÑA       58       8.2   0.0   \n",
       "...         ...         ...       ...       ...      ...       ...   ...   \n",
       "1150 2023-02-24        1387  A CORUÑA  A CORUÑA       58       6.0  11.2   \n",
       "1151 2023-02-25        1387  A CORUÑA  A CORUÑA       58       8.9   0.4   \n",
       "1152 2023-02-26        1387  A CORUÑA  A CORUÑA       58       9.6   0.0   \n",
       "1153 2023-02-27        1387  A CORUÑA  A CORUÑA       58       8.6   0.0   \n",
       "1154 2023-02-28        1387  A CORUÑA  A CORUÑA       58       8.4   0.0   \n",
       "\n",
       "      TEMP_MIN HORA_TEMP_MIN  TEMP_MAX HORA_TEMP_MAX   DIR  VEL_MEDIA  RACHA  \\\n",
       "0          6.4         23:40      11.5         14:10  16.0        1.9    5.3   \n",
       "1          6.2         04:10      12.4        Varias  22.0        2.8   11.4   \n",
       "2          8.8         23:59      15.0         12:40  17.0        2.5    9.2   \n",
       "3          5.7         08:10      13.1         14:30  99.0        0.8    4.7   \n",
       "4          4.4         07:50      11.9         13:30  16.0        1.7    5.8   \n",
       "...        ...           ...       ...           ...   ...        ...    ...   \n",
       "1150       2.5         06:40       9.4         13:00  26.0        2.2    6.7   \n",
       "1151       6.7         00:20      11.1         14:40   6.0        1.9    4.7   \n",
       "1152       6.1         06:40      13.2         11:30  99.0        4.2   13.9   \n",
       "1153       6.5        Varias      10.7         12:30   6.0        6.4   13.9   \n",
       "1154       6.5         00:00      10.4         14:50   5.0        4.7   10.0   \n",
       "\n",
       "     HORA_RACHA   SOL  PRES_MAX HORA_PRES_MAX  PRES_MIN HORA_PRES_MIN  \n",
       "0         05:50   6.8    1025.4        Varias    1021.7            24  \n",
       "1         14:20   0.0    1021.7            00    1019.5            16  \n",
       "2         03:30   4.5    1029.4            22    1020.6            02  \n",
       "3        Varias   7.2    1030.5            10    1026.5            24  \n",
       "4         07:20   8.5    1026.5            00    1020.8            22  \n",
       "...         ...   ...       ...           ...       ...           ...  \n",
       "1150      15:30   0.5    1006.6            00    1001.5            24  \n",
       "1151      06:10   0.8    1002.9            24     998.4            15  \n",
       "1152     Varias   5.8    1011.1            24    1002.9            00  \n",
       "1153      10:50  10.2    1018.0            24    1011.1            00  \n",
       "1154      18:10   2.3    1020.9            10    1018.0            00  \n",
       "\n",
       "[1155 rows x 20 columns]"
      ]
     },
     "execution_count": 27,
     "metadata": {},
     "output_type": "execute_result"
    }
   ],
   "source": [
    "df"
   ]
  },
  {
   "cell_type": "markdown",
   "metadata": {
    "id": "8R4WmhT0U_jU"
   },
   "source": [
    "# OUTLIERS (DATOS FUERA DE RANGO)"
   ]
  },
  {
   "cell_type": "markdown",
   "metadata": {
    "id": "XKv--oK0fvC1"
   },
   "source": [
    "- A continuación mediante un histograma, se evidencia que con respecto a las **fechas** no existe outliers ya que los datos deben corresponder desde el 2020 hasta la actualidad."
   ]
  },
  {
   "cell_type": "code",
   "execution_count": 28,
   "metadata": {
    "colab": {
     "base_uri": "https://localhost:8080/",
     "height": 409
    },
    "executionInfo": {
     "elapsed": 4780,
     "status": "ok",
     "timestamp": 1655768575920,
     "user": {
      "displayName": "Danilo Plazas Irrenno",
      "userId": "03881415684539109829"
     },
     "user_tz": 300
    },
    "id": "DLLi3JQ4ZH91",
    "outputId": "192928d6-27ca-4d87-b944-956ac1c0b9d3"
   },
   "outputs": [
    {
     "name": "stdout",
     "output_type": "stream",
     "text": [
      "%pylab is deprecated, use %matplotlib inline and import the required libraries.\n",
      "Populating the interactive namespace from numpy and matplotlib\n"
     ]
    },
    {
     "data": {
      "text/plain": [
       "<Axes: >"
      ]
     },
     "execution_count": 28,
     "metadata": {},
     "output_type": "execute_result"
    },
    {
     "data": {
      "image/png": "[encoded data removed]",
      "text/plain": [
       "<Figure size 5000x3000 with 1 Axes>"
      ]
     },
     "metadata": {},
     "output_type": "display_data"
    }
   ],
   "source": [
    "%pylab inline\n",
    "plt.figure(figsize=(50, 30))\n",
    "\n",
    "ax1 = plt.subplot(331)\n",
    "df['FECHA'].hist(bins=10)"
   ]
  },
  {
   "cell_type": "code",
   "execution_count": 33,
   "metadata": {
    "colab": {
     "base_uri": "https://localhost:8080/",
     "height": 471
    },
    "executionInfo": {
     "elapsed": 457,
     "status": "ok",
     "timestamp": 1655768604224,
     "user": {
      "displayName": "Danilo Plazas Irrenno",
      "userId": "03881415684539109829"
     },
     "user_tz": 300
    },
    "id": "S4HBUD44Wmqv",
    "outputId": "dfb27dff-b408-4965-b6db-4a26b5bbca88"
   },
   "outputs": [
    {
     "name": "stdout",
     "output_type": "stream",
     "text": [
      "%pylab is deprecated, use %matplotlib inline and import the required libraries.\n",
      "Populating the interactive namespace from numpy and matplotlib\n"
     ]
    },
    {
     "data": {
      "text/plain": [
       "<Axes: >"
      ]
     },
     "execution_count": 33,
     "metadata": {},
     "output_type": "execute_result"
    },
    {
     "data": {
      "image/png": "[encoded data removed]",
      "text/plain": [
       "<Figure size 2500x700 with 1 Axes>"
      ]
     },
     "metadata": {},
     "output_type": "display_data"
    }
   ],
   "source": [
    "%pylab inline\n",
    "pyplot.figure(figsize=(25,7))\n",
    "df['SOL'].value_counts().plot.bar()"
   ]
  },
  {
   "cell_type": "code",
   "execution_count": 35,
   "metadata": {
    "colab": {
     "base_uri": "https://localhost:8080/",
     "height": 385
    },
    "executionInfo": {
     "elapsed": 7552,
     "status": "ok",
     "timestamp": 1655768649419,
     "user": {
      "displayName": "Danilo Plazas Irrenno",
      "userId": "03881415684539109829"
     },
     "user_tz": 300
    },
    "id": "P5OzECtskmWY",
    "outputId": "4059ed72-fba5-4128-923a-9f478e8abdcb"
   },
   "outputs": [
    {
     "data": {
      "text/plain": [
       "<Axes: >"
      ]
     },
     "execution_count": 35,
     "metadata": {},
     "output_type": "execute_result"
    },
    {
     "data": {
      "image/png": "[encoded data removed]",
      "text/plain": [
       "<Figure size 2500x2000 with 4 Axes>"
      ]
     },
     "metadata": {},
     "output_type": "display_data"
    }
   ],
   "source": [
    "plt.figure(figsize=(25, 20))\n",
    "\n",
    "axa = plt.subplot(221)\n",
    "df.boxplot(column=['TEMP_MED'])\n",
    "\n",
    "axb = plt.subplot(222)\n",
    "df.boxplot(column=['VEL_MEDIA'])\n",
    "\n",
    "axc = plt.subplot(223)\n",
    "df.boxplot(column=['PRES_MAX'])\n",
    "\n",
    "axd = plt.subplot(224)\n",
    "df.boxplot(column=['DIR'])"
   ]
  },
  {
   "cell_type": "code",
   "execution_count": null,
   "metadata": {},
   "outputs": [],
   "source": [
    "plt.figure(figsize=(25, 20))\n",
    "\n",
    "axa = plt.subplot(221)\n",
    "df.boxplot(column=['TEMP_MED'])\n",
    "\n",
    "axb = plt.subplot(222)\n",
    "df.boxplot(column=['VEL_MEDIA'])\n",
    "\n",
    "axc = plt.subplot(223)\n",
    "df.boxplot(column=['PRES_MAX'])\n",
    "\n",
    "axd = plt.subplot(224)\n",
    "df.boxplot(column=['DIR'])"
   ]
  },
  {
   "cell_type": "markdown",
   "metadata": {
    "id": "vLdFUWA77fqU"
   },
   "source": [
    "# DATOS INNECESARIOS\n"
   ]
  },
  {
   "attachments": {},
   "cell_type": "markdown",
   "metadata": {
    "id": "AsGNyYof-x10"
   },
   "source": [
    "## Tipo: Desinformativo / Repetitivo\n",
    "\n",
    "Las siguientes variable **INDICATIVO**, **NOMBRE** tienen un campo con más del 50% de los datos ademas de que es una columna desinformativa, la primera hace referencia al código de la estación metereologica y la segunda al nombre de la estación metereologica."
   ]
  },
  {
   "cell_type": "code",
   "execution_count": 36,
   "metadata": {
    "colab": {
     "base_uri": "https://localhost:8080/"
    },
    "executionInfo": {
     "elapsed": 5742,
     "status": "ok",
     "timestamp": 1655768698237,
     "user": {
      "displayName": "Danilo Plazas Irrenno",
      "userId": "03881415684539109829"
     },
     "user_tz": 300
    },
    "id": "IohFB4BM7VFm",
    "outputId": "1febd705-da49-4940-b285-23e1ed7fb2c7"
   },
   "outputs": [
    {
     "name": "stdout",
     "output_type": "stream",
     "text": [
      "INDICATIVO: 100.00000%\n",
      "1387    1155\n",
      "Name: INDICATIVO, dtype: int64\n",
      "\n",
      "NOMBRE: 100.00000%\n",
      "A CORUÑA    1155\n",
      "Name: NOMBRE, dtype: int64\n",
      "\n",
      "PROVINCIA: 100.00000%\n",
      "A CORUÑA    1155\n",
      "Name: PROVINCIA, dtype: int64\n",
      "\n",
      "ALTITUD: 100.00000%\n",
      "58    1155\n",
      "Name: ALTITUD, dtype: int64\n",
      "\n",
      "PREC: 56.45022%\n",
      "0.0     652\n",
      "0.4      36\n",
      "0.2      34\n",
      "0.8      23\n",
      "1.0      20\n",
      "       ... \n",
      "45.4      1\n",
      "22.8      1\n",
      "28.8      1\n",
      "19.6      1\n",
      "22.0      1\n",
      "Name: PREC, Length: 115, dtype: int64\n",
      "\n"
     ]
    }
   ],
   "source": [
    "num_rows = len(df.index)\n",
    "low_information_cols = []\n",
    "\n",
    "for col in df.columns:\n",
    "    cnts = df[col].value_counts(dropna=False)\n",
    "    top_pct = (cnts/num_rows).iloc[0]\n",
    "    \n",
    "    if top_pct > 0.5:\n",
    "        low_information_cols.append(col)\n",
    "        print('{0}: {1:.5f}%'.format(col, top_pct*100))\n",
    "        print(cnts)\n",
    "        print()"
   ]
  },
  {
   "cell_type": "code",
   "execution_count": 37,
   "metadata": {},
   "outputs": [],
   "source": [
    "df = df.drop(columns=['INDICATIVO', 'NOMBRE'])"
   ]
  },
  {
   "cell_type": "markdown",
   "metadata": {
    "id": "uJP0VQabAVqt"
   },
   "source": [
    "## Tipo: Duplicados"
   ]
  },
  {
   "cell_type": "markdown",
   "metadata": {
    "id": "RDigeNWBCRwd"
   },
   "source": [
    "No existen registros duplicados ya que se eliminaron al comienzo cuando se creo el dataframe."
   ]
  },
  {
   "cell_type": "markdown",
   "metadata": {
    "id": "hkLd_BZeD7Zj"
   },
   "source": [
    "# DATOS INCONSISTENTES"
   ]
  },
  {
   "cell_type": "markdown",
   "metadata": {
    "id": "dpMUrKxwE34U"
   },
   "source": [
    "## Capitalization\n",
    "\n",
    "Para evitar que existan palabras distintas y que simbolicen el mismo significado solo por el hecho de estar en minuscula o mayusculas, para todas las variables tipo string las pasaremos a mayuscula, ya que por defecto todas viene así, también elimnaremos los espacios al principio y al final."
   ]
  },
  {
   "cell_type": "code",
   "execution_count": 39,
   "metadata": {
    "executionInfo": {
     "elapsed": 12113,
     "status": "ok",
     "timestamp": 1655768723900,
     "user": {
      "displayName": "Danilo Plazas Irrenno",
      "userId": "03881415684539109829"
     },
     "user_tz": 300
    },
    "id": "m7funYSTD7hK"
   },
   "outputs": [],
   "source": [
    "col_str = ['PROVINCIA', 'HORA_TEMP_MIN', 'HORA_TEMP_MAX', 'HORA_RACHA', 'HORA_PRES_MAX', 'HORA_PRES_MIN']\n",
    "for x in col_str:\n",
    "  df[x] = df[x].str.upper()\n",
    "  df[x] = df[x].str.strip()"
   ]
  },
  {
   "cell_type": "markdown",
   "metadata": {
    "id": "WSaJYLSDINYl"
   },
   "source": [
    "# **CONCLUSIÓN** ✅\n",
    "\n",
    "\n"
   ]
  },
  {
   "cell_type": "markdown",
   "metadata": {
    "id": "udTQ4y-JJGTW"
   },
   "source": [
    "Tras realizar todos los pasos, pruebas de exploración, tratamiento y limpieza de datos en comparación con el set de datos inicial, los datos se ven de la siguiente forma:"
   ]
  },
  {
   "cell_type": "code",
   "execution_count": null,
   "metadata": {
    "colab": {
     "base_uri": "https://localhost:8080/",
     "height": 386
    },
    "executionInfo": {
     "elapsed": 168,
     "status": "ok",
     "timestamp": 1655768727430,
     "user": {
      "displayName": "Danilo Plazas Irrenno",
      "userId": "03881415684539109829"
     },
     "user_tz": 300
    },
    "id": "_GULMJSRy80P",
    "outputId": "1e873386-44a9-478e-990c-ea643a3b86d6"
   },
   "outputs": [],
   "source": [
    "df.head(5)"
   ]
  },
  {
   "cell_type": "code",
   "execution_count": 41,
   "metadata": {
    "colab": {
     "base_uri": "https://localhost:8080/"
    },
    "executionInfo": {
     "elapsed": 242,
     "status": "ok",
     "timestamp": 1655768732962,
     "user": {
      "displayName": "Danilo Plazas Irrenno",
      "userId": "03881415684539109829"
     },
     "user_tz": 300
    },
    "id": "oIqkZ7DWJqyJ",
    "outputId": "35dbda8a-095b-4dec-bc8a-9ec723a9c6b1"
   },
   "outputs": [
    {
     "data": {
      "text/plain": [
       "(1155, 18)"
      ]
     },
     "execution_count": 41,
     "metadata": {},
     "output_type": "execute_result"
    }
   ],
   "source": [
    "df.shape"
   ]
  },
  {
   "attachments": {},
   "cell_type": "markdown",
   "metadata": {
    "id": "lFiL5ckjJWZv"
   },
   "source": [
    "Se paso de: \n",
    "\n",
    "**1155** registros y **20** columnas \n",
    "\n",
    "a:\n",
    "\n",
    " **1155** registros y **18** columnas"
   ]
  },
  {
   "cell_type": "markdown",
   "metadata": {
    "id": "O-vysiRoplKw"
   },
   "source": [
    "Se exporta el dataframe final a un archivo parquet el cual es comprimido, y la lectura es mucho más rápida, esto se hace con el fin de al momento de empezar con nuestro analisis o modelos, tengamos como punto de partida este archivo de salida totalmente limpio, a continuación la exportación final:   "
   ]
  },
  {
   "cell_type": "code",
   "execution_count": null,
   "metadata": {
    "executionInfo": {
     "elapsed": 6856,
     "status": "ok",
     "timestamp": 1655770465199,
     "user": {
      "displayName": "Danilo Plazas Irrenno",
      "userId": "03881415684539109829"
     },
     "user_tz": 300
    },
    "id": "RbCC_W0ehR4P"
   },
   "outputs": [],
   "source": [
    "#df.to_parquet(path = 'DF_COVID', engine = 'auto', compression ='snappy', index=None)"
   ]
  },
  {
   "cell_type": "code",
   "execution_count": null,
   "metadata": {},
   "outputs": [],
   "source": [
    "df.to_csv('data_covid.csv', index=False)"
   ]
  },
  {
   "cell_type": "markdown",
   "metadata": {
    "id": "_ikrjImDLLDU"
   },
   "source": [
    "Se realiza un perfilamiento por medio de pandas-profiling de este archivo para su comparación con el generado inicialmente, también se añade a la entrega.\n",
    "El perfilamiento no se hace en este notebook ya que por temas de memoría utilizado a lo largo de todo el proceso el google colab casi llega a su limite, pero el proceso es exactamente el mismo del comienzo:"
   ]
  },
  {
   "cell_type": "code",
   "execution_count": null,
   "metadata": {
    "id": "KNbX6SpgrxkE"
   },
   "outputs": [],
   "source": [
    "#parquet_crime = pd.read_parquet(path = '/content/drive/My Drive/Colab Notebooks/VIU/05MBID_Mineria_Datos/DF_CRIME_PARQUET', engine = 'auto')"
   ]
  },
  {
   "cell_type": "code",
   "execution_count": null,
   "metadata": {
    "id": "hDgWppgjsgjT"
   },
   "outputs": [],
   "source": [
    "#profilefinal = ProfileReport(parquet_crime, minimal=True)\n",
    "#profilefinal.to_file(output_file=\"crime_profile_final.html\")"
   ]
  },
  {
   "cell_type": "markdown",
   "metadata": {
    "id": "o-As090GLqtg"
   },
   "source": [
    "# **FIN** 🙂"
   ]
  },
  {
   "cell_type": "code",
   "execution_count": 49,
   "metadata": {},
   "outputs": [
    {
     "name": "stdout",
     "output_type": "stream",
     "text": [
      "Empty DataFrame\n",
      "Columns: []\n",
      "Index: []\n"
     ]
    }
   ],
   "source": [
    "print(result.head())"
   ]
  },
  {
   "cell_type": "code",
   "execution_count": 96,
   "metadata": {},
   "outputs": [
    {
     "data": {
      "text/plain": [
       "'c:/Users/Asus/Documents/Repositorios/TFM/Data/Data_Climatologica/Diaria/'"
      ]
     },
     "execution_count": 96,
     "metadata": {},
     "output_type": "execute_result"
    }
   ],
   "source": [
    "path"
   ]
  },
  {
   "cell_type": "code",
   "execution_count": 102,
   "metadata": {},
   "outputs": [],
   "source": [
    "dir_list = os.listdir(path)\n",
    "result = pd.DataFrame()\n",
    "for i in dir_list:\n",
    "    dfi = pd.read_json(path + i, encoding=\"latin\")\n",
    "    result = pd.concat([result, dfi], ignore_index=True)\n",
    "    "
   ]
  },
  {
   "cell_type": "code",
   "execution_count": 103,
   "metadata": {},
   "outputs": [
    {
     "data": {
      "text/plain": [
       "Index(['fecha', 'indicativo', 'nombre', 'provincia', 'altitud', 'tmed', 'prec',\n",
       "       'tmin', 'horatmin', 'tmax', 'horatmax', 'dir', 'velmedia', 'racha',\n",
       "       'horaracha', 'presMax', 'horaPresMax', 'presMin', 'horaPresMin', 'sol'],\n",
       "      dtype='object')"
      ]
     },
     "execution_count": 103,
     "metadata": {},
     "output_type": "execute_result"
    }
   ],
   "source": [
    "result.columns"
   ]
  },
  {
   "cell_type": "code",
   "execution_count": 104,
   "metadata": {},
   "outputs": [],
   "source": [
    "result.columns = ['FECHA', 'INDICATIVO', 'NOMBRE', 'PROVINCIA', 'ALTITUD', 'TEMP_MED', 'PREC', 'TEMP_MIN', 'HORA_TEMP_MIN',\n",
    "              'TEMP_MAX', 'HORA_TEMP_MAX', 'DIR', 'VEL_MEDIA', 'RACHA', 'HORA_RACHA', 'PRES_MAX', 'HORA_PRES_MAX', \n",
    "              'PRES_MIN', 'HORA_PRES_MIN', 'SOL']"
   ]
  },
  {
   "cell_type": "code",
   "execution_count": 105,
   "metadata": {},
   "outputs": [],
   "source": [
    "result.fillna(method=\"ffill\", inplace=True)\n",
    "result.fillna(method=\"bfill\", inplace=True)\n",
    "result['PREC'] = result['PREC'].replace(['Ip'], '0,0')"
   ]
  },
  {
   "cell_type": "code",
   "execution_count": 106,
   "metadata": {},
   "outputs": [
    {
     "name": "stderr",
     "output_type": "stream",
     "text": [
      "c:\\Users\\Asus\\AppData\\Local\\Programs\\Python\\Python310\\lib\\site-packages\\pandas\\core\\algorithms.py:968: UserWarning: Unable to sort modes: '<' not supported between instances of 'int' and 'str'\n",
      "  warn(f\"Unable to sort modes: {err}\")\n"
     ]
    },
    {
     "data": {
      "text/plain": [
       "FECHA            2020-01-01\n",
       "INDICATIVO            8178D\n",
       "NOMBRE             A CORUÑA\n",
       "PROVINCIA          A CORUÑA\n",
       "ALTITUD                 4.0\n",
       "TEMP_MED               12,2\n",
       "PREC                    0,0\n",
       "TEMP_MIN                9,4\n",
       "HORA_TEMP_MIN         23:59\n",
       "TEMP_MAX               16,6\n",
       "HORA_TEMP_MAX         15:00\n",
       "DIR                    99.0\n",
       "VEL_MEDIA               2,2\n",
       "RACHA                   8,3\n",
       "HORA_RACHA           Varias\n",
       "PRES_MAX             1014,7\n",
       "HORA_PRES_MAX        Varias\n",
       "PRES_MIN             1012,2\n",
       "HORA_PRES_MIN            17\n",
       "SOL                     0,0\n",
       "Name: 0, dtype: object"
      ]
     },
     "execution_count": 106,
     "metadata": {},
     "output_type": "execute_result"
    }
   ],
   "source": [
    "result.mode().iloc[0]"
   ]
  },
  {
   "cell_type": "code",
   "execution_count": 88,
   "metadata": {},
   "outputs": [
    {
     "data": {
      "text/plain": [
       "array(['954,2', '953,6', '954,3', ..., '880,8', '885,8', '876,4'],\n",
       "      dtype=object)"
      ]
     },
     "execution_count": 88,
     "metadata": {},
     "output_type": "execute_result"
    }
   ],
   "source": [
    "result['PRES_MAX'].unique()"
   ]
  },
  {
   "cell_type": "code",
   "execution_count": 107,
   "metadata": {},
   "outputs": [],
   "source": [
    "result[\"FECHA\"] = pd.to_datetime(result[\"FECHA\"])\n",
    "result[\"TEMP_MED\"] = result[\"TEMP_MED\"].str.replace(\",\",\".\").astype(float)\n",
    "result[\"PREC\"] = result[\"PREC\"].str.replace(\",\",\".\").astype(float)\n",
    "result[\"TEMP_MIN\"] = result[\"TEMP_MIN\"].str.replace(\",\",\".\").astype(float)\n",
    "result[\"TEMP_MAX\"] = result[\"TEMP_MAX\"].str.replace(\",\",\".\").astype(float)\n",
    "result[\"VEL_MEDIA\"] = result[\"VEL_MEDIA\"].str.replace(\",\",\".\").astype(float)\n",
    "result[\"RACHA\"] = result[\"RACHA\"].str.replace(\",\",\".\").astype(float)\n",
    "result[\"SOL\"] = result[\"SOL\"].str.replace(\",\",\".\").astype(float)\n",
    "result[\"PRES_MAX\"] = result[\"PRES_MAX\"].str.replace(\",\",\".\").astype(float)\n",
    "result[\"PRES_MIN\"] = result[\"PRES_MIN\"].str.replace(\",\",\".\").astype(float)"
   ]
  },
  {
   "cell_type": "code",
   "execution_count": 127,
   "metadata": {},
   "outputs": [],
   "source": [
    "result = result.drop(columns=['INDICATIVO', 'NOMBRE'])"
   ]
  },
  {
   "cell_type": "code",
   "execution_count": 54,
   "metadata": {},
   "outputs": [
    {
     "data": {
      "text/plain": [
       "(60013, 27)"
      ]
     },
     "execution_count": 54,
     "metadata": {},
     "output_type": "execute_result"
    }
   ],
   "source": [
    "result.shape"
   ]
  },
  {
   "cell_type": "code",
   "execution_count": 108,
   "metadata": {},
   "outputs": [
    {
     "name": "stdout",
     "output_type": "stream",
     "text": [
      "FECHA - 0.0%\n",
      "INDICATIVO - 0.0%\n",
      "NOMBRE - 0.0%\n",
      "PROVINCIA - 0.0%\n",
      "ALTITUD - 0.0%\n",
      "TEMP_MED - 0.0%\n",
      "PREC - 0.0%\n",
      "TEMP_MIN - 0.0%\n",
      "HORA_TEMP_MIN - 0.0%\n",
      "TEMP_MAX - 0.0%\n",
      "HORA_TEMP_MAX - 0.0%\n",
      "DIR - 0.0%\n",
      "VEL_MEDIA - 0.0%\n",
      "RACHA - 0.0%\n",
      "HORA_RACHA - 0.0%\n",
      "PRES_MAX - 0.0%\n",
      "HORA_PRES_MAX - 0.0%\n",
      "PRES_MIN - 0.0%\n",
      "HORA_PRES_MIN - 0.0%\n",
      "SOL - 0.0%\n"
     ]
    }
   ],
   "source": [
    "for col in result.columns:\n",
    "    pct_missing = np.mean(result[col].isnull())\n",
    "    print('{} - {}%'.format(col, round(pct_missing*100, 7)))"
   ]
  },
  {
   "cell_type": "code",
   "execution_count": 109,
   "metadata": {},
   "outputs": [
    {
     "data": {
      "text/plain": [
       "FECHA            datetime64[ns]\n",
       "INDICATIVO               object\n",
       "NOMBRE                   object\n",
       "PROVINCIA                object\n",
       "ALTITUD                   int64\n",
       "TEMP_MED                float64\n",
       "PREC                    float64\n",
       "TEMP_MIN                float64\n",
       "HORA_TEMP_MIN            object\n",
       "TEMP_MAX                float64\n",
       "HORA_TEMP_MAX            object\n",
       "DIR                     float64\n",
       "VEL_MEDIA               float64\n",
       "RACHA                   float64\n",
       "HORA_RACHA               object\n",
       "PRES_MAX                float64\n",
       "HORA_PRES_MAX            object\n",
       "PRES_MIN                float64\n",
       "HORA_PRES_MIN            object\n",
       "SOL                     float64\n",
       "dtype: object"
      ]
     },
     "execution_count": 109,
     "metadata": {},
     "output_type": "execute_result"
    }
   ],
   "source": [
    "result.dtypes"
   ]
  },
  {
   "cell_type": "code",
   "execution_count": 110,
   "metadata": {},
   "outputs": [
    {
     "name": "stdout",
     "output_type": "stream",
     "text": [
      "%pylab is deprecated, use %matplotlib inline and import the required libraries.\n",
      "Populating the interactive namespace from numpy and matplotlib\n"
     ]
    },
    {
     "data": {
      "text/plain": [
       "<Axes: >"
      ]
     },
     "execution_count": 110,
     "metadata": {},
     "output_type": "execute_result"
    },
    {
     "data": {
      "image/png": "[encoded data removed]",
      "text/plain": [
       "<Figure size 5000x3000 with 1 Axes>"
      ]
     },
     "metadata": {},
     "output_type": "display_data"
    }
   ],
   "source": [
    "%pylab inline\n",
    "plt.figure(figsize=(50, 30))\n",
    "\n",
    "ax1 = plt.subplot(331)\n",
    "result['FECHA'].hist(bins=10)"
   ]
  },
  {
   "cell_type": "code",
   "execution_count": 111,
   "metadata": {},
   "outputs": [
    {
     "data": {
      "text/plain": [
       "array(['ALBACETE', 'ALICANTE', 'ALMERIA', 'ARABA/ALAVA', 'ASTURIAS',\n",
       "       'AVILA', 'A CORUÑA', 'BADAJOZ', 'BARCELONA', 'BIZKAIA', 'BURGOS',\n",
       "       'CACERES', 'CADIZ', 'CANTABRIA', 'CASTELLON', 'CEUTA',\n",
       "       'CIUDAD REAL', 'CORDOBA', 'CUENCA', 'GIPUZKOA', 'GIRONA',\n",
       "       'GRANADA', 'GUADALAJARA', 'HUELVA', 'HUESCA', 'ILLES BALEARS',\n",
       "       'JAEN', 'LAS PALMAS', 'LA RIOJA', 'LEON', 'LLEIDA', 'LUGO',\n",
       "       'MADRID', 'MALAGA', 'MELILLA', 'MURCIA', 'NAVARRA', 'OURENSE',\n",
       "       'PALENCIA', 'PONTEVEDRA', 'SALAMANCA', 'SEGOVIA', 'SEVILLA',\n",
       "       'SORIA', 'STA. CRUZ DE TENERIFE', 'TARRAGONA', 'TERUEL', 'TOLEDO',\n",
       "       'VALENCIA', 'VALLADOLID', 'ZAMORA', 'ZARAGOZA'], dtype=object)"
      ]
     },
     "execution_count": 111,
     "metadata": {},
     "output_type": "execute_result"
    }
   ],
   "source": [
    "result['PROVINCIA'].unique()"
   ]
  },
  {
   "cell_type": "code",
   "execution_count": 112,
   "metadata": {},
   "outputs": [
    {
     "data": {
      "text/plain": [
       "52"
      ]
     },
     "execution_count": 112,
     "metadata": {},
     "output_type": "execute_result"
    }
   ],
   "source": [
    "len(result['PROVINCIA'].unique())"
   ]
  },
  {
   "cell_type": "code",
   "execution_count": 114,
   "metadata": {},
   "outputs": [
    {
     "data": {
      "text/plain": [
       "<Axes: >"
      ]
     },
     "execution_count": 114,
     "metadata": {},
     "output_type": "execute_result"
    },
    {
     "data": {
      "image/png": "[encoded data removed]",
      "text/plain": [
       "<Figure size 2500x2000 with 4 Axes>"
      ]
     },
     "metadata": {},
     "output_type": "display_data"
    }
   ],
   "source": [
    "plt.figure(figsize=(25, 20))\n",
    "\n",
    "axa = plt.subplot(221)\n",
    "result.boxplot(column=['ALTITUD'])\n",
    "\n",
    "axb = plt.subplot(222)\n",
    "result.boxplot(column=['TEMP_MED'])\n",
    "\n",
    "axc = plt.subplot(223)\n",
    "result.boxplot(column=['PREC'])\n",
    "\n",
    "axd = plt.subplot(224)\n",
    "result.boxplot(column=['TEMP_MIN'])"
   ]
  },
  {
   "cell_type": "code",
   "execution_count": 115,
   "metadata": {},
   "outputs": [
    {
     "data": {
      "text/plain": [
       "<Axes: >"
      ]
     },
     "execution_count": 115,
     "metadata": {},
     "output_type": "execute_result"
    },
    {
     "data": {
      "image/png": "[encoded data removed]",
      "text/plain": [
       "<Figure size 2500x2000 with 4 Axes>"
      ]
     },
     "metadata": {},
     "output_type": "display_data"
    }
   ],
   "source": [
    "plt.figure(figsize=(25, 20))\n",
    "\n",
    "axa = plt.subplot(221)\n",
    "result.boxplot(column=['TEMP_MAX'])\n",
    "\n",
    "axb = plt.subplot(222)\n",
    "result.boxplot(column=['DIR'])\n",
    "\n",
    "axc = plt.subplot(223)\n",
    "result.boxplot(column=['VEL_MEDIA'])\n",
    "\n",
    "axd = plt.subplot(224)\n",
    "result.boxplot(column=['RACHA'])"
   ]
  },
  {
   "cell_type": "code",
   "execution_count": 116,
   "metadata": {},
   "outputs": [
    {
     "data": {
      "text/plain": [
       "<Axes: >"
      ]
     },
     "execution_count": 116,
     "metadata": {},
     "output_type": "execute_result"
    },
    {
     "data": {
      "image/png": "[encoded data removed]",
      "text/plain": [
       "<Figure size 2500x2000 with 3 Axes>"
      ]
     },
     "metadata": {},
     "output_type": "display_data"
    }
   ],
   "source": [
    "plt.figure(figsize=(25, 20))\n",
    "\n",
    "axa = plt.subplot(221)\n",
    "result.boxplot(column=['PRES_MAX'])\n",
    "\n",
    "axb = plt.subplot(222)\n",
    "result.boxplot(column=['PRES_MIN'])\n",
    "\n",
    "axc = plt.subplot(223)\n",
    "result.boxplot(column=['SOL'])"
   ]
  },
  {
   "cell_type": "code",
   "execution_count": 122,
   "metadata": {},
   "outputs": [
    {
     "data": {
      "text/plain": [
       "array(['23:50', '06:27', '08:10', ..., '18:48', '10:29', '15:20'],\n",
       "      dtype=object)"
      ]
     },
     "execution_count": 122,
     "metadata": {},
     "output_type": "execute_result"
    }
   ],
   "source": [
    "result['HORA_TEMP_MIN'].unique()"
   ]
  },
  {
   "cell_type": "code",
   "execution_count": 126,
   "metadata": {},
   "outputs": [
    {
     "data": {
      "text/html": [
       "<div>\n",
       "<style scoped>\n",
       "    .dataframe tbody tr th:only-of-type {\n",
       "        vertical-align: middle;\n",
       "    }\n",
       "\n",
       "    .dataframe tbody tr th {\n",
       "        vertical-align: top;\n",
       "    }\n",
       "\n",
       "    .dataframe thead th {\n",
       "        text-align: right;\n",
       "    }\n",
       "</style>\n",
       "<table border=\"1\" class=\"dataframe\">\n",
       "  <thead>\n",
       "    <tr style=\"text-align: right;\">\n",
       "      <th></th>\n",
       "      <th>FECHA</th>\n",
       "      <th>INDICATIVO</th>\n",
       "      <th>NOMBRE</th>\n",
       "      <th>PROVINCIA</th>\n",
       "      <th>ALTITUD</th>\n",
       "      <th>TEMP_MED</th>\n",
       "      <th>PREC</th>\n",
       "      <th>TEMP_MIN</th>\n",
       "      <th>HORA_TEMP_MIN</th>\n",
       "      <th>TEMP_MAX</th>\n",
       "      <th>HORA_TEMP_MAX</th>\n",
       "      <th>DIR</th>\n",
       "      <th>VEL_MEDIA</th>\n",
       "      <th>RACHA</th>\n",
       "      <th>HORA_RACHA</th>\n",
       "      <th>PRES_MAX</th>\n",
       "      <th>HORA_PRES_MAX</th>\n",
       "      <th>PRES_MIN</th>\n",
       "      <th>HORA_PRES_MIN</th>\n",
       "      <th>SOL</th>\n",
       "    </tr>\n",
       "  </thead>\n",
       "  <tbody>\n",
       "    <tr>\n",
       "      <th>0</th>\n",
       "      <td>2020-01-01</td>\n",
       "      <td>8178D</td>\n",
       "      <td>ALBACETE</td>\n",
       "      <td>ALBACETE</td>\n",
       "      <td>674</td>\n",
       "      <td>6.2</td>\n",
       "      <td>0.0</td>\n",
       "      <td>-0.1</td>\n",
       "      <td>23:50</td>\n",
       "      <td>12.4</td>\n",
       "      <td>15:39</td>\n",
       "      <td>26.0</td>\n",
       "      <td>0.0</td>\n",
       "      <td>2.8</td>\n",
       "      <td>03:30</td>\n",
       "      <td>954.2</td>\n",
       "      <td>11</td>\n",
       "      <td>952.0</td>\n",
       "      <td>17</td>\n",
       "      <td>6.7</td>\n",
       "    </tr>\n",
       "    <tr>\n",
       "      <th>1</th>\n",
       "      <td>2020-01-02</td>\n",
       "      <td>8178D</td>\n",
       "      <td>ALBACETE</td>\n",
       "      <td>ALBACETE</td>\n",
       "      <td>674</td>\n",
       "      <td>5.7</td>\n",
       "      <td>0.0</td>\n",
       "      <td>-3.3</td>\n",
       "      <td>06:27</td>\n",
       "      <td>14.7</td>\n",
       "      <td>15:21</td>\n",
       "      <td>8.0</td>\n",
       "      <td>0.0</td>\n",
       "      <td>2.2</td>\n",
       "      <td>Varias</td>\n",
       "      <td>953.6</td>\n",
       "      <td>10</td>\n",
       "      <td>951.5</td>\n",
       "      <td>15</td>\n",
       "      <td>6.7</td>\n",
       "    </tr>\n",
       "    <tr>\n",
       "      <th>2</th>\n",
       "      <td>2020-01-03</td>\n",
       "      <td>8178D</td>\n",
       "      <td>ALBACETE</td>\n",
       "      <td>ALBACETE</td>\n",
       "      <td>674</td>\n",
       "      <td>5.6</td>\n",
       "      <td>0.0</td>\n",
       "      <td>-0.3</td>\n",
       "      <td>08:10</td>\n",
       "      <td>11.5</td>\n",
       "      <td>13:20</td>\n",
       "      <td>28.0</td>\n",
       "      <td>1.1</td>\n",
       "      <td>6.7</td>\n",
       "      <td>14:35</td>\n",
       "      <td>954.3</td>\n",
       "      <td>24</td>\n",
       "      <td>952.2</td>\n",
       "      <td>14</td>\n",
       "      <td>7.9</td>\n",
       "    </tr>\n",
       "    <tr>\n",
       "      <th>3</th>\n",
       "      <td>2020-01-04</td>\n",
       "      <td>8178D</td>\n",
       "      <td>ALBACETE</td>\n",
       "      <td>ALBACETE</td>\n",
       "      <td>674</td>\n",
       "      <td>7.0</td>\n",
       "      <td>0.0</td>\n",
       "      <td>1.8</td>\n",
       "      <td>23:59</td>\n",
       "      <td>12.1</td>\n",
       "      <td>15:10</td>\n",
       "      <td>99.0</td>\n",
       "      <td>0.3</td>\n",
       "      <td>3.9</td>\n",
       "      <td>Varias</td>\n",
       "      <td>954.8</td>\n",
       "      <td>11</td>\n",
       "      <td>952.3</td>\n",
       "      <td>14</td>\n",
       "      <td>7.9</td>\n",
       "    </tr>\n",
       "    <tr>\n",
       "      <th>4</th>\n",
       "      <td>2020-01-05</td>\n",
       "      <td>8178D</td>\n",
       "      <td>ALBACETE</td>\n",
       "      <td>ALBACETE</td>\n",
       "      <td>674</td>\n",
       "      <td>6.6</td>\n",
       "      <td>0.0</td>\n",
       "      <td>-0.9</td>\n",
       "      <td>06:00</td>\n",
       "      <td>14.2</td>\n",
       "      <td>15:30</td>\n",
       "      <td>22.0</td>\n",
       "      <td>0.3</td>\n",
       "      <td>2.5</td>\n",
       "      <td>00:40</td>\n",
       "      <td>952.6</td>\n",
       "      <td>00</td>\n",
       "      <td>949.4</td>\n",
       "      <td>18</td>\n",
       "      <td>7.9</td>\n",
       "    </tr>\n",
       "    <tr>\n",
       "      <th>...</th>\n",
       "      <td>...</td>\n",
       "      <td>...</td>\n",
       "      <td>...</td>\n",
       "      <td>...</td>\n",
       "      <td>...</td>\n",
       "      <td>...</td>\n",
       "      <td>...</td>\n",
       "      <td>...</td>\n",
       "      <td>...</td>\n",
       "      <td>...</td>\n",
       "      <td>...</td>\n",
       "      <td>...</td>\n",
       "      <td>...</td>\n",
       "      <td>...</td>\n",
       "      <td>...</td>\n",
       "      <td>...</td>\n",
       "      <td>...</td>\n",
       "      <td>...</td>\n",
       "      <td>...</td>\n",
       "      <td>...</td>\n",
       "    </tr>\n",
       "    <tr>\n",
       "      <th>59988</th>\n",
       "      <td>2023-02-24</td>\n",
       "      <td>9394X</td>\n",
       "      <td>CALATAYUD</td>\n",
       "      <td>ZARAGOZA</td>\n",
       "      <td>582</td>\n",
       "      <td>4.8</td>\n",
       "      <td>0.0</td>\n",
       "      <td>-0.8</td>\n",
       "      <td>08:00</td>\n",
       "      <td>10.5</td>\n",
       "      <td>16:20</td>\n",
       "      <td>27.0</td>\n",
       "      <td>1.4</td>\n",
       "      <td>7.8</td>\n",
       "      <td>14:00</td>\n",
       "      <td>944.0</td>\n",
       "      <td>08</td>\n",
       "      <td>939.4</td>\n",
       "      <td>Varias</td>\n",
       "      <td>8.5</td>\n",
       "    </tr>\n",
       "    <tr>\n",
       "      <th>59989</th>\n",
       "      <td>2023-02-25</td>\n",
       "      <td>9394X</td>\n",
       "      <td>CALATAYUD</td>\n",
       "      <td>ZARAGOZA</td>\n",
       "      <td>582</td>\n",
       "      <td>4.4</td>\n",
       "      <td>0.0</td>\n",
       "      <td>-3.3</td>\n",
       "      <td>07:40</td>\n",
       "      <td>12.0</td>\n",
       "      <td>15:40</td>\n",
       "      <td>26.0</td>\n",
       "      <td>1.9</td>\n",
       "      <td>11.1</td>\n",
       "      <td>15:10</td>\n",
       "      <td>940.4</td>\n",
       "      <td>00</td>\n",
       "      <td>935.3</td>\n",
       "      <td>15</td>\n",
       "      <td>7.5</td>\n",
       "    </tr>\n",
       "    <tr>\n",
       "      <th>59990</th>\n",
       "      <td>2023-02-26</td>\n",
       "      <td>9394X</td>\n",
       "      <td>CALATAYUD</td>\n",
       "      <td>ZARAGOZA</td>\n",
       "      <td>582</td>\n",
       "      <td>4.7</td>\n",
       "      <td>0.0</td>\n",
       "      <td>-0.5</td>\n",
       "      <td>05:00</td>\n",
       "      <td>9.9</td>\n",
       "      <td>15:30</td>\n",
       "      <td>31.0</td>\n",
       "      <td>4.2</td>\n",
       "      <td>14.7</td>\n",
       "      <td>17:40</td>\n",
       "      <td>942.8</td>\n",
       "      <td>Varias</td>\n",
       "      <td>937.1</td>\n",
       "      <td>14</td>\n",
       "      <td>6.3</td>\n",
       "    </tr>\n",
       "    <tr>\n",
       "      <th>59991</th>\n",
       "      <td>2023-02-27</td>\n",
       "      <td>9394X</td>\n",
       "      <td>CALATAYUD</td>\n",
       "      <td>ZARAGOZA</td>\n",
       "      <td>582</td>\n",
       "      <td>-1.9</td>\n",
       "      <td>0.2</td>\n",
       "      <td>-4.8</td>\n",
       "      <td>23:59</td>\n",
       "      <td>1.0</td>\n",
       "      <td>17:00</td>\n",
       "      <td>1.0</td>\n",
       "      <td>4.2</td>\n",
       "      <td>13.9</td>\n",
       "      <td>01:10</td>\n",
       "      <td>949.0</td>\n",
       "      <td>24</td>\n",
       "      <td>942.8</td>\n",
       "      <td>00</td>\n",
       "      <td>0.2</td>\n",
       "    </tr>\n",
       "    <tr>\n",
       "      <th>59992</th>\n",
       "      <td>2023-02-28</td>\n",
       "      <td>9394X</td>\n",
       "      <td>CALATAYUD</td>\n",
       "      <td>ZARAGOZA</td>\n",
       "      <td>582</td>\n",
       "      <td>0.1</td>\n",
       "      <td>0.0</td>\n",
       "      <td>-7.7</td>\n",
       "      <td>07:00</td>\n",
       "      <td>7.9</td>\n",
       "      <td>13:50</td>\n",
       "      <td>32.0</td>\n",
       "      <td>2.5</td>\n",
       "      <td>13.3</td>\n",
       "      <td>15:20</td>\n",
       "      <td>951.9</td>\n",
       "      <td>Varias</td>\n",
       "      <td>948.9</td>\n",
       "      <td>Varias</td>\n",
       "      <td>6.8</td>\n",
       "    </tr>\n",
       "  </tbody>\n",
       "</table>\n",
       "<p>59993 rows × 20 columns</p>\n",
       "</div>"
      ],
      "text/plain": [
       "           FECHA INDICATIVO     NOMBRE PROVINCIA  ALTITUD  TEMP_MED  PREC  \\\n",
       "0     2020-01-01      8178D   ALBACETE  ALBACETE      674       6.2   0.0   \n",
       "1     2020-01-02      8178D   ALBACETE  ALBACETE      674       5.7   0.0   \n",
       "2     2020-01-03      8178D   ALBACETE  ALBACETE      674       5.6   0.0   \n",
       "3     2020-01-04      8178D   ALBACETE  ALBACETE      674       7.0   0.0   \n",
       "4     2020-01-05      8178D   ALBACETE  ALBACETE      674       6.6   0.0   \n",
       "...          ...        ...        ...       ...      ...       ...   ...   \n",
       "59988 2023-02-24      9394X  CALATAYUD  ZARAGOZA      582       4.8   0.0   \n",
       "59989 2023-02-25      9394X  CALATAYUD  ZARAGOZA      582       4.4   0.0   \n",
       "59990 2023-02-26      9394X  CALATAYUD  ZARAGOZA      582       4.7   0.0   \n",
       "59991 2023-02-27      9394X  CALATAYUD  ZARAGOZA      582      -1.9   0.2   \n",
       "59992 2023-02-28      9394X  CALATAYUD  ZARAGOZA      582       0.1   0.0   \n",
       "\n",
       "       TEMP_MIN HORA_TEMP_MIN  TEMP_MAX HORA_TEMP_MAX   DIR  VEL_MEDIA  RACHA  \\\n",
       "0          -0.1         23:50      12.4         15:39  26.0        0.0    2.8   \n",
       "1          -3.3         06:27      14.7         15:21   8.0        0.0    2.2   \n",
       "2          -0.3         08:10      11.5         13:20  28.0        1.1    6.7   \n",
       "3           1.8         23:59      12.1         15:10  99.0        0.3    3.9   \n",
       "4          -0.9         06:00      14.2         15:30  22.0        0.3    2.5   \n",
       "...         ...           ...       ...           ...   ...        ...    ...   \n",
       "59988      -0.8         08:00      10.5         16:20  27.0        1.4    7.8   \n",
       "59989      -3.3         07:40      12.0         15:40  26.0        1.9   11.1   \n",
       "59990      -0.5         05:00       9.9         15:30  31.0        4.2   14.7   \n",
       "59991      -4.8         23:59       1.0         17:00   1.0        4.2   13.9   \n",
       "59992      -7.7         07:00       7.9         13:50  32.0        2.5   13.3   \n",
       "\n",
       "      HORA_RACHA  PRES_MAX HORA_PRES_MAX  PRES_MIN HORA_PRES_MIN  SOL  \n",
       "0          03:30     954.2            11     952.0            17  6.7  \n",
       "1         Varias     953.6            10     951.5            15  6.7  \n",
       "2          14:35     954.3            24     952.2            14  7.9  \n",
       "3         Varias     954.8            11     952.3            14  7.9  \n",
       "4          00:40     952.6            00     949.4            18  7.9  \n",
       "...          ...       ...           ...       ...           ...  ...  \n",
       "59988      14:00     944.0            08     939.4        Varias  8.5  \n",
       "59989      15:10     940.4            00     935.3            15  7.5  \n",
       "59990      17:40     942.8        Varias     937.1            14  6.3  \n",
       "59991      01:10     949.0            24     942.8            00  0.2  \n",
       "59992      15:20     951.9        Varias     948.9        Varias  6.8  \n",
       "\n",
       "[59993 rows x 20 columns]"
      ]
     },
     "execution_count": 126,
     "metadata": {},
     "output_type": "execute_result"
    }
   ],
   "source": [
    "result"
   ]
  }
 ],
 "metadata": {
  "colab": {
   "authorship_tag": "ABX9TyMA37T3fMv9QOivq9oaPoJD",
   "collapsed_sections": [],
   "name": "05MBID_Perfilamiento_DB.ipynb",
   "provenance": []
  },
  "kernelspec": {
   "display_name": "Python 3",
   "language": "python",
   "name": "python3"
  },
  "language_info": {
   "codemirror_mode": {
    "name": "ipython",
    "version": 3
   },
   "file_extension": ".py",
   "mimetype": "text/x-python",
   "name": "python",
   "nbconvert_exporter": "python",
   "pygments_lexer": "ipython3",
   "version": "3.10.4"
  },
  "widgets": {
   "application/vnd.jupyter.widget-state+json": {
    "00846f8dcc1b4c47902c5cf4c3a4f726": {
     "model_module": "@jupyter-widgets/controls",
     "model_module_version": "1.5.0",
     "model_name": "FloatProgressModel",
     "state": {
      "_dom_classes": [],
      "_model_module": "@jupyter-widgets/controls",
      "_model_module_version": "1.5.0",
      "_model_name": "FloatProgressModel",
      "_view_count": null,
      "_view_module": "@jupyter-widgets/controls",
      "_view_module_version": "1.5.0",
      "_view_name": "ProgressView",
      "bar_style": "success",
      "description": "",
      "description_tooltip": null,
      "layout": "IPY_MODEL_92e088ebc2604b02b650e16639ba4850",
      "max": 1,
      "min": 0,
      "orientation": "horizontal",
      "style": "IPY_MODEL_72948d46831446f491b055259e195d93",
      "value": 1
     }
    },
    "04ce721742204738bf0861839b7bc11e": {
     "model_module": "@jupyter-widgets/controls",
     "model_module_version": "1.5.0",
     "model_name": "DescriptionStyleModel",
     "state": {
      "_model_module": "@jupyter-widgets/controls",
      "_model_module_version": "1.5.0",
      "_model_name": "DescriptionStyleModel",
      "_view_count": null,
      "_view_module": "@jupyter-widgets/base",
      "_view_module_version": "1.2.0",
      "_view_name": "StyleView",
      "description_width": ""
     }
    },
    "05da240cf52c42da902c0c6a55e0ba45": {
     "model_module": "@jupyter-widgets/base",
     "model_module_version": "1.2.0",
     "model_name": "LayoutModel",
     "state": {
      "_model_module": "@jupyter-widgets/base",
      "_model_module_version": "1.2.0",
      "_model_name": "LayoutModel",
      "_view_count": null,
      "_view_module": "@jupyter-widgets/base",
      "_view_module_version": "1.2.0",
      "_view_name": "LayoutView",
      "align_content": null,
      "align_items": null,
      "align_self": null,
      "border": null,
      "bottom": null,
      "display": null,
      "flex": null,
      "flex_flow": null,
      "grid_area": null,
      "grid_auto_columns": null,
      "grid_auto_flow": null,
      "grid_auto_rows": null,
      "grid_column": null,
      "grid_gap": null,
      "grid_row": null,
      "grid_template_areas": null,
      "grid_template_columns": null,
      "grid_template_rows": null,
      "height": null,
      "justify_content": null,
      "justify_items": null,
      "left": null,
      "margin": null,
      "max_height": null,
      "max_width": null,
      "min_height": null,
      "min_width": null,
      "object_fit": null,
      "object_position": null,
      "order": null,
      "overflow": null,
      "overflow_x": null,
      "overflow_y": null,
      "padding": null,
      "right": null,
      "top": null,
      "visibility": null,
      "width": null
     }
    },
    "06da3a6ba1f0435f8255b57714389691": {
     "model_module": "@jupyter-widgets/controls",
     "model_module_version": "1.5.0",
     "model_name": "HBoxModel",
     "state": {
      "_dom_classes": [],
      "_model_module": "@jupyter-widgets/controls",
      "_model_module_version": "1.5.0",
      "_model_name": "HBoxModel",
      "_view_count": null,
      "_view_module": "@jupyter-widgets/controls",
      "_view_module_version": "1.5.0",
      "_view_name": "HBoxView",
      "box_style": "",
      "children": [
       "IPY_MODEL_e6c1de9f435a48ad93e7acf4dec3d55d",
       "IPY_MODEL_46ed5bdb9f024367b350806add311405",
       "IPY_MODEL_8c4e10bc67da4941a551d7af4c326cb3"
      ],
      "layout": "IPY_MODEL_213979f9b0c8406f86f6cb03c25659a4"
     }
    },
    "11c1c671b4d249598c65e2e765c962c6": {
     "model_module": "@jupyter-widgets/controls",
     "model_module_version": "1.5.0",
     "model_name": "HBoxModel",
     "state": {
      "_dom_classes": [],
      "_model_module": "@jupyter-widgets/controls",
      "_model_module_version": "1.5.0",
      "_model_name": "HBoxModel",
      "_view_count": null,
      "_view_module": "@jupyter-widgets/controls",
      "_view_module_version": "1.5.0",
      "_view_name": "HBoxView",
      "box_style": "",
      "children": [
       "IPY_MODEL_92da5ecac1ba43398cd7020cec1ecbe6",
       "IPY_MODEL_5f083e85fe1b4eb498796777cc29f315",
       "IPY_MODEL_63ffa4658e2341229f62bcc37fc2f57b"
      ],
      "layout": "IPY_MODEL_95d00b7c42c149b89472ca549671d61c"
     }
    },
    "1ad5d0c2130145c29a52eea0546b38ab": {
     "model_module": "@jupyter-widgets/controls",
     "model_module_version": "1.5.0",
     "model_name": "HTMLModel",
     "state": {
      "_dom_classes": [],
      "_model_module": "@jupyter-widgets/controls",
      "_model_module_version": "1.5.0",
      "_model_name": "HTMLModel",
      "_view_count": null,
      "_view_module": "@jupyter-widgets/controls",
      "_view_module_version": "1.5.0",
      "_view_name": "HTMLView",
      "description": "",
      "description_tooltip": null,
      "layout": "IPY_MODEL_44488dc86d1d4ac99a982d84c7be9ca1",
      "placeholder": "​",
      "style": "IPY_MODEL_f9c81b82f27b4ca88a76cd32beedba44",
      "value": " 1/1 [00:06&lt;00:00,  6.20s/it]"
     }
    },
    "1b6047fbbabd498fb3a255b765b7c351": {
     "model_module": "@jupyter-widgets/controls",
     "model_module_version": "1.5.0",
     "model_name": "HTMLModel",
     "state": {
      "_dom_classes": [],
      "_model_module": "@jupyter-widgets/controls",
      "_model_module_version": "1.5.0",
      "_model_name": "HTMLModel",
      "_view_count": null,
      "_view_module": "@jupyter-widgets/controls",
      "_view_module_version": "1.5.0",
      "_view_name": "HTMLView",
      "description": "",
      "description_tooltip": null,
      "layout": "IPY_MODEL_ae8c2f9c55f046839215787ace952e19",
      "placeholder": "​",
      "style": "IPY_MODEL_7d128538c7df42479938519d327a93b1",
      "value": "Export report to file: 100%"
     }
    },
    "213979f9b0c8406f86f6cb03c25659a4": {
     "model_module": "@jupyter-widgets/base",
     "model_module_version": "1.2.0",
     "model_name": "LayoutModel",
     "state": {
      "_model_module": "@jupyter-widgets/base",
      "_model_module_version": "1.2.0",
      "_model_name": "LayoutModel",
      "_view_count": null,
      "_view_module": "@jupyter-widgets/base",
      "_view_module_version": "1.2.0",
      "_view_name": "LayoutView",
      "align_content": null,
      "align_items": null,
      "align_self": null,
      "border": null,
      "bottom": null,
      "display": null,
      "flex": null,
      "flex_flow": null,
      "grid_area": null,
      "grid_auto_columns": null,
      "grid_auto_flow": null,
      "grid_auto_rows": null,
      "grid_column": null,
      "grid_gap": null,
      "grid_row": null,
      "grid_template_areas": null,
      "grid_template_columns": null,
      "grid_template_rows": null,
      "height": null,
      "justify_content": null,
      "justify_items": null,
      "left": null,
      "margin": null,
      "max_height": null,
      "max_width": null,
      "min_height": null,
      "min_width": null,
      "object_fit": null,
      "object_position": null,
      "order": null,
      "overflow": null,
      "overflow_x": null,
      "overflow_y": null,
      "padding": null,
      "right": null,
      "top": null,
      "visibility": null,
      "width": null
     }
    },
    "2a0b94c2c2e44aa78fc195fead7dbcb4": {
     "model_module": "@jupyter-widgets/controls",
     "model_module_version": "1.5.0",
     "model_name": "DescriptionStyleModel",
     "state": {
      "_model_module": "@jupyter-widgets/controls",
      "_model_module_version": "1.5.0",
      "_model_name": "DescriptionStyleModel",
      "_view_count": null,
      "_view_module": "@jupyter-widgets/base",
      "_view_module_version": "1.2.0",
      "_view_name": "StyleView",
      "description_width": ""
     }
    },
    "2e33083493374698b771cd5957abee3f": {
     "model_module": "@jupyter-widgets/controls",
     "model_module_version": "1.5.0",
     "model_name": "HBoxModel",
     "state": {
      "_dom_classes": [],
      "_model_module": "@jupyter-widgets/controls",
      "_model_module_version": "1.5.0",
      "_model_name": "HBoxModel",
      "_view_count": null,
      "_view_module": "@jupyter-widgets/controls",
      "_view_module_version": "1.5.0",
      "_view_name": "HBoxView",
      "box_style": "",
      "children": [
       "IPY_MODEL_b13b7b7eb95143a883d19e64920f2930",
       "IPY_MODEL_5f650a5790754f3e92651ee5266ea1aa",
       "IPY_MODEL_1ad5d0c2130145c29a52eea0546b38ab"
      ],
      "layout": "IPY_MODEL_ae21454a3b96435ab3530c9678d69e87"
     }
    },
    "44488dc86d1d4ac99a982d84c7be9ca1": {
     "model_module": "@jupyter-widgets/base",
     "model_module_version": "1.2.0",
     "model_name": "LayoutModel",
     "state": {
      "_model_module": "@jupyter-widgets/base",
      "_model_module_version": "1.2.0",
      "_model_name": "LayoutModel",
      "_view_count": null,
      "_view_module": "@jupyter-widgets/base",
      "_view_module_version": "1.2.0",
      "_view_name": "LayoutView",
      "align_content": null,
      "align_items": null,
      "align_self": null,
      "border": null,
      "bottom": null,
      "display": null,
      "flex": null,
      "flex_flow": null,
      "grid_area": null,
      "grid_auto_columns": null,
      "grid_auto_flow": null,
      "grid_auto_rows": null,
      "grid_column": null,
      "grid_gap": null,
      "grid_row": null,
      "grid_template_areas": null,
      "grid_template_columns": null,
      "grid_template_rows": null,
      "height": null,
      "justify_content": null,
      "justify_items": null,
      "left": null,
      "margin": null,
      "max_height": null,
      "max_width": null,
      "min_height": null,
      "min_width": null,
      "object_fit": null,
      "object_position": null,
      "order": null,
      "overflow": null,
      "overflow_x": null,
      "overflow_y": null,
      "padding": null,
      "right": null,
      "top": null,
      "visibility": null,
      "width": null
     }
    },
    "46ed5bdb9f024367b350806add311405": {
     "model_module": "@jupyter-widgets/controls",
     "model_module_version": "1.5.0",
     "model_name": "FloatProgressModel",
     "state": {
      "_dom_classes": [],
      "_model_module": "@jupyter-widgets/controls",
      "_model_module_version": "1.5.0",
      "_model_name": "FloatProgressModel",
      "_view_count": null,
      "_view_module": "@jupyter-widgets/controls",
      "_view_module_version": "1.5.0",
      "_view_name": "ProgressView",
      "bar_style": "success",
      "description": "",
      "description_tooltip": null,
      "layout": "IPY_MODEL_694466013fd845bdbabb3055e2bed8e9",
      "max": 5,
      "min": 0,
      "orientation": "horizontal",
      "style": "IPY_MODEL_7b40ac70b3c24514b1ee7482dac16f1e",
      "value": 5
     }
    },
    "58531900c7d2424bbb1f144d6f2ed637": {
     "model_module": "@jupyter-widgets/base",
     "model_module_version": "1.2.0",
     "model_name": "LayoutModel",
     "state": {
      "_model_module": "@jupyter-widgets/base",
      "_model_module_version": "1.2.0",
      "_model_name": "LayoutModel",
      "_view_count": null,
      "_view_module": "@jupyter-widgets/base",
      "_view_module_version": "1.2.0",
      "_view_name": "LayoutView",
      "align_content": null,
      "align_items": null,
      "align_self": null,
      "border": null,
      "bottom": null,
      "display": null,
      "flex": null,
      "flex_flow": null,
      "grid_area": null,
      "grid_auto_columns": null,
      "grid_auto_flow": null,
      "grid_auto_rows": null,
      "grid_column": null,
      "grid_gap": null,
      "grid_row": null,
      "grid_template_areas": null,
      "grid_template_columns": null,
      "grid_template_rows": null,
      "height": null,
      "justify_content": null,
      "justify_items": null,
      "left": null,
      "margin": null,
      "max_height": null,
      "max_width": null,
      "min_height": null,
      "min_width": null,
      "object_fit": null,
      "object_position": null,
      "order": null,
      "overflow": null,
      "overflow_x": null,
      "overflow_y": null,
      "padding": null,
      "right": null,
      "top": null,
      "visibility": null,
      "width": null
     }
    },
    "5f083e85fe1b4eb498796777cc29f315": {
     "model_module": "@jupyter-widgets/controls",
     "model_module_version": "1.5.0",
     "model_name": "FloatProgressModel",
     "state": {
      "_dom_classes": [],
      "_model_module": "@jupyter-widgets/controls",
      "_model_module_version": "1.5.0",
      "_model_name": "FloatProgressModel",
      "_view_count": null,
      "_view_module": "@jupyter-widgets/controls",
      "_view_module_version": "1.5.0",
      "_view_name": "ProgressView",
      "bar_style": "success",
      "description": "",
      "description_tooltip": null,
      "layout": "IPY_MODEL_e1f5a8a12ec6479d82badd8b1ca5952d",
      "max": 1,
      "min": 0,
      "orientation": "horizontal",
      "style": "IPY_MODEL_612cdf22203741d4b33f5a0175e2d098",
      "value": 1
     }
    },
    "5f650a5790754f3e92651ee5266ea1aa": {
     "model_module": "@jupyter-widgets/controls",
     "model_module_version": "1.5.0",
     "model_name": "FloatProgressModel",
     "state": {
      "_dom_classes": [],
      "_model_module": "@jupyter-widgets/controls",
      "_model_module_version": "1.5.0",
      "_model_name": "FloatProgressModel",
      "_view_count": null,
      "_view_module": "@jupyter-widgets/controls",
      "_view_module_version": "1.5.0",
      "_view_name": "ProgressView",
      "bar_style": "success",
      "description": "",
      "description_tooltip": null,
      "layout": "IPY_MODEL_c29f82ecec3e404f9f39606bb17c0c53",
      "max": 1,
      "min": 0,
      "orientation": "horizontal",
      "style": "IPY_MODEL_9855f2d0a85c41acb7b76b53aa505d90",
      "value": 1
     }
    },
    "612cdf22203741d4b33f5a0175e2d098": {
     "model_module": "@jupyter-widgets/controls",
     "model_module_version": "1.5.0",
     "model_name": "ProgressStyleModel",
     "state": {
      "_model_module": "@jupyter-widgets/controls",
      "_model_module_version": "1.5.0",
      "_model_name": "ProgressStyleModel",
      "_view_count": null,
      "_view_module": "@jupyter-widgets/base",
      "_view_module_version": "1.2.0",
      "_view_name": "StyleView",
      "bar_color": null,
      "description_width": ""
     }
    },
    "63ffa4658e2341229f62bcc37fc2f57b": {
     "model_module": "@jupyter-widgets/controls",
     "model_module_version": "1.5.0",
     "model_name": "HTMLModel",
     "state": {
      "_dom_classes": [],
      "_model_module": "@jupyter-widgets/controls",
      "_model_module_version": "1.5.0",
      "_model_name": "HTMLModel",
      "_view_count": null,
      "_view_module": "@jupyter-widgets/controls",
      "_view_module_version": "1.5.0",
      "_view_name": "HTMLView",
      "description": "",
      "description_tooltip": null,
      "layout": "IPY_MODEL_58531900c7d2424bbb1f144d6f2ed637",
      "placeholder": "​",
      "style": "IPY_MODEL_7bf27697c56749028a4398bde6691275",
      "value": " 1/1 [00:00&lt;00:00,  1.43it/s]"
     }
    },
    "69347c5790c1465c883cbc2089fa09b5": {
     "model_module": "@jupyter-widgets/controls",
     "model_module_version": "1.5.0",
     "model_name": "DescriptionStyleModel",
     "state": {
      "_model_module": "@jupyter-widgets/controls",
      "_model_module_version": "1.5.0",
      "_model_name": "DescriptionStyleModel",
      "_view_count": null,
      "_view_module": "@jupyter-widgets/base",
      "_view_module_version": "1.2.0",
      "_view_name": "StyleView",
      "description_width": ""
     }
    },
    "694466013fd845bdbabb3055e2bed8e9": {
     "model_module": "@jupyter-widgets/base",
     "model_module_version": "1.2.0",
     "model_name": "LayoutModel",
     "state": {
      "_model_module": "@jupyter-widgets/base",
      "_model_module_version": "1.2.0",
      "_model_name": "LayoutModel",
      "_view_count": null,
      "_view_module": "@jupyter-widgets/base",
      "_view_module_version": "1.2.0",
      "_view_name": "LayoutView",
      "align_content": null,
      "align_items": null,
      "align_self": null,
      "border": null,
      "bottom": null,
      "display": null,
      "flex": null,
      "flex_flow": null,
      "grid_area": null,
      "grid_auto_columns": null,
      "grid_auto_flow": null,
      "grid_auto_rows": null,
      "grid_column": null,
      "grid_gap": null,
      "grid_row": null,
      "grid_template_areas": null,
      "grid_template_columns": null,
      "grid_template_rows": null,
      "height": null,
      "justify_content": null,
      "justify_items": null,
      "left": null,
      "margin": null,
      "max_height": null,
      "max_width": null,
      "min_height": null,
      "min_width": null,
      "object_fit": null,
      "object_position": null,
      "order": null,
      "overflow": null,
      "overflow_x": null,
      "overflow_y": null,
      "padding": null,
      "right": null,
      "top": null,
      "visibility": null,
      "width": null
     }
    },
    "72948d46831446f491b055259e195d93": {
     "model_module": "@jupyter-widgets/controls",
     "model_module_version": "1.5.0",
     "model_name": "ProgressStyleModel",
     "state": {
      "_model_module": "@jupyter-widgets/controls",
      "_model_module_version": "1.5.0",
      "_model_name": "ProgressStyleModel",
      "_view_count": null,
      "_view_module": "@jupyter-widgets/base",
      "_view_module_version": "1.2.0",
      "_view_name": "StyleView",
      "bar_color": null,
      "description_width": ""
     }
    },
    "7b40ac70b3c24514b1ee7482dac16f1e": {
     "model_module": "@jupyter-widgets/controls",
     "model_module_version": "1.5.0",
     "model_name": "ProgressStyleModel",
     "state": {
      "_model_module": "@jupyter-widgets/controls",
      "_model_module_version": "1.5.0",
      "_model_name": "ProgressStyleModel",
      "_view_count": null,
      "_view_module": "@jupyter-widgets/base",
      "_view_module_version": "1.2.0",
      "_view_name": "StyleView",
      "bar_color": null,
      "description_width": ""
     }
    },
    "7bf27697c56749028a4398bde6691275": {
     "model_module": "@jupyter-widgets/controls",
     "model_module_version": "1.5.0",
     "model_name": "DescriptionStyleModel",
     "state": {
      "_model_module": "@jupyter-widgets/controls",
      "_model_module_version": "1.5.0",
      "_model_name": "DescriptionStyleModel",
      "_view_count": null,
      "_view_module": "@jupyter-widgets/base",
      "_view_module_version": "1.2.0",
      "_view_name": "StyleView",
      "description_width": ""
     }
    },
    "7d128538c7df42479938519d327a93b1": {
     "model_module": "@jupyter-widgets/controls",
     "model_module_version": "1.5.0",
     "model_name": "DescriptionStyleModel",
     "state": {
      "_model_module": "@jupyter-widgets/controls",
      "_model_module_version": "1.5.0",
      "_model_name": "DescriptionStyleModel",
      "_view_count": null,
      "_view_module": "@jupyter-widgets/base",
      "_view_module_version": "1.2.0",
      "_view_name": "StyleView",
      "description_width": ""
     }
    },
    "862d5a97e37942d78cbc49c3d4160e3d": {
     "model_module": "@jupyter-widgets/controls",
     "model_module_version": "1.5.0",
     "model_name": "DescriptionStyleModel",
     "state": {
      "_model_module": "@jupyter-widgets/controls",
      "_model_module_version": "1.5.0",
      "_model_name": "DescriptionStyleModel",
      "_view_count": null,
      "_view_module": "@jupyter-widgets/base",
      "_view_module_version": "1.2.0",
      "_view_name": "StyleView",
      "description_width": ""
     }
    },
    "8c4e10bc67da4941a551d7af4c326cb3": {
     "model_module": "@jupyter-widgets/controls",
     "model_module_version": "1.5.0",
     "model_name": "HTMLModel",
     "state": {
      "_dom_classes": [],
      "_model_module": "@jupyter-widgets/controls",
      "_model_module_version": "1.5.0",
      "_model_name": "HTMLModel",
      "_view_count": null,
      "_view_module": "@jupyter-widgets/controls",
      "_view_module_version": "1.5.0",
      "_view_name": "HTMLView",
      "description": "",
      "description_tooltip": null,
      "layout": "IPY_MODEL_aca32b1b744a4c1e8d37c39da4edb283",
      "placeholder": "​",
      "style": "IPY_MODEL_69347c5790c1465c883cbc2089fa09b5",
      "value": " 33/33 [00:46&lt;00:00,  1.18s/it, Completed]"
     }
    },
    "92da5ecac1ba43398cd7020cec1ecbe6": {
     "model_module": "@jupyter-widgets/controls",
     "model_module_version": "1.5.0",
     "model_name": "HTMLModel",
     "state": {
      "_dom_classes": [],
      "_model_module": "@jupyter-widgets/controls",
      "_model_module_version": "1.5.0",
      "_model_name": "HTMLModel",
      "_view_count": null,
      "_view_module": "@jupyter-widgets/controls",
      "_view_module_version": "1.5.0",
      "_view_name": "HTMLView",
      "description": "",
      "description_tooltip": null,
      "layout": "IPY_MODEL_dbe0d5e8d88a446a8227359999959428",
      "placeholder": "​",
      "style": "IPY_MODEL_04ce721742204738bf0861839b7bc11e",
      "value": "Render HTML: 100%"
     }
    },
    "92e088ebc2604b02b650e16639ba4850": {
     "model_module": "@jupyter-widgets/base",
     "model_module_version": "1.2.0",
     "model_name": "LayoutModel",
     "state": {
      "_model_module": "@jupyter-widgets/base",
      "_model_module_version": "1.2.0",
      "_model_name": "LayoutModel",
      "_view_count": null,
      "_view_module": "@jupyter-widgets/base",
      "_view_module_version": "1.2.0",
      "_view_name": "LayoutView",
      "align_content": null,
      "align_items": null,
      "align_self": null,
      "border": null,
      "bottom": null,
      "display": null,
      "flex": null,
      "flex_flow": null,
      "grid_area": null,
      "grid_auto_columns": null,
      "grid_auto_flow": null,
      "grid_auto_rows": null,
      "grid_column": null,
      "grid_gap": null,
      "grid_row": null,
      "grid_template_areas": null,
      "grid_template_columns": null,
      "grid_template_rows": null,
      "height": null,
      "justify_content": null,
      "justify_items": null,
      "left": null,
      "margin": null,
      "max_height": null,
      "max_width": null,
      "min_height": null,
      "min_width": null,
      "object_fit": null,
      "object_position": null,
      "order": null,
      "overflow": null,
      "overflow_x": null,
      "overflow_y": null,
      "padding": null,
      "right": null,
      "top": null,
      "visibility": null,
      "width": null
     }
    },
    "95d00b7c42c149b89472ca549671d61c": {
     "model_module": "@jupyter-widgets/base",
     "model_module_version": "1.2.0",
     "model_name": "LayoutModel",
     "state": {
      "_model_module": "@jupyter-widgets/base",
      "_model_module_version": "1.2.0",
      "_model_name": "LayoutModel",
      "_view_count": null,
      "_view_module": "@jupyter-widgets/base",
      "_view_module_version": "1.2.0",
      "_view_name": "LayoutView",
      "align_content": null,
      "align_items": null,
      "align_self": null,
      "border": null,
      "bottom": null,
      "display": null,
      "flex": null,
      "flex_flow": null,
      "grid_area": null,
      "grid_auto_columns": null,
      "grid_auto_flow": null,
      "grid_auto_rows": null,
      "grid_column": null,
      "grid_gap": null,
      "grid_row": null,
      "grid_template_areas": null,
      "grid_template_columns": null,
      "grid_template_rows": null,
      "height": null,
      "justify_content": null,
      "justify_items": null,
      "left": null,
      "margin": null,
      "max_height": null,
      "max_width": null,
      "min_height": null,
      "min_width": null,
      "object_fit": null,
      "object_position": null,
      "order": null,
      "overflow": null,
      "overflow_x": null,
      "overflow_y": null,
      "padding": null,
      "right": null,
      "top": null,
      "visibility": null,
      "width": null
     }
    },
    "9855f2d0a85c41acb7b76b53aa505d90": {
     "model_module": "@jupyter-widgets/controls",
     "model_module_version": "1.5.0",
     "model_name": "ProgressStyleModel",
     "state": {
      "_model_module": "@jupyter-widgets/controls",
      "_model_module_version": "1.5.0",
      "_model_name": "ProgressStyleModel",
      "_view_count": null,
      "_view_module": "@jupyter-widgets/base",
      "_view_module_version": "1.2.0",
      "_view_name": "StyleView",
      "bar_color": null,
      "description_width": ""
     }
    },
    "9fa24a56edf74b549e4cb685129217ec": {
     "model_module": "@jupyter-widgets/base",
     "model_module_version": "1.2.0",
     "model_name": "LayoutModel",
     "state": {
      "_model_module": "@jupyter-widgets/base",
      "_model_module_version": "1.2.0",
      "_model_name": "LayoutModel",
      "_view_count": null,
      "_view_module": "@jupyter-widgets/base",
      "_view_module_version": "1.2.0",
      "_view_name": "LayoutView",
      "align_content": null,
      "align_items": null,
      "align_self": null,
      "border": null,
      "bottom": null,
      "display": null,
      "flex": null,
      "flex_flow": null,
      "grid_area": null,
      "grid_auto_columns": null,
      "grid_auto_flow": null,
      "grid_auto_rows": null,
      "grid_column": null,
      "grid_gap": null,
      "grid_row": null,
      "grid_template_areas": null,
      "grid_template_columns": null,
      "grid_template_rows": null,
      "height": null,
      "justify_content": null,
      "justify_items": null,
      "left": null,
      "margin": null,
      "max_height": null,
      "max_width": null,
      "min_height": null,
      "min_width": null,
      "object_fit": null,
      "object_position": null,
      "order": null,
      "overflow": null,
      "overflow_x": null,
      "overflow_y": null,
      "padding": null,
      "right": null,
      "top": null,
      "visibility": null,
      "width": null
     }
    },
    "aca32b1b744a4c1e8d37c39da4edb283": {
     "model_module": "@jupyter-widgets/base",
     "model_module_version": "1.2.0",
     "model_name": "LayoutModel",
     "state": {
      "_model_module": "@jupyter-widgets/base",
      "_model_module_version": "1.2.0",
      "_model_name": "LayoutModel",
      "_view_count": null,
      "_view_module": "@jupyter-widgets/base",
      "_view_module_version": "1.2.0",
      "_view_name": "LayoutView",
      "align_content": null,
      "align_items": null,
      "align_self": null,
      "border": null,
      "bottom": null,
      "display": null,
      "flex": null,
      "flex_flow": null,
      "grid_area": null,
      "grid_auto_columns": null,
      "grid_auto_flow": null,
      "grid_auto_rows": null,
      "grid_column": null,
      "grid_gap": null,
      "grid_row": null,
      "grid_template_areas": null,
      "grid_template_columns": null,
      "grid_template_rows": null,
      "height": null,
      "justify_content": null,
      "justify_items": null,
      "left": null,
      "margin": null,
      "max_height": null,
      "max_width": null,
      "min_height": null,
      "min_width": null,
      "object_fit": null,
      "object_position": null,
      "order": null,
      "overflow": null,
      "overflow_x": null,
      "overflow_y": null,
      "padding": null,
      "right": null,
      "top": null,
      "visibility": null,
      "width": null
     }
    },
    "ae21454a3b96435ab3530c9678d69e87": {
     "model_module": "@jupyter-widgets/base",
     "model_module_version": "1.2.0",
     "model_name": "LayoutModel",
     "state": {
      "_model_module": "@jupyter-widgets/base",
      "_model_module_version": "1.2.0",
      "_model_name": "LayoutModel",
      "_view_count": null,
      "_view_module": "@jupyter-widgets/base",
      "_view_module_version": "1.2.0",
      "_view_name": "LayoutView",
      "align_content": null,
      "align_items": null,
      "align_self": null,
      "border": null,
      "bottom": null,
      "display": null,
      "flex": null,
      "flex_flow": null,
      "grid_area": null,
      "grid_auto_columns": null,
      "grid_auto_flow": null,
      "grid_auto_rows": null,
      "grid_column": null,
      "grid_gap": null,
      "grid_row": null,
      "grid_template_areas": null,
      "grid_template_columns": null,
      "grid_template_rows": null,
      "height": null,
      "justify_content": null,
      "justify_items": null,
      "left": null,
      "margin": null,
      "max_height": null,
      "max_width": null,
      "min_height": null,
      "min_width": null,
      "object_fit": null,
      "object_position": null,
      "order": null,
      "overflow": null,
      "overflow_x": null,
      "overflow_y": null,
      "padding": null,
      "right": null,
      "top": null,
      "visibility": null,
      "width": null
     }
    },
    "ae8c2f9c55f046839215787ace952e19": {
     "model_module": "@jupyter-widgets/base",
     "model_module_version": "1.2.0",
     "model_name": "LayoutModel",
     "state": {
      "_model_module": "@jupyter-widgets/base",
      "_model_module_version": "1.2.0",
      "_model_name": "LayoutModel",
      "_view_count": null,
      "_view_module": "@jupyter-widgets/base",
      "_view_module_version": "1.2.0",
      "_view_name": "LayoutView",
      "align_content": null,
      "align_items": null,
      "align_self": null,
      "border": null,
      "bottom": null,
      "display": null,
      "flex": null,
      "flex_flow": null,
      "grid_area": null,
      "grid_auto_columns": null,
      "grid_auto_flow": null,
      "grid_auto_rows": null,
      "grid_column": null,
      "grid_gap": null,
      "grid_row": null,
      "grid_template_areas": null,
      "grid_template_columns": null,
      "grid_template_rows": null,
      "height": null,
      "justify_content": null,
      "justify_items": null,
      "left": null,
      "margin": null,
      "max_height": null,
      "max_width": null,
      "min_height": null,
      "min_width": null,
      "object_fit": null,
      "object_position": null,
      "order": null,
      "overflow": null,
      "overflow_x": null,
      "overflow_y": null,
      "padding": null,
      "right": null,
      "top": null,
      "visibility": null,
      "width": null
     }
    },
    "af4cfdf2dde44e84b551bab93af710db": {
     "model_module": "@jupyter-widgets/base",
     "model_module_version": "1.2.0",
     "model_name": "LayoutModel",
     "state": {
      "_model_module": "@jupyter-widgets/base",
      "_model_module_version": "1.2.0",
      "_model_name": "LayoutModel",
      "_view_count": null,
      "_view_module": "@jupyter-widgets/base",
      "_view_module_version": "1.2.0",
      "_view_name": "LayoutView",
      "align_content": null,
      "align_items": null,
      "align_self": null,
      "border": null,
      "bottom": null,
      "display": null,
      "flex": null,
      "flex_flow": null,
      "grid_area": null,
      "grid_auto_columns": null,
      "grid_auto_flow": null,
      "grid_auto_rows": null,
      "grid_column": null,
      "grid_gap": null,
      "grid_row": null,
      "grid_template_areas": null,
      "grid_template_columns": null,
      "grid_template_rows": null,
      "height": null,
      "justify_content": null,
      "justify_items": null,
      "left": null,
      "margin": null,
      "max_height": null,
      "max_width": null,
      "min_height": null,
      "min_width": null,
      "object_fit": null,
      "object_position": null,
      "order": null,
      "overflow": null,
      "overflow_x": null,
      "overflow_y": null,
      "padding": null,
      "right": null,
      "top": null,
      "visibility": null,
      "width": null
     }
    },
    "b13b7b7eb95143a883d19e64920f2930": {
     "model_module": "@jupyter-widgets/controls",
     "model_module_version": "1.5.0",
     "model_name": "HTMLModel",
     "state": {
      "_dom_classes": [],
      "_model_module": "@jupyter-widgets/controls",
      "_model_module_version": "1.5.0",
      "_model_name": "HTMLModel",
      "_view_count": null,
      "_view_module": "@jupyter-widgets/controls",
      "_view_module_version": "1.5.0",
      "_view_name": "HTMLView",
      "description": "",
      "description_tooltip": null,
      "layout": "IPY_MODEL_05da240cf52c42da902c0c6a55e0ba45",
      "placeholder": "​",
      "style": "IPY_MODEL_862d5a97e37942d78cbc49c3d4160e3d",
      "value": "Generate report structure: 100%"
     }
    },
    "b17fa0be699e456895a0b79456b9df86": {
     "model_module": "@jupyter-widgets/controls",
     "model_module_version": "1.5.0",
     "model_name": "HBoxModel",
     "state": {
      "_dom_classes": [],
      "_model_module": "@jupyter-widgets/controls",
      "_model_module_version": "1.5.0",
      "_model_name": "HBoxModel",
      "_view_count": null,
      "_view_module": "@jupyter-widgets/controls",
      "_view_module_version": "1.5.0",
      "_view_name": "HBoxView",
      "box_style": "",
      "children": [
       "IPY_MODEL_1b6047fbbabd498fb3a255b765b7c351",
       "IPY_MODEL_00846f8dcc1b4c47902c5cf4c3a4f726",
       "IPY_MODEL_e5b1529915514e458def3f7f452eaa31"
      ],
      "layout": "IPY_MODEL_af4cfdf2dde44e84b551bab93af710db"
     }
    },
    "c05c15c073b84dcda2d84ca72940e057": {
     "model_module": "@jupyter-widgets/controls",
     "model_module_version": "1.5.0",
     "model_name": "DescriptionStyleModel",
     "state": {
      "_model_module": "@jupyter-widgets/controls",
      "_model_module_version": "1.5.0",
      "_model_name": "DescriptionStyleModel",
      "_view_count": null,
      "_view_module": "@jupyter-widgets/base",
      "_view_module_version": "1.2.0",
      "_view_name": "StyleView",
      "description_width": ""
     }
    },
    "c29f82ecec3e404f9f39606bb17c0c53": {
     "model_module": "@jupyter-widgets/base",
     "model_module_version": "1.2.0",
     "model_name": "LayoutModel",
     "state": {
      "_model_module": "@jupyter-widgets/base",
      "_model_module_version": "1.2.0",
      "_model_name": "LayoutModel",
      "_view_count": null,
      "_view_module": "@jupyter-widgets/base",
      "_view_module_version": "1.2.0",
      "_view_name": "LayoutView",
      "align_content": null,
      "align_items": null,
      "align_self": null,
      "border": null,
      "bottom": null,
      "display": null,
      "flex": null,
      "flex_flow": null,
      "grid_area": null,
      "grid_auto_columns": null,
      "grid_auto_flow": null,
      "grid_auto_rows": null,
      "grid_column": null,
      "grid_gap": null,
      "grid_row": null,
      "grid_template_areas": null,
      "grid_template_columns": null,
      "grid_template_rows": null,
      "height": null,
      "justify_content": null,
      "justify_items": null,
      "left": null,
      "margin": null,
      "max_height": null,
      "max_width": null,
      "min_height": null,
      "min_width": null,
      "object_fit": null,
      "object_position": null,
      "order": null,
      "overflow": null,
      "overflow_x": null,
      "overflow_y": null,
      "padding": null,
      "right": null,
      "top": null,
      "visibility": null,
      "width": null
     }
    },
    "dbe0d5e8d88a446a8227359999959428": {
     "model_module": "@jupyter-widgets/base",
     "model_module_version": "1.2.0",
     "model_name": "LayoutModel",
     "state": {
      "_model_module": "@jupyter-widgets/base",
      "_model_module_version": "1.2.0",
      "_model_name": "LayoutModel",
      "_view_count": null,
      "_view_module": "@jupyter-widgets/base",
      "_view_module_version": "1.2.0",
      "_view_name": "LayoutView",
      "align_content": null,
      "align_items": null,
      "align_self": null,
      "border": null,
      "bottom": null,
      "display": null,
      "flex": null,
      "flex_flow": null,
      "grid_area": null,
      "grid_auto_columns": null,
      "grid_auto_flow": null,
      "grid_auto_rows": null,
      "grid_column": null,
      "grid_gap": null,
      "grid_row": null,
      "grid_template_areas": null,
      "grid_template_columns": null,
      "grid_template_rows": null,
      "height": null,
      "justify_content": null,
      "justify_items": null,
      "left": null,
      "margin": null,
      "max_height": null,
      "max_width": null,
      "min_height": null,
      "min_width": null,
      "object_fit": null,
      "object_position": null,
      "order": null,
      "overflow": null,
      "overflow_x": null,
      "overflow_y": null,
      "padding": null,
      "right": null,
      "top": null,
      "visibility": null,
      "width": null
     }
    },
    "e1f5a8a12ec6479d82badd8b1ca5952d": {
     "model_module": "@jupyter-widgets/base",
     "model_module_version": "1.2.0",
     "model_name": "LayoutModel",
     "state": {
      "_model_module": "@jupyter-widgets/base",
      "_model_module_version": "1.2.0",
      "_model_name": "LayoutModel",
      "_view_count": null,
      "_view_module": "@jupyter-widgets/base",
      "_view_module_version": "1.2.0",
      "_view_name": "LayoutView",
      "align_content": null,
      "align_items": null,
      "align_self": null,
      "border": null,
      "bottom": null,
      "display": null,
      "flex": null,
      "flex_flow": null,
      "grid_area": null,
      "grid_auto_columns": null,
      "grid_auto_flow": null,
      "grid_auto_rows": null,
      "grid_column": null,
      "grid_gap": null,
      "grid_row": null,
      "grid_template_areas": null,
      "grid_template_columns": null,
      "grid_template_rows": null,
      "height": null,
      "justify_content": null,
      "justify_items": null,
      "left": null,
      "margin": null,
      "max_height": null,
      "max_width": null,
      "min_height": null,
      "min_width": null,
      "object_fit": null,
      "object_position": null,
      "order": null,
      "overflow": null,
      "overflow_x": null,
      "overflow_y": null,
      "padding": null,
      "right": null,
      "top": null,
      "visibility": null,
      "width": null
     }
    },
    "e5b1529915514e458def3f7f452eaa31": {
     "model_module": "@jupyter-widgets/controls",
     "model_module_version": "1.5.0",
     "model_name": "HTMLModel",
     "state": {
      "_dom_classes": [],
      "_model_module": "@jupyter-widgets/controls",
      "_model_module_version": "1.5.0",
      "_model_name": "HTMLModel",
      "_view_count": null,
      "_view_module": "@jupyter-widgets/controls",
      "_view_module_version": "1.5.0",
      "_view_name": "HTMLView",
      "description": "",
      "description_tooltip": null,
      "layout": "IPY_MODEL_9fa24a56edf74b549e4cb685129217ec",
      "placeholder": "​",
      "style": "IPY_MODEL_c05c15c073b84dcda2d84ca72940e057",
      "value": " 1/1 [00:00&lt;00:00, 22.70it/s]"
     }
    },
    "e6c1de9f435a48ad93e7acf4dec3d55d": {
     "model_module": "@jupyter-widgets/controls",
     "model_module_version": "1.5.0",
     "model_name": "HTMLModel",
     "state": {
      "_dom_classes": [],
      "_model_module": "@jupyter-widgets/controls",
      "_model_module_version": "1.5.0",
      "_model_name": "HTMLModel",
      "_view_count": null,
      "_view_module": "@jupyter-widgets/controls",
      "_view_module_version": "1.5.0",
      "_view_name": "HTMLView",
      "description": "",
      "description_tooltip": null,
      "layout": "IPY_MODEL_ff05dcf275e1409d83c179f1649da5ff",
      "placeholder": "​",
      "style": "IPY_MODEL_2a0b94c2c2e44aa78fc195fead7dbcb4",
      "value": "Summarize dataset: 100%"
     }
    },
    "f9c81b82f27b4ca88a76cd32beedba44": {
     "model_module": "@jupyter-widgets/controls",
     "model_module_version": "1.5.0",
     "model_name": "DescriptionStyleModel",
     "state": {
      "_model_module": "@jupyter-widgets/controls",
      "_model_module_version": "1.5.0",
      "_model_name": "DescriptionStyleModel",
      "_view_count": null,
      "_view_module": "@jupyter-widgets/base",
      "_view_module_version": "1.2.0",
      "_view_name": "StyleView",
      "description_width": ""
     }
    },
    "ff05dcf275e1409d83c179f1649da5ff": {
     "model_module": "@jupyter-widgets/base",
     "model_module_version": "1.2.0",
     "model_name": "LayoutModel",
     "state": {
      "_model_module": "@jupyter-widgets/base",
      "_model_module_version": "1.2.0",
      "_model_name": "LayoutModel",
      "_view_count": null,
      "_view_module": "@jupyter-widgets/base",
      "_view_module_version": "1.2.0",
      "_view_name": "LayoutView",
      "align_content": null,
      "align_items": null,
      "align_self": null,
      "border": null,
      "bottom": null,
      "display": null,
      "flex": null,
      "flex_flow": null,
      "grid_area": null,
      "grid_auto_columns": null,
      "grid_auto_flow": null,
      "grid_auto_rows": null,
      "grid_column": null,
      "grid_gap": null,
      "grid_row": null,
      "grid_template_areas": null,
      "grid_template_columns": null,
      "grid_template_rows": null,
      "height": null,
      "justify_content": null,
      "justify_items": null,
      "left": null,
      "margin": null,
      "max_height": null,
      "max_width": null,
      "min_height": null,
      "min_width": null,
      "object_fit": null,
      "object_position": null,
      "order": null,
      "overflow": null,
      "overflow_x": null,
      "overflow_y": null,
      "padding": null,
      "right": null,
      "top": null,
      "visibility": null,
      "width": null
     }
    }
   }
  }
 },
 "nbformat": 4,
 "nbformat_minor": 1
}
