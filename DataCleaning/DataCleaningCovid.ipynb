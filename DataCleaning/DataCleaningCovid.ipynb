{
 "cells": [
  {
   "attachments": {},
   "cell_type": "markdown",
   "metadata": {
    "id": "alw0Rqc-CSpG"
   },
   "source": [
    "# **ANÁLISIS PREDICTIVO DE CASOS DE COVID-19 BASADO EN CONDICIONES CLIMÁTICAS** 🔎\n",
    "Maester U. en Big Data y Ciencia de datos\n",
    "\n",
    "DATOS COVID-19 EN ESPAÑA POR PROVINCIA\n",
    "\n",
    "\n",
    "\n",
    "*   **Danilo Plazas Irreño**"
   ]
  },
  {
   "cell_type": "markdown",
   "metadata": {
    "id": "TUGY1oHNH4DX"
   },
   "source": [
    "# INTRODUCCIÓN\n",
    "\n",
    "La información presentada en este documento es la descripción secuencial de las metodologías implementadas en la base de datos de acceso público sobre el covid-19 en españa."
   ]
  },
  {
   "attachments": {},
   "cell_type": "markdown",
   "metadata": {
    "id": "nilS-JgJIxvl"
   },
   "source": [
    "# CARGUE DE DATOS\n",
    "\n",
    "Se realizo el cargue del set de datos, los cuales fueron descargados del siguiente link:\n",
    "https://cnecovid.isciii.es/covid19/#documentaci%C3%B3n-y-datos\n",
    "\n",
    "Posteriormente asignamos permisos a colab para acceder a nuestro drive en donde se encuentra nuestro dataset y realizamos el cargue de las diferentes librerías necesarias para el análisis y preparación de los datos.\n",
    "\n"
   ]
  },
  {
   "cell_type": "markdown",
   "metadata": {
    "id": "tZgxuf66S61W"
   },
   "source": [
    "Para un correcto funcionamiento de pandas-profiling se deben instalar las siguientes versiones de librerías:"
   ]
  },
  {
   "cell_type": "code",
   "execution_count": 6,
   "metadata": {
    "id": "-tqo9xxPC_RU"
   },
   "outputs": [
    {
     "ename": "SyntaxError",
     "evalue": "invalid syntax (3682391798.py, line 1)",
     "output_type": "error",
     "traceback": [
      "\u001b[1;36m  Cell \u001b[1;32mIn[6], line 1\u001b[1;36m\u001b[0m\n\u001b[1;33m    pip install pandas-profiling==3.1.0\u001b[0m\n\u001b[1;37m        ^\u001b[0m\n\u001b[1;31mSyntaxError\u001b[0m\u001b[1;31m:\u001b[0m invalid syntax\n"
     ]
    }
   ],
   "source": [
    "#pip install pandas-profiling==3.1.0\n",
    "#!pip install https://github.com/pandas-profiling/pandas-profiling/archive/master.zip --user"
   ]
  },
  {
   "cell_type": "code",
   "execution_count": 1,
   "metadata": {
    "executionInfo": {
     "elapsed": 1218,
     "status": "ok",
     "timestamp": 1655767591668,
     "user": {
      "displayName": "Danilo Plazas Irrenno",
      "userId": "03881415684539109829"
     },
     "user_tz": 300
    },
    "id": "5kaD2UWmC_Tu"
   },
   "outputs": [
    {
     "name": "stderr",
     "output_type": "stream",
     "text": [
      "c:\\Users\\Asus\\AppData\\Local\\Programs\\Python\\Python310\\lib\\site-packages\\tqdm\\auto.py:21: TqdmWarning: IProgress not found. Please update jupyter and ipywidgets. See https://ipywidgets.readthedocs.io/en/stable/user_install.html\n",
      "  from .autonotebook import tqdm as notebook_tqdm\n"
     ]
    }
   ],
   "source": [
    "import os\n",
    "import pandas as pd\n",
    "import numpy as np\n",
    "from datetime import datetime\n",
    "import seaborn as sns\n",
    "import datetime\n",
    "import matplotlib.pyplot as plt\n",
    "import matplotlib.mlab as mlab\n",
    "import matplotlib\n",
    "%matplotlib inline\n",
    "plt.style.use(\"ggplot\")\n",
    "from matplotlib.pyplot import figure\n",
    "matplotlib.rcParams['figure.figsize'] = (12,8)\n",
    "pd.options.mode.chained_assignment = None\n",
    "from pandas_profiling import ProfileReport"
   ]
  },
  {
   "cell_type": "markdown",
   "metadata": {
    "id": "WD_hS7NMKcVs"
   },
   "source": [
    "Leemos el archivo CSV"
   ]
  },
  {
   "cell_type": "code",
   "execution_count": 2,
   "metadata": {},
   "outputs": [],
   "source": [
    "\n",
    "path = os.getcwd()\n",
    "path = path.replace('\\\\', '\\\\\\\\')\n",
    "path = path.replace('\\\\\\\\', '/')\n",
    "path = \"/\".join(path.split(\"/\")[:-1]) + \"/Data/Data_Covid/\""
   ]
  },
  {
   "cell_type": "code",
   "execution_count": 3,
   "metadata": {
    "colab": {
     "base_uri": "https://localhost:8080/"
    },
    "executionInfo": {
     "elapsed": 17665,
     "status": "ok",
     "timestamp": 1655767612951,
     "user": {
      "displayName": "Danilo Plazas Irrenno",
      "userId": "03881415684539109829"
     },
     "user_tz": 300
    },
    "id": "9iU1IRtWE6Bt",
    "outputId": "7450e663-3650-4ca7-820e-bdfd88060155"
   },
   "outputs": [],
   "source": [
    "# read the data\n",
    "df_mayor60 = pd.read_csv(path + 'casos_hosp_uci_def_sexo_edad_provres_60_mas.csv', keep_default_na=False, na_values=\"\")\n",
    "df_todaedad = pd.read_csv(path + 'casos_hosp_uci_def_sexo_edad_provres.csv', keep_default_na=False, na_values=\"\")"
   ]
  },
  {
   "cell_type": "markdown",
   "metadata": {
    "id": "c4KNviVD4TNd"
   },
   "source": [
    "Comprobamos los tipos y la cantidad de instacias que tenemos:"
   ]
  },
  {
   "cell_type": "code",
   "execution_count": 5,
   "metadata": {
    "colab": {
     "base_uri": "https://localhost:8080/"
    },
    "executionInfo": {
     "elapsed": 256,
     "status": "ok",
     "timestamp": 1655767618620,
     "user": {
      "displayName": "Danilo Plazas Irrenno",
      "userId": "03881415684539109829"
     },
     "user_tz": 300
    },
    "id": "Wpo-KoLd4Kpw",
    "outputId": "bd84dd04-b23b-45ec-d7ab-1cd872b6cd4d",
    "scrolled": false
   },
   "outputs": [
    {
     "name": "stdout",
     "output_type": "stream",
     "text": [
      "Nuestro dataset tiene 551889 registros y 8 columnas \n",
      "\n",
      "provincia_iso    object\n",
      "sexo             object\n",
      "grupo_edad       object\n",
      "fecha            object\n",
      "num_casos         int64\n",
      "num_hosp          int64\n",
      "num_uci           int64\n",
      "num_def           int64\n",
      "dtype: object\n"
     ]
    }
   ],
   "source": [
    "print('Nuestro dataset tiene ' + str(df_mayor60.shape[0]) + ' registros y ' + str(df_mayor60.shape[1]) + ' columnas \\n')\n",
    "print(df_mayor60.dtypes)"
   ]
  },
  {
   "cell_type": "code",
   "execution_count": 6,
   "metadata": {},
   "outputs": [
    {
     "name": "stdout",
     "output_type": "stream",
     "text": [
      "Nuestro dataset tiene 1299030 registros y 8 columnas \n",
      "\n",
      "provincia_iso    object\n",
      "sexo             object\n",
      "grupo_edad       object\n",
      "fecha            object\n",
      "num_casos         int64\n",
      "num_hosp          int64\n",
      "num_uci           int64\n",
      "num_def           int64\n",
      "dtype: object\n"
     ]
    }
   ],
   "source": [
    "print('Nuestro dataset tiene ' + str(df_todaedad.shape[0]) + ' registros y ' + str(df_todaedad.shape[1]) + ' columnas \\n')\n",
    "print(df_todaedad.dtypes)"
   ]
  },
  {
   "cell_type": "markdown",
   "metadata": {},
   "source": [
    "Vemos que ambos conjuntos de datos tiene la misma cantidad de columnas, nombres de columnas y los tipos de datos, es por esta razón que es posile hacer un concat para unir los dos dataframe y realizar una eliminación de duplicados para tener una dataframe unico y realizar el proceos de datacleaning"
   ]
  },
  {
   "cell_type": "code",
   "execution_count": 7,
   "metadata": {},
   "outputs": [],
   "source": [
    "df = pd.concat([df_mayor60,df_todaedad]).drop_duplicates().reset_index(drop=True)"
   ]
  },
  {
   "cell_type": "code",
   "execution_count": 8,
   "metadata": {},
   "outputs": [
    {
     "name": "stdout",
     "output_type": "stream",
     "text": [
      "Nuestro dataset tiene 1461210 registros y 8 columnas \n",
      "\n",
      "provincia_iso    object\n",
      "sexo             object\n",
      "grupo_edad       object\n",
      "fecha            object\n",
      "num_casos         int64\n",
      "num_hosp          int64\n",
      "num_uci           int64\n",
      "num_def           int64\n",
      "dtype: object\n"
     ]
    }
   ],
   "source": [
    "print('Nuestro dataset tiene ' + str(df.shape[0]) + ' registros y ' + str(df.shape[1]) + ' columnas \\n')\n",
    "print(df.dtypes)"
   ]
  },
  {
   "cell_type": "markdown",
   "metadata": {
    "id": "QqIFOCYa6UEc"
   },
   "source": [
    "Comprobamos de todas las variables, que subconjunto son númericas y la cantidad que tenemos de estas:"
   ]
  },
  {
   "cell_type": "code",
   "execution_count": 9,
   "metadata": {
    "colab": {
     "base_uri": "https://localhost:8080/"
    },
    "executionInfo": {
     "elapsed": 163,
     "status": "ok",
     "timestamp": 1655767625935,
     "user": {
      "displayName": "Danilo Plazas Irrenno",
      "userId": "03881415684539109829"
     },
     "user_tz": 300
    },
    "id": "vlXOpMEW58xO",
    "outputId": "2d976956-a71b-408d-efd6-b1752c81bcbe"
   },
   "outputs": [
    {
     "name": "stdout",
     "output_type": "stream",
     "text": [
      "Tenemos 4 columnas de tipo númerico que son: \n",
      "\n",
      "['num_casos' 'num_hosp' 'num_uci' 'num_def']\n"
     ]
    }
   ],
   "source": [
    "df_numeric = df.select_dtypes(include=[np.number])\n",
    "numeric_cols = df_numeric.columns.values\n",
    "print('Tenemos' + ' ' +str(len(numeric_cols)) + ' columnas de tipo númerico que son: \\n')\n",
    "print(numeric_cols)"
   ]
  },
  {
   "cell_type": "markdown",
   "metadata": {
    "id": "EYpJFBMm7kPn"
   },
   "source": [
    "Comprobamos de todas las variables, que subconjunto NO son númericas y la cantidad que tenemos de estas:"
   ]
  },
  {
   "cell_type": "code",
   "execution_count": 10,
   "metadata": {
    "colab": {
     "base_uri": "https://localhost:8080/"
    },
    "executionInfo": {
     "elapsed": 397,
     "status": "ok",
     "timestamp": 1655767630679,
     "user": {
      "displayName": "Danilo Plazas Irrenno",
      "userId": "03881415684539109829"
     },
     "user_tz": 300
    },
    "id": "Nr0b-FOQ7kpL",
    "outputId": "4ca408c4-b8d7-4757-deae-6b10aa39090c"
   },
   "outputs": [
    {
     "name": "stdout",
     "output_type": "stream",
     "text": [
      "Tenemos 4 columnas de tipo NO númerico que son: \n",
      "\n",
      "['provincia_iso' 'sexo' 'grupo_edad' 'fecha']\n"
     ]
    }
   ],
   "source": [
    "df_non_numeric = df.select_dtypes(exclude=[np.number])\n",
    "non_numeric_cols = df_non_numeric.columns.values\n",
    "print('Tenemos' + ' ' +str(len(non_numeric_cols)) + ' columnas de tipo NO númerico que son: \\n')\n",
    "print(non_numeric_cols)"
   ]
  },
  {
   "cell_type": "code",
   "execution_count": 11,
   "metadata": {
    "colab": {
     "base_uri": "https://localhost:8080/",
     "height": 508
    },
    "executionInfo": {
     "elapsed": 165,
     "status": "ok",
     "timestamp": 1655767633138,
     "user": {
      "displayName": "Danilo Plazas Irrenno",
      "userId": "03881415684539109829"
     },
     "user_tz": 300
    },
    "id": "uK9IGoRCPK2_",
    "outputId": "8b87b01f-e0ce-4d8e-ec67-13dd6541244c"
   },
   "outputs": [
    {
     "data": {
      "text/html": [
       "<div>\n",
       "<style scoped>\n",
       "    .dataframe tbody tr th:only-of-type {\n",
       "        vertical-align: middle;\n",
       "    }\n",
       "\n",
       "    .dataframe tbody tr th {\n",
       "        vertical-align: top;\n",
       "    }\n",
       "\n",
       "    .dataframe thead th {\n",
       "        text-align: right;\n",
       "    }\n",
       "</style>\n",
       "<table border=\"1\" class=\"dataframe\">\n",
       "  <thead>\n",
       "    <tr style=\"text-align: right;\">\n",
       "      <th></th>\n",
       "      <th>provincia_iso</th>\n",
       "      <th>sexo</th>\n",
       "      <th>grupo_edad</th>\n",
       "      <th>fecha</th>\n",
       "      <th>num_casos</th>\n",
       "      <th>num_hosp</th>\n",
       "      <th>num_uci</th>\n",
       "      <th>num_def</th>\n",
       "    </tr>\n",
       "  </thead>\n",
       "  <tbody>\n",
       "    <tr>\n",
       "      <th>0</th>\n",
       "      <td>A</td>\n",
       "      <td>H</td>\n",
       "      <td>60-69</td>\n",
       "      <td>2020-01-01</td>\n",
       "      <td>0</td>\n",
       "      <td>0</td>\n",
       "      <td>0</td>\n",
       "      <td>0</td>\n",
       "    </tr>\n",
       "    <tr>\n",
       "      <th>1</th>\n",
       "      <td>A</td>\n",
       "      <td>H</td>\n",
       "      <td>70-79</td>\n",
       "      <td>2020-01-01</td>\n",
       "      <td>0</td>\n",
       "      <td>0</td>\n",
       "      <td>0</td>\n",
       "      <td>0</td>\n",
       "    </tr>\n",
       "    <tr>\n",
       "      <th>2</th>\n",
       "      <td>A</td>\n",
       "      <td>H</td>\n",
       "      <td>80+</td>\n",
       "      <td>2020-01-01</td>\n",
       "      <td>0</td>\n",
       "      <td>0</td>\n",
       "      <td>0</td>\n",
       "      <td>0</td>\n",
       "    </tr>\n",
       "    <tr>\n",
       "      <th>3</th>\n",
       "      <td>A</td>\n",
       "      <td>M</td>\n",
       "      <td>60-69</td>\n",
       "      <td>2020-01-01</td>\n",
       "      <td>0</td>\n",
       "      <td>0</td>\n",
       "      <td>0</td>\n",
       "      <td>0</td>\n",
       "    </tr>\n",
       "    <tr>\n",
       "      <th>4</th>\n",
       "      <td>A</td>\n",
       "      <td>M</td>\n",
       "      <td>70-79</td>\n",
       "      <td>2020-01-01</td>\n",
       "      <td>0</td>\n",
       "      <td>0</td>\n",
       "      <td>0</td>\n",
       "      <td>0</td>\n",
       "    </tr>\n",
       "  </tbody>\n",
       "</table>\n",
       "</div>"
      ],
      "text/plain": [
       "  provincia_iso sexo grupo_edad       fecha  num_casos  num_hosp  num_uci  \\\n",
       "0             A    H      60-69  2020-01-01          0         0        0   \n",
       "1             A    H      70-79  2020-01-01          0         0        0   \n",
       "2             A    H        80+  2020-01-01          0         0        0   \n",
       "3             A    M      60-69  2020-01-01          0         0        0   \n",
       "4             A    M      70-79  2020-01-01          0         0        0   \n",
       "\n",
       "   num_def  \n",
       "0        0  \n",
       "1        0  \n",
       "2        0  \n",
       "3        0  \n",
       "4        0  "
      ]
     },
     "execution_count": 11,
     "metadata": {},
     "output_type": "execute_result"
    }
   ],
   "source": [
    "df.head()"
   ]
  },
  {
   "cell_type": "markdown",
   "metadata": {
    "id": "VIOoE-rQLNwI"
   },
   "source": [
    "Generamos reporte de perfilamiento de datos con el fin de realizar un analisis exploratorio del archivo de entrada que nos permite evaluar el estado de los datos sin ninguna intervención previa. Este archivo .html se genera en la ruta origen del drive en donde se abrio este notebook de colab, de igual forma se adjuntara el archivo en el entregable."
   ]
  },
  {
   "cell_type": "code",
   "execution_count": 10,
   "metadata": {
    "colab": {
     "base_uri": "https://localhost:8080/",
     "height": 145,
     "referenced_widgets": [
      "06da3a6ba1f0435f8255b57714389691",
      "e6c1de9f435a48ad93e7acf4dec3d55d",
      "46ed5bdb9f024367b350806add311405",
      "8c4e10bc67da4941a551d7af4c326cb3",
      "213979f9b0c8406f86f6cb03c25659a4",
      "ff05dcf275e1409d83c179f1649da5ff",
      "2a0b94c2c2e44aa78fc195fead7dbcb4",
      "694466013fd845bdbabb3055e2bed8e9",
      "7b40ac70b3c24514b1ee7482dac16f1e",
      "aca32b1b744a4c1e8d37c39da4edb283",
      "69347c5790c1465c883cbc2089fa09b5",
      "2e33083493374698b771cd5957abee3f",
      "b13b7b7eb95143a883d19e64920f2930",
      "5f650a5790754f3e92651ee5266ea1aa",
      "1ad5d0c2130145c29a52eea0546b38ab",
      "ae21454a3b96435ab3530c9678d69e87",
      "05da240cf52c42da902c0c6a55e0ba45",
      "862d5a97e37942d78cbc49c3d4160e3d",
      "c29f82ecec3e404f9f39606bb17c0c53",
      "9855f2d0a85c41acb7b76b53aa505d90",
      "44488dc86d1d4ac99a982d84c7be9ca1",
      "f9c81b82f27b4ca88a76cd32beedba44",
      "11c1c671b4d249598c65e2e765c962c6",
      "92da5ecac1ba43398cd7020cec1ecbe6",
      "5f083e85fe1b4eb498796777cc29f315",
      "63ffa4658e2341229f62bcc37fc2f57b",
      "95d00b7c42c149b89472ca549671d61c",
      "dbe0d5e8d88a446a8227359999959428",
      "04ce721742204738bf0861839b7bc11e",
      "e1f5a8a12ec6479d82badd8b1ca5952d",
      "612cdf22203741d4b33f5a0175e2d098",
      "58531900c7d2424bbb1f144d6f2ed637",
      "7bf27697c56749028a4398bde6691275",
      "b17fa0be699e456895a0b79456b9df86",
      "1b6047fbbabd498fb3a255b765b7c351",
      "00846f8dcc1b4c47902c5cf4c3a4f726",
      "e5b1529915514e458def3f7f452eaa31",
      "af4cfdf2dde44e84b551bab93af710db",
      "ae8c2f9c55f046839215787ace952e19",
      "7d128538c7df42479938519d327a93b1",
      "92e088ebc2604b02b650e16639ba4850",
      "72948d46831446f491b055259e195d93",
      "9fa24a56edf74b549e4cb685129217ec",
      "c05c15c073b84dcda2d84ca72940e057"
     ]
    },
    "executionInfo": {
     "elapsed": 53589,
     "status": "ok",
     "timestamp": 1655063418047,
     "user": {
      "displayName": "Danilo Plazas Irrenno",
      "userId": "03881415684539109829"
     },
     "user_tz": 300
    },
    "id": "sD05DwwSPK6X",
    "outputId": "70dfaa3a-4db9-4263-947e-ea34034e161e"
   },
   "outputs": [
    {
     "name": "stderr",
     "output_type": "stream",
     "text": [
      "Summarize dataset: 100%|██████████| 14/14 [00:02<00:00,  5.44it/s, Completed]                     \n",
      "Generate report structure: 100%|██████████| 1/1 [00:00<00:00,  1.00it/s]\n",
      "Render HTML: 100%|██████████| 1/1 [00:00<00:00,  4.70it/s]\n",
      "Export report to file: 100%|██████████| 1/1 [00:00<00:00, 327.14it/s]\n"
     ]
    }
   ],
   "source": [
    "profile = ProfileReport(df, minimal=True)\n",
    "profile.to_file(output_file=\"df_covid_prof.html\")"
   ]
  },
  {
   "cell_type": "markdown",
   "metadata": {
    "id": "foSKit7jOn-W"
   },
   "source": [
    "El perfilamiento de datos arroja los resultados en el archivo anexo"
   ]
  },
  {
   "attachments": {
    "image.png": {
     "image/png": "[encoded data removed]"
    }
   },
   "cell_type": "markdown",
   "metadata": {
    "id": "6wl3bPcRPk6g"
   },
   "source": [
    "![image.png](attachment:image.png)"
   ]
  },
  {
   "cell_type": "markdown",
   "metadata": {
    "id": "UsWa6WbqC6Zo"
   },
   "source": [
    "# MISSING VALUES"
   ]
  },
  {
   "cell_type": "markdown",
   "metadata": {
    "id": "m1jVqCwxEBHP"
   },
   "source": [
    "## Missing Data Heatmap\n",
    "Podemos visualizar los datos que faltan a través del mapa de calor."
   ]
  },
  {
   "cell_type": "code",
   "execution_count": 12,
   "metadata": {
    "colab": {
     "base_uri": "https://localhost:8080/",
     "height": 635
    },
    "executionInfo": {
     "elapsed": 71242,
     "status": "ok",
     "timestamp": 1655589442824,
     "user": {
      "displayName": "Danilo Plazas Irrenno",
      "userId": "03881415684539109829"
     },
     "user_tz": 300
    },
    "id": "FI5jSSX3EH7k",
    "outputId": "0a8e86f5-94d1-413e-8cc5-8181c9e7a947"
   },
   "outputs": [
    {
     "name": "stderr",
     "output_type": "stream",
     "text": [
      "C:\\Users\\Asus\\AppData\\Local\\Temp\\ipykernel_22408\\1031227828.py:4: UserWarning: Matplotlib is currently using agg, which is a non-GUI backend, so cannot show the figure.\n",
      "  plt.show()\n"
     ]
    }
   ],
   "source": [
    "cols = df.columns\n",
    "colours = ['#000099', '#ffff00'] # specify the colours - yellow is missing. blue is not missing.\n",
    "sns.heatmap(df[cols].isnull(), cmap=sns.color_palette(colours))\n",
    "plt.show()"
   ]
  },
  {
   "cell_type": "markdown",
   "metadata": {
    "id": "t5M-npbfHmv9"
   },
   "source": [
    "El gráfico anterior muestra los patrones de datos que faltan de todas las columnas. \n",
    "El eje horizontal muestra el nombre del atributo de entrada; el eje vertical muestra el número de observaciones/filas; el color amarillo representa los datos que faltan, mientras que el color azul, en caso contrario.\n",
    "Detallamos que todas las características tienen muy pocos valores perdidos o inclusive no tienen."
   ]
  },
  {
   "cell_type": "markdown",
   "metadata": {
    "id": "FZhzWSvuKZHS"
   },
   "source": [
    "## Missing Data Percentage List"
   ]
  },
  {
   "cell_type": "markdown",
   "metadata": {
    "id": "jPZBOLA3PyZs"
   },
   "source": [
    "A continuación se muestra el listado con el porcentaje de los valores faltantes, para este caso tome 3 decimas ya que hay unos campos que tienen un porcentaje de faltantes muy bajo pero que igual los tiene:"
   ]
  },
  {
   "cell_type": "code",
   "execution_count": 13,
   "metadata": {
    "colab": {
     "base_uri": "https://localhost:8080/"
    },
    "executionInfo": {
     "elapsed": 1857,
     "status": "ok",
     "timestamp": 1655767646078,
     "user": {
      "displayName": "Danilo Plazas Irrenno",
      "userId": "03881415684539109829"
     },
     "user_tz": 300
    },
    "id": "-RajCx73EH-c",
    "outputId": "adad1129-51c8-41bd-d055-af852fab1ac5"
   },
   "outputs": [
    {
     "name": "stdout",
     "output_type": "stream",
     "text": [
      "provincia_iso - 0.0%\n",
      "sexo - 0.0%\n",
      "grupo_edad - 0.0%\n",
      "fecha - 0.0%\n",
      "num_casos - 0.0%\n",
      "num_hosp - 0.0%\n",
      "num_uci - 0.0%\n",
      "num_def - 0.0%\n"
     ]
    }
   ],
   "source": [
    "for col in df.columns:\n",
    "    pct_missing = np.mean(df[col].isnull())\n",
    "    print('{} - {}%'.format(col, round(pct_missing*100, 10)))"
   ]
  },
  {
   "attachments": {},
   "cell_type": "markdown",
   "metadata": {
    "id": "iiQqGa1cY_ig"
   },
   "source": [
    "# ¿Qué hacer?"
   ]
  },
  {
   "attachments": {},
   "cell_type": "markdown",
   "metadata": {
    "id": "AlV7j860lf94"
   },
   "source": [
    "## Dejar o no dejar la característica\n",
    "\n",
    "Se elimina cuando estamos seguros de que esta característica no proporciona información útil.\n",
    "\n",
    "No se eliminará ninguna caracteristica ya que tiene su información completa."
   ]
  },
  {
   "cell_type": "markdown",
   "metadata": {
    "id": "07kb5yn-xi2I"
   },
   "source": [
    "A continuación también se evidencia cierta correlación entre las variables descritas anteriormente, teniendo un tono más naranja claro, siendo blanco variables totalmente identicas."
   ]
  },
  {
   "cell_type": "markdown",
   "metadata": {
    "id": "HX_fBd32MHUQ"
   },
   "source": [
    "**El siguiente bloque de código solo se ejecuto una vez con fines practicos, ya que transforma las columnas categoricas en un valor numerico correspondiente para realizar la validación de la correlación, y esta columna es importante para el analisis y por el momento necesitamos la descripción**"
   ]
  },
  {
   "cell_type": "code",
   "execution_count": 32,
   "metadata": {
    "id": "pmmLRxw4Jgui"
   },
   "outputs": [],
   "source": [
    "# from sklearn.preprocessing import LabelEncoder\n",
    "# labelencoder=LabelEncoder()\n",
    "# \n",
    "# df['provincia_iso'] = labelencoder.fit_transform(df['provincia_iso'])\n",
    "# df['sexo'] = labelencoder.fit_transform(df['sexo'])\n",
    "# df['grupo_edad'] = labelencoder.fit_transform(df['grupo_edad'])\n",
    "# df['fecha'] = labelencoder.fit_transform(df['fecha'])"
   ]
  },
  {
   "cell_type": "code",
   "execution_count": 33,
   "metadata": {
    "colab": {
     "base_uri": "https://localhost:8080/",
     "height": 811
    },
    "executionInfo": {
     "elapsed": 2523,
     "status": "ok",
     "timestamp": 1655595489543,
     "user": {
      "displayName": "Danilo Plazas Irrenno",
      "userId": "03881415684539109829"
     },
     "user_tz": 300
    },
    "id": "NUnP23fVvWmY",
    "outputId": "a6eae86b-5578-4b17-cfec-ff2cd87d98f9"
   },
   "outputs": [
    {
     "name": "stdout",
     "output_type": "stream",
     "text": [
      "Populating the interactive namespace from numpy and matplotlib\n"
     ]
    },
    {
     "data": {
      "text/plain": [
       "<AxesSubplot:>"
      ]
     },
     "execution_count": 33,
     "metadata": {},
     "output_type": "execute_result"
    },
    {
     "data": {
      "image/png": "[encoded data removed]",
      "text/plain": [
       "<Figure size 864x864 with 2 Axes>"
      ]
     },
     "metadata": {
      "needs_background": "light"
     },
     "output_type": "display_data"
    }
   ],
   "source": [
    "from matplotlib import figure\n",
    "import seaborn as sns; sns.set()\n",
    "corr = df.corr()\n",
    "sns.heatmap(corr, annot=True)\n",
    "sns.set(rc={'figure.figsize':(40, 30)})"
   ]
  },
  {
   "cell_type": "markdown",
   "metadata": {
    "id": "VpsWBbVkyH7L"
   },
   "source": [
    "Procedemos a eliminar las variables UCR Category y Category Description por la razones expuestas anteriormente:"
   ]
  },
  {
   "cell_type": "markdown",
   "metadata": {
    "id": "fiLzDnQc2u3F"
   },
   "source": [
    "# TRANSFORMACION NOMBRE DE COLUMNAS"
   ]
  },
  {
   "cell_type": "markdown",
   "metadata": {
    "id": "4t6AfVmx4s25"
   },
   "source": [
    "Se renombramos las columnas para dar un estandar de nombramiento y facilitar el manejo."
   ]
  },
  {
   "cell_type": "code",
   "execution_count": 18,
   "metadata": {
    "executionInfo": {
     "elapsed": 241,
     "status": "ok",
     "timestamp": 1655767676774,
     "user": {
      "displayName": "Danilo Plazas Irrenno",
      "userId": "03881415684539109829"
     },
     "user_tz": 300
    },
    "id": "qgP3EOqryD-C"
   },
   "outputs": [],
   "source": [
    "df.columns = ['PROVINCIA_ISO','SEXO','GRUPO_EDAD','FECHA','NUM_CASOS','NUM_HOSP','NUM_UCI','NUM_DEFU']"
   ]
  },
  {
   "cell_type": "markdown",
   "metadata": {
    "id": "w7m3lFrIRGLt"
   },
   "source": [
    "# REEMPLAZAR VALORES"
   ]
  },
  {
   "cell_type": "code",
   "execution_count": 19,
   "metadata": {
    "scrolled": true
   },
   "outputs": [
    {
     "data": {
      "text/plain": [
       "array(['A', 'AB', 'AL', 'AV', 'B', 'BA', 'BI', 'BU', 'C', 'CA', 'CC',\n",
       "       'CE', 'CO', 'CR', 'CS', 'CU', 'GC', 'GI', 'GR', 'GU', 'H', 'HU',\n",
       "       'J', 'L', 'LE', 'LO', 'LU', 'M', 'MA', 'ML', 'MU', 'NA', 'NC', 'O',\n",
       "       'OR', 'P', 'PM', 'PO', 'S', 'SA', 'SE', 'SG', 'SO', 'SS', 'T',\n",
       "       'TE', 'TF', 'TO', 'V', 'VA', 'VI', 'Z', 'ZA'], dtype=object)"
      ]
     },
     "execution_count": 19,
     "metadata": {},
     "output_type": "execute_result"
    }
   ],
   "source": [
    "df['PROVINCIA_ISO'].unique()"
   ]
  },
  {
   "cell_type": "code",
   "execution_count": 22,
   "metadata": {},
   "outputs": [
    {
     "data": {
      "text/plain": [
       "array(['H', 'M', 'NC'], dtype=object)"
      ]
     },
     "execution_count": 22,
     "metadata": {},
     "output_type": "execute_result"
    }
   ],
   "source": [
    "df['SEXO'].unique()"
   ]
  },
  {
   "cell_type": "code",
   "execution_count": 23,
   "metadata": {
    "scrolled": true
   },
   "outputs": [
    {
     "data": {
      "text/plain": [
       "array(['60-69', '70-79', '80+', '0-9', '10-19', '20-29', '30-39', '40-49',\n",
       "       '50-59', 'NC'], dtype=object)"
      ]
     },
     "execution_count": 23,
     "metadata": {},
     "output_type": "execute_result"
    }
   ],
   "source": [
    "df['GRUPO_EDAD'].unique()"
   ]
  },
  {
   "cell_type": "code",
   "execution_count": 24,
   "metadata": {
    "scrolled": true
   },
   "outputs": [
    {
     "data": {
      "text/html": [
       "<div>\n",
       "<style scoped>\n",
       "    .dataframe tbody tr th:only-of-type {\n",
       "        vertical-align: middle;\n",
       "    }\n",
       "\n",
       "    .dataframe tbody tr th {\n",
       "        vertical-align: top;\n",
       "    }\n",
       "\n",
       "    .dataframe thead th {\n",
       "        text-align: right;\n",
       "    }\n",
       "</style>\n",
       "<table border=\"1\" class=\"dataframe\">\n",
       "  <thead>\n",
       "    <tr style=\"text-align: right;\">\n",
       "      <th></th>\n",
       "      <th>PROVINCIA_ISO</th>\n",
       "      <th>SEXO</th>\n",
       "      <th>GRUPO_EDAD</th>\n",
       "      <th>FECHA</th>\n",
       "      <th>NUM_CASOS</th>\n",
       "      <th>NUM_HOSP</th>\n",
       "      <th>NUM_UCI</th>\n",
       "      <th>NUM_DEFU</th>\n",
       "    </tr>\n",
       "  </thead>\n",
       "  <tbody>\n",
       "    <tr>\n",
       "      <th>551895</th>\n",
       "      <td>A</td>\n",
       "      <td>H</td>\n",
       "      <td>NC</td>\n",
       "      <td>2020-01-01</td>\n",
       "      <td>0</td>\n",
       "      <td>0</td>\n",
       "      <td>0</td>\n",
       "      <td>0</td>\n",
       "    </tr>\n",
       "    <tr>\n",
       "      <th>551902</th>\n",
       "      <td>A</td>\n",
       "      <td>M</td>\n",
       "      <td>NC</td>\n",
       "      <td>2020-01-01</td>\n",
       "      <td>0</td>\n",
       "      <td>0</td>\n",
       "      <td>0</td>\n",
       "      <td>0</td>\n",
       "    </tr>\n",
       "    <tr>\n",
       "      <th>551909</th>\n",
       "      <td>A</td>\n",
       "      <td>NC</td>\n",
       "      <td>NC</td>\n",
       "      <td>2020-01-01</td>\n",
       "      <td>0</td>\n",
       "      <td>0</td>\n",
       "      <td>0</td>\n",
       "      <td>0</td>\n",
       "    </tr>\n",
       "    <tr>\n",
       "      <th>551916</th>\n",
       "      <td>AB</td>\n",
       "      <td>H</td>\n",
       "      <td>NC</td>\n",
       "      <td>2020-01-01</td>\n",
       "      <td>0</td>\n",
       "      <td>0</td>\n",
       "      <td>0</td>\n",
       "      <td>0</td>\n",
       "    </tr>\n",
       "    <tr>\n",
       "      <th>551923</th>\n",
       "      <td>AB</td>\n",
       "      <td>M</td>\n",
       "      <td>NC</td>\n",
       "      <td>2020-01-01</td>\n",
       "      <td>0</td>\n",
       "      <td>0</td>\n",
       "      <td>0</td>\n",
       "      <td>0</td>\n",
       "    </tr>\n",
       "    <tr>\n",
       "      <th>...</th>\n",
       "      <td>...</td>\n",
       "      <td>...</td>\n",
       "      <td>...</td>\n",
       "      <td>...</td>\n",
       "      <td>...</td>\n",
       "      <td>...</td>\n",
       "      <td>...</td>\n",
       "      <td>...</td>\n",
       "    </tr>\n",
       "    <tr>\n",
       "      <th>1461181</th>\n",
       "      <td>Z</td>\n",
       "      <td>M</td>\n",
       "      <td>NC</td>\n",
       "      <td>2022-03-27</td>\n",
       "      <td>0</td>\n",
       "      <td>0</td>\n",
       "      <td>0</td>\n",
       "      <td>0</td>\n",
       "    </tr>\n",
       "    <tr>\n",
       "      <th>1461188</th>\n",
       "      <td>Z</td>\n",
       "      <td>NC</td>\n",
       "      <td>NC</td>\n",
       "      <td>2022-03-27</td>\n",
       "      <td>0</td>\n",
       "      <td>0</td>\n",
       "      <td>0</td>\n",
       "      <td>0</td>\n",
       "    </tr>\n",
       "    <tr>\n",
       "      <th>1461195</th>\n",
       "      <td>ZA</td>\n",
       "      <td>H</td>\n",
       "      <td>NC</td>\n",
       "      <td>2022-03-27</td>\n",
       "      <td>0</td>\n",
       "      <td>0</td>\n",
       "      <td>0</td>\n",
       "      <td>0</td>\n",
       "    </tr>\n",
       "    <tr>\n",
       "      <th>1461202</th>\n",
       "      <td>ZA</td>\n",
       "      <td>M</td>\n",
       "      <td>NC</td>\n",
       "      <td>2022-03-27</td>\n",
       "      <td>0</td>\n",
       "      <td>0</td>\n",
       "      <td>0</td>\n",
       "      <td>0</td>\n",
       "    </tr>\n",
       "    <tr>\n",
       "      <th>1461209</th>\n",
       "      <td>ZA</td>\n",
       "      <td>NC</td>\n",
       "      <td>NC</td>\n",
       "      <td>2022-03-27</td>\n",
       "      <td>0</td>\n",
       "      <td>0</td>\n",
       "      <td>0</td>\n",
       "      <td>0</td>\n",
       "    </tr>\n",
       "  </tbody>\n",
       "</table>\n",
       "<p>127452 rows × 8 columns</p>\n",
       "</div>"
      ],
      "text/plain": [
       "        PROVINCIA_ISO SEXO GRUPO_EDAD       FECHA  NUM_CASOS  NUM_HOSP  \\\n",
       "551895              A    H         NC  2020-01-01          0         0   \n",
       "551902              A    M         NC  2020-01-01          0         0   \n",
       "551909              A   NC         NC  2020-01-01          0         0   \n",
       "551916             AB    H         NC  2020-01-01          0         0   \n",
       "551923             AB    M         NC  2020-01-01          0         0   \n",
       "...               ...  ...        ...         ...        ...       ...   \n",
       "1461181             Z    M         NC  2022-03-27          0         0   \n",
       "1461188             Z   NC         NC  2022-03-27          0         0   \n",
       "1461195            ZA    H         NC  2022-03-27          0         0   \n",
       "1461202            ZA    M         NC  2022-03-27          0         0   \n",
       "1461209            ZA   NC         NC  2022-03-27          0         0   \n",
       "\n",
       "         NUM_UCI  NUM_DEFU  \n",
       "551895         0         0  \n",
       "551902         0         0  \n",
       "551909         0         0  \n",
       "551916         0         0  \n",
       "551923         0         0  \n",
       "...          ...       ...  \n",
       "1461181        0         0  \n",
       "1461188        0         0  \n",
       "1461195        0         0  \n",
       "1461202        0         0  \n",
       "1461209        0         0  \n",
       "\n",
       "[127452 rows x 8 columns]"
      ]
     },
     "execution_count": 24,
     "metadata": {},
     "output_type": "execute_result"
    }
   ],
   "source": [
    "df[df['GRUPO_EDAD']== \"NC\"]"
   ]
  },
  {
   "cell_type": "markdown",
   "metadata": {
    "id": "ghMvm2OFUo8k"
   },
   "source": [
    "**Realizando nuevamente el porcentaje de valores faltantes de todas las variables se obtiene:**"
   ]
  },
  {
   "cell_type": "code",
   "execution_count": 25,
   "metadata": {
    "colab": {
     "base_uri": "https://localhost:8080/"
    },
    "executionInfo": {
     "elapsed": 1416,
     "status": "ok",
     "timestamp": 1655767806504,
     "user": {
      "displayName": "Danilo Plazas Irrenno",
      "userId": "03881415684539109829"
     },
     "user_tz": 300
    },
    "id": "D8nvVUUCUpGv",
    "outputId": "289928e2-6a4d-4902-f496-fba44a085f48"
   },
   "outputs": [
    {
     "name": "stdout",
     "output_type": "stream",
     "text": [
      "PROVINCIA_ISO - 0.0%\n",
      "SEXO - 0.0%\n",
      "GRUPO_EDAD - 0.0%\n",
      "FECHA - 0.0%\n",
      "NUM_CASOS - 0.0%\n",
      "NUM_HOSP - 0.0%\n",
      "NUM_UCI - 0.0%\n",
      "NUM_DEFU - 0.0%\n"
     ]
    }
   ],
   "source": [
    "for col in df.columns:\n",
    "    pct_missing = np.mean(df[col].isnull())\n",
    "    print('{} - {}%'.format(col, round(pct_missing*100, 7)))"
   ]
  },
  {
   "cell_type": "markdown",
   "metadata": {
    "id": "hCQ63IQs5BZh"
   },
   "source": [
    "# TRANSFORMACION TIPOS DE DATOS"
   ]
  },
  {
   "cell_type": "markdown",
   "metadata": {
    "id": "LCcrG0YN5NVz"
   },
   "source": [
    "Realizaremos las siguientes transformaciónes en los datos:\n",
    "- Convertimos las variables de tiempo a tipo \"datetime\"\n",
    "- Las variables que estén tipo float y no tengan ningun valor decimal se convertiran en enteros.\n",
    "- Normalización y homologación de los valores en campos categoricos con el fin de agrupar y estandarizar."
   ]
  },
  {
   "cell_type": "code",
   "execution_count": 26,
   "metadata": {},
   "outputs": [],
   "source": [
    "df[\"FECHA\"] = pd.to_datetime(df[\"FECHA\"])"
   ]
  },
  {
   "cell_type": "code",
   "execution_count": 27,
   "metadata": {
    "scrolled": true
   },
   "outputs": [
    {
     "name": "stdout",
     "output_type": "stream",
     "text": [
      "PROVINCIA_ISO            object\n",
      "SEXO                     object\n",
      "GRUPO_EDAD               object\n",
      "FECHA            datetime64[ns]\n",
      "NUM_CASOS                 int64\n",
      "NUM_HOSP                  int64\n",
      "NUM_UCI                   int64\n",
      "NUM_DEFU                  int64\n",
      "dtype: object\n"
     ]
    }
   ],
   "source": [
    "print(df.dtypes)"
   ]
  },
  {
   "cell_type": "code",
   "execution_count": 28,
   "metadata": {},
   "outputs": [
    {
     "data": {
      "text/html": [
       "<div>\n",
       "<style scoped>\n",
       "    .dataframe tbody tr th:only-of-type {\n",
       "        vertical-align: middle;\n",
       "    }\n",
       "\n",
       "    .dataframe tbody tr th {\n",
       "        vertical-align: top;\n",
       "    }\n",
       "\n",
       "    .dataframe thead th {\n",
       "        text-align: right;\n",
       "    }\n",
       "</style>\n",
       "<table border=\"1\" class=\"dataframe\">\n",
       "  <thead>\n",
       "    <tr style=\"text-align: right;\">\n",
       "      <th></th>\n",
       "      <th>PROVINCIA_ISO</th>\n",
       "      <th>SEXO</th>\n",
       "      <th>GRUPO_EDAD</th>\n",
       "      <th>FECHA</th>\n",
       "      <th>NUM_CASOS</th>\n",
       "      <th>NUM_HOSP</th>\n",
       "      <th>NUM_UCI</th>\n",
       "      <th>NUM_DEFU</th>\n",
       "    </tr>\n",
       "  </thead>\n",
       "  <tbody>\n",
       "    <tr>\n",
       "      <th>0</th>\n",
       "      <td>A</td>\n",
       "      <td>H</td>\n",
       "      <td>60-69</td>\n",
       "      <td>2020-01-01</td>\n",
       "      <td>0</td>\n",
       "      <td>0</td>\n",
       "      <td>0</td>\n",
       "      <td>0</td>\n",
       "    </tr>\n",
       "    <tr>\n",
       "      <th>1</th>\n",
       "      <td>A</td>\n",
       "      <td>H</td>\n",
       "      <td>70-79</td>\n",
       "      <td>2020-01-01</td>\n",
       "      <td>0</td>\n",
       "      <td>0</td>\n",
       "      <td>0</td>\n",
       "      <td>0</td>\n",
       "    </tr>\n",
       "    <tr>\n",
       "      <th>2</th>\n",
       "      <td>A</td>\n",
       "      <td>H</td>\n",
       "      <td>80+</td>\n",
       "      <td>2020-01-01</td>\n",
       "      <td>0</td>\n",
       "      <td>0</td>\n",
       "      <td>0</td>\n",
       "      <td>0</td>\n",
       "    </tr>\n",
       "    <tr>\n",
       "      <th>3</th>\n",
       "      <td>A</td>\n",
       "      <td>M</td>\n",
       "      <td>60-69</td>\n",
       "      <td>2020-01-01</td>\n",
       "      <td>0</td>\n",
       "      <td>0</td>\n",
       "      <td>0</td>\n",
       "      <td>0</td>\n",
       "    </tr>\n",
       "    <tr>\n",
       "      <th>4</th>\n",
       "      <td>A</td>\n",
       "      <td>M</td>\n",
       "      <td>70-79</td>\n",
       "      <td>2020-01-01</td>\n",
       "      <td>0</td>\n",
       "      <td>0</td>\n",
       "      <td>0</td>\n",
       "      <td>0</td>\n",
       "    </tr>\n",
       "    <tr>\n",
       "      <th>...</th>\n",
       "      <td>...</td>\n",
       "      <td>...</td>\n",
       "      <td>...</td>\n",
       "      <td>...</td>\n",
       "      <td>...</td>\n",
       "      <td>...</td>\n",
       "      <td>...</td>\n",
       "      <td>...</td>\n",
       "    </tr>\n",
       "    <tr>\n",
       "      <th>1461205</th>\n",
       "      <td>ZA</td>\n",
       "      <td>NC</td>\n",
       "      <td>20-29</td>\n",
       "      <td>2022-03-27</td>\n",
       "      <td>0</td>\n",
       "      <td>0</td>\n",
       "      <td>0</td>\n",
       "      <td>0</td>\n",
       "    </tr>\n",
       "    <tr>\n",
       "      <th>1461206</th>\n",
       "      <td>ZA</td>\n",
       "      <td>NC</td>\n",
       "      <td>30-39</td>\n",
       "      <td>2022-03-27</td>\n",
       "      <td>0</td>\n",
       "      <td>0</td>\n",
       "      <td>0</td>\n",
       "      <td>0</td>\n",
       "    </tr>\n",
       "    <tr>\n",
       "      <th>1461207</th>\n",
       "      <td>ZA</td>\n",
       "      <td>NC</td>\n",
       "      <td>40-49</td>\n",
       "      <td>2022-03-27</td>\n",
       "      <td>0</td>\n",
       "      <td>0</td>\n",
       "      <td>0</td>\n",
       "      <td>0</td>\n",
       "    </tr>\n",
       "    <tr>\n",
       "      <th>1461208</th>\n",
       "      <td>ZA</td>\n",
       "      <td>NC</td>\n",
       "      <td>50-59</td>\n",
       "      <td>2022-03-27</td>\n",
       "      <td>0</td>\n",
       "      <td>0</td>\n",
       "      <td>0</td>\n",
       "      <td>0</td>\n",
       "    </tr>\n",
       "    <tr>\n",
       "      <th>1461209</th>\n",
       "      <td>ZA</td>\n",
       "      <td>NC</td>\n",
       "      <td>NC</td>\n",
       "      <td>2022-03-27</td>\n",
       "      <td>0</td>\n",
       "      <td>0</td>\n",
       "      <td>0</td>\n",
       "      <td>0</td>\n",
       "    </tr>\n",
       "  </tbody>\n",
       "</table>\n",
       "<p>1433640 rows × 8 columns</p>\n",
       "</div>"
      ],
      "text/plain": [
       "        PROVINCIA_ISO SEXO GRUPO_EDAD      FECHA  NUM_CASOS  NUM_HOSP  \\\n",
       "0                   A    H      60-69 2020-01-01          0         0   \n",
       "1                   A    H      70-79 2020-01-01          0         0   \n",
       "2                   A    H        80+ 2020-01-01          0         0   \n",
       "3                   A    M      60-69 2020-01-01          0         0   \n",
       "4                   A    M      70-79 2020-01-01          0         0   \n",
       "...               ...  ...        ...        ...        ...       ...   \n",
       "1461205            ZA   NC      20-29 2022-03-27          0         0   \n",
       "1461206            ZA   NC      30-39 2022-03-27          0         0   \n",
       "1461207            ZA   NC      40-49 2022-03-27          0         0   \n",
       "1461208            ZA   NC      50-59 2022-03-27          0         0   \n",
       "1461209            ZA   NC         NC 2022-03-27          0         0   \n",
       "\n",
       "         NUM_UCI  NUM_DEFU  \n",
       "0              0         0  \n",
       "1              0         0  \n",
       "2              0         0  \n",
       "3              0         0  \n",
       "4              0         0  \n",
       "...          ...       ...  \n",
       "1461205        0         0  \n",
       "1461206        0         0  \n",
       "1461207        0         0  \n",
       "1461208        0         0  \n",
       "1461209        0         0  \n",
       "\n",
       "[1433640 rows x 8 columns]"
      ]
     },
     "execution_count": 28,
     "metadata": {},
     "output_type": "execute_result"
    }
   ],
   "source": [
    "df"
   ]
  },
  {
   "cell_type": "markdown",
   "metadata": {
    "id": "8R4WmhT0U_jU"
   },
   "source": [
    "# OUTLIERS (DATOS FUERA DE RANGO)"
   ]
  },
  {
   "cell_type": "markdown",
   "metadata": {
    "id": "XKv--oK0fvC1"
   },
   "source": [
    "- A continuación mediante un histograma, se evidencia que con respecto a las **fechas** no existe outliers ya que los datos deben corresponder desde el 2020 hasta la actualidad."
   ]
  },
  {
   "cell_type": "code",
   "execution_count": 29,
   "metadata": {
    "colab": {
     "base_uri": "https://localhost:8080/",
     "height": 409
    },
    "executionInfo": {
     "elapsed": 4780,
     "status": "ok",
     "timestamp": 1655768575920,
     "user": {
      "displayName": "Danilo Plazas Irrenno",
      "userId": "03881415684539109829"
     },
     "user_tz": 300
    },
    "id": "DLLi3JQ4ZH91",
    "outputId": "192928d6-27ca-4d87-b944-956ac1c0b9d3"
   },
   "outputs": [
    {
     "name": "stdout",
     "output_type": "stream",
     "text": [
      "Populating the interactive namespace from numpy and matplotlib\n"
     ]
    },
    {
     "data": {
      "text/plain": [
       "<AxesSubplot: >"
      ]
     },
     "execution_count": 29,
     "metadata": {},
     "output_type": "execute_result"
    },
    {
     "data": {
      "image/png": "[encoded data removed]",
      "text/plain": [
       "<Figure size 3600x2160 with 1 Axes>"
      ]
     },
     "metadata": {
      "needs_background": "light"
     },
     "output_type": "display_data"
    }
   ],
   "source": [
    "%pylab inline\n",
    "plt.figure(figsize=(50, 30))\n",
    "\n",
    "ax1 = plt.subplot(331)\n",
    "df['FECHA'].hist(bins=10)"
   ]
  },
  {
   "cell_type": "code",
   "execution_count": 30,
   "metadata": {
    "colab": {
     "base_uri": "https://localhost:8080/",
     "height": 471
    },
    "executionInfo": {
     "elapsed": 457,
     "status": "ok",
     "timestamp": 1655768604224,
     "user": {
      "displayName": "Danilo Plazas Irrenno",
      "userId": "03881415684539109829"
     },
     "user_tz": 300
    },
    "id": "S4HBUD44Wmqv",
    "outputId": "dfb27dff-b408-4965-b6db-4a26b5bbca88"
   },
   "outputs": [
    {
     "name": "stdout",
     "output_type": "stream",
     "text": [
      "Populating the interactive namespace from numpy and matplotlib\n"
     ]
    },
    {
     "data": {
      "text/plain": [
       "<AxesSubplot: >"
      ]
     },
     "execution_count": 30,
     "metadata": {},
     "output_type": "execute_result"
    },
    {
     "data": {
      "image/png": "[encoded data removed]",
      "text/plain": [
       "<Figure size 504x504 with 1 Axes>"
      ]
     },
     "metadata": {
      "needs_background": "light"
     },
     "output_type": "display_data"
    }
   ],
   "source": [
    "%pylab inline\n",
    "pyplot.figure(figsize=(7,7))\n",
    "df['SEXO'].value_counts().plot.bar()"
   ]
  },
  {
   "cell_type": "code",
   "execution_count": 32,
   "metadata": {
    "colab": {
     "base_uri": "https://localhost:8080/",
     "height": 385
    },
    "executionInfo": {
     "elapsed": 7552,
     "status": "ok",
     "timestamp": 1655768649419,
     "user": {
      "displayName": "Danilo Plazas Irrenno",
      "userId": "03881415684539109829"
     },
     "user_tz": 300
    },
    "id": "P5OzECtskmWY",
    "outputId": "4059ed72-fba5-4128-923a-9f478e8abdcb"
   },
   "outputs": [
    {
     "data": {
      "text/plain": [
       "<AxesSubplot: >"
      ]
     },
     "execution_count": 32,
     "metadata": {},
     "output_type": "execute_result"
    },
    {
     "data": {
      "image/png": "[encoded data removed]",
      "text/plain": [
       "<Figure size 1800x1440 with 4 Axes>"
      ]
     },
     "metadata": {
      "needs_background": "light"
     },
     "output_type": "display_data"
    }
   ],
   "source": [
    "plt.figure(figsize=(25, 20))\n",
    "\n",
    "axa = plt.subplot(221)\n",
    "df.boxplot(column=['NUM_CASOS'])\n",
    "\n",
    "axb = plt.subplot(222)\n",
    "df.boxplot(column=['NUM_HOSP'])\n",
    "\n",
    "axc = plt.subplot(223)\n",
    "df.boxplot(column=['NUM_UCI'])\n",
    "\n",
    "axd = plt.subplot(224)\n",
    "df.boxplot(column=['NUM_DEFU'])"
   ]
  },
  {
   "cell_type": "markdown",
   "metadata": {
    "id": "vLdFUWA77fqU"
   },
   "source": [
    "# DATOS INNECESARIOS\n"
   ]
  },
  {
   "cell_type": "markdown",
   "metadata": {
    "id": "AsGNyYof-x10"
   },
   "source": [
    "## Tipo: Desinformativo / Repetitivo\n",
    "\n",
    "Las siguientes variable **NUM_CASOS**, **NUM_HOSP**, **NUM_UCI**, **NUM_DEFU** tienen un campo con más del 50% de los datos, no la eliminaremos, ya que es de esperarse que sean muchisimo menor la cantidad de contagios tendiendo a cero. Se concluye que todas las demás variables tiene una buena distribución de los datos. "
   ]
  },
  {
   "cell_type": "code",
   "execution_count": 33,
   "metadata": {
    "colab": {
     "base_uri": "https://localhost:8080/"
    },
    "executionInfo": {
     "elapsed": 5742,
     "status": "ok",
     "timestamp": 1655768698237,
     "user": {
      "displayName": "Danilo Plazas Irrenno",
      "userId": "03881415684539109829"
     },
     "user_tz": 300
    },
    "id": "IohFB4BM7VFm",
    "outputId": "1febd705-da49-4940-b285-23e1ed7fb2c7"
   },
   "outputs": [
    {
     "name": "stdout",
     "output_type": "stream",
     "text": [
      "NUM_CASOS: 57.05038%\n",
      "0       817897\n",
      "1       103592\n",
      "2        70791\n",
      "3        53503\n",
      "4        42473\n",
      "         ...  \n",
      "1557         1\n",
      "1549         1\n",
      "2572         1\n",
      "1547         1\n",
      "2487         1\n",
      "Name: NUM_CASOS, Length: 1417, dtype: int64\n",
      "\n",
      "NUM_HOSP: 84.31531%\n",
      "0      1208778\n",
      "1       120294\n",
      "2        44241\n",
      "3        21273\n",
      "4        11395\n",
      "        ...   \n",
      "163          1\n",
      "164          1\n",
      "169          1\n",
      "171          1\n",
      "271          1\n",
      "Name: NUM_HOSP, Length: 175, dtype: int64\n",
      "\n",
      "NUM_UCI: 97.28886%\n",
      "0     1394772\n",
      "1       31413\n",
      "2        4835\n",
      "3        1336\n",
      "4         533\n",
      "5         288\n",
      "6         137\n",
      "7          97\n",
      "8          58\n",
      "9          37\n",
      "11         28\n",
      "10         18\n",
      "13         15\n",
      "12         15\n",
      "14          7\n",
      "18          6\n",
      "20          6\n",
      "22          6\n",
      "15          5\n",
      "17          4\n",
      "19          3\n",
      "23          3\n",
      "26          3\n",
      "30          3\n",
      "16          2\n",
      "25          2\n",
      "28          2\n",
      "35          2\n",
      "33          1\n",
      "21          1\n",
      "24          1\n",
      "27          1\n",
      "Name: NUM_UCI, dtype: int64\n",
      "\n",
      "NUM_DEFU: 95.84589%\n",
      "0      1374085\n",
      "1        40041\n",
      "2         9830\n",
      "3         3952\n",
      "4         1881\n",
      "        ...   \n",
      "69           1\n",
      "67           1\n",
      "64           1\n",
      "96           1\n",
      "100          1\n",
      "Name: NUM_DEFU, Length: 79, dtype: int64\n",
      "\n"
     ]
    }
   ],
   "source": [
    "num_rows = len(df.index)\n",
    "low_information_cols = []\n",
    "\n",
    "for col in df.columns:\n",
    "    cnts = df[col].value_counts(dropna=False)\n",
    "    top_pct = (cnts/num_rows).iloc[0]\n",
    "    \n",
    "    if top_pct > 0.5:\n",
    "        low_information_cols.append(col)\n",
    "        print('{0}: {1:.5f}%'.format(col, top_pct*100))\n",
    "        print(cnts)\n",
    "        print()"
   ]
  },
  {
   "cell_type": "markdown",
   "metadata": {
    "id": "uJP0VQabAVqt"
   },
   "source": [
    "## Tipo: Duplicados"
   ]
  },
  {
   "cell_type": "markdown",
   "metadata": {
    "id": "RDigeNWBCRwd"
   },
   "source": [
    "No existen registros duplicados ya que se eliminaron al comienzo cuando se creo el dataframe."
   ]
  },
  {
   "cell_type": "markdown",
   "metadata": {
    "id": "hkLd_BZeD7Zj"
   },
   "source": [
    "# DATOS INCONSISTENTES"
   ]
  },
  {
   "cell_type": "markdown",
   "metadata": {
    "id": "dpMUrKxwE34U"
   },
   "source": [
    "## Capitalization\n",
    "\n",
    "Para evitar que existan palabras distintas y que simbolicen el mismo significado solo por el hecho de estar en minuscula o mayusculas, para todas las variables tipo string las pasaremos a mayuscula, ya que por defecto todas viene así, también elimnaremos los espacios al principio y al final."
   ]
  },
  {
   "cell_type": "code",
   "execution_count": 34,
   "metadata": {
    "executionInfo": {
     "elapsed": 12113,
     "status": "ok",
     "timestamp": 1655768723900,
     "user": {
      "displayName": "Danilo Plazas Irrenno",
      "userId": "03881415684539109829"
     },
     "user_tz": 300
    },
    "id": "m7funYSTD7hK"
   },
   "outputs": [],
   "source": [
    "col_str = ['PROVINCIA_ISO', 'SEXO', 'GRUPO_EDAD']\n",
    "for x in col_str:\n",
    "  df[x] = df[x].str.upper()\n",
    "  df[x] = df[x].str.strip()"
   ]
  },
  {
   "cell_type": "code",
   "execution_count": null,
   "metadata": {},
   "outputs": [],
   "source": [
    "df"
   ]
  },
  {
   "cell_type": "markdown",
   "metadata": {
    "id": "WSaJYLSDINYl"
   },
   "source": [
    "# **CONCLUSIÓN** ✅\n",
    "\n",
    "\n"
   ]
  },
  {
   "cell_type": "markdown",
   "metadata": {
    "id": "udTQ4y-JJGTW"
   },
   "source": [
    "Tras realizar todos los pasos, pruebas de exploración, tratamiento y limpieza de datos en comparación con el set de datos inicial, los datos se ven de la siguiente forma:"
   ]
  },
  {
   "cell_type": "code",
   "execution_count": 35,
   "metadata": {
    "colab": {
     "base_uri": "https://localhost:8080/",
     "height": 386
    },
    "executionInfo": {
     "elapsed": 168,
     "status": "ok",
     "timestamp": 1655768727430,
     "user": {
      "displayName": "Danilo Plazas Irrenno",
      "userId": "03881415684539109829"
     },
     "user_tz": 300
    },
    "id": "_GULMJSRy80P",
    "outputId": "1e873386-44a9-478e-990c-ea643a3b86d6"
   },
   "outputs": [
    {
     "data": {
      "text/html": [
       "<div>\n",
       "<style scoped>\n",
       "    .dataframe tbody tr th:only-of-type {\n",
       "        vertical-align: middle;\n",
       "    }\n",
       "\n",
       "    .dataframe tbody tr th {\n",
       "        vertical-align: top;\n",
       "    }\n",
       "\n",
       "    .dataframe thead th {\n",
       "        text-align: right;\n",
       "    }\n",
       "</style>\n",
       "<table border=\"1\" class=\"dataframe\">\n",
       "  <thead>\n",
       "    <tr style=\"text-align: right;\">\n",
       "      <th></th>\n",
       "      <th>PROVINCIA_ISO</th>\n",
       "      <th>SEXO</th>\n",
       "      <th>GRUPO_EDAD</th>\n",
       "      <th>FECHA</th>\n",
       "      <th>NUM_CASOS</th>\n",
       "      <th>NUM_HOSP</th>\n",
       "      <th>NUM_UCI</th>\n",
       "      <th>NUM_DEFU</th>\n",
       "    </tr>\n",
       "  </thead>\n",
       "  <tbody>\n",
       "    <tr>\n",
       "      <th>0</th>\n",
       "      <td>A</td>\n",
       "      <td>H</td>\n",
       "      <td>60-69</td>\n",
       "      <td>2020-01-01</td>\n",
       "      <td>0</td>\n",
       "      <td>0</td>\n",
       "      <td>0</td>\n",
       "      <td>0</td>\n",
       "    </tr>\n",
       "    <tr>\n",
       "      <th>1</th>\n",
       "      <td>A</td>\n",
       "      <td>H</td>\n",
       "      <td>70-79</td>\n",
       "      <td>2020-01-01</td>\n",
       "      <td>0</td>\n",
       "      <td>0</td>\n",
       "      <td>0</td>\n",
       "      <td>0</td>\n",
       "    </tr>\n",
       "    <tr>\n",
       "      <th>2</th>\n",
       "      <td>A</td>\n",
       "      <td>H</td>\n",
       "      <td>80+</td>\n",
       "      <td>2020-01-01</td>\n",
       "      <td>0</td>\n",
       "      <td>0</td>\n",
       "      <td>0</td>\n",
       "      <td>0</td>\n",
       "    </tr>\n",
       "    <tr>\n",
       "      <th>3</th>\n",
       "      <td>A</td>\n",
       "      <td>M</td>\n",
       "      <td>60-69</td>\n",
       "      <td>2020-01-01</td>\n",
       "      <td>0</td>\n",
       "      <td>0</td>\n",
       "      <td>0</td>\n",
       "      <td>0</td>\n",
       "    </tr>\n",
       "    <tr>\n",
       "      <th>4</th>\n",
       "      <td>A</td>\n",
       "      <td>M</td>\n",
       "      <td>70-79</td>\n",
       "      <td>2020-01-01</td>\n",
       "      <td>0</td>\n",
       "      <td>0</td>\n",
       "      <td>0</td>\n",
       "      <td>0</td>\n",
       "    </tr>\n",
       "  </tbody>\n",
       "</table>\n",
       "</div>"
      ],
      "text/plain": [
       "  PROVINCIA_ISO SEXO GRUPO_EDAD      FECHA  NUM_CASOS  NUM_HOSP  NUM_UCI  \\\n",
       "0             A    H      60-69 2020-01-01          0         0        0   \n",
       "1             A    H      70-79 2020-01-01          0         0        0   \n",
       "2             A    H        80+ 2020-01-01          0         0        0   \n",
       "3             A    M      60-69 2020-01-01          0         0        0   \n",
       "4             A    M      70-79 2020-01-01          0         0        0   \n",
       "\n",
       "   NUM_DEFU  \n",
       "0         0  \n",
       "1         0  \n",
       "2         0  \n",
       "3         0  \n",
       "4         0  "
      ]
     },
     "execution_count": 35,
     "metadata": {},
     "output_type": "execute_result"
    }
   ],
   "source": [
    "df.head(5)"
   ]
  },
  {
   "cell_type": "code",
   "execution_count": 36,
   "metadata": {
    "colab": {
     "base_uri": "https://localhost:8080/"
    },
    "executionInfo": {
     "elapsed": 242,
     "status": "ok",
     "timestamp": 1655768732962,
     "user": {
      "displayName": "Danilo Plazas Irrenno",
      "userId": "03881415684539109829"
     },
     "user_tz": 300
    },
    "id": "oIqkZ7DWJqyJ",
    "outputId": "35dbda8a-095b-4dec-bc8a-9ec723a9c6b1"
   },
   "outputs": [
    {
     "data": {
      "text/plain": [
       "(1433640, 8)"
      ]
     },
     "execution_count": 36,
     "metadata": {},
     "output_type": "execute_result"
    }
   ],
   "source": [
    "df.shape"
   ]
  },
  {
   "cell_type": "markdown",
   "metadata": {
    "id": "lFiL5ckjJWZv"
   },
   "source": [
    "Se paso de: \n",
    "\n",
    "**1461210** registros y **8** columnas \n",
    "\n",
    "a:\n",
    "\n",
    " **1433640** registros y **8** columnas"
   ]
  },
  {
   "cell_type": "markdown",
   "metadata": {
    "id": "4apjgBwRKWYU"
   },
   "source": [
    "Este valor es el resultado de la eliminación de valores atipicos, duplicados, nulos, etc."
   ]
  },
  {
   "cell_type": "markdown",
   "metadata": {
    "id": "O-vysiRoplKw"
   },
   "source": [
    "Se exporta el dataframe final a un archivo parquet el cual es comprimido, y la lectura es mucho más rápida, esto se hace con el fin de al momento de empezar con nuestro analisis o modelos, tengamos como punto de partida este archivo de salida totalmente limpio, a continuación la exportación final:   "
   ]
  },
  {
   "cell_type": "code",
   "execution_count": null,
   "metadata": {
    "executionInfo": {
     "elapsed": 6856,
     "status": "ok",
     "timestamp": 1655770465199,
     "user": {
      "displayName": "Danilo Plazas Irrenno",
      "userId": "03881415684539109829"
     },
     "user_tz": 300
    },
    "id": "RbCC_W0ehR4P"
   },
   "outputs": [],
   "source": [
    "#df.to_parquet(path = 'DF_COVID', engine = 'auto', compression ='snappy', index=None)"
   ]
  },
  {
   "cell_type": "code",
   "execution_count": null,
   "metadata": {},
   "outputs": [],
   "source": [
    "df.to_csv('data_covid.csv', index=False)"
   ]
  },
  {
   "cell_type": "markdown",
   "metadata": {
    "id": "_ikrjImDLLDU"
   },
   "source": [
    "Se realiza un perfilamiento por medio de pandas-profiling de este archivo para su comparación con el generado inicialmente, también se añade a la entrega.\n",
    "El perfilamiento no se hace en este notebook ya que por temas de memoría utilizado a lo largo de todo el proceso el google colab casi llega a su limite, pero el proceso es exactamente el mismo del comienzo:"
   ]
  },
  {
   "cell_type": "code",
   "execution_count": null,
   "metadata": {
    "id": "KNbX6SpgrxkE"
   },
   "outputs": [],
   "source": [
    "#parquet_crime = pd.read_parquet(path = '/content/drive/My Drive/Colab Notebooks/VIU/05MBID_Mineria_Datos/DF_CRIME_PARQUET', engine = 'auto')"
   ]
  },
  {
   "cell_type": "code",
   "execution_count": null,
   "metadata": {
    "id": "hDgWppgjsgjT"
   },
   "outputs": [],
   "source": [
    "#profilefinal = ProfileReport(parquet_crime, minimal=True)\n",
    "#profilefinal.to_file(output_file=\"crime_profile_final.html\")"
   ]
  },
  {
   "cell_type": "markdown",
   "metadata": {
    "id": "o-As090GLqtg"
   },
   "source": [
    "# **FIN** 🙂"
   ]
  }
 ],
 "metadata": {
  "colab": {
   "authorship_tag": "ABX9TyMA37T3fMv9QOivq9oaPoJD",
   "collapsed_sections": [],
   "name": "05MBID_Perfilamiento_DB.ipynb",
   "provenance": []
  },
  "kernelspec": {
   "display_name": "Python 3",
   "language": "python",
   "name": "python3"
  },
  "language_info": {
   "codemirror_mode": {
    "name": "ipython",
    "version": 3
   },
   "file_extension": ".py",
   "mimetype": "text/x-python",
   "name": "python",
   "nbconvert_exporter": "python",
   "pygments_lexer": "ipython3",
   "version": "3.10.4"
  },
  "widgets": {
   "application/vnd.jupyter.widget-state+json": {
    "00846f8dcc1b4c47902c5cf4c3a4f726": {
     "model_module": "@jupyter-widgets/controls",
     "model_module_version": "1.5.0",
     "model_name": "FloatProgressModel",
     "state": {
      "_dom_classes": [],
      "_model_module": "@jupyter-widgets/controls",
      "_model_module_version": "1.5.0",
      "_model_name": "FloatProgressModel",
      "_view_count": null,
      "_view_module": "@jupyter-widgets/controls",
      "_view_module_version": "1.5.0",
      "_view_name": "ProgressView",
      "bar_style": "success",
      "description": "",
      "description_tooltip": null,
      "layout": "IPY_MODEL_92e088ebc2604b02b650e16639ba4850",
      "max": 1,
      "min": 0,
      "orientation": "horizontal",
      "style": "IPY_MODEL_72948d46831446f491b055259e195d93",
      "value": 1
     }
    },
    "04ce721742204738bf0861839b7bc11e": {
     "model_module": "@jupyter-widgets/controls",
     "model_module_version": "1.5.0",
     "model_name": "DescriptionStyleModel",
     "state": {
      "_model_module": "@jupyter-widgets/controls",
      "_model_module_version": "1.5.0",
      "_model_name": "DescriptionStyleModel",
      "_view_count": null,
      "_view_module": "@jupyter-widgets/base",
      "_view_module_version": "1.2.0",
      "_view_name": "StyleView",
      "description_width": ""
     }
    },
    "05da240cf52c42da902c0c6a55e0ba45": {
     "model_module": "@jupyter-widgets/base",
     "model_module_version": "1.2.0",
     "model_name": "LayoutModel",
     "state": {
      "_model_module": "@jupyter-widgets/base",
      "_model_module_version": "1.2.0",
      "_model_name": "LayoutModel",
      "_view_count": null,
      "_view_module": "@jupyter-widgets/base",
      "_view_module_version": "1.2.0",
      "_view_name": "LayoutView",
      "align_content": null,
      "align_items": null,
      "align_self": null,
      "border": null,
      "bottom": null,
      "display": null,
      "flex": null,
      "flex_flow": null,
      "grid_area": null,
      "grid_auto_columns": null,
      "grid_auto_flow": null,
      "grid_auto_rows": null,
      "grid_column": null,
      "grid_gap": null,
      "grid_row": null,
      "grid_template_areas": null,
      "grid_template_columns": null,
      "grid_template_rows": null,
      "height": null,
      "justify_content": null,
      "justify_items": null,
      "left": null,
      "margin": null,
      "max_height": null,
      "max_width": null,
      "min_height": null,
      "min_width": null,
      "object_fit": null,
      "object_position": null,
      "order": null,
      "overflow": null,
      "overflow_x": null,
      "overflow_y": null,
      "padding": null,
      "right": null,
      "top": null,
      "visibility": null,
      "width": null
     }
    },
    "06da3a6ba1f0435f8255b57714389691": {
     "model_module": "@jupyter-widgets/controls",
     "model_module_version": "1.5.0",
     "model_name": "HBoxModel",
     "state": {
      "_dom_classes": [],
      "_model_module": "@jupyter-widgets/controls",
      "_model_module_version": "1.5.0",
      "_model_name": "HBoxModel",
      "_view_count": null,
      "_view_module": "@jupyter-widgets/controls",
      "_view_module_version": "1.5.0",
      "_view_name": "HBoxView",
      "box_style": "",
      "children": [
       "IPY_MODEL_e6c1de9f435a48ad93e7acf4dec3d55d",
       "IPY_MODEL_46ed5bdb9f024367b350806add311405",
       "IPY_MODEL_8c4e10bc67da4941a551d7af4c326cb3"
      ],
      "layout": "IPY_MODEL_213979f9b0c8406f86f6cb03c25659a4"
     }
    },
    "11c1c671b4d249598c65e2e765c962c6": {
     "model_module": "@jupyter-widgets/controls",
     "model_module_version": "1.5.0",
     "model_name": "HBoxModel",
     "state": {
      "_dom_classes": [],
      "_model_module": "@jupyter-widgets/controls",
      "_model_module_version": "1.5.0",
      "_model_name": "HBoxModel",
      "_view_count": null,
      "_view_module": "@jupyter-widgets/controls",
      "_view_module_version": "1.5.0",
      "_view_name": "HBoxView",
      "box_style": "",
      "children": [
       "IPY_MODEL_92da5ecac1ba43398cd7020cec1ecbe6",
       "IPY_MODEL_5f083e85fe1b4eb498796777cc29f315",
       "IPY_MODEL_63ffa4658e2341229f62bcc37fc2f57b"
      ],
      "layout": "IPY_MODEL_95d00b7c42c149b89472ca549671d61c"
     }
    },
    "1ad5d0c2130145c29a52eea0546b38ab": {
     "model_module": "@jupyter-widgets/controls",
     "model_module_version": "1.5.0",
     "model_name": "HTMLModel",
     "state": {
      "_dom_classes": [],
      "_model_module": "@jupyter-widgets/controls",
      "_model_module_version": "1.5.0",
      "_model_name": "HTMLModel",
      "_view_count": null,
      "_view_module": "@jupyter-widgets/controls",
      "_view_module_version": "1.5.0",
      "_view_name": "HTMLView",
      "description": "",
      "description_tooltip": null,
      "layout": "IPY_MODEL_44488dc86d1d4ac99a982d84c7be9ca1",
      "placeholder": "​",
      "style": "IPY_MODEL_f9c81b82f27b4ca88a76cd32beedba44",
      "value": " 1/1 [00:06&lt;00:00,  6.20s/it]"
     }
    },
    "1b6047fbbabd498fb3a255b765b7c351": {
     "model_module": "@jupyter-widgets/controls",
     "model_module_version": "1.5.0",
     "model_name": "HTMLModel",
     "state": {
      "_dom_classes": [],
      "_model_module": "@jupyter-widgets/controls",
      "_model_module_version": "1.5.0",
      "_model_name": "HTMLModel",
      "_view_count": null,
      "_view_module": "@jupyter-widgets/controls",
      "_view_module_version": "1.5.0",
      "_view_name": "HTMLView",
      "description": "",
      "description_tooltip": null,
      "layout": "IPY_MODEL_ae8c2f9c55f046839215787ace952e19",
      "placeholder": "​",
      "style": "IPY_MODEL_7d128538c7df42479938519d327a93b1",
      "value": "Export report to file: 100%"
     }
    },
    "213979f9b0c8406f86f6cb03c25659a4": {
     "model_module": "@jupyter-widgets/base",
     "model_module_version": "1.2.0",
     "model_name": "LayoutModel",
     "state": {
      "_model_module": "@jupyter-widgets/base",
      "_model_module_version": "1.2.0",
      "_model_name": "LayoutModel",
      "_view_count": null,
      "_view_module": "@jupyter-widgets/base",
      "_view_module_version": "1.2.0",
      "_view_name": "LayoutView",
      "align_content": null,
      "align_items": null,
      "align_self": null,
      "border": null,
      "bottom": null,
      "display": null,
      "flex": null,
      "flex_flow": null,
      "grid_area": null,
      "grid_auto_columns": null,
      "grid_auto_flow": null,
      "grid_auto_rows": null,
      "grid_column": null,
      "grid_gap": null,
      "grid_row": null,
      "grid_template_areas": null,
      "grid_template_columns": null,
      "grid_template_rows": null,
      "height": null,
      "justify_content": null,
      "justify_items": null,
      "left": null,
      "margin": null,
      "max_height": null,
      "max_width": null,
      "min_height": null,
      "min_width": null,
      "object_fit": null,
      "object_position": null,
      "order": null,
      "overflow": null,
      "overflow_x": null,
      "overflow_y": null,
      "padding": null,
      "right": null,
      "top": null,
      "visibility": null,
      "width": null
     }
    },
    "2a0b94c2c2e44aa78fc195fead7dbcb4": {
     "model_module": "@jupyter-widgets/controls",
     "model_module_version": "1.5.0",
     "model_name": "DescriptionStyleModel",
     "state": {
      "_model_module": "@jupyter-widgets/controls",
      "_model_module_version": "1.5.0",
      "_model_name": "DescriptionStyleModel",
      "_view_count": null,
      "_view_module": "@jupyter-widgets/base",
      "_view_module_version": "1.2.0",
      "_view_name": "StyleView",
      "description_width": ""
     }
    },
    "2e33083493374698b771cd5957abee3f": {
     "model_module": "@jupyter-widgets/controls",
     "model_module_version": "1.5.0",
     "model_name": "HBoxModel",
     "state": {
      "_dom_classes": [],
      "_model_module": "@jupyter-widgets/controls",
      "_model_module_version": "1.5.0",
      "_model_name": "HBoxModel",
      "_view_count": null,
      "_view_module": "@jupyter-widgets/controls",
      "_view_module_version": "1.5.0",
      "_view_name": "HBoxView",
      "box_style": "",
      "children": [
       "IPY_MODEL_b13b7b7eb95143a883d19e64920f2930",
       "IPY_MODEL_5f650a5790754f3e92651ee5266ea1aa",
       "IPY_MODEL_1ad5d0c2130145c29a52eea0546b38ab"
      ],
      "layout": "IPY_MODEL_ae21454a3b96435ab3530c9678d69e87"
     }
    },
    "44488dc86d1d4ac99a982d84c7be9ca1": {
     "model_module": "@jupyter-widgets/base",
     "model_module_version": "1.2.0",
     "model_name": "LayoutModel",
     "state": {
      "_model_module": "@jupyter-widgets/base",
      "_model_module_version": "1.2.0",
      "_model_name": "LayoutModel",
      "_view_count": null,
      "_view_module": "@jupyter-widgets/base",
      "_view_module_version": "1.2.0",
      "_view_name": "LayoutView",
      "align_content": null,
      "align_items": null,
      "align_self": null,
      "border": null,
      "bottom": null,
      "display": null,
      "flex": null,
      "flex_flow": null,
      "grid_area": null,
      "grid_auto_columns": null,
      "grid_auto_flow": null,
      "grid_auto_rows": null,
      "grid_column": null,
      "grid_gap": null,
      "grid_row": null,
      "grid_template_areas": null,
      "grid_template_columns": null,
      "grid_template_rows": null,
      "height": null,
      "justify_content": null,
      "justify_items": null,
      "left": null,
      "margin": null,
      "max_height": null,
      "max_width": null,
      "min_height": null,
      "min_width": null,
      "object_fit": null,
      "object_position": null,
      "order": null,
      "overflow": null,
      "overflow_x": null,
      "overflow_y": null,
      "padding": null,
      "right": null,
      "top": null,
      "visibility": null,
      "width": null
     }
    },
    "46ed5bdb9f024367b350806add311405": {
     "model_module": "@jupyter-widgets/controls",
     "model_module_version": "1.5.0",
     "model_name": "FloatProgressModel",
     "state": {
      "_dom_classes": [],
      "_model_module": "@jupyter-widgets/controls",
      "_model_module_version": "1.5.0",
      "_model_name": "FloatProgressModel",
      "_view_count": null,
      "_view_module": "@jupyter-widgets/controls",
      "_view_module_version": "1.5.0",
      "_view_name": "ProgressView",
      "bar_style": "success",
      "description": "",
      "description_tooltip": null,
      "layout": "IPY_MODEL_694466013fd845bdbabb3055e2bed8e9",
      "max": 5,
      "min": 0,
      "orientation": "horizontal",
      "style": "IPY_MODEL_7b40ac70b3c24514b1ee7482dac16f1e",
      "value": 5
     }
    },
    "58531900c7d2424bbb1f144d6f2ed637": {
     "model_module": "@jupyter-widgets/base",
     "model_module_version": "1.2.0",
     "model_name": "LayoutModel",
     "state": {
      "_model_module": "@jupyter-widgets/base",
      "_model_module_version": "1.2.0",
      "_model_name": "LayoutModel",
      "_view_count": null,
      "_view_module": "@jupyter-widgets/base",
      "_view_module_version": "1.2.0",
      "_view_name": "LayoutView",
      "align_content": null,
      "align_items": null,
      "align_self": null,
      "border": null,
      "bottom": null,
      "display": null,
      "flex": null,
      "flex_flow": null,
      "grid_area": null,
      "grid_auto_columns": null,
      "grid_auto_flow": null,
      "grid_auto_rows": null,
      "grid_column": null,
      "grid_gap": null,
      "grid_row": null,
      "grid_template_areas": null,
      "grid_template_columns": null,
      "grid_template_rows": null,
      "height": null,
      "justify_content": null,
      "justify_items": null,
      "left": null,
      "margin": null,
      "max_height": null,
      "max_width": null,
      "min_height": null,
      "min_width": null,
      "object_fit": null,
      "object_position": null,
      "order": null,
      "overflow": null,
      "overflow_x": null,
      "overflow_y": null,
      "padding": null,
      "right": null,
      "top": null,
      "visibility": null,
      "width": null
     }
    },
    "5f083e85fe1b4eb498796777cc29f315": {
     "model_module": "@jupyter-widgets/controls",
     "model_module_version": "1.5.0",
     "model_name": "FloatProgressModel",
     "state": {
      "_dom_classes": [],
      "_model_module": "@jupyter-widgets/controls",
      "_model_module_version": "1.5.0",
      "_model_name": "FloatProgressModel",
      "_view_count": null,
      "_view_module": "@jupyter-widgets/controls",
      "_view_module_version": "1.5.0",
      "_view_name": "ProgressView",
      "bar_style": "success",
      "description": "",
      "description_tooltip": null,
      "layout": "IPY_MODEL_e1f5a8a12ec6479d82badd8b1ca5952d",
      "max": 1,
      "min": 0,
      "orientation": "horizontal",
      "style": "IPY_MODEL_612cdf22203741d4b33f5a0175e2d098",
      "value": 1
     }
    },
    "5f650a5790754f3e92651ee5266ea1aa": {
     "model_module": "@jupyter-widgets/controls",
     "model_module_version": "1.5.0",
     "model_name": "FloatProgressModel",
     "state": {
      "_dom_classes": [],
      "_model_module": "@jupyter-widgets/controls",
      "_model_module_version": "1.5.0",
      "_model_name": "FloatProgressModel",
      "_view_count": null,
      "_view_module": "@jupyter-widgets/controls",
      "_view_module_version": "1.5.0",
      "_view_name": "ProgressView",
      "bar_style": "success",
      "description": "",
      "description_tooltip": null,
      "layout": "IPY_MODEL_c29f82ecec3e404f9f39606bb17c0c53",
      "max": 1,
      "min": 0,
      "orientation": "horizontal",
      "style": "IPY_MODEL_9855f2d0a85c41acb7b76b53aa505d90",
      "value": 1
     }
    },
    "612cdf22203741d4b33f5a0175e2d098": {
     "model_module": "@jupyter-widgets/controls",
     "model_module_version": "1.5.0",
     "model_name": "ProgressStyleModel",
     "state": {
      "_model_module": "@jupyter-widgets/controls",
      "_model_module_version": "1.5.0",
      "_model_name": "ProgressStyleModel",
      "_view_count": null,
      "_view_module": "@jupyter-widgets/base",
      "_view_module_version": "1.2.0",
      "_view_name": "StyleView",
      "bar_color": null,
      "description_width": ""
     }
    },
    "63ffa4658e2341229f62bcc37fc2f57b": {
     "model_module": "@jupyter-widgets/controls",
     "model_module_version": "1.5.0",
     "model_name": "HTMLModel",
     "state": {
      "_dom_classes": [],
      "_model_module": "@jupyter-widgets/controls",
      "_model_module_version": "1.5.0",
      "_model_name": "HTMLModel",
      "_view_count": null,
      "_view_module": "@jupyter-widgets/controls",
      "_view_module_version": "1.5.0",
      "_view_name": "HTMLView",
      "description": "",
      "description_tooltip": null,
      "layout": "IPY_MODEL_58531900c7d2424bbb1f144d6f2ed637",
      "placeholder": "​",
      "style": "IPY_MODEL_7bf27697c56749028a4398bde6691275",
      "value": " 1/1 [00:00&lt;00:00,  1.43it/s]"
     }
    },
    "69347c5790c1465c883cbc2089fa09b5": {
     "model_module": "@jupyter-widgets/controls",
     "model_module_version": "1.5.0",
     "model_name": "DescriptionStyleModel",
     "state": {
      "_model_module": "@jupyter-widgets/controls",
      "_model_module_version": "1.5.0",
      "_model_name": "DescriptionStyleModel",
      "_view_count": null,
      "_view_module": "@jupyter-widgets/base",
      "_view_module_version": "1.2.0",
      "_view_name": "StyleView",
      "description_width": ""
     }
    },
    "694466013fd845bdbabb3055e2bed8e9": {
     "model_module": "@jupyter-widgets/base",
     "model_module_version": "1.2.0",
     "model_name": "LayoutModel",
     "state": {
      "_model_module": "@jupyter-widgets/base",
      "_model_module_version": "1.2.0",
      "_model_name": "LayoutModel",
      "_view_count": null,
      "_view_module": "@jupyter-widgets/base",
      "_view_module_version": "1.2.0",
      "_view_name": "LayoutView",
      "align_content": null,
      "align_items": null,
      "align_self": null,
      "border": null,
      "bottom": null,
      "display": null,
      "flex": null,
      "flex_flow": null,
      "grid_area": null,
      "grid_auto_columns": null,
      "grid_auto_flow": null,
      "grid_auto_rows": null,
      "grid_column": null,
      "grid_gap": null,
      "grid_row": null,
      "grid_template_areas": null,
      "grid_template_columns": null,
      "grid_template_rows": null,
      "height": null,
      "justify_content": null,
      "justify_items": null,
      "left": null,
      "margin": null,
      "max_height": null,
      "max_width": null,
      "min_height": null,
      "min_width": null,
      "object_fit": null,
      "object_position": null,
      "order": null,
      "overflow": null,
      "overflow_x": null,
      "overflow_y": null,
      "padding": null,
      "right": null,
      "top": null,
      "visibility": null,
      "width": null
     }
    },
    "72948d46831446f491b055259e195d93": {
     "model_module": "@jupyter-widgets/controls",
     "model_module_version": "1.5.0",
     "model_name": "ProgressStyleModel",
     "state": {
      "_model_module": "@jupyter-widgets/controls",
      "_model_module_version": "1.5.0",
      "_model_name": "ProgressStyleModel",
      "_view_count": null,
      "_view_module": "@jupyter-widgets/base",
      "_view_module_version": "1.2.0",
      "_view_name": "StyleView",
      "bar_color": null,
      "description_width": ""
     }
    },
    "7b40ac70b3c24514b1ee7482dac16f1e": {
     "model_module": "@jupyter-widgets/controls",
     "model_module_version": "1.5.0",
     "model_name": "ProgressStyleModel",
     "state": {
      "_model_module": "@jupyter-widgets/controls",
      "_model_module_version": "1.5.0",
      "_model_name": "ProgressStyleModel",
      "_view_count": null,
      "_view_module": "@jupyter-widgets/base",
      "_view_module_version": "1.2.0",
      "_view_name": "StyleView",
      "bar_color": null,
      "description_width": ""
     }
    },
    "7bf27697c56749028a4398bde6691275": {
     "model_module": "@jupyter-widgets/controls",
     "model_module_version": "1.5.0",
     "model_name": "DescriptionStyleModel",
     "state": {
      "_model_module": "@jupyter-widgets/controls",
      "_model_module_version": "1.5.0",
      "_model_name": "DescriptionStyleModel",
      "_view_count": null,
      "_view_module": "@jupyter-widgets/base",
      "_view_module_version": "1.2.0",
      "_view_name": "StyleView",
      "description_width": ""
     }
    },
    "7d128538c7df42479938519d327a93b1": {
     "model_module": "@jupyter-widgets/controls",
     "model_module_version": "1.5.0",
     "model_name": "DescriptionStyleModel",
     "state": {
      "_model_module": "@jupyter-widgets/controls",
      "_model_module_version": "1.5.0",
      "_model_name": "DescriptionStyleModel",
      "_view_count": null,
      "_view_module": "@jupyter-widgets/base",
      "_view_module_version": "1.2.0",
      "_view_name": "StyleView",
      "description_width": ""
     }
    },
    "862d5a97e37942d78cbc49c3d4160e3d": {
     "model_module": "@jupyter-widgets/controls",
     "model_module_version": "1.5.0",
     "model_name": "DescriptionStyleModel",
     "state": {
      "_model_module": "@jupyter-widgets/controls",
      "_model_module_version": "1.5.0",
      "_model_name": "DescriptionStyleModel",
      "_view_count": null,
      "_view_module": "@jupyter-widgets/base",
      "_view_module_version": "1.2.0",
      "_view_name": "StyleView",
      "description_width": ""
     }
    },
    "8c4e10bc67da4941a551d7af4c326cb3": {
     "model_module": "@jupyter-widgets/controls",
     "model_module_version": "1.5.0",
     "model_name": "HTMLModel",
     "state": {
      "_dom_classes": [],
      "_model_module": "@jupyter-widgets/controls",
      "_model_module_version": "1.5.0",
      "_model_name": "HTMLModel",
      "_view_count": null,
      "_view_module": "@jupyter-widgets/controls",
      "_view_module_version": "1.5.0",
      "_view_name": "HTMLView",
      "description": "",
      "description_tooltip": null,
      "layout": "IPY_MODEL_aca32b1b744a4c1e8d37c39da4edb283",
      "placeholder": "​",
      "style": "IPY_MODEL_69347c5790c1465c883cbc2089fa09b5",
      "value": " 33/33 [00:46&lt;00:00,  1.18s/it, Completed]"
     }
    },
    "92da5ecac1ba43398cd7020cec1ecbe6": {
     "model_module": "@jupyter-widgets/controls",
     "model_module_version": "1.5.0",
     "model_name": "HTMLModel",
     "state": {
      "_dom_classes": [],
      "_model_module": "@jupyter-widgets/controls",
      "_model_module_version": "1.5.0",
      "_model_name": "HTMLModel",
      "_view_count": null,
      "_view_module": "@jupyter-widgets/controls",
      "_view_module_version": "1.5.0",
      "_view_name": "HTMLView",
      "description": "",
      "description_tooltip": null,
      "layout": "IPY_MODEL_dbe0d5e8d88a446a8227359999959428",
      "placeholder": "​",
      "style": "IPY_MODEL_04ce721742204738bf0861839b7bc11e",
      "value": "Render HTML: 100%"
     }
    },
    "92e088ebc2604b02b650e16639ba4850": {
     "model_module": "@jupyter-widgets/base",
     "model_module_version": "1.2.0",
     "model_name": "LayoutModel",
     "state": {
      "_model_module": "@jupyter-widgets/base",
      "_model_module_version": "1.2.0",
      "_model_name": "LayoutModel",
      "_view_count": null,
      "_view_module": "@jupyter-widgets/base",
      "_view_module_version": "1.2.0",
      "_view_name": "LayoutView",
      "align_content": null,
      "align_items": null,
      "align_self": null,
      "border": null,
      "bottom": null,
      "display": null,
      "flex": null,
      "flex_flow": null,
      "grid_area": null,
      "grid_auto_columns": null,
      "grid_auto_flow": null,
      "grid_auto_rows": null,
      "grid_column": null,
      "grid_gap": null,
      "grid_row": null,
      "grid_template_areas": null,
      "grid_template_columns": null,
      "grid_template_rows": null,
      "height": null,
      "justify_content": null,
      "justify_items": null,
      "left": null,
      "margin": null,
      "max_height": null,
      "max_width": null,
      "min_height": null,
      "min_width": null,
      "object_fit": null,
      "object_position": null,
      "order": null,
      "overflow": null,
      "overflow_x": null,
      "overflow_y": null,
      "padding": null,
      "right": null,
      "top": null,
      "visibility": null,
      "width": null
     }
    },
    "95d00b7c42c149b89472ca549671d61c": {
     "model_module": "@jupyter-widgets/base",
     "model_module_version": "1.2.0",
     "model_name": "LayoutModel",
     "state": {
      "_model_module": "@jupyter-widgets/base",
      "_model_module_version": "1.2.0",
      "_model_name": "LayoutModel",
      "_view_count": null,
      "_view_module": "@jupyter-widgets/base",
      "_view_module_version": "1.2.0",
      "_view_name": "LayoutView",
      "align_content": null,
      "align_items": null,
      "align_self": null,
      "border": null,
      "bottom": null,
      "display": null,
      "flex": null,
      "flex_flow": null,
      "grid_area": null,
      "grid_auto_columns": null,
      "grid_auto_flow": null,
      "grid_auto_rows": null,
      "grid_column": null,
      "grid_gap": null,
      "grid_row": null,
      "grid_template_areas": null,
      "grid_template_columns": null,
      "grid_template_rows": null,
      "height": null,
      "justify_content": null,
      "justify_items": null,
      "left": null,
      "margin": null,
      "max_height": null,
      "max_width": null,
      "min_height": null,
      "min_width": null,
      "object_fit": null,
      "object_position": null,
      "order": null,
      "overflow": null,
      "overflow_x": null,
      "overflow_y": null,
      "padding": null,
      "right": null,
      "top": null,
      "visibility": null,
      "width": null
     }
    },
    "9855f2d0a85c41acb7b76b53aa505d90": {
     "model_module": "@jupyter-widgets/controls",
     "model_module_version": "1.5.0",
     "model_name": "ProgressStyleModel",
     "state": {
      "_model_module": "@jupyter-widgets/controls",
      "_model_module_version": "1.5.0",
      "_model_name": "ProgressStyleModel",
      "_view_count": null,
      "_view_module": "@jupyter-widgets/base",
      "_view_module_version": "1.2.0",
      "_view_name": "StyleView",
      "bar_color": null,
      "description_width": ""
     }
    },
    "9fa24a56edf74b549e4cb685129217ec": {
     "model_module": "@jupyter-widgets/base",
     "model_module_version": "1.2.0",
     "model_name": "LayoutModel",
     "state": {
      "_model_module": "@jupyter-widgets/base",
      "_model_module_version": "1.2.0",
      "_model_name": "LayoutModel",
      "_view_count": null,
      "_view_module": "@jupyter-widgets/base",
      "_view_module_version": "1.2.0",
      "_view_name": "LayoutView",
      "align_content": null,
      "align_items": null,
      "align_self": null,
      "border": null,
      "bottom": null,
      "display": null,
      "flex": null,
      "flex_flow": null,
      "grid_area": null,
      "grid_auto_columns": null,
      "grid_auto_flow": null,
      "grid_auto_rows": null,
      "grid_column": null,
      "grid_gap": null,
      "grid_row": null,
      "grid_template_areas": null,
      "grid_template_columns": null,
      "grid_template_rows": null,
      "height": null,
      "justify_content": null,
      "justify_items": null,
      "left": null,
      "margin": null,
      "max_height": null,
      "max_width": null,
      "min_height": null,
      "min_width": null,
      "object_fit": null,
      "object_position": null,
      "order": null,
      "overflow": null,
      "overflow_x": null,
      "overflow_y": null,
      "padding": null,
      "right": null,
      "top": null,
      "visibility": null,
      "width": null
     }
    },
    "aca32b1b744a4c1e8d37c39da4edb283": {
     "model_module": "@jupyter-widgets/base",
     "model_module_version": "1.2.0",
     "model_name": "LayoutModel",
     "state": {
      "_model_module": "@jupyter-widgets/base",
      "_model_module_version": "1.2.0",
      "_model_name": "LayoutModel",
      "_view_count": null,
      "_view_module": "@jupyter-widgets/base",
      "_view_module_version": "1.2.0",
      "_view_name": "LayoutView",
      "align_content": null,
      "align_items": null,
      "align_self": null,
      "border": null,
      "bottom": null,
      "display": null,
      "flex": null,
      "flex_flow": null,
      "grid_area": null,
      "grid_auto_columns": null,
      "grid_auto_flow": null,
      "grid_auto_rows": null,
      "grid_column": null,
      "grid_gap": null,
      "grid_row": null,
      "grid_template_areas": null,
      "grid_template_columns": null,
      "grid_template_rows": null,
      "height": null,
      "justify_content": null,
      "justify_items": null,
      "left": null,
      "margin": null,
      "max_height": null,
      "max_width": null,
      "min_height": null,
      "min_width": null,
      "object_fit": null,
      "object_position": null,
      "order": null,
      "overflow": null,
      "overflow_x": null,
      "overflow_y": null,
      "padding": null,
      "right": null,
      "top": null,
      "visibility": null,
      "width": null
     }
    },
    "ae21454a3b96435ab3530c9678d69e87": {
     "model_module": "@jupyter-widgets/base",
     "model_module_version": "1.2.0",
     "model_name": "LayoutModel",
     "state": {
      "_model_module": "@jupyter-widgets/base",
      "_model_module_version": "1.2.0",
      "_model_name": "LayoutModel",
      "_view_count": null,
      "_view_module": "@jupyter-widgets/base",
      "_view_module_version": "1.2.0",
      "_view_name": "LayoutView",
      "align_content": null,
      "align_items": null,
      "align_self": null,
      "border": null,
      "bottom": null,
      "display": null,
      "flex": null,
      "flex_flow": null,
      "grid_area": null,
      "grid_auto_columns": null,
      "grid_auto_flow": null,
      "grid_auto_rows": null,
      "grid_column": null,
      "grid_gap": null,
      "grid_row": null,
      "grid_template_areas": null,
      "grid_template_columns": null,
      "grid_template_rows": null,
      "height": null,
      "justify_content": null,
      "justify_items": null,
      "left": null,
      "margin": null,
      "max_height": null,
      "max_width": null,
      "min_height": null,
      "min_width": null,
      "object_fit": null,
      "object_position": null,
      "order": null,
      "overflow": null,
      "overflow_x": null,
      "overflow_y": null,
      "padding": null,
      "right": null,
      "top": null,
      "visibility": null,
      "width": null
     }
    },
    "ae8c2f9c55f046839215787ace952e19": {
     "model_module": "@jupyter-widgets/base",
     "model_module_version": "1.2.0",
     "model_name": "LayoutModel",
     "state": {
      "_model_module": "@jupyter-widgets/base",
      "_model_module_version": "1.2.0",
      "_model_name": "LayoutModel",
      "_view_count": null,
      "_view_module": "@jupyter-widgets/base",
      "_view_module_version": "1.2.0",
      "_view_name": "LayoutView",
      "align_content": null,
      "align_items": null,
      "align_self": null,
      "border": null,
      "bottom": null,
      "display": null,
      "flex": null,
      "flex_flow": null,
      "grid_area": null,
      "grid_auto_columns": null,
      "grid_auto_flow": null,
      "grid_auto_rows": null,
      "grid_column": null,
      "grid_gap": null,
      "grid_row": null,
      "grid_template_areas": null,
      "grid_template_columns": null,
      "grid_template_rows": null,
      "height": null,
      "justify_content": null,
      "justify_items": null,
      "left": null,
      "margin": null,
      "max_height": null,
      "max_width": null,
      "min_height": null,
      "min_width": null,
      "object_fit": null,
      "object_position": null,
      "order": null,
      "overflow": null,
      "overflow_x": null,
      "overflow_y": null,
      "padding": null,
      "right": null,
      "top": null,
      "visibility": null,
      "width": null
     }
    },
    "af4cfdf2dde44e84b551bab93af710db": {
     "model_module": "@jupyter-widgets/base",
     "model_module_version": "1.2.0",
     "model_name": "LayoutModel",
     "state": {
      "_model_module": "@jupyter-widgets/base",
      "_model_module_version": "1.2.0",
      "_model_name": "LayoutModel",
      "_view_count": null,
      "_view_module": "@jupyter-widgets/base",
      "_view_module_version": "1.2.0",
      "_view_name": "LayoutView",
      "align_content": null,
      "align_items": null,
      "align_self": null,
      "border": null,
      "bottom": null,
      "display": null,
      "flex": null,
      "flex_flow": null,
      "grid_area": null,
      "grid_auto_columns": null,
      "grid_auto_flow": null,
      "grid_auto_rows": null,
      "grid_column": null,
      "grid_gap": null,
      "grid_row": null,
      "grid_template_areas": null,
      "grid_template_columns": null,
      "grid_template_rows": null,
      "height": null,
      "justify_content": null,
      "justify_items": null,
      "left": null,
      "margin": null,
      "max_height": null,
      "max_width": null,
      "min_height": null,
      "min_width": null,
      "object_fit": null,
      "object_position": null,
      "order": null,
      "overflow": null,
      "overflow_x": null,
      "overflow_y": null,
      "padding": null,
      "right": null,
      "top": null,
      "visibility": null,
      "width": null
     }
    },
    "b13b7b7eb95143a883d19e64920f2930": {
     "model_module": "@jupyter-widgets/controls",
     "model_module_version": "1.5.0",
     "model_name": "HTMLModel",
     "state": {
      "_dom_classes": [],
      "_model_module": "@jupyter-widgets/controls",
      "_model_module_version": "1.5.0",
      "_model_name": "HTMLModel",
      "_view_count": null,
      "_view_module": "@jupyter-widgets/controls",
      "_view_module_version": "1.5.0",
      "_view_name": "HTMLView",
      "description": "",
      "description_tooltip": null,
      "layout": "IPY_MODEL_05da240cf52c42da902c0c6a55e0ba45",
      "placeholder": "​",
      "style": "IPY_MODEL_862d5a97e37942d78cbc49c3d4160e3d",
      "value": "Generate report structure: 100%"
     }
    },
    "b17fa0be699e456895a0b79456b9df86": {
     "model_module": "@jupyter-widgets/controls",
     "model_module_version": "1.5.0",
     "model_name": "HBoxModel",
     "state": {
      "_dom_classes": [],
      "_model_module": "@jupyter-widgets/controls",
      "_model_module_version": "1.5.0",
      "_model_name": "HBoxModel",
      "_view_count": null,
      "_view_module": "@jupyter-widgets/controls",
      "_view_module_version": "1.5.0",
      "_view_name": "HBoxView",
      "box_style": "",
      "children": [
       "IPY_MODEL_1b6047fbbabd498fb3a255b765b7c351",
       "IPY_MODEL_00846f8dcc1b4c47902c5cf4c3a4f726",
       "IPY_MODEL_e5b1529915514e458def3f7f452eaa31"
      ],
      "layout": "IPY_MODEL_af4cfdf2dde44e84b551bab93af710db"
     }
    },
    "c05c15c073b84dcda2d84ca72940e057": {
     "model_module": "@jupyter-widgets/controls",
     "model_module_version": "1.5.0",
     "model_name": "DescriptionStyleModel",
     "state": {
      "_model_module": "@jupyter-widgets/controls",
      "_model_module_version": "1.5.0",
      "_model_name": "DescriptionStyleModel",
      "_view_count": null,
      "_view_module": "@jupyter-widgets/base",
      "_view_module_version": "1.2.0",
      "_view_name": "StyleView",
      "description_width": ""
     }
    },
    "c29f82ecec3e404f9f39606bb17c0c53": {
     "model_module": "@jupyter-widgets/base",
     "model_module_version": "1.2.0",
     "model_name": "LayoutModel",
     "state": {
      "_model_module": "@jupyter-widgets/base",
      "_model_module_version": "1.2.0",
      "_model_name": "LayoutModel",
      "_view_count": null,
      "_view_module": "@jupyter-widgets/base",
      "_view_module_version": "1.2.0",
      "_view_name": "LayoutView",
      "align_content": null,
      "align_items": null,
      "align_self": null,
      "border": null,
      "bottom": null,
      "display": null,
      "flex": null,
      "flex_flow": null,
      "grid_area": null,
      "grid_auto_columns": null,
      "grid_auto_flow": null,
      "grid_auto_rows": null,
      "grid_column": null,
      "grid_gap": null,
      "grid_row": null,
      "grid_template_areas": null,
      "grid_template_columns": null,
      "grid_template_rows": null,
      "height": null,
      "justify_content": null,
      "justify_items": null,
      "left": null,
      "margin": null,
      "max_height": null,
      "max_width": null,
      "min_height": null,
      "min_width": null,
      "object_fit": null,
      "object_position": null,
      "order": null,
      "overflow": null,
      "overflow_x": null,
      "overflow_y": null,
      "padding": null,
      "right": null,
      "top": null,
      "visibility": null,
      "width": null
     }
    },
    "dbe0d5e8d88a446a8227359999959428": {
     "model_module": "@jupyter-widgets/base",
     "model_module_version": "1.2.0",
     "model_name": "LayoutModel",
     "state": {
      "_model_module": "@jupyter-widgets/base",
      "_model_module_version": "1.2.0",
      "_model_name": "LayoutModel",
      "_view_count": null,
      "_view_module": "@jupyter-widgets/base",
      "_view_module_version": "1.2.0",
      "_view_name": "LayoutView",
      "align_content": null,
      "align_items": null,
      "align_self": null,
      "border": null,
      "bottom": null,
      "display": null,
      "flex": null,
      "flex_flow": null,
      "grid_area": null,
      "grid_auto_columns": null,
      "grid_auto_flow": null,
      "grid_auto_rows": null,
      "grid_column": null,
      "grid_gap": null,
      "grid_row": null,
      "grid_template_areas": null,
      "grid_template_columns": null,
      "grid_template_rows": null,
      "height": null,
      "justify_content": null,
      "justify_items": null,
      "left": null,
      "margin": null,
      "max_height": null,
      "max_width": null,
      "min_height": null,
      "min_width": null,
      "object_fit": null,
      "object_position": null,
      "order": null,
      "overflow": null,
      "overflow_x": null,
      "overflow_y": null,
      "padding": null,
      "right": null,
      "top": null,
      "visibility": null,
      "width": null
     }
    },
    "e1f5a8a12ec6479d82badd8b1ca5952d": {
     "model_module": "@jupyter-widgets/base",
     "model_module_version": "1.2.0",
     "model_name": "LayoutModel",
     "state": {
      "_model_module": "@jupyter-widgets/base",
      "_model_module_version": "1.2.0",
      "_model_name": "LayoutModel",
      "_view_count": null,
      "_view_module": "@jupyter-widgets/base",
      "_view_module_version": "1.2.0",
      "_view_name": "LayoutView",
      "align_content": null,
      "align_items": null,
      "align_self": null,
      "border": null,
      "bottom": null,
      "display": null,
      "flex": null,
      "flex_flow": null,
      "grid_area": null,
      "grid_auto_columns": null,
      "grid_auto_flow": null,
      "grid_auto_rows": null,
      "grid_column": null,
      "grid_gap": null,
      "grid_row": null,
      "grid_template_areas": null,
      "grid_template_columns": null,
      "grid_template_rows": null,
      "height": null,
      "justify_content": null,
      "justify_items": null,
      "left": null,
      "margin": null,
      "max_height": null,
      "max_width": null,
      "min_height": null,
      "min_width": null,
      "object_fit": null,
      "object_position": null,
      "order": null,
      "overflow": null,
      "overflow_x": null,
      "overflow_y": null,
      "padding": null,
      "right": null,
      "top": null,
      "visibility": null,
      "width": null
     }
    },
    "e5b1529915514e458def3f7f452eaa31": {
     "model_module": "@jupyter-widgets/controls",
     "model_module_version": "1.5.0",
     "model_name": "HTMLModel",
     "state": {
      "_dom_classes": [],
      "_model_module": "@jupyter-widgets/controls",
      "_model_module_version": "1.5.0",
      "_model_name": "HTMLModel",
      "_view_count": null,
      "_view_module": "@jupyter-widgets/controls",
      "_view_module_version": "1.5.0",
      "_view_name": "HTMLView",
      "description": "",
      "description_tooltip": null,
      "layout": "IPY_MODEL_9fa24a56edf74b549e4cb685129217ec",
      "placeholder": "​",
      "style": "IPY_MODEL_c05c15c073b84dcda2d84ca72940e057",
      "value": " 1/1 [00:00&lt;00:00, 22.70it/s]"
     }
    },
    "e6c1de9f435a48ad93e7acf4dec3d55d": {
     "model_module": "@jupyter-widgets/controls",
     "model_module_version": "1.5.0",
     "model_name": "HTMLModel",
     "state": {
      "_dom_classes": [],
      "_model_module": "@jupyter-widgets/controls",
      "_model_module_version": "1.5.0",
      "_model_name": "HTMLModel",
      "_view_count": null,
      "_view_module": "@jupyter-widgets/controls",
      "_view_module_version": "1.5.0",
      "_view_name": "HTMLView",
      "description": "",
      "description_tooltip": null,
      "layout": "IPY_MODEL_ff05dcf275e1409d83c179f1649da5ff",
      "placeholder": "​",
      "style": "IPY_MODEL_2a0b94c2c2e44aa78fc195fead7dbcb4",
      "value": "Summarize dataset: 100%"
     }
    },
    "f9c81b82f27b4ca88a76cd32beedba44": {
     "model_module": "@jupyter-widgets/controls",
     "model_module_version": "1.5.0",
     "model_name": "DescriptionStyleModel",
     "state": {
      "_model_module": "@jupyter-widgets/controls",
      "_model_module_version": "1.5.0",
      "_model_name": "DescriptionStyleModel",
      "_view_count": null,
      "_view_module": "@jupyter-widgets/base",
      "_view_module_version": "1.2.0",
      "_view_name": "StyleView",
      "description_width": ""
     }
    },
    "ff05dcf275e1409d83c179f1649da5ff": {
     "model_module": "@jupyter-widgets/base",
     "model_module_version": "1.2.0",
     "model_name": "LayoutModel",
     "state": {
      "_model_module": "@jupyter-widgets/base",
      "_model_module_version": "1.2.0",
      "_model_name": "LayoutModel",
      "_view_count": null,
      "_view_module": "@jupyter-widgets/base",
      "_view_module_version": "1.2.0",
      "_view_name": "LayoutView",
      "align_content": null,
      "align_items": null,
      "align_self": null,
      "border": null,
      "bottom": null,
      "display": null,
      "flex": null,
      "flex_flow": null,
      "grid_area": null,
      "grid_auto_columns": null,
      "grid_auto_flow": null,
      "grid_auto_rows": null,
      "grid_column": null,
      "grid_gap": null,
      "grid_row": null,
      "grid_template_areas": null,
      "grid_template_columns": null,
      "grid_template_rows": null,
      "height": null,
      "justify_content": null,
      "justify_items": null,
      "left": null,
      "margin": null,
      "max_height": null,
      "max_width": null,
      "min_height": null,
      "min_width": null,
      "object_fit": null,
      "object_position": null,
      "order": null,
      "overflow": null,
      "overflow_x": null,
      "overflow_y": null,
      "padding": null,
      "right": null,
      "top": null,
      "visibility": null,
      "width": null
     }
    }
   }
  }
 },
 "nbformat": 4,
 "nbformat_minor": 1
}
