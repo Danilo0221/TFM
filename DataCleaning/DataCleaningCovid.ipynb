{
 "cells": [
  {
   "cell_type": "markdown",
   "metadata": {
    "id": "alw0Rqc-CSpG"
   },
   "source": [
    "# **MINERIA DE DATOS** 🔎\n",
    "Maester U. en Big Data y Ciencia de datos\n",
    "\n",
    "INFORMES DE DELITOS – DATOS DEL DEPARTAMENTO DE POLICIA DE AUSTIN\n",
    "\n",
    "\n",
    "\n",
    "*   **Danilo Plazas Irreño**"
   ]
  },
  {
   "cell_type": "markdown",
   "metadata": {
    "id": "TUGY1oHNH4DX"
   },
   "source": [
    "# INTRODUCCIÓN\n",
    "\n",
    "La información presentada en este documento es la descripción secuencial de las metodologías implementadas en la base de datos de acceso público sobre el covid-19 en españa."
   ]
  },
  {
   "cell_type": "markdown",
   "metadata": {
    "id": "nilS-JgJIxvl"
   },
   "source": [
    "# CARGUE DE DATOS\n",
    "\n",
    "Se realizo el cargue del set de datos, los cuales fueron descargados del siguiente link:\n",
    "https://data.world/cityofaustin/fdj4-gpfu\n",
    "\n",
    "El cuál hace referencia a los datos públicos oficiales de Austin Texas:\n",
    "https://data.austintexas.gov/Public-Safety/Crime-Reports/fdj4-gpfu\n",
    "\n",
    "Posteriormente asignamos permisos a colab para acceder a nuestro drive en donde se encuentra nuestro dataset y realizamos el cargue de las diferentes librerías necesarias para el análisis y preparación de los datos."
   ]
  },
  {
   "cell_type": "code",
   "execution_count": 1,
   "metadata": {
    "colab": {
     "base_uri": "https://localhost:8080/"
    },
    "executionInfo": {
     "elapsed": 21001,
     "status": "ok",
     "timestamp": 1655767586873,
     "user": {
      "displayName": "Danilo Plazas Irrenno",
      "userId": "03881415684539109829"
     },
     "user_tz": 300
    },
    "id": "EsfJgAMkCJYk",
    "outputId": "af8e7570-6c5b-449c-c83d-1bcf1c268bdf"
   },
   "outputs": [
    {
     "name": "stdout",
     "output_type": "stream",
     "text": [
      "Mounted at /content/drive\n"
     ]
    }
   ],
   "source": [
    "from google.colab import drive\n",
    "drive.mount('/content/drive')"
   ]
  },
  {
   "cell_type": "markdown",
   "metadata": {
    "id": "tZgxuf66S61W"
   },
   "source": [
    "Para un correcto funcionamiento de pandas-profiling se deben instalar las siguientes versiones de librerías:"
   ]
  },
  {
   "cell_type": "code",
   "execution_count": 15,
   "metadata": {
    "id": "-tqo9xxPC_RU"
   },
   "outputs": [
    {
     "name": "stdout",
     "output_type": "stream",
     "text": [
      "Collecting pandas-profiling==3.1.0\n",
      "  Downloading pandas_profiling-3.1.0-py2.py3-none-any.whl (261 kB)\n",
      "Requirement already satisfied: numpy>=1.16.0 in c:\\users\\asus\\anaconda3\\lib\\site-packages (from pandas-profiling==3.1.0) (1.19.2)\n",
      "Collecting joblib~=1.0.1\n",
      "  Downloading joblib-1.0.1-py3-none-any.whl (303 kB)\n",
      "Collecting tangled-up-in-unicode==0.1.0\n",
      "  Downloading tangled_up_in_unicode-0.1.0-py3-none-any.whl (3.1 MB)\n",
      "Requirement already satisfied: matplotlib>=3.2.0 in c:\\users\\asus\\anaconda3\\lib\\site-packages (from pandas-profiling==3.1.0) (3.3.2)\n",
      "Collecting phik>=0.11.1\n",
      "  Downloading phik-0.12.3-cp38-cp38-win_amd64.whl (663 kB)\n",
      "Collecting visions[type_image_path]==0.7.4\n",
      "  Downloading visions-0.7.4-py3-none-any.whl (102 kB)\n",
      "Collecting htmlmin>=0.1.12\n",
      "  Downloading htmlmin-0.1.12.tar.gz (19 kB)\n",
      "Requirement already satisfied: tqdm>=4.48.2 in c:\\users\\asus\\anaconda3\\lib\\site-packages (from pandas-profiling==3.1.0) (4.50.2)\n",
      "Collecting missingno>=0.4.2\n",
      "  Downloading missingno-0.5.2-py3-none-any.whl (8.7 kB)\n",
      "Collecting pydantic>=1.8.1\n",
      "  Downloading pydantic-1.10.6-cp38-cp38-win_amd64.whl (2.2 MB)\n",
      "Requirement already satisfied: requests>=2.24.0 in c:\\users\\asus\\anaconda3\\lib\\site-packages (from pandas-profiling==3.1.0) (2.24.0)\n",
      "Collecting multimethod>=1.4\n",
      "  Downloading multimethod-1.9.1-py3-none-any.whl (10 kB)\n",
      "Requirement already satisfied: PyYAML>=5.0.0 in c:\\users\\asus\\anaconda3\\lib\\site-packages (from pandas-profiling==3.1.0) (5.3.1)\n",
      "Requirement already satisfied: scipy>=1.4.1 in c:\\users\\asus\\anaconda3\\lib\\site-packages (from pandas-profiling==3.1.0) (1.5.2)\n",
      "Collecting markupsafe~=2.0.1\n",
      "  Downloading MarkupSafe-2.0.1-cp38-cp38-win_amd64.whl (14 kB)\n",
      "Requirement already satisfied: jinja2>=2.11.1 in c:\\users\\asus\\anaconda3\\lib\\site-packages (from pandas-profiling==3.1.0) (2.11.2)\n",
      "Requirement already satisfied: seaborn>=0.10.1 in c:\\users\\asus\\anaconda3\\lib\\site-packages (from pandas-profiling==3.1.0) (0.11.0)\n",
      "Requirement already satisfied: pandas!=1.0.0,!=1.0.1,!=1.0.2,!=1.1.0,>=0.25.3 in c:\\users\\asus\\anaconda3\\lib\\site-packages (from pandas-profiling==3.1.0) (1.1.3)\n",
      "Requirement already satisfied: pyparsing!=2.0.4,!=2.1.2,!=2.1.6,>=2.0.3 in c:\\users\\asus\\anaconda3\\lib\\site-packages (from matplotlib>=3.2.0->pandas-profiling==3.1.0) (2.4.7)\n",
      "Requirement already satisfied: certifi>=2020.06.20 in c:\\users\\asus\\anaconda3\\lib\\site-packages (from matplotlib>=3.2.0->pandas-profiling==3.1.0) (2020.6.20)\n",
      "Requirement already satisfied: pillow>=6.2.0 in c:\\users\\asus\\anaconda3\\lib\\site-packages (from matplotlib>=3.2.0->pandas-profiling==3.1.0) (8.0.1)\n",
      "Requirement already satisfied: cycler>=0.10 in c:\\users\\asus\\anaconda3\\lib\\site-packages (from matplotlib>=3.2.0->pandas-profiling==3.1.0) (0.10.0)\n",
      "Requirement already satisfied: python-dateutil>=2.1 in c:\\users\\asus\\anaconda3\\lib\\site-packages (from matplotlib>=3.2.0->pandas-profiling==3.1.0) (2.8.1)\n",
      "Requirement already satisfied: kiwisolver>=1.0.1 in c:\\users\\asus\\anaconda3\\lib\\site-packages (from matplotlib>=3.2.0->pandas-profiling==3.1.0) (1.3.0)\n",
      "Requirement already satisfied: networkx>=2.4 in c:\\users\\asus\\anaconda3\\lib\\site-packages (from visions[type_image_path]==0.7.4->pandas-profiling==3.1.0) (2.5)\n",
      "Requirement already satisfied: attrs>=19.3.0 in c:\\users\\asus\\anaconda3\\lib\\site-packages (from visions[type_image_path]==0.7.4->pandas-profiling==3.1.0) (20.3.0)\n",
      "Collecting imagehash; extra == \"type_image_path\"\n",
      "  Downloading ImageHash-4.3.1-py2.py3-none-any.whl (296 kB)\n",
      "Collecting typing-extensions>=4.2.0\n",
      "  Downloading typing_extensions-4.5.0-py3-none-any.whl (27 kB)\n",
      "Requirement already satisfied: chardet<4,>=3.0.2 in c:\\users\\asus\\anaconda3\\lib\\site-packages (from requests>=2.24.0->pandas-profiling==3.1.0) (3.0.4)\n",
      "Requirement already satisfied: idna<3,>=2.5 in c:\\users\\asus\\anaconda3\\lib\\site-packages (from requests>=2.24.0->pandas-profiling==3.1.0) (2.10)\n",
      "Requirement already satisfied: urllib3!=1.25.0,!=1.25.1,<1.26,>=1.21.1 in c:\\users\\asus\\anaconda3\\lib\\site-packages (from requests>=2.24.0->pandas-profiling==3.1.0) (1.25.11)\n",
      "Requirement already satisfied: pytz>=2017.2 in c:\\users\\asus\\anaconda3\\lib\\site-packages (from pandas!=1.0.0,!=1.0.1,!=1.0.2,!=1.1.0,>=0.25.3->pandas-profiling==3.1.0) (2020.1)\n",
      "Requirement already satisfied: six in c:\\users\\asus\\anaconda3\\lib\\site-packages (from cycler>=0.10->matplotlib>=3.2.0->pandas-profiling==3.1.0) (1.15.0)\n",
      "Requirement already satisfied: decorator>=4.3.0 in c:\\users\\asus\\anaconda3\\lib\\site-packages (from networkx>=2.4->visions[type_image_path]==0.7.4->pandas-profiling==3.1.0) (4.4.2)\n",
      "Requirement already satisfied: PyWavelets in c:\\users\\asus\\anaconda3\\lib\\site-packages (from imagehash; extra == \"type_image_path\"->visions[type_image_path]==0.7.4->pandas-profiling==3.1.0) (1.1.1)\n",
      "Building wheels for collected packages: htmlmin\n",
      "  Building wheel for htmlmin (setup.py): started\n",
      "  Building wheel for htmlmin (setup.py): finished with status 'done'\n",
      "  Created wheel for htmlmin: filename=htmlmin-0.1.12-py3-none-any.whl size=27091 sha256=5e28dc7497f58602d5038fa1f88f972f9510ed5a785dd3b0532ba448ec2334f6\n",
      "  Stored in directory: c:\\users\\asus\\appdata\\local\\pip\\cache\\wheels\\23\\14\\6e\\4be5bfeeb027f4939a01764b48edd5996acf574b0913fe5243\n",
      "Successfully built htmlmin\n",
      "Installing collected packages: joblib, tangled-up-in-unicode, phik, multimethod, imagehash, visions, htmlmin, missingno, typing-extensions, pydantic, markupsafe, pandas-profiling\n",
      "  Attempting uninstall: joblib\n",
      "    Found existing installation: joblib 0.17.0\n",
      "    Uninstalling joblib-0.17.0:\n",
      "      Successfully uninstalled joblib-0.17.0\n",
      "  Attempting uninstall: typing-extensions\n",
      "    Found existing installation: typing-extensions 3.7.4.3\n",
      "    Uninstalling typing-extensions-3.7.4.3:\n",
      "      Successfully uninstalled typing-extensions-3.7.4.3\n",
      "  Attempting uninstall: markupsafe\n",
      "    Found existing installation: MarkupSafe 1.1.1\n",
      "    Uninstalling MarkupSafe-1.1.1:\n",
      "      Successfully uninstalled MarkupSafe-1.1.1\n"
     ]
    },
    {
     "name": "stderr",
     "output_type": "stream",
     "text": [
      "ERROR: Could not install packages due to an EnvironmentError: [WinError 5] Acceso denegado: 'C:\\\\Users\\\\Asus\\\\anaconda3\\\\Lib\\\\site-packages\\\\~arkupsafe\\\\_speedups.cp38-win_amd64.pyd'\n",
      "Consider using the `--user` option or check the permissions.\n",
      "\n"
     ]
    },
    {
     "name": "stdout",
     "output_type": "stream",
     "text": [
      "Collecting https://github.com/pandas-profiling/pandas-profiling/archive/master.zip\n",
      "  Downloading https://github.com/pandas-profiling/pandas-profiling/archive/master.zip\n",
      "Requirement already satisfied: scipy<1.10,>=1.4.1 in c:\\users\\asus\\anaconda3\\lib\\site-packages (from ydata-profiling==0.0.dev0) (1.5.2)\n",
      "Requirement already satisfied: pandas!=1.4.0,<1.6,>1.1 in c:\\users\\asus\\anaconda3\\lib\\site-packages (from ydata-profiling==0.0.dev0) (1.1.3)\n",
      "Requirement already satisfied: matplotlib<3.7,>=3.2 in c:\\users\\asus\\anaconda3\\lib\\site-packages (from ydata-profiling==0.0.dev0) (3.3.2)\n",
      "Requirement already satisfied: pydantic<1.11,>=1.8.1 in c:\\users\\asus\\anaconda3\\lib\\site-packages (from ydata-profiling==0.0.dev0) (1.10.6)\n",
      "Requirement already satisfied: PyYAML<6.1,>=5.0.0 in c:\\users\\asus\\anaconda3\\lib\\site-packages (from ydata-profiling==0.0.dev0) (5.3.1)\n",
      "Requirement already satisfied: jinja2<3.2,>=2.11.1 in c:\\users\\asus\\anaconda3\\lib\\site-packages (from ydata-profiling==0.0.dev0) (2.11.2)\n",
      "Collecting visions[type_image_path]==0.7.5\n",
      "  Downloading visions-0.7.5-py3-none-any.whl (102 kB)\n",
      "Requirement already satisfied: numpy<1.24,>=1.16.0 in c:\\users\\asus\\anaconda3\\lib\\site-packages (from ydata-profiling==0.0.dev0) (1.19.2)\n",
      "Requirement already satisfied: htmlmin==0.1.12 in c:\\users\\asus\\anaconda3\\lib\\site-packages (from ydata-profiling==0.0.dev0) (0.1.12)\n",
      "Requirement already satisfied: phik<0.13,>=0.11.1 in c:\\users\\asus\\anaconda3\\lib\\site-packages (from ydata-profiling==0.0.dev0) (0.12.3)\n",
      "Requirement already satisfied: requests<2.29,>=2.24.0 in c:\\users\\asus\\anaconda3\\lib\\site-packages (from ydata-profiling==0.0.dev0) (2.24.0)\n",
      "Requirement already satisfied: tqdm<4.65,>=4.48.2 in c:\\users\\asus\\anaconda3\\lib\\site-packages (from ydata-profiling==0.0.dev0) (4.50.2)\n",
      "Requirement already satisfied: seaborn<0.13,>=0.10.1 in c:\\users\\asus\\anaconda3\\lib\\site-packages (from ydata-profiling==0.0.dev0) (0.11.0)\n",
      "Requirement already satisfied: multimethod<1.10,>=1.4 in c:\\users\\asus\\anaconda3\\lib\\site-packages (from ydata-profiling==0.0.dev0) (1.9.1)\n",
      "Collecting statsmodels<0.14,>=0.13.2\n",
      "  Downloading statsmodels-0.13.5-cp38-cp38-win_amd64.whl (9.2 MB)\n",
      "Collecting typeguard<2.14,>=2.13.2\n",
      "  Downloading typeguard-2.13.3-py3-none-any.whl (17 kB)\n",
      "Requirement already satisfied: imagehash==4.3.1 in c:\\users\\asus\\anaconda3\\lib\\site-packages (from ydata-profiling==0.0.dev0) (4.3.1)\n",
      "Requirement already satisfied: pytz>=2017.2 in c:\\users\\asus\\anaconda3\\lib\\site-packages (from pandas!=1.4.0,<1.6,>1.1->ydata-profiling==0.0.dev0) (2020.1)\n",
      "Requirement already satisfied: python-dateutil>=2.7.3 in c:\\users\\asus\\anaconda3\\lib\\site-packages (from pandas!=1.4.0,<1.6,>1.1->ydata-profiling==0.0.dev0) (2.8.1)\n",
      "Requirement already satisfied: cycler>=0.10 in c:\\users\\asus\\anaconda3\\lib\\site-packages (from matplotlib<3.7,>=3.2->ydata-profiling==0.0.dev0) (0.10.0)\n",
      "Requirement already satisfied: kiwisolver>=1.0.1 in c:\\users\\asus\\anaconda3\\lib\\site-packages (from matplotlib<3.7,>=3.2->ydata-profiling==0.0.dev0) (1.3.0)\n",
      "Requirement already satisfied: pyparsing!=2.0.4,!=2.1.2,!=2.1.6,>=2.0.3 in c:\\users\\asus\\anaconda3\\lib\\site-packages (from matplotlib<3.7,>=3.2->ydata-profiling==0.0.dev0) (2.4.7)\n",
      "Requirement already satisfied: pillow>=6.2.0 in c:\\users\\asus\\anaconda3\\lib\\site-packages (from matplotlib<3.7,>=3.2->ydata-profiling==0.0.dev0) (8.0.1)\n",
      "Requirement already satisfied: certifi>=2020.06.20 in c:\\users\\asus\\anaconda3\\lib\\site-packages (from matplotlib<3.7,>=3.2->ydata-profiling==0.0.dev0) (2020.6.20)\n",
      "Requirement already satisfied: typing-extensions>=4.2.0 in c:\\users\\asus\\anaconda3\\lib\\site-packages (from pydantic<1.11,>=1.8.1->ydata-profiling==0.0.dev0) (4.5.0)\n",
      "Requirement already satisfied: MarkupSafe>=0.23 in c:\\users\\asus\\anaconda3\\lib\\site-packages (from jinja2<3.2,>=2.11.1->ydata-profiling==0.0.dev0) (2.0.1)\n",
      "Requirement already satisfied: networkx>=2.4 in c:\\users\\asus\\anaconda3\\lib\\site-packages (from visions[type_image_path]==0.7.5->ydata-profiling==0.0.dev0) (2.5)\n",
      "Requirement already satisfied: attrs>=19.3.0 in c:\\users\\asus\\anaconda3\\lib\\site-packages (from visions[type_image_path]==0.7.5->ydata-profiling==0.0.dev0) (20.3.0)\n",
      "Requirement already satisfied: tangled-up-in-unicode>=0.0.4 in c:\\users\\asus\\anaconda3\\lib\\site-packages (from visions[type_image_path]==0.7.5->ydata-profiling==0.0.dev0) (0.1.0)\n",
      "Requirement already satisfied: joblib>=0.14.1 in c:\\users\\asus\\anaconda3\\lib\\site-packages (from phik<0.13,>=0.11.1->ydata-profiling==0.0.dev0) (1.0.1)\n",
      "Requirement already satisfied: idna<3,>=2.5 in c:\\users\\asus\\anaconda3\\lib\\site-packages (from requests<2.29,>=2.24.0->ydata-profiling==0.0.dev0) (2.10)\n",
      "Requirement already satisfied: urllib3!=1.25.0,!=1.25.1,<1.26,>=1.21.1 in c:\\users\\asus\\anaconda3\\lib\\site-packages (from requests<2.29,>=2.24.0->ydata-profiling==0.0.dev0) (1.25.11)\n",
      "Requirement already satisfied: chardet<4,>=3.0.2 in c:\\users\\asus\\anaconda3\\lib\\site-packages (from requests<2.29,>=2.24.0->ydata-profiling==0.0.dev0) (3.0.4)\n",
      "Collecting packaging>=21.3\n",
      "  Downloading packaging-23.0-py3-none-any.whl (42 kB)\n",
      "Collecting patsy>=0.5.2\n",
      "  Downloading patsy-0.5.3-py2.py3-none-any.whl (233 kB)\n",
      "Requirement already satisfied: PyWavelets in c:\\users\\asus\\anaconda3\\lib\\site-packages (from imagehash==4.3.1->ydata-profiling==0.0.dev0) (1.1.1)\n",
      "Requirement already satisfied: six>=1.5 in c:\\users\\asus\\anaconda3\\lib\\site-packages (from python-dateutil>=2.7.3->pandas!=1.4.0,<1.6,>1.1->ydata-profiling==0.0.dev0) (1.15.0)\n",
      "Requirement already satisfied: decorator>=4.3.0 in c:\\users\\asus\\anaconda3\\lib\\site-packages (from networkx>=2.4->visions[type_image_path]==0.7.5->ydata-profiling==0.0.dev0) (4.4.2)\n",
      "Building wheels for collected packages: ydata-profiling\n",
      "  Building wheel for ydata-profiling (setup.py): started\n",
      "  Building wheel for ydata-profiling (setup.py): finished with status 'done'\n",
      "  Created wheel for ydata-profiling: filename=ydata_profiling-0.0.dev0-py2.py3-none-any.whl size=344996 sha256=a3f45f2e632a22bea9e410bdc66fca1cdbb4b7cb2d8bf4b6202684d48e1ffbd7\n",
      "  Stored in directory: C:\\Users\\Asus\\AppData\\Local\\Temp\\pip-ephem-wheel-cache-ts7kyoyg\\wheels\\64\\b6\\85\\dfc808b23666a5910371784e349d28818006ff63ed9cfeca59\n",
      "Successfully built ydata-profiling\n",
      "Installing collected packages: visions, packaging, patsy, statsmodels, typeguard, ydata-profiling\n",
      "  Attempting uninstall: visions\n",
      "    Found existing installation: visions 0.7.4\n",
      "    Uninstalling visions-0.7.4:\n",
      "      Successfully uninstalled visions-0.7.4\n",
      "  Attempting uninstall: packaging\n",
      "    Found existing installation: packaging 20.4\n",
      "    Uninstalling packaging-20.4:\n",
      "      Successfully uninstalled packaging-20.4\n",
      "  Attempting uninstall: patsy\n",
      "    Found existing installation: patsy 0.5.1\n",
      "    Uninstalling patsy-0.5.1:\n",
      "      Successfully uninstalled patsy-0.5.1\n",
      "  Attempting uninstall: statsmodels\n",
      "    Found existing installation: statsmodels 0.12.0\n",
      "    Uninstalling statsmodels-0.12.0:\n",
      "      Successfully uninstalled statsmodels-0.12.0\n",
      "Successfully installed packaging-23.0 patsy-0.5.3 statsmodels-0.13.5 typeguard-2.13.3 visions-0.7.5 ydata-profiling-0.0.dev0\n"
     ]
    }
   ],
   "source": [
    "#!pip install numpy==1.21.4\n",
    "#!pip install pandas==1.3.4\n",
    "#!pip install pandas-profiling==3.1.0\n",
    "#!pip install https://github.com/pandas-profiling/pandas-profiling/archive/master.zip"
   ]
  },
  {
   "cell_type": "code",
   "execution_count": 1,
   "metadata": {
    "executionInfo": {
     "elapsed": 1218,
     "status": "ok",
     "timestamp": 1655767591668,
     "user": {
      "displayName": "Danilo Plazas Irrenno",
      "userId": "03881415684539109829"
     },
     "user_tz": 300
    },
    "id": "5kaD2UWmC_Tu"
   },
   "outputs": [
    {
     "name": "stderr",
     "output_type": "stream",
     "text": [
      "<ipython-input-1-3d86d2ed9fb7>:15: DeprecationWarning: `import pandas_profiling` is going to be deprecated by April 1st. Please use `import ydata_profiling` instead.\n",
      "  from pandas_profiling import ProfileReport\n"
     ]
    }
   ],
   "source": [
    "import pandas as pd\n",
    "import numpy as np\n",
    "from datetime import datetime\n",
    "import seaborn as sns\n",
    "import datetime\n",
    "from scipy import stats\n",
    "import matplotlib.pyplot as plt\n",
    "import matplotlib.mlab as mlab\n",
    "import matplotlib\n",
    "%matplotlib inline\n",
    "plt.style.use(\"ggplot\")\n",
    "from matplotlib.pyplot import figure\n",
    "matplotlib.rcParams['figure.figsize'] = (12,8)\n",
    "pd.options.mode.chained_assignment = None\n",
    "from pandas_profiling import ProfileReport"
   ]
  },
  {
   "cell_type": "markdown",
   "metadata": {
    "id": "WD_hS7NMKcVs"
   },
   "source": [
    "Leemos el archivo CSV"
   ]
  },
  {
   "cell_type": "code",
   "execution_count": 2,
   "metadata": {
    "colab": {
     "base_uri": "https://localhost:8080/"
    },
    "executionInfo": {
     "elapsed": 17665,
     "status": "ok",
     "timestamp": 1655767612951,
     "user": {
      "displayName": "Danilo Plazas Irrenno",
      "userId": "03881415684539109829"
     },
     "user_tz": 300
    },
    "id": "9iU1IRtWE6Bt",
    "outputId": "7450e663-3650-4ca7-820e-bdfd88060155"
   },
   "outputs": [],
   "source": [
    "# read the data\n",
    "df_mayor60 = pd.read_csv('C:/Users/Asus/Documents/VIU_Notebooks/TFM/Data_Covid/casos_hosp_uci_def_sexo_edad_provres_60_mas.csv')\n",
    "df_todaedad = pd.read_csv('C:/Users/Asus/Documents/VIU_Notebooks/TFM/Data_Covid/casos_hosp_uci_def_sexo_edad_provres.csv')  "
   ]
  },
  {
   "cell_type": "markdown",
   "metadata": {
    "id": "c4KNviVD4TNd"
   },
   "source": [
    "Comprobamos los tipos y la cantidad de instacias que tenemos:"
   ]
  },
  {
   "cell_type": "code",
   "execution_count": 3,
   "metadata": {
    "colab": {
     "base_uri": "https://localhost:8080/"
    },
    "executionInfo": {
     "elapsed": 256,
     "status": "ok",
     "timestamp": 1655767618620,
     "user": {
      "displayName": "Danilo Plazas Irrenno",
      "userId": "03881415684539109829"
     },
     "user_tz": 300
    },
    "id": "Wpo-KoLd4Kpw",
    "outputId": "bd84dd04-b23b-45ec-d7ab-1cd872b6cd4d",
    "scrolled": false
   },
   "outputs": [
    {
     "name": "stdout",
     "output_type": "stream",
     "text": [
      "Nuestro dataset tiene 551889 registros y 8 columnas \n",
      "\n",
      "provincia_iso    object\n",
      "sexo             object\n",
      "grupo_edad       object\n",
      "fecha            object\n",
      "num_casos         int64\n",
      "num_hosp          int64\n",
      "num_uci           int64\n",
      "num_def           int64\n",
      "dtype: object\n"
     ]
    }
   ],
   "source": [
    "print('Nuestro dataset tiene ' + str(df_mayor60.shape[0]) + ' registros y ' + str(df_mayor60.shape[1]) + ' columnas \\n')\n",
    "print(df_mayor60.dtypes)"
   ]
  },
  {
   "cell_type": "code",
   "execution_count": 4,
   "metadata": {},
   "outputs": [
    {
     "name": "stdout",
     "output_type": "stream",
     "text": [
      "Nuestro dataset tiene 1299030 registros y 8 columnas \n",
      "\n",
      "provincia_iso    object\n",
      "sexo             object\n",
      "grupo_edad       object\n",
      "fecha            object\n",
      "num_casos         int64\n",
      "num_hosp          int64\n",
      "num_uci           int64\n",
      "num_def           int64\n",
      "dtype: object\n"
     ]
    }
   ],
   "source": [
    "print('Nuestro dataset tiene ' + str(df_todaedad.shape[0]) + ' registros y ' + str(df_todaedad.shape[1]) + ' columnas \\n')\n",
    "print(df_todaedad.dtypes)"
   ]
  },
  {
   "cell_type": "markdown",
   "metadata": {},
   "source": [
    "Vemos que ambos conjuntos de datos tiene la misma cantidad de columnas, nombres de columnas y los tipos de datos, es por esta razón que es posile hacer un concat para unir los dos dataframe y realizar una eliminación de duplicados para tener una dataframe unico y realizar el proceos de datacleaning"
   ]
  },
  {
   "cell_type": "code",
   "execution_count": 60,
   "metadata": {},
   "outputs": [],
   "source": [
    "df = pd.concat([df_mayor60,df_todaedad]).drop_duplicates().reset_index(drop=True)"
   ]
  },
  {
   "cell_type": "code",
   "execution_count": 61,
   "metadata": {},
   "outputs": [
    {
     "name": "stdout",
     "output_type": "stream",
     "text": [
      "Nuestro dataset tiene 1461210 registros y 8 columnas \n",
      "\n",
      "provincia_iso    object\n",
      "sexo             object\n",
      "grupo_edad       object\n",
      "fecha            object\n",
      "num_casos         int64\n",
      "num_hosp          int64\n",
      "num_uci           int64\n",
      "num_def           int64\n",
      "dtype: object\n"
     ]
    }
   ],
   "source": [
    "print('Nuestro dataset tiene ' + str(df.shape[0]) + ' registros y ' + str(df.shape[1]) + ' columnas \\n')\n",
    "print(df.dtypes)"
   ]
  },
  {
   "cell_type": "markdown",
   "metadata": {
    "id": "QqIFOCYa6UEc"
   },
   "source": [
    "Comprobamos de todas las variables, que subconjunto son númericas y la cantidad que tenemos de estas:"
   ]
  },
  {
   "cell_type": "code",
   "execution_count": 62,
   "metadata": {
    "colab": {
     "base_uri": "https://localhost:8080/"
    },
    "executionInfo": {
     "elapsed": 163,
     "status": "ok",
     "timestamp": 1655767625935,
     "user": {
      "displayName": "Danilo Plazas Irrenno",
      "userId": "03881415684539109829"
     },
     "user_tz": 300
    },
    "id": "vlXOpMEW58xO",
    "outputId": "2d976956-a71b-408d-efd6-b1752c81bcbe"
   },
   "outputs": [
    {
     "name": "stdout",
     "output_type": "stream",
     "text": [
      "Tenemos 4 columnas de tipo númerico que son: \n",
      "\n",
      "['num_casos' 'num_hosp' 'num_uci' 'num_def']\n"
     ]
    }
   ],
   "source": [
    "df_numeric = df.select_dtypes(include=[np.number])\n",
    "numeric_cols = df_numeric.columns.values\n",
    "print('Tenemos' + ' ' +str(len(numeric_cols)) + ' columnas de tipo númerico que son: \\n')\n",
    "print(numeric_cols)"
   ]
  },
  {
   "cell_type": "markdown",
   "metadata": {
    "id": "EYpJFBMm7kPn"
   },
   "source": [
    "Comprobamos de todas las variables, que subconjunto NO son númericas y la cantidad que tenemos de estas:"
   ]
  },
  {
   "cell_type": "code",
   "execution_count": 63,
   "metadata": {
    "colab": {
     "base_uri": "https://localhost:8080/"
    },
    "executionInfo": {
     "elapsed": 397,
     "status": "ok",
     "timestamp": 1655767630679,
     "user": {
      "displayName": "Danilo Plazas Irrenno",
      "userId": "03881415684539109829"
     },
     "user_tz": 300
    },
    "id": "Nr0b-FOQ7kpL",
    "outputId": "4ca408c4-b8d7-4757-deae-6b10aa39090c"
   },
   "outputs": [
    {
     "name": "stdout",
     "output_type": "stream",
     "text": [
      "Tenemos 4 columnas de tipo NO númerico que son: \n",
      "\n",
      "['provincia_iso' 'sexo' 'grupo_edad' 'fecha']\n"
     ]
    }
   ],
   "source": [
    "df_non_numeric = df.select_dtypes(exclude=[np.number])\n",
    "non_numeric_cols = df_non_numeric.columns.values\n",
    "print('Tenemos' + ' ' +str(len(non_numeric_cols)) + ' columnas de tipo NO númerico que son: \\n')\n",
    "print(non_numeric_cols)"
   ]
  },
  {
   "cell_type": "code",
   "execution_count": 64,
   "metadata": {
    "colab": {
     "base_uri": "https://localhost:8080/",
     "height": 508
    },
    "executionInfo": {
     "elapsed": 165,
     "status": "ok",
     "timestamp": 1655767633138,
     "user": {
      "displayName": "Danilo Plazas Irrenno",
      "userId": "03881415684539109829"
     },
     "user_tz": 300
    },
    "id": "uK9IGoRCPK2_",
    "outputId": "8b87b01f-e0ce-4d8e-ec67-13dd6541244c"
   },
   "outputs": [
    {
     "data": {
      "text/html": [
       "<div>\n",
       "<style scoped>\n",
       "    .dataframe tbody tr th:only-of-type {\n",
       "        vertical-align: middle;\n",
       "    }\n",
       "\n",
       "    .dataframe tbody tr th {\n",
       "        vertical-align: top;\n",
       "    }\n",
       "\n",
       "    .dataframe thead th {\n",
       "        text-align: right;\n",
       "    }\n",
       "</style>\n",
       "<table border=\"1\" class=\"dataframe\">\n",
       "  <thead>\n",
       "    <tr style=\"text-align: right;\">\n",
       "      <th></th>\n",
       "      <th>provincia_iso</th>\n",
       "      <th>sexo</th>\n",
       "      <th>grupo_edad</th>\n",
       "      <th>fecha</th>\n",
       "      <th>num_casos</th>\n",
       "      <th>num_hosp</th>\n",
       "      <th>num_uci</th>\n",
       "      <th>num_def</th>\n",
       "    </tr>\n",
       "  </thead>\n",
       "  <tbody>\n",
       "    <tr>\n",
       "      <th>0</th>\n",
       "      <td>A</td>\n",
       "      <td>H</td>\n",
       "      <td>60-69</td>\n",
       "      <td>2020-01-01</td>\n",
       "      <td>0</td>\n",
       "      <td>0</td>\n",
       "      <td>0</td>\n",
       "      <td>0</td>\n",
       "    </tr>\n",
       "    <tr>\n",
       "      <th>1</th>\n",
       "      <td>A</td>\n",
       "      <td>H</td>\n",
       "      <td>70-79</td>\n",
       "      <td>2020-01-01</td>\n",
       "      <td>0</td>\n",
       "      <td>0</td>\n",
       "      <td>0</td>\n",
       "      <td>0</td>\n",
       "    </tr>\n",
       "    <tr>\n",
       "      <th>2</th>\n",
       "      <td>A</td>\n",
       "      <td>H</td>\n",
       "      <td>80+</td>\n",
       "      <td>2020-01-01</td>\n",
       "      <td>0</td>\n",
       "      <td>0</td>\n",
       "      <td>0</td>\n",
       "      <td>0</td>\n",
       "    </tr>\n",
       "    <tr>\n",
       "      <th>3</th>\n",
       "      <td>A</td>\n",
       "      <td>M</td>\n",
       "      <td>60-69</td>\n",
       "      <td>2020-01-01</td>\n",
       "      <td>0</td>\n",
       "      <td>0</td>\n",
       "      <td>0</td>\n",
       "      <td>0</td>\n",
       "    </tr>\n",
       "    <tr>\n",
       "      <th>4</th>\n",
       "      <td>A</td>\n",
       "      <td>M</td>\n",
       "      <td>70-79</td>\n",
       "      <td>2020-01-01</td>\n",
       "      <td>0</td>\n",
       "      <td>0</td>\n",
       "      <td>0</td>\n",
       "      <td>0</td>\n",
       "    </tr>\n",
       "  </tbody>\n",
       "</table>\n",
       "</div>"
      ],
      "text/plain": [
       "  provincia_iso sexo grupo_edad       fecha  num_casos  num_hosp  num_uci  \\\n",
       "0             A    H      60-69  2020-01-01          0         0        0   \n",
       "1             A    H      70-79  2020-01-01          0         0        0   \n",
       "2             A    H        80+  2020-01-01          0         0        0   \n",
       "3             A    M      60-69  2020-01-01          0         0        0   \n",
       "4             A    M      70-79  2020-01-01          0         0        0   \n",
       "\n",
       "   num_def  \n",
       "0        0  \n",
       "1        0  \n",
       "2        0  \n",
       "3        0  \n",
       "4        0  "
      ]
     },
     "execution_count": 64,
     "metadata": {},
     "output_type": "execute_result"
    }
   ],
   "source": [
    "df.head()"
   ]
  },
  {
   "cell_type": "markdown",
   "metadata": {
    "id": "VIOoE-rQLNwI"
   },
   "source": [
    "Generamos reporte de perfilamiento de datos con el fin de realizar un analisis exploratorio del archivo de entrada que nos permite evaluar el estado de los datos sin ninguna intervención previa. Este archivo .html se genera en la ruta origen del drive en donde se abrio este notebook de colab, de igual forma se adjuntara el archivo en el entregable."
   ]
  },
  {
   "cell_type": "code",
   "execution_count": 10,
   "metadata": {
    "colab": {
     "base_uri": "https://localhost:8080/",
     "height": 145,
     "referenced_widgets": [
      "06da3a6ba1f0435f8255b57714389691",
      "e6c1de9f435a48ad93e7acf4dec3d55d",
      "46ed5bdb9f024367b350806add311405",
      "8c4e10bc67da4941a551d7af4c326cb3",
      "213979f9b0c8406f86f6cb03c25659a4",
      "ff05dcf275e1409d83c179f1649da5ff",
      "2a0b94c2c2e44aa78fc195fead7dbcb4",
      "694466013fd845bdbabb3055e2bed8e9",
      "7b40ac70b3c24514b1ee7482dac16f1e",
      "aca32b1b744a4c1e8d37c39da4edb283",
      "69347c5790c1465c883cbc2089fa09b5",
      "2e33083493374698b771cd5957abee3f",
      "b13b7b7eb95143a883d19e64920f2930",
      "5f650a5790754f3e92651ee5266ea1aa",
      "1ad5d0c2130145c29a52eea0546b38ab",
      "ae21454a3b96435ab3530c9678d69e87",
      "05da240cf52c42da902c0c6a55e0ba45",
      "862d5a97e37942d78cbc49c3d4160e3d",
      "c29f82ecec3e404f9f39606bb17c0c53",
      "9855f2d0a85c41acb7b76b53aa505d90",
      "44488dc86d1d4ac99a982d84c7be9ca1",
      "f9c81b82f27b4ca88a76cd32beedba44",
      "11c1c671b4d249598c65e2e765c962c6",
      "92da5ecac1ba43398cd7020cec1ecbe6",
      "5f083e85fe1b4eb498796777cc29f315",
      "63ffa4658e2341229f62bcc37fc2f57b",
      "95d00b7c42c149b89472ca549671d61c",
      "dbe0d5e8d88a446a8227359999959428",
      "04ce721742204738bf0861839b7bc11e",
      "e1f5a8a12ec6479d82badd8b1ca5952d",
      "612cdf22203741d4b33f5a0175e2d098",
      "58531900c7d2424bbb1f144d6f2ed637",
      "7bf27697c56749028a4398bde6691275",
      "b17fa0be699e456895a0b79456b9df86",
      "1b6047fbbabd498fb3a255b765b7c351",
      "00846f8dcc1b4c47902c5cf4c3a4f726",
      "e5b1529915514e458def3f7f452eaa31",
      "af4cfdf2dde44e84b551bab93af710db",
      "ae8c2f9c55f046839215787ace952e19",
      "7d128538c7df42479938519d327a93b1",
      "92e088ebc2604b02b650e16639ba4850",
      "72948d46831446f491b055259e195d93",
      "9fa24a56edf74b549e4cb685129217ec",
      "c05c15c073b84dcda2d84ca72940e057"
     ]
    },
    "executionInfo": {
     "elapsed": 53589,
     "status": "ok",
     "timestamp": 1655063418047,
     "user": {
      "displayName": "Danilo Plazas Irrenno",
      "userId": "03881415684539109829"
     },
     "user_tz": 300
    },
    "id": "sD05DwwSPK6X",
    "outputId": "70dfaa3a-4db9-4263-947e-ea34034e161e"
   },
   "outputs": [
    {
     "data": {
      "application/vnd.jupyter.widget-view+json": {
       "model_id": "3d847f9721e849e4ad9b20e42537cd53",
       "version_major": 2,
       "version_minor": 0
      },
      "text/plain": [
       "HBox(children=(HTML(value='Summarize dataset'), FloatProgress(value=0.0, max=5.0), HTML(value='')))"
      ]
     },
     "metadata": {},
     "output_type": "display_data"
    },
    {
     "name": "stdout",
     "output_type": "stream",
     "text": [
      "\n"
     ]
    },
    {
     "data": {
      "application/vnd.jupyter.widget-view+json": {
       "model_id": "a7801e99a3a24c0daea06c84d405ef78",
       "version_major": 2,
       "version_minor": 0
      },
      "text/plain": [
       "HBox(children=(HTML(value='Generate report structure'), FloatProgress(value=0.0, max=1.0), HTML(value='')))"
      ]
     },
     "metadata": {},
     "output_type": "display_data"
    },
    {
     "name": "stdout",
     "output_type": "stream",
     "text": [
      "\n"
     ]
    },
    {
     "data": {
      "application/vnd.jupyter.widget-view+json": {
       "model_id": "e5db2efeb6af4ba7a4d679d4c7d98d48",
       "version_major": 2,
       "version_minor": 0
      },
      "text/plain": [
       "HBox(children=(HTML(value='Render HTML'), FloatProgress(value=0.0, max=1.0), HTML(value='')))"
      ]
     },
     "metadata": {},
     "output_type": "display_data"
    },
    {
     "name": "stdout",
     "output_type": "stream",
     "text": [
      "\n"
     ]
    },
    {
     "data": {
      "application/vnd.jupyter.widget-view+json": {
       "model_id": "6e025f5ce3b54f6e836998bd8c378c33",
       "version_major": 2,
       "version_minor": 0
      },
      "text/plain": [
       "HBox(children=(HTML(value='Export report to file'), FloatProgress(value=0.0, max=1.0), HTML(value='')))"
      ]
     },
     "metadata": {},
     "output_type": "display_data"
    },
    {
     "name": "stdout",
     "output_type": "stream",
     "text": [
      "\n"
     ]
    }
   ],
   "source": [
    "#profile = ProfileReport(df, minimal=True)\n",
    "#profile.to_file(output_file=\"df_covid_prof.html\")"
   ]
  },
  {
   "cell_type": "markdown",
   "metadata": {
    "id": "foSKit7jOn-W"
   },
   "source": [
    "El perfilamiento de datos arroja los resultados en el archivo anexo"
   ]
  },
  {
   "cell_type": "markdown",
   "metadata": {
    "id": "6wl3bPcRPk6g"
   },
   "source": [
    "![image.png](data:image/png;base64,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)"
   ]
  },
  {
   "cell_type": "markdown",
   "metadata": {
    "id": "UsWa6WbqC6Zo"
   },
   "source": [
    "# MISSING VALUES"
   ]
  },
  {
   "cell_type": "markdown",
   "metadata": {
    "id": "m1jVqCwxEBHP"
   },
   "source": [
    "## Missing Data Heatmap\n",
    "Podemos visualizar los datos que faltan a través del mapa de calor."
   ]
  },
  {
   "cell_type": "code",
   "execution_count": 65,
   "metadata": {
    "colab": {
     "base_uri": "https://localhost:8080/",
     "height": 635
    },
    "executionInfo": {
     "elapsed": 71242,
     "status": "ok",
     "timestamp": 1655589442824,
     "user": {
      "displayName": "Danilo Plazas Irrenno",
      "userId": "03881415684539109829"
     },
     "user_tz": 300
    },
    "id": "FI5jSSX3EH7k",
    "outputId": "0a8e86f5-94d1-413e-8cc5-8181c9e7a947"
   },
   "outputs": [
    {
     "data": {
      "text/plain": [
       "<AxesSubplot:>"
      ]
     },
     "execution_count": 65,
     "metadata": {},
     "output_type": "execute_result"
    },
    {
     "data": {
      "image/png": "[encoded data removed]",
      "text/plain": [
       "<Figure size 432x288 with 2 Axes>"
      ]
     },
     "metadata": {
      "needs_background": "light"
     },
     "output_type": "display_data"
    }
   ],
   "source": [
    "cols = df.columns\n",
    "colours = ['#000099', '#ffff00'] # specify the colours - yellow is missing. blue is not missing.\n",
    "sns.heatmap(df[cols].isnull(), cmap=sns.color_palette(colours))"
   ]
  },
  {
   "cell_type": "markdown",
   "metadata": {
    "id": "t5M-npbfHmv9"
   },
   "source": [
    "El gráfico anterior muestra los patrones de datos que faltan de todas las columnas. \n",
    "El eje horizontal muestra el nombre del atributo de entrada; el eje vertical muestra el número de observaciones/filas; el color amarillo representa los datos que faltan, mientras que el color azul, en caso contrario.\n",
    "Detallamos que todas las características tienen muy pocos valores perdidos o inclusive no tienen."
   ]
  },
  {
   "cell_type": "markdown",
   "metadata": {
    "id": "FZhzWSvuKZHS"
   },
   "source": [
    "## Missing Data Percentage List"
   ]
  },
  {
   "cell_type": "markdown",
   "metadata": {
    "id": "jPZBOLA3PyZs"
   },
   "source": [
    "A continuación se muestra el listado con el porcentaje de los valores faltantes, para este caso tome 3 decimas ya que hay unos campos que tienen un porcentaje de faltantes muy bajo pero que igual los tiene:"
   ]
  },
  {
   "cell_type": "code",
   "execution_count": 66,
   "metadata": {
    "colab": {
     "base_uri": "https://localhost:8080/"
    },
    "executionInfo": {
     "elapsed": 1857,
     "status": "ok",
     "timestamp": 1655767646078,
     "user": {
      "displayName": "Danilo Plazas Irrenno",
      "userId": "03881415684539109829"
     },
     "user_tz": 300
    },
    "id": "-RajCx73EH-c",
    "outputId": "adad1129-51c8-41bd-d055-af852fab1ac5"
   },
   "outputs": [
    {
     "name": "stdout",
     "output_type": "stream",
     "text": [
      "provincia_iso - 1.8867925%\n",
      "sexo - 0.0%\n",
      "grupo_edad - 0.0%\n",
      "fecha - 0.0%\n",
      "num_casos - 0.0%\n",
      "num_hosp - 0.0%\n",
      "num_uci - 0.0%\n",
      "num_def - 0.0%\n"
     ]
    }
   ],
   "source": [
    "for col in df.columns:\n",
    "    pct_missing = np.mean(df[col].isnull())\n",
    "    print('{} - {}%'.format(col, round(pct_missing*100, 7)))"
   ]
  },
  {
   "cell_type": "markdown",
   "metadata": {
    "id": "iiQqGa1cY_ig"
   },
   "source": [
    "# ¿Qué hacer?\n",
    "A continuación se describen en los siguientes métodos más comunes:\n",
    "Si lo aplicamos, a qué columna se lo aplicamos y el por qué."
   ]
  },
  {
   "cell_type": "markdown",
   "metadata": {
    "id": "rPFIaG4aZogD"
   },
   "source": [
    "##  Dejar o no dejar  la instancia\n",
    "\n",
    "En esta solución, eliminamos todas la observaciones siempre y cuando contenga un valor faltante.\n",
    "\n"
   ]
  },
  {
   "cell_type": "markdown",
   "metadata": {
    "id": "Rg1Fh36FfkZP"
   },
   "source": [
    "Dado que la columna **provincia_iso** tiene un porcentaje muy bajo de valores faltantes (1.88%) gracias a la gran cantidad de datos que tenemos, eliminaremos estas filas que esten con un valor faltante, ya que debemos tener los valores exactos de estas columnas y no se debería imputar estos valores ya que no se puede imputar esos valores a uno provincia en particular."
   ]
  },
  {
   "cell_type": "code",
   "execution_count": 67,
   "metadata": {
    "colab": {
     "base_uri": "https://localhost:8080/"
    },
    "executionInfo": {
     "elapsed": 153,
     "status": "ok",
     "timestamp": 1655767651228,
     "user": {
      "displayName": "Danilo Plazas Irrenno",
      "userId": "03881415684539109829"
     },
     "user_tz": 300
    },
    "id": "gvT099Bsdthm",
    "outputId": "43ce8e12-7ccf-408e-a171-a0048f017de3"
   },
   "outputs": [
    {
     "name": "stdout",
     "output_type": "stream",
     "text": [
      "27570\n"
     ]
    }
   ],
   "source": [
    "print(df['provincia_iso'].isna().sum())"
   ]
  },
  {
   "cell_type": "code",
   "execution_count": 68,
   "metadata": {
    "scrolled": true
   },
   "outputs": [
    {
     "data": {
      "text/plain": [
       "array(['A', 'AB', 'AL', 'AV', 'B', 'BA', 'BI', 'BU', 'C', 'CA', 'CC',\n",
       "       'CE', 'CO', 'CR', 'CS', 'CU', 'GC', 'GI', 'GR', 'GU', 'H', 'HU',\n",
       "       'J', 'L', 'LE', 'LO', 'LU', 'M', 'MA', 'ML', 'MU', nan, 'NC', 'O',\n",
       "       'OR', 'P', 'PM', 'PO', 'S', 'SA', 'SE', 'SG', 'SO', 'SS', 'T',\n",
       "       'TE', 'TF', 'TO', 'V', 'VA', 'VI', 'Z', 'ZA'], dtype=object)"
      ]
     },
     "execution_count": 68,
     "metadata": {},
     "output_type": "execute_result"
    }
   ],
   "source": [
    "df['provincia_iso'].unique()"
   ]
  },
  {
   "cell_type": "code",
   "execution_count": 69,
   "metadata": {
    "executionInfo": {
     "elapsed": 1440,
     "status": "ok",
     "timestamp": 1655767654982,
     "user": {
      "displayName": "Danilo Plazas Irrenno",
      "userId": "03881415684539109829"
     },
     "user_tz": 300
    },
    "id": "XXAYw-4BONbX"
   },
   "outputs": [],
   "source": [
    "# drop rows with a lot of missing values.\n",
    "df = df[df['provincia_iso'].notna()]"
   ]
  },
  {
   "cell_type": "code",
   "execution_count": 70,
   "metadata": {
    "colab": {
     "base_uri": "https://localhost:8080/"
    },
    "executionInfo": {
     "elapsed": 239,
     "status": "ok",
     "timestamp": 1655767657368,
     "user": {
      "displayName": "Danilo Plazas Irrenno",
      "userId": "03881415684539109829"
     },
     "user_tz": 300
    },
    "id": "_KZ5QqFyfOUX",
    "outputId": "efc2cc4c-3422-41ed-8d9f-250c4aa40ad5"
   },
   "outputs": [
    {
     "data": {
      "text/plain": [
       "(1433640, 8)"
      ]
     },
     "execution_count": 70,
     "metadata": {},
     "output_type": "execute_result"
    }
   ],
   "source": [
    "df.shape"
   ]
  },
  {
   "cell_type": "markdown",
   "metadata": {
    "id": "AlV7j860lf94"
   },
   "source": [
    "## Dejar o no dejar la característica\n",
    "\n",
    "Similar a la anterior, sólo lo hacemos cuando estamos seguros de que esta característica no proporciona información útil.\n",
    "\n",
    "No se eliminará ninguna caracteristica ya que tiene su información completa."
   ]
  },
  {
   "cell_type": "markdown",
   "metadata": {
    "id": "07kb5yn-xi2I"
   },
   "source": [
    "A continuación también se evidencia cierta correlación entre las variables descritas anteriormente, teniendo un tono más naranja claro, siendo blanco variables totalmente identicas."
   ]
  },
  {
   "cell_type": "markdown",
   "metadata": {
    "id": "HX_fBd32MHUQ"
   },
   "source": [
    "**El siguiente bloque de código solo se ejecuto una vez con fines practicos, ya que transforma las columnas categoricas en un valor numerico correspondiente para realizar la validación de la correlación, y esta columna es importante para el analisis y por el momento necesitamos la descripción**"
   ]
  },
  {
   "cell_type": "code",
   "execution_count": 51,
   "metadata": {
    "id": "pmmLRxw4Jgui"
   },
   "outputs": [],
   "source": [
    "#from sklearn.preprocessing import LabelEncoder\n",
    "#labelencoder=LabelEncoder()\n",
    "#\n",
    "#df['provincia_iso'] = labelencoder.fit_transform(df['provincia_iso'])\n",
    "#df['sexo'] = labelencoder.fit_transform(df['sexo'])\n",
    "#df['grupo_edad'] = labelencoder.fit_transform(df['grupo_edad'])\n",
    "#df['fecha'] = labelencoder.fit_transform(df['fecha'])"
   ]
  },
  {
   "cell_type": "code",
   "execution_count": 52,
   "metadata": {
    "colab": {
     "base_uri": "https://localhost:8080/",
     "height": 811
    },
    "executionInfo": {
     "elapsed": 2523,
     "status": "ok",
     "timestamp": 1655595489543,
     "user": {
      "displayName": "Danilo Plazas Irrenno",
      "userId": "03881415684539109829"
     },
     "user_tz": 300
    },
    "id": "NUnP23fVvWmY",
    "outputId": "a6eae86b-5578-4b17-cfec-ff2cd87d98f9"
   },
   "outputs": [
    {
     "name": "stdout",
     "output_type": "stream",
     "text": [
      "Populating the interactive namespace from numpy and matplotlib\n"
     ]
    },
    {
     "data": {
      "text/plain": [
       "<AxesSubplot:>"
      ]
     },
     "execution_count": 52,
     "metadata": {},
     "output_type": "execute_result"
    },
    {
     "data": {
      "image/png": "[encoded data removed]",
      "text/plain": [
       "<Figure size 864x864 with 2 Axes>"
      ]
     },
     "metadata": {
      "needs_background": "light"
     },
     "output_type": "display_data"
    }
   ],
   "source": [
    "corr = df.corr(method = \"pearson\")\n",
    "%pylab inline\n",
    "pyplot.figure(figsize=(12,12))\n",
    "sns.heatmap(corr, square = True, xticklabels=1, yticklabels=1)"
   ]
  },
  {
   "cell_type": "markdown",
   "metadata": {
    "id": "VpsWBbVkyH7L"
   },
   "source": [
    "Procedemos a eliminar las variables UCR Category y Category Description por la razones expuestas anteriormente:"
   ]
  },
  {
   "cell_type": "markdown",
   "metadata": {
    "id": "fiLzDnQc2u3F"
   },
   "source": [
    "# TRANSFORMACION NOMBRE DE COLUMNAS"
   ]
  },
  {
   "cell_type": "markdown",
   "metadata": {
    "id": "4t6AfVmx4s25"
   },
   "source": [
    "Se renombramos las columnas para dar un estandar de nombramiento y facilitar el manejo."
   ]
  },
  {
   "cell_type": "code",
   "execution_count": 71,
   "metadata": {
    "executionInfo": {
     "elapsed": 241,
     "status": "ok",
     "timestamp": 1655767676774,
     "user": {
      "displayName": "Danilo Plazas Irrenno",
      "userId": "03881415684539109829"
     },
     "user_tz": 300
    },
    "id": "qgP3EOqryD-C"
   },
   "outputs": [],
   "source": [
    "df.columns = ['PROVINCIA_ISO','SEXO','GRUPO_EDAD','FECHA','NUM_CASOS','NUM_HOSP','NUM_UCI','NUM_DEFU']"
   ]
  },
  {
   "cell_type": "markdown",
   "metadata": {
    "id": "w7m3lFrIRGLt"
   },
   "source": [
    "# REEMPLAZAR VALORES"
   ]
  },
  {
   "cell_type": "code",
   "execution_count": 76,
   "metadata": {
    "scrolled": true
   },
   "outputs": [
    {
     "data": {
      "text/plain": [
       "array(['A', 'AB', 'AL', 'AV', 'B', 'BA', 'BI', 'BU', 'C', 'CA', 'CC',\n",
       "       'CE', 'CO', 'CR', 'CS', 'CU', 'GC', 'GI', 'GR', 'GU', 'H', 'HU',\n",
       "       'J', 'L', 'LE', 'LO', 'LU', 'M', 'MA', 'ML', 'MU', 'NC', 'O', 'OR',\n",
       "       'P', 'PM', 'PO', 'S', 'SA', 'SE', 'SG', 'SO', 'SS', 'T', 'TE',\n",
       "       'TF', 'TO', 'V', 'VA', 'VI', 'Z', 'ZA'], dtype=object)"
      ]
     },
     "execution_count": 76,
     "metadata": {},
     "output_type": "execute_result"
    }
   ],
   "source": [
    "df['PROVINCIA_ISO'].unique()"
   ]
  },
  {
   "cell_type": "code",
   "execution_count": 77,
   "metadata": {},
   "outputs": [
    {
     "data": {
      "text/plain": [
       "array(['H', 'M', 'NC'], dtype=object)"
      ]
     },
     "execution_count": 77,
     "metadata": {},
     "output_type": "execute_result"
    }
   ],
   "source": [
    "df['SEXO'].unique()"
   ]
  },
  {
   "cell_type": "code",
   "execution_count": 78,
   "metadata": {
    "scrolled": true
   },
   "outputs": [
    {
     "data": {
      "text/plain": [
       "array(['60-69', '70-79', '80+', '0-9', '10-19', '20-29', '30-39', '40-49',\n",
       "       '50-59', 'NC'], dtype=object)"
      ]
     },
     "execution_count": 78,
     "metadata": {},
     "output_type": "execute_result"
    }
   ],
   "source": [
    "df['GRUPO_EDAD'].unique()"
   ]
  },
  {
   "cell_type": "code",
   "execution_count": 79,
   "metadata": {
    "scrolled": true
   },
   "outputs": [
    {
     "data": {
      "text/html": [
       "<div>\n",
       "<style scoped>\n",
       "    .dataframe tbody tr th:only-of-type {\n",
       "        vertical-align: middle;\n",
       "    }\n",
       "\n",
       "    .dataframe tbody tr th {\n",
       "        vertical-align: top;\n",
       "    }\n",
       "\n",
       "    .dataframe thead th {\n",
       "        text-align: right;\n",
       "    }\n",
       "</style>\n",
       "<table border=\"1\" class=\"dataframe\">\n",
       "  <thead>\n",
       "    <tr style=\"text-align: right;\">\n",
       "      <th></th>\n",
       "      <th>PROVINCIA_ISO</th>\n",
       "      <th>SEXO</th>\n",
       "      <th>GRUPO_EDAD</th>\n",
       "      <th>FECHA</th>\n",
       "      <th>NUM_CASOS</th>\n",
       "      <th>NUM_HOSP</th>\n",
       "      <th>NUM_UCI</th>\n",
       "      <th>NUM_DEFU</th>\n",
       "    </tr>\n",
       "  </thead>\n",
       "  <tbody>\n",
       "    <tr>\n",
       "      <th>551895</th>\n",
       "      <td>A</td>\n",
       "      <td>H</td>\n",
       "      <td>NC</td>\n",
       "      <td>2020-01-01</td>\n",
       "      <td>0</td>\n",
       "      <td>0</td>\n",
       "      <td>0</td>\n",
       "      <td>0</td>\n",
       "    </tr>\n",
       "    <tr>\n",
       "      <th>551902</th>\n",
       "      <td>A</td>\n",
       "      <td>M</td>\n",
       "      <td>NC</td>\n",
       "      <td>2020-01-01</td>\n",
       "      <td>0</td>\n",
       "      <td>0</td>\n",
       "      <td>0</td>\n",
       "      <td>0</td>\n",
       "    </tr>\n",
       "    <tr>\n",
       "      <th>551909</th>\n",
       "      <td>A</td>\n",
       "      <td>NC</td>\n",
       "      <td>NC</td>\n",
       "      <td>2020-01-01</td>\n",
       "      <td>0</td>\n",
       "      <td>0</td>\n",
       "      <td>0</td>\n",
       "      <td>0</td>\n",
       "    </tr>\n",
       "    <tr>\n",
       "      <th>551916</th>\n",
       "      <td>AB</td>\n",
       "      <td>H</td>\n",
       "      <td>NC</td>\n",
       "      <td>2020-01-01</td>\n",
       "      <td>0</td>\n",
       "      <td>0</td>\n",
       "      <td>0</td>\n",
       "      <td>0</td>\n",
       "    </tr>\n",
       "    <tr>\n",
       "      <th>551923</th>\n",
       "      <td>AB</td>\n",
       "      <td>M</td>\n",
       "      <td>NC</td>\n",
       "      <td>2020-01-01</td>\n",
       "      <td>0</td>\n",
       "      <td>0</td>\n",
       "      <td>0</td>\n",
       "      <td>0</td>\n",
       "    </tr>\n",
       "    <tr>\n",
       "      <th>...</th>\n",
       "      <td>...</td>\n",
       "      <td>...</td>\n",
       "      <td>...</td>\n",
       "      <td>...</td>\n",
       "      <td>...</td>\n",
       "      <td>...</td>\n",
       "      <td>...</td>\n",
       "      <td>...</td>\n",
       "    </tr>\n",
       "    <tr>\n",
       "      <th>1461181</th>\n",
       "      <td>Z</td>\n",
       "      <td>M</td>\n",
       "      <td>NC</td>\n",
       "      <td>2022-03-27</td>\n",
       "      <td>0</td>\n",
       "      <td>0</td>\n",
       "      <td>0</td>\n",
       "      <td>0</td>\n",
       "    </tr>\n",
       "    <tr>\n",
       "      <th>1461188</th>\n",
       "      <td>Z</td>\n",
       "      <td>NC</td>\n",
       "      <td>NC</td>\n",
       "      <td>2022-03-27</td>\n",
       "      <td>0</td>\n",
       "      <td>0</td>\n",
       "      <td>0</td>\n",
       "      <td>0</td>\n",
       "    </tr>\n",
       "    <tr>\n",
       "      <th>1461195</th>\n",
       "      <td>ZA</td>\n",
       "      <td>H</td>\n",
       "      <td>NC</td>\n",
       "      <td>2022-03-27</td>\n",
       "      <td>0</td>\n",
       "      <td>0</td>\n",
       "      <td>0</td>\n",
       "      <td>0</td>\n",
       "    </tr>\n",
       "    <tr>\n",
       "      <th>1461202</th>\n",
       "      <td>ZA</td>\n",
       "      <td>M</td>\n",
       "      <td>NC</td>\n",
       "      <td>2022-03-27</td>\n",
       "      <td>0</td>\n",
       "      <td>0</td>\n",
       "      <td>0</td>\n",
       "      <td>0</td>\n",
       "    </tr>\n",
       "    <tr>\n",
       "      <th>1461209</th>\n",
       "      <td>ZA</td>\n",
       "      <td>NC</td>\n",
       "      <td>NC</td>\n",
       "      <td>2022-03-27</td>\n",
       "      <td>0</td>\n",
       "      <td>0</td>\n",
       "      <td>0</td>\n",
       "      <td>0</td>\n",
       "    </tr>\n",
       "  </tbody>\n",
       "</table>\n",
       "<p>127452 rows × 8 columns</p>\n",
       "</div>"
      ],
      "text/plain": [
       "        PROVINCIA_ISO SEXO GRUPO_EDAD       FECHA  NUM_CASOS  NUM_HOSP  \\\n",
       "551895              A    H         NC  2020-01-01          0         0   \n",
       "551902              A    M         NC  2020-01-01          0         0   \n",
       "551909              A   NC         NC  2020-01-01          0         0   \n",
       "551916             AB    H         NC  2020-01-01          0         0   \n",
       "551923             AB    M         NC  2020-01-01          0         0   \n",
       "...               ...  ...        ...         ...        ...       ...   \n",
       "1461181             Z    M         NC  2022-03-27          0         0   \n",
       "1461188             Z   NC         NC  2022-03-27          0         0   \n",
       "1461195            ZA    H         NC  2022-03-27          0         0   \n",
       "1461202            ZA    M         NC  2022-03-27          0         0   \n",
       "1461209            ZA   NC         NC  2022-03-27          0         0   \n",
       "\n",
       "         NUM_UCI  NUM_DEFU  \n",
       "551895         0         0  \n",
       "551902         0         0  \n",
       "551909         0         0  \n",
       "551916         0         0  \n",
       "551923         0         0  \n",
       "...          ...       ...  \n",
       "1461181        0         0  \n",
       "1461188        0         0  \n",
       "1461195        0         0  \n",
       "1461202        0         0  \n",
       "1461209        0         0  \n",
       "\n",
       "[127452 rows x 8 columns]"
      ]
     },
     "execution_count": 79,
     "metadata": {},
     "output_type": "execute_result"
    }
   ],
   "source": [
    "df[df['GRUPO_EDAD']== \"NC\"]"
   ]
  },
  {
   "cell_type": "markdown",
   "metadata": {
    "id": "ghMvm2OFUo8k"
   },
   "source": [
    "**Realizando nuevamente el porcentaje de valores faltantes de todas las variables se obtiene:**"
   ]
  },
  {
   "cell_type": "code",
   "execution_count": 111,
   "metadata": {
    "colab": {
     "base_uri": "https://localhost:8080/"
    },
    "executionInfo": {
     "elapsed": 1416,
     "status": "ok",
     "timestamp": 1655767806504,
     "user": {
      "displayName": "Danilo Plazas Irrenno",
      "userId": "03881415684539109829"
     },
     "user_tz": 300
    },
    "id": "D8nvVUUCUpGv",
    "outputId": "289928e2-6a4d-4902-f496-fba44a085f48"
   },
   "outputs": [
    {
     "name": "stdout",
     "output_type": "stream",
     "text": [
      "PROVINCIA_ISO - 0.0%\n",
      "SEXO - 0.0%\n",
      "GRUPO_EDAD - 0.0%\n",
      "FECHA - 0.0%\n",
      "NUM_CASOS - 0.0%\n",
      "NUM_HOSP - 0.0%\n",
      "NUM_UCI - 0.0%\n",
      "NUM_DEFU - 0.0%\n"
     ]
    }
   ],
   "source": [
    "for col in df.columns:\n",
    "    pct_missing = np.mean(df[col].isnull())\n",
    "    print('{} - {}%'.format(col, round(pct_missing*100, 7)))"
   ]
  },
  {
   "cell_type": "markdown",
   "metadata": {
    "id": "hCQ63IQs5BZh"
   },
   "source": [
    "# TRANSFORMACION TIPOS DE DATOS"
   ]
  },
  {
   "cell_type": "markdown",
   "metadata": {
    "id": "LCcrG0YN5NVz"
   },
   "source": [
    "Realizaremos las siguientes transformaciónes en los datos:\n",
    "- Convertimos las variables de tiempo a tipo \"datetime\"\n",
    "- Las variables que estén tipo float y no tengan ningun valor decimal se convertiran en enteros.\n",
    "- Normalización y homologación de los valores en campos categoricos con el fin de agrupar y estandarizar."
   ]
  },
  {
   "cell_type": "code",
   "execution_count": 82,
   "metadata": {},
   "outputs": [],
   "source": [
    "df[\"FECHA\"] = pd.to_datetime(df[\"FECHA\"])"
   ]
  },
  {
   "cell_type": "code",
   "execution_count": 84,
   "metadata": {
    "scrolled": true
   },
   "outputs": [
    {
     "name": "stdout",
     "output_type": "stream",
     "text": [
      "PROVINCIA_ISO            object\n",
      "SEXO                     object\n",
      "GRUPO_EDAD               object\n",
      "FECHA            datetime64[ns]\n",
      "NUM_CASOS                 int64\n",
      "NUM_HOSP                  int64\n",
      "NUM_UCI                   int64\n",
      "NUM_DEFU                  int64\n",
      "dtype: object\n"
     ]
    }
   ],
   "source": [
    "print(df.dtypes)"
   ]
  },
  {
   "cell_type": "code",
   "execution_count": 85,
   "metadata": {},
   "outputs": [
    {
     "data": {
      "text/html": [
       "<div>\n",
       "<style scoped>\n",
       "    .dataframe tbody tr th:only-of-type {\n",
       "        vertical-align: middle;\n",
       "    }\n",
       "\n",
       "    .dataframe tbody tr th {\n",
       "        vertical-align: top;\n",
       "    }\n",
       "\n",
       "    .dataframe thead th {\n",
       "        text-align: right;\n",
       "    }\n",
       "</style>\n",
       "<table border=\"1\" class=\"dataframe\">\n",
       "  <thead>\n",
       "    <tr style=\"text-align: right;\">\n",
       "      <th></th>\n",
       "      <th>PROVINCIA_ISO</th>\n",
       "      <th>SEXO</th>\n",
       "      <th>GRUPO_EDAD</th>\n",
       "      <th>FECHA</th>\n",
       "      <th>NUM_CASOS</th>\n",
       "      <th>NUM_HOSP</th>\n",
       "      <th>NUM_UCI</th>\n",
       "      <th>NUM_DEFU</th>\n",
       "    </tr>\n",
       "  </thead>\n",
       "  <tbody>\n",
       "    <tr>\n",
       "      <th>0</th>\n",
       "      <td>A</td>\n",
       "      <td>H</td>\n",
       "      <td>60-69</td>\n",
       "      <td>2020-01-01</td>\n",
       "      <td>0</td>\n",
       "      <td>0</td>\n",
       "      <td>0</td>\n",
       "      <td>0</td>\n",
       "    </tr>\n",
       "    <tr>\n",
       "      <th>1</th>\n",
       "      <td>A</td>\n",
       "      <td>H</td>\n",
       "      <td>70-79</td>\n",
       "      <td>2020-01-01</td>\n",
       "      <td>0</td>\n",
       "      <td>0</td>\n",
       "      <td>0</td>\n",
       "      <td>0</td>\n",
       "    </tr>\n",
       "    <tr>\n",
       "      <th>2</th>\n",
       "      <td>A</td>\n",
       "      <td>H</td>\n",
       "      <td>80+</td>\n",
       "      <td>2020-01-01</td>\n",
       "      <td>0</td>\n",
       "      <td>0</td>\n",
       "      <td>0</td>\n",
       "      <td>0</td>\n",
       "    </tr>\n",
       "    <tr>\n",
       "      <th>3</th>\n",
       "      <td>A</td>\n",
       "      <td>M</td>\n",
       "      <td>60-69</td>\n",
       "      <td>2020-01-01</td>\n",
       "      <td>0</td>\n",
       "      <td>0</td>\n",
       "      <td>0</td>\n",
       "      <td>0</td>\n",
       "    </tr>\n",
       "    <tr>\n",
       "      <th>4</th>\n",
       "      <td>A</td>\n",
       "      <td>M</td>\n",
       "      <td>70-79</td>\n",
       "      <td>2020-01-01</td>\n",
       "      <td>0</td>\n",
       "      <td>0</td>\n",
       "      <td>0</td>\n",
       "      <td>0</td>\n",
       "    </tr>\n",
       "    <tr>\n",
       "      <th>...</th>\n",
       "      <td>...</td>\n",
       "      <td>...</td>\n",
       "      <td>...</td>\n",
       "      <td>...</td>\n",
       "      <td>...</td>\n",
       "      <td>...</td>\n",
       "      <td>...</td>\n",
       "      <td>...</td>\n",
       "    </tr>\n",
       "    <tr>\n",
       "      <th>1461205</th>\n",
       "      <td>ZA</td>\n",
       "      <td>NC</td>\n",
       "      <td>20-29</td>\n",
       "      <td>2022-03-27</td>\n",
       "      <td>0</td>\n",
       "      <td>0</td>\n",
       "      <td>0</td>\n",
       "      <td>0</td>\n",
       "    </tr>\n",
       "    <tr>\n",
       "      <th>1461206</th>\n",
       "      <td>ZA</td>\n",
       "      <td>NC</td>\n",
       "      <td>30-39</td>\n",
       "      <td>2022-03-27</td>\n",
       "      <td>0</td>\n",
       "      <td>0</td>\n",
       "      <td>0</td>\n",
       "      <td>0</td>\n",
       "    </tr>\n",
       "    <tr>\n",
       "      <th>1461207</th>\n",
       "      <td>ZA</td>\n",
       "      <td>NC</td>\n",
       "      <td>40-49</td>\n",
       "      <td>2022-03-27</td>\n",
       "      <td>0</td>\n",
       "      <td>0</td>\n",
       "      <td>0</td>\n",
       "      <td>0</td>\n",
       "    </tr>\n",
       "    <tr>\n",
       "      <th>1461208</th>\n",
       "      <td>ZA</td>\n",
       "      <td>NC</td>\n",
       "      <td>50-59</td>\n",
       "      <td>2022-03-27</td>\n",
       "      <td>0</td>\n",
       "      <td>0</td>\n",
       "      <td>0</td>\n",
       "      <td>0</td>\n",
       "    </tr>\n",
       "    <tr>\n",
       "      <th>1461209</th>\n",
       "      <td>ZA</td>\n",
       "      <td>NC</td>\n",
       "      <td>NC</td>\n",
       "      <td>2022-03-27</td>\n",
       "      <td>0</td>\n",
       "      <td>0</td>\n",
       "      <td>0</td>\n",
       "      <td>0</td>\n",
       "    </tr>\n",
       "  </tbody>\n",
       "</table>\n",
       "<p>1433640 rows × 8 columns</p>\n",
       "</div>"
      ],
      "text/plain": [
       "        PROVINCIA_ISO SEXO GRUPO_EDAD      FECHA  NUM_CASOS  NUM_HOSP  \\\n",
       "0                   A    H      60-69 2020-01-01          0         0   \n",
       "1                   A    H      70-79 2020-01-01          0         0   \n",
       "2                   A    H        80+ 2020-01-01          0         0   \n",
       "3                   A    M      60-69 2020-01-01          0         0   \n",
       "4                   A    M      70-79 2020-01-01          0         0   \n",
       "...               ...  ...        ...        ...        ...       ...   \n",
       "1461205            ZA   NC      20-29 2022-03-27          0         0   \n",
       "1461206            ZA   NC      30-39 2022-03-27          0         0   \n",
       "1461207            ZA   NC      40-49 2022-03-27          0         0   \n",
       "1461208            ZA   NC      50-59 2022-03-27          0         0   \n",
       "1461209            ZA   NC         NC 2022-03-27          0         0   \n",
       "\n",
       "         NUM_UCI  NUM_DEFU  \n",
       "0              0         0  \n",
       "1              0         0  \n",
       "2              0         0  \n",
       "3              0         0  \n",
       "4              0         0  \n",
       "...          ...       ...  \n",
       "1461205        0         0  \n",
       "1461206        0         0  \n",
       "1461207        0         0  \n",
       "1461208        0         0  \n",
       "1461209        0         0  \n",
       "\n",
       "[1433640 rows x 8 columns]"
      ]
     },
     "execution_count": 85,
     "metadata": {},
     "output_type": "execute_result"
    }
   ],
   "source": [
    "df"
   ]
  },
  {
   "cell_type": "markdown",
   "metadata": {
    "id": "8R4WmhT0U_jU"
   },
   "source": [
    "# OUTLIERS (DATOS FUERA DE RANGO)"
   ]
  },
  {
   "cell_type": "markdown",
   "metadata": {
    "id": "XKv--oK0fvC1"
   },
   "source": [
    "- A continuación mediante un histograma, se evidencia que con respecto a las **fechas** no existe outliers ya que los datos deben corresponder desde el 2020 hasta la actualidad."
   ]
  },
  {
   "cell_type": "code",
   "execution_count": 92,
   "metadata": {
    "colab": {
     "base_uri": "https://localhost:8080/",
     "height": 409
    },
    "executionInfo": {
     "elapsed": 4780,
     "status": "ok",
     "timestamp": 1655768575920,
     "user": {
      "displayName": "Danilo Plazas Irrenno",
      "userId": "03881415684539109829"
     },
     "user_tz": 300
    },
    "id": "DLLi3JQ4ZH91",
    "outputId": "192928d6-27ca-4d87-b944-956ac1c0b9d3"
   },
   "outputs": [
    {
     "name": "stdout",
     "output_type": "stream",
     "text": [
      "Populating the interactive namespace from numpy and matplotlib\n"
     ]
    },
    {
     "data": {
      "text/plain": [
       "<AxesSubplot:>"
      ]
     },
     "execution_count": 92,
     "metadata": {},
     "output_type": "execute_result"
    },
    {
     "data": {
      "image/png": "[encoded data removed]",
      "text/plain": [
       "<Figure size 3600x2160 with 1 Axes>"
      ]
     },
     "metadata": {
      "needs_background": "light"
     },
     "output_type": "display_data"
    }
   ],
   "source": [
    "%pylab inline\n",
    "plt.figure(figsize=(50, 30))\n",
    "\n",
    "ax1 = plt.subplot(331)\n",
    "df['FECHA'].hist(bins=10)"
   ]
  },
  {
   "cell_type": "code",
   "execution_count": 102,
   "metadata": {
    "colab": {
     "base_uri": "https://localhost:8080/",
     "height": 471
    },
    "executionInfo": {
     "elapsed": 457,
     "status": "ok",
     "timestamp": 1655768604224,
     "user": {
      "displayName": "Danilo Plazas Irrenno",
      "userId": "03881415684539109829"
     },
     "user_tz": 300
    },
    "id": "S4HBUD44Wmqv",
    "outputId": "dfb27dff-b408-4965-b6db-4a26b5bbca88"
   },
   "outputs": [
    {
     "name": "stdout",
     "output_type": "stream",
     "text": [
      "Populating the interactive namespace from numpy and matplotlib\n"
     ]
    },
    {
     "data": {
      "text/plain": [
       "<AxesSubplot:>"
      ]
     },
     "execution_count": 102,
     "metadata": {},
     "output_type": "execute_result"
    },
    {
     "data": {
      "image/png": "[encoded data removed]",
      "text/plain": [
       "<Figure size 504x504 with 1 Axes>"
      ]
     },
     "metadata": {
      "needs_background": "light"
     },
     "output_type": "display_data"
    }
   ],
   "source": [
    "%pylab inline\n",
    "pyplot.figure(figsize=(7,7))\n",
    "df['SEXO'].value_counts().plot.bar()"
   ]
  },
  {
   "cell_type": "code",
   "execution_count": 104,
   "metadata": {
    "colab": {
     "base_uri": "https://localhost:8080/",
     "height": 385
    },
    "executionInfo": {
     "elapsed": 7552,
     "status": "ok",
     "timestamp": 1655768649419,
     "user": {
      "displayName": "Danilo Plazas Irrenno",
      "userId": "03881415684539109829"
     },
     "user_tz": 300
    },
    "id": "P5OzECtskmWY",
    "outputId": "4059ed72-fba5-4128-923a-9f478e8abdcb"
   },
   "outputs": [
    {
     "data": {
      "text/plain": [
       "<AxesSubplot:>"
      ]
     },
     "execution_count": 104,
     "metadata": {},
     "output_type": "execute_result"
    },
    {
     "data": {
      "image/png": "[encoded data removed]",
      "text/plain": [
       "<Figure size 1800x1440 with 2 Axes>"
      ]
     },
     "metadata": {
      "needs_background": "light"
     },
     "output_type": "display_data"
    }
   ],
   "source": [
    "plt.figure(figsize=(25, 20))\n",
    "\n",
    "axa = plt.subplot(331)\n",
    "df.boxplot(column=['NUM_CASOS'])\n",
    "\n",
    "axb = plt.subplot(332)\n",
    "df.boxplot(column=['NUM_DEFU'])"
   ]
  },
  {
   "cell_type": "markdown",
   "metadata": {
    "id": "vLdFUWA77fqU"
   },
   "source": [
    "# DATOS INNECESARIOS\n"
   ]
  },
  {
   "cell_type": "markdown",
   "metadata": {
    "id": "AsGNyYof-x10"
   },
   "source": [
    "## Tipo: Desinformativo / Repetitivo\n",
    "\n",
    "Las siguientes variable **NUM_CASOS**, **NUM_HOSP**, **NUM_UCI**, **NUM_DEFU** tienen un campo con más del 50% de los datos, no la eliminaremos, ya que es de esperarse que sean muchisimo menor la cantidad de contagios tendiendo a cero. Se concluye que todas las demás variables tiene una buena distribución de los datos. "
   ]
  },
  {
   "cell_type": "code",
   "execution_count": 105,
   "metadata": {
    "colab": {
     "base_uri": "https://localhost:8080/"
    },
    "executionInfo": {
     "elapsed": 5742,
     "status": "ok",
     "timestamp": 1655768698237,
     "user": {
      "displayName": "Danilo Plazas Irrenno",
      "userId": "03881415684539109829"
     },
     "user_tz": 300
    },
    "id": "IohFB4BM7VFm",
    "outputId": "1febd705-da49-4940-b285-23e1ed7fb2c7"
   },
   "outputs": [
    {
     "name": "stdout",
     "output_type": "stream",
     "text": [
      "NUM_CASOS: 57.05038%\n",
      "0       817897\n",
      "1       103592\n",
      "2        70791\n",
      "3        53503\n",
      "4        42473\n",
      "         ...  \n",
      "1557         1\n",
      "1549         1\n",
      "2572         1\n",
      "1547         1\n",
      "2487         1\n",
      "Name: NUM_CASOS, Length: 1417, dtype: int64\n",
      "\n",
      "NUM_HOSP: 84.31531%\n",
      "0      1208778\n",
      "1       120294\n",
      "2        44241\n",
      "3        21273\n",
      "4        11395\n",
      "        ...   \n",
      "163          1\n",
      "164          1\n",
      "169          1\n",
      "171          1\n",
      "271          1\n",
      "Name: NUM_HOSP, Length: 175, dtype: int64\n",
      "\n",
      "NUM_UCI: 97.28886%\n",
      "0     1394772\n",
      "1       31413\n",
      "2        4835\n",
      "3        1336\n",
      "4         533\n",
      "5         288\n",
      "6         137\n",
      "7          97\n",
      "8          58\n",
      "9          37\n",
      "11         28\n",
      "10         18\n",
      "13         15\n",
      "12         15\n",
      "14          7\n",
      "18          6\n",
      "20          6\n",
      "22          6\n",
      "15          5\n",
      "17          4\n",
      "19          3\n",
      "23          3\n",
      "26          3\n",
      "30          3\n",
      "16          2\n",
      "25          2\n",
      "28          2\n",
      "35          2\n",
      "33          1\n",
      "21          1\n",
      "24          1\n",
      "27          1\n",
      "Name: NUM_UCI, dtype: int64\n",
      "\n",
      "NUM_DEFU: 95.84589%\n",
      "0      1374085\n",
      "1        40041\n",
      "2         9830\n",
      "3         3952\n",
      "4         1881\n",
      "        ...   \n",
      "69           1\n",
      "67           1\n",
      "64           1\n",
      "96           1\n",
      "100          1\n",
      "Name: NUM_DEFU, Length: 79, dtype: int64\n",
      "\n"
     ]
    }
   ],
   "source": [
    "num_rows = len(df.index)\n",
    "low_information_cols = []\n",
    "\n",
    "for col in df.columns:\n",
    "    cnts = df[col].value_counts(dropna=False)\n",
    "    top_pct = (cnts/num_rows).iloc[0]\n",
    "    \n",
    "    if top_pct > 0.5:\n",
    "        low_information_cols.append(col)\n",
    "        print('{0}: {1:.5f}%'.format(col, top_pct*100))\n",
    "        print(cnts)\n",
    "        print()"
   ]
  },
  {
   "cell_type": "markdown",
   "metadata": {
    "id": "uJP0VQabAVqt"
   },
   "source": [
    "## Tipo: Duplicados"
   ]
  },
  {
   "cell_type": "markdown",
   "metadata": {
    "id": "RDigeNWBCRwd"
   },
   "source": [
    "No existen registros duplicados ya que se eliminaron al comienzo cuando se creo el dataframe."
   ]
  },
  {
   "cell_type": "markdown",
   "metadata": {
    "id": "hkLd_BZeD7Zj"
   },
   "source": [
    "# DATOS INCONSISTENTES"
   ]
  },
  {
   "cell_type": "markdown",
   "metadata": {
    "id": "dpMUrKxwE34U"
   },
   "source": [
    "## Capitalization\n",
    "\n",
    "Para evitar que existan palabras distintas y que simbolicen el mismo significado solo por el hecho de estar en minuscula o mayusculas, para todas las variables tipo string las pasaremos a mayuscula, ya que por defecto todas viene así, también elimnaremos los espacios al principio y al final."
   ]
  },
  {
   "cell_type": "code",
   "execution_count": 107,
   "metadata": {
    "executionInfo": {
     "elapsed": 12113,
     "status": "ok",
     "timestamp": 1655768723900,
     "user": {
      "displayName": "Danilo Plazas Irrenno",
      "userId": "03881415684539109829"
     },
     "user_tz": 300
    },
    "id": "m7funYSTD7hK"
   },
   "outputs": [],
   "source": [
    "col_str = ['PROVINCIA_ISO', 'SEXO', 'GRUPO_EDAD']\n",
    "for x in col_str:\n",
    "  df[x] = df[x].str.upper()\n",
    "  df[x] = df[x].str.strip()"
   ]
  },
  {
   "cell_type": "code",
   "execution_count": 108,
   "metadata": {},
   "outputs": [
    {
     "data": {
      "text/html": [
       "<div>\n",
       "<style scoped>\n",
       "    .dataframe tbody tr th:only-of-type {\n",
       "        vertical-align: middle;\n",
       "    }\n",
       "\n",
       "    .dataframe tbody tr th {\n",
       "        vertical-align: top;\n",
       "    }\n",
       "\n",
       "    .dataframe thead th {\n",
       "        text-align: right;\n",
       "    }\n",
       "</style>\n",
       "<table border=\"1\" class=\"dataframe\">\n",
       "  <thead>\n",
       "    <tr style=\"text-align: right;\">\n",
       "      <th></th>\n",
       "      <th>PROVINCIA_ISO</th>\n",
       "      <th>SEXO</th>\n",
       "      <th>GRUPO_EDAD</th>\n",
       "      <th>FECHA</th>\n",
       "      <th>NUM_CASOS</th>\n",
       "      <th>NUM_HOSP</th>\n",
       "      <th>NUM_UCI</th>\n",
       "      <th>NUM_DEFU</th>\n",
       "    </tr>\n",
       "  </thead>\n",
       "  <tbody>\n",
       "    <tr>\n",
       "      <th>0</th>\n",
       "      <td>A</td>\n",
       "      <td>H</td>\n",
       "      <td>60-69</td>\n",
       "      <td>2020-01-01</td>\n",
       "      <td>0</td>\n",
       "      <td>0</td>\n",
       "      <td>0</td>\n",
       "      <td>0</td>\n",
       "    </tr>\n",
       "    <tr>\n",
       "      <th>1</th>\n",
       "      <td>A</td>\n",
       "      <td>H</td>\n",
       "      <td>70-79</td>\n",
       "      <td>2020-01-01</td>\n",
       "      <td>0</td>\n",
       "      <td>0</td>\n",
       "      <td>0</td>\n",
       "      <td>0</td>\n",
       "    </tr>\n",
       "    <tr>\n",
       "      <th>2</th>\n",
       "      <td>A</td>\n",
       "      <td>H</td>\n",
       "      <td>80+</td>\n",
       "      <td>2020-01-01</td>\n",
       "      <td>0</td>\n",
       "      <td>0</td>\n",
       "      <td>0</td>\n",
       "      <td>0</td>\n",
       "    </tr>\n",
       "    <tr>\n",
       "      <th>3</th>\n",
       "      <td>A</td>\n",
       "      <td>M</td>\n",
       "      <td>60-69</td>\n",
       "      <td>2020-01-01</td>\n",
       "      <td>0</td>\n",
       "      <td>0</td>\n",
       "      <td>0</td>\n",
       "      <td>0</td>\n",
       "    </tr>\n",
       "    <tr>\n",
       "      <th>4</th>\n",
       "      <td>A</td>\n",
       "      <td>M</td>\n",
       "      <td>70-79</td>\n",
       "      <td>2020-01-01</td>\n",
       "      <td>0</td>\n",
       "      <td>0</td>\n",
       "      <td>0</td>\n",
       "      <td>0</td>\n",
       "    </tr>\n",
       "    <tr>\n",
       "      <th>...</th>\n",
       "      <td>...</td>\n",
       "      <td>...</td>\n",
       "      <td>...</td>\n",
       "      <td>...</td>\n",
       "      <td>...</td>\n",
       "      <td>...</td>\n",
       "      <td>...</td>\n",
       "      <td>...</td>\n",
       "    </tr>\n",
       "    <tr>\n",
       "      <th>1461205</th>\n",
       "      <td>ZA</td>\n",
       "      <td>NC</td>\n",
       "      <td>20-29</td>\n",
       "      <td>2022-03-27</td>\n",
       "      <td>0</td>\n",
       "      <td>0</td>\n",
       "      <td>0</td>\n",
       "      <td>0</td>\n",
       "    </tr>\n",
       "    <tr>\n",
       "      <th>1461206</th>\n",
       "      <td>ZA</td>\n",
       "      <td>NC</td>\n",
       "      <td>30-39</td>\n",
       "      <td>2022-03-27</td>\n",
       "      <td>0</td>\n",
       "      <td>0</td>\n",
       "      <td>0</td>\n",
       "      <td>0</td>\n",
       "    </tr>\n",
       "    <tr>\n",
       "      <th>1461207</th>\n",
       "      <td>ZA</td>\n",
       "      <td>NC</td>\n",
       "      <td>40-49</td>\n",
       "      <td>2022-03-27</td>\n",
       "      <td>0</td>\n",
       "      <td>0</td>\n",
       "      <td>0</td>\n",
       "      <td>0</td>\n",
       "    </tr>\n",
       "    <tr>\n",
       "      <th>1461208</th>\n",
       "      <td>ZA</td>\n",
       "      <td>NC</td>\n",
       "      <td>50-59</td>\n",
       "      <td>2022-03-27</td>\n",
       "      <td>0</td>\n",
       "      <td>0</td>\n",
       "      <td>0</td>\n",
       "      <td>0</td>\n",
       "    </tr>\n",
       "    <tr>\n",
       "      <th>1461209</th>\n",
       "      <td>ZA</td>\n",
       "      <td>NC</td>\n",
       "      <td>NC</td>\n",
       "      <td>2022-03-27</td>\n",
       "      <td>0</td>\n",
       "      <td>0</td>\n",
       "      <td>0</td>\n",
       "      <td>0</td>\n",
       "    </tr>\n",
       "  </tbody>\n",
       "</table>\n",
       "<p>1433640 rows × 8 columns</p>\n",
       "</div>"
      ],
      "text/plain": [
       "        PROVINCIA_ISO SEXO GRUPO_EDAD      FECHA  NUM_CASOS  NUM_HOSP  \\\n",
       "0                   A    H      60-69 2020-01-01          0         0   \n",
       "1                   A    H      70-79 2020-01-01          0         0   \n",
       "2                   A    H        80+ 2020-01-01          0         0   \n",
       "3                   A    M      60-69 2020-01-01          0         0   \n",
       "4                   A    M      70-79 2020-01-01          0         0   \n",
       "...               ...  ...        ...        ...        ...       ...   \n",
       "1461205            ZA   NC      20-29 2022-03-27          0         0   \n",
       "1461206            ZA   NC      30-39 2022-03-27          0         0   \n",
       "1461207            ZA   NC      40-49 2022-03-27          0         0   \n",
       "1461208            ZA   NC      50-59 2022-03-27          0         0   \n",
       "1461209            ZA   NC         NC 2022-03-27          0         0   \n",
       "\n",
       "         NUM_UCI  NUM_DEFU  \n",
       "0              0         0  \n",
       "1              0         0  \n",
       "2              0         0  \n",
       "3              0         0  \n",
       "4              0         0  \n",
       "...          ...       ...  \n",
       "1461205        0         0  \n",
       "1461206        0         0  \n",
       "1461207        0         0  \n",
       "1461208        0         0  \n",
       "1461209        0         0  \n",
       "\n",
       "[1433640 rows x 8 columns]"
      ]
     },
     "execution_count": 108,
     "metadata": {},
     "output_type": "execute_result"
    }
   ],
   "source": [
    "df"
   ]
  },
  {
   "cell_type": "markdown",
   "metadata": {
    "id": "WSaJYLSDINYl"
   },
   "source": [
    "# **CONCLUSIÓN** ✅\n",
    "\n",
    "\n"
   ]
  },
  {
   "cell_type": "markdown",
   "metadata": {
    "id": "udTQ4y-JJGTW"
   },
   "source": [
    "Tras realizar todos los pasos, pruebas de exploración, tratamiento y limpieza de datos en comparación con el set de datos inicial, los datos se ven de la siguiente forma:"
   ]
  },
  {
   "cell_type": "code",
   "execution_count": 109,
   "metadata": {
    "colab": {
     "base_uri": "https://localhost:8080/",
     "height": 386
    },
    "executionInfo": {
     "elapsed": 168,
     "status": "ok",
     "timestamp": 1655768727430,
     "user": {
      "displayName": "Danilo Plazas Irrenno",
      "userId": "03881415684539109829"
     },
     "user_tz": 300
    },
    "id": "_GULMJSRy80P",
    "outputId": "1e873386-44a9-478e-990c-ea643a3b86d6"
   },
   "outputs": [
    {
     "data": {
      "text/html": [
       "<div>\n",
       "<style scoped>\n",
       "    .dataframe tbody tr th:only-of-type {\n",
       "        vertical-align: middle;\n",
       "    }\n",
       "\n",
       "    .dataframe tbody tr th {\n",
       "        vertical-align: top;\n",
       "    }\n",
       "\n",
       "    .dataframe thead th {\n",
       "        text-align: right;\n",
       "    }\n",
       "</style>\n",
       "<table border=\"1\" class=\"dataframe\">\n",
       "  <thead>\n",
       "    <tr style=\"text-align: right;\">\n",
       "      <th></th>\n",
       "      <th>PROVINCIA_ISO</th>\n",
       "      <th>SEXO</th>\n",
       "      <th>GRUPO_EDAD</th>\n",
       "      <th>FECHA</th>\n",
       "      <th>NUM_CASOS</th>\n",
       "      <th>NUM_HOSP</th>\n",
       "      <th>NUM_UCI</th>\n",
       "      <th>NUM_DEFU</th>\n",
       "    </tr>\n",
       "  </thead>\n",
       "  <tbody>\n",
       "    <tr>\n",
       "      <th>0</th>\n",
       "      <td>A</td>\n",
       "      <td>H</td>\n",
       "      <td>60-69</td>\n",
       "      <td>2020-01-01</td>\n",
       "      <td>0</td>\n",
       "      <td>0</td>\n",
       "      <td>0</td>\n",
       "      <td>0</td>\n",
       "    </tr>\n",
       "    <tr>\n",
       "      <th>1</th>\n",
       "      <td>A</td>\n",
       "      <td>H</td>\n",
       "      <td>70-79</td>\n",
       "      <td>2020-01-01</td>\n",
       "      <td>0</td>\n",
       "      <td>0</td>\n",
       "      <td>0</td>\n",
       "      <td>0</td>\n",
       "    </tr>\n",
       "    <tr>\n",
       "      <th>2</th>\n",
       "      <td>A</td>\n",
       "      <td>H</td>\n",
       "      <td>80+</td>\n",
       "      <td>2020-01-01</td>\n",
       "      <td>0</td>\n",
       "      <td>0</td>\n",
       "      <td>0</td>\n",
       "      <td>0</td>\n",
       "    </tr>\n",
       "    <tr>\n",
       "      <th>3</th>\n",
       "      <td>A</td>\n",
       "      <td>M</td>\n",
       "      <td>60-69</td>\n",
       "      <td>2020-01-01</td>\n",
       "      <td>0</td>\n",
       "      <td>0</td>\n",
       "      <td>0</td>\n",
       "      <td>0</td>\n",
       "    </tr>\n",
       "    <tr>\n",
       "      <th>4</th>\n",
       "      <td>A</td>\n",
       "      <td>M</td>\n",
       "      <td>70-79</td>\n",
       "      <td>2020-01-01</td>\n",
       "      <td>0</td>\n",
       "      <td>0</td>\n",
       "      <td>0</td>\n",
       "      <td>0</td>\n",
       "    </tr>\n",
       "  </tbody>\n",
       "</table>\n",
       "</div>"
      ],
      "text/plain": [
       "  PROVINCIA_ISO SEXO GRUPO_EDAD      FECHA  NUM_CASOS  NUM_HOSP  NUM_UCI  \\\n",
       "0             A    H      60-69 2020-01-01          0         0        0   \n",
       "1             A    H      70-79 2020-01-01          0         0        0   \n",
       "2             A    H        80+ 2020-01-01          0         0        0   \n",
       "3             A    M      60-69 2020-01-01          0         0        0   \n",
       "4             A    M      70-79 2020-01-01          0         0        0   \n",
       "\n",
       "   NUM_DEFU  \n",
       "0         0  \n",
       "1         0  \n",
       "2         0  \n",
       "3         0  \n",
       "4         0  "
      ]
     },
     "execution_count": 109,
     "metadata": {},
     "output_type": "execute_result"
    }
   ],
   "source": [
    "df.head(5)"
   ]
  },
  {
   "cell_type": "code",
   "execution_count": 110,
   "metadata": {
    "colab": {
     "base_uri": "https://localhost:8080/"
    },
    "executionInfo": {
     "elapsed": 242,
     "status": "ok",
     "timestamp": 1655768732962,
     "user": {
      "displayName": "Danilo Plazas Irrenno",
      "userId": "03881415684539109829"
     },
     "user_tz": 300
    },
    "id": "oIqkZ7DWJqyJ",
    "outputId": "35dbda8a-095b-4dec-bc8a-9ec723a9c6b1"
   },
   "outputs": [
    {
     "data": {
      "text/plain": [
       "(1433640, 8)"
      ]
     },
     "execution_count": 110,
     "metadata": {},
     "output_type": "execute_result"
    }
   ],
   "source": [
    "df.shape"
   ]
  },
  {
   "cell_type": "markdown",
   "metadata": {
    "id": "lFiL5ckjJWZv"
   },
   "source": [
    "Se paso de: \n",
    "\n",
    "**1461210** registros y **8** columnas \n",
    "\n",
    "a:\n",
    "\n",
    " **1433640** registros y **8** columnas"
   ]
  },
  {
   "cell_type": "markdown",
   "metadata": {
    "id": "4apjgBwRKWYU"
   },
   "source": [
    "Este valor es el resultado de la eliminación de valores atipicos, duplicados, nulos, etc."
   ]
  },
  {
   "cell_type": "markdown",
   "metadata": {
    "id": "O-vysiRoplKw"
   },
   "source": [
    "Se exporta el dataframe final a un archivo parquet el cual es comprimido, y la lectura es mucho más rápida, esto se hace con el fin de al momento de empezar con nuestro analisis o modelos, tengamos como punto de partida este archivo de salida totalmente limpio, a continuación la exportación final:   "
   ]
  },
  {
   "cell_type": "code",
   "execution_count": 53,
   "metadata": {
    "executionInfo": {
     "elapsed": 6856,
     "status": "ok",
     "timestamp": 1655770465199,
     "user": {
      "displayName": "Danilo Plazas Irrenno",
      "userId": "03881415684539109829"
     },
     "user_tz": 300
    },
    "id": "RbCC_W0ehR4P"
   },
   "outputs": [],
   "source": [
    "#df.to_parquet(path = 'DF_COVID', engine = 'auto', compression ='snappy', index=None)"
   ]
  },
  {
   "cell_type": "code",
   "execution_count": 113,
   "metadata": {},
   "outputs": [],
   "source": [
    "df.to_csv('data_covid.csv', index=False)"
   ]
  },
  {
   "cell_type": "markdown",
   "metadata": {
    "id": "_ikrjImDLLDU"
   },
   "source": [
    "Se realiza un perfilamiento por medio de pandas-profiling de este archivo para su comparación con el generado inicialmente, también se añade a la entrega.\n",
    "El perfilamiento no se hace en este notebook ya que por temas de memoría utilizado a lo largo de todo el proceso el google colab casi llega a su limite, pero el proceso es exactamente el mismo del comienzo:"
   ]
  },
  {
   "cell_type": "code",
   "execution_count": null,
   "metadata": {
    "id": "KNbX6SpgrxkE"
   },
   "outputs": [],
   "source": [
    "#parquet_crime = pd.read_parquet(path = '/content/drive/My Drive/Colab Notebooks/VIU/05MBID_Mineria_Datos/DF_CRIME_PARQUET', engine = 'auto')"
   ]
  },
  {
   "cell_type": "code",
   "execution_count": null,
   "metadata": {
    "id": "hDgWppgjsgjT"
   },
   "outputs": [],
   "source": [
    "#profilefinal = ProfileReport(parquet_crime, minimal=True)\n",
    "#profilefinal.to_file(output_file=\"crime_profile_final.html\")"
   ]
  },
  {
   "cell_type": "markdown",
   "metadata": {
    "id": "o-As090GLqtg"
   },
   "source": [
    "# **FIN** 🙂"
   ]
  }
 ],
 "metadata": {
  "colab": {
   "authorship_tag": "ABX9TyMA37T3fMv9QOivq9oaPoJD",
   "collapsed_sections": [],
   "name": "05MBID_Perfilamiento_DB.ipynb",
   "provenance": []
  },
  "kernelspec": {
   "display_name": "Python 3",
   "language": "python",
   "name": "python3"
  },
  "language_info": {
   "codemirror_mode": {
    "name": "ipython",
    "version": 3
   },
   "file_extension": ".py",
   "mimetype": "text/x-python",
   "name": "python",
   "nbconvert_exporter": "python",
   "pygments_lexer": "ipython3",
   "version": "3.8.5"
  },
  "widgets": {
   "application/vnd.jupyter.widget-state+json": {
    "00846f8dcc1b4c47902c5cf4c3a4f726": {
     "model_module": "@jupyter-widgets/controls",
     "model_module_version": "1.5.0",
     "model_name": "FloatProgressModel",
     "state": {
      "_dom_classes": [],
      "_model_module": "@jupyter-widgets/controls",
      "_model_module_version": "1.5.0",
      "_model_name": "FloatProgressModel",
      "_view_count": null,
      "_view_module": "@jupyter-widgets/controls",
      "_view_module_version": "1.5.0",
      "_view_name": "ProgressView",
      "bar_style": "success",
      "description": "",
      "description_tooltip": null,
      "layout": "IPY_MODEL_92e088ebc2604b02b650e16639ba4850",
      "max": 1,
      "min": 0,
      "orientation": "horizontal",
      "style": "IPY_MODEL_72948d46831446f491b055259e195d93",
      "value": 1
     }
    },
    "04ce721742204738bf0861839b7bc11e": {
     "model_module": "@jupyter-widgets/controls",
     "model_module_version": "1.5.0",
     "model_name": "DescriptionStyleModel",
     "state": {
      "_model_module": "@jupyter-widgets/controls",
      "_model_module_version": "1.5.0",
      "_model_name": "DescriptionStyleModel",
      "_view_count": null,
      "_view_module": "@jupyter-widgets/base",
      "_view_module_version": "1.2.0",
      "_view_name": "StyleView",
      "description_width": ""
     }
    },
    "05da240cf52c42da902c0c6a55e0ba45": {
     "model_module": "@jupyter-widgets/base",
     "model_module_version": "1.2.0",
     "model_name": "LayoutModel",
     "state": {
      "_model_module": "@jupyter-widgets/base",
      "_model_module_version": "1.2.0",
      "_model_name": "LayoutModel",
      "_view_count": null,
      "_view_module": "@jupyter-widgets/base",
      "_view_module_version": "1.2.0",
      "_view_name": "LayoutView",
      "align_content": null,
      "align_items": null,
      "align_self": null,
      "border": null,
      "bottom": null,
      "display": null,
      "flex": null,
      "flex_flow": null,
      "grid_area": null,
      "grid_auto_columns": null,
      "grid_auto_flow": null,
      "grid_auto_rows": null,
      "grid_column": null,
      "grid_gap": null,
      "grid_row": null,
      "grid_template_areas": null,
      "grid_template_columns": null,
      "grid_template_rows": null,
      "height": null,
      "justify_content": null,
      "justify_items": null,
      "left": null,
      "margin": null,
      "max_height": null,
      "max_width": null,
      "min_height": null,
      "min_width": null,
      "object_fit": null,
      "object_position": null,
      "order": null,
      "overflow": null,
      "overflow_x": null,
      "overflow_y": null,
      "padding": null,
      "right": null,
      "top": null,
      "visibility": null,
      "width": null
     }
    },
    "06da3a6ba1f0435f8255b57714389691": {
     "model_module": "@jupyter-widgets/controls",
     "model_module_version": "1.5.0",
     "model_name": "HBoxModel",
     "state": {
      "_dom_classes": [],
      "_model_module": "@jupyter-widgets/controls",
      "_model_module_version": "1.5.0",
      "_model_name": "HBoxModel",
      "_view_count": null,
      "_view_module": "@jupyter-widgets/controls",
      "_view_module_version": "1.5.0",
      "_view_name": "HBoxView",
      "box_style": "",
      "children": [
       "IPY_MODEL_e6c1de9f435a48ad93e7acf4dec3d55d",
       "IPY_MODEL_46ed5bdb9f024367b350806add311405",
       "IPY_MODEL_8c4e10bc67da4941a551d7af4c326cb3"
      ],
      "layout": "IPY_MODEL_213979f9b0c8406f86f6cb03c25659a4"
     }
    },
    "11c1c671b4d249598c65e2e765c962c6": {
     "model_module": "@jupyter-widgets/controls",
     "model_module_version": "1.5.0",
     "model_name": "HBoxModel",
     "state": {
      "_dom_classes": [],
      "_model_module": "@jupyter-widgets/controls",
      "_model_module_version": "1.5.0",
      "_model_name": "HBoxModel",
      "_view_count": null,
      "_view_module": "@jupyter-widgets/controls",
      "_view_module_version": "1.5.0",
      "_view_name": "HBoxView",
      "box_style": "",
      "children": [
       "IPY_MODEL_92da5ecac1ba43398cd7020cec1ecbe6",
       "IPY_MODEL_5f083e85fe1b4eb498796777cc29f315",
       "IPY_MODEL_63ffa4658e2341229f62bcc37fc2f57b"
      ],
      "layout": "IPY_MODEL_95d00b7c42c149b89472ca549671d61c"
     }
    },
    "1ad5d0c2130145c29a52eea0546b38ab": {
     "model_module": "@jupyter-widgets/controls",
     "model_module_version": "1.5.0",
     "model_name": "HTMLModel",
     "state": {
      "_dom_classes": [],
      "_model_module": "@jupyter-widgets/controls",
      "_model_module_version": "1.5.0",
      "_model_name": "HTMLModel",
      "_view_count": null,
      "_view_module": "@jupyter-widgets/controls",
      "_view_module_version": "1.5.0",
      "_view_name": "HTMLView",
      "description": "",
      "description_tooltip": null,
      "layout": "IPY_MODEL_44488dc86d1d4ac99a982d84c7be9ca1",
      "placeholder": "​",
      "style": "IPY_MODEL_f9c81b82f27b4ca88a76cd32beedba44",
      "value": " 1/1 [00:06&lt;00:00,  6.20s/it]"
     }
    },
    "1b6047fbbabd498fb3a255b765b7c351": {
     "model_module": "@jupyter-widgets/controls",
     "model_module_version": "1.5.0",
     "model_name": "HTMLModel",
     "state": {
      "_dom_classes": [],
      "_model_module": "@jupyter-widgets/controls",
      "_model_module_version": "1.5.0",
      "_model_name": "HTMLModel",
      "_view_count": null,
      "_view_module": "@jupyter-widgets/controls",
      "_view_module_version": "1.5.0",
      "_view_name": "HTMLView",
      "description": "",
      "description_tooltip": null,
      "layout": "IPY_MODEL_ae8c2f9c55f046839215787ace952e19",
      "placeholder": "​",
      "style": "IPY_MODEL_7d128538c7df42479938519d327a93b1",
      "value": "Export report to file: 100%"
     }
    },
    "213979f9b0c8406f86f6cb03c25659a4": {
     "model_module": "@jupyter-widgets/base",
     "model_module_version": "1.2.0",
     "model_name": "LayoutModel",
     "state": {
      "_model_module": "@jupyter-widgets/base",
      "_model_module_version": "1.2.0",
      "_model_name": "LayoutModel",
      "_view_count": null,
      "_view_module": "@jupyter-widgets/base",
      "_view_module_version": "1.2.0",
      "_view_name": "LayoutView",
      "align_content": null,
      "align_items": null,
      "align_self": null,
      "border": null,
      "bottom": null,
      "display": null,
      "flex": null,
      "flex_flow": null,
      "grid_area": null,
      "grid_auto_columns": null,
      "grid_auto_flow": null,
      "grid_auto_rows": null,
      "grid_column": null,
      "grid_gap": null,
      "grid_row": null,
      "grid_template_areas": null,
      "grid_template_columns": null,
      "grid_template_rows": null,
      "height": null,
      "justify_content": null,
      "justify_items": null,
      "left": null,
      "margin": null,
      "max_height": null,
      "max_width": null,
      "min_height": null,
      "min_width": null,
      "object_fit": null,
      "object_position": null,
      "order": null,
      "overflow": null,
      "overflow_x": null,
      "overflow_y": null,
      "padding": null,
      "right": null,
      "top": null,
      "visibility": null,
      "width": null
     }
    },
    "2a0b94c2c2e44aa78fc195fead7dbcb4": {
     "model_module": "@jupyter-widgets/controls",
     "model_module_version": "1.5.0",
     "model_name": "DescriptionStyleModel",
     "state": {
      "_model_module": "@jupyter-widgets/controls",
      "_model_module_version": "1.5.0",
      "_model_name": "DescriptionStyleModel",
      "_view_count": null,
      "_view_module": "@jupyter-widgets/base",
      "_view_module_version": "1.2.0",
      "_view_name": "StyleView",
      "description_width": ""
     }
    },
    "2e33083493374698b771cd5957abee3f": {
     "model_module": "@jupyter-widgets/controls",
     "model_module_version": "1.5.0",
     "model_name": "HBoxModel",
     "state": {
      "_dom_classes": [],
      "_model_module": "@jupyter-widgets/controls",
      "_model_module_version": "1.5.0",
      "_model_name": "HBoxModel",
      "_view_count": null,
      "_view_module": "@jupyter-widgets/controls",
      "_view_module_version": "1.5.0",
      "_view_name": "HBoxView",
      "box_style": "",
      "children": [
       "IPY_MODEL_b13b7b7eb95143a883d19e64920f2930",
       "IPY_MODEL_5f650a5790754f3e92651ee5266ea1aa",
       "IPY_MODEL_1ad5d0c2130145c29a52eea0546b38ab"
      ],
      "layout": "IPY_MODEL_ae21454a3b96435ab3530c9678d69e87"
     }
    },
    "44488dc86d1d4ac99a982d84c7be9ca1": {
     "model_module": "@jupyter-widgets/base",
     "model_module_version": "1.2.0",
     "model_name": "LayoutModel",
     "state": {
      "_model_module": "@jupyter-widgets/base",
      "_model_module_version": "1.2.0",
      "_model_name": "LayoutModel",
      "_view_count": null,
      "_view_module": "@jupyter-widgets/base",
      "_view_module_version": "1.2.0",
      "_view_name": "LayoutView",
      "align_content": null,
      "align_items": null,
      "align_self": null,
      "border": null,
      "bottom": null,
      "display": null,
      "flex": null,
      "flex_flow": null,
      "grid_area": null,
      "grid_auto_columns": null,
      "grid_auto_flow": null,
      "grid_auto_rows": null,
      "grid_column": null,
      "grid_gap": null,
      "grid_row": null,
      "grid_template_areas": null,
      "grid_template_columns": null,
      "grid_template_rows": null,
      "height": null,
      "justify_content": null,
      "justify_items": null,
      "left": null,
      "margin": null,
      "max_height": null,
      "max_width": null,
      "min_height": null,
      "min_width": null,
      "object_fit": null,
      "object_position": null,
      "order": null,
      "overflow": null,
      "overflow_x": null,
      "overflow_y": null,
      "padding": null,
      "right": null,
      "top": null,
      "visibility": null,
      "width": null
     }
    },
    "46ed5bdb9f024367b350806add311405": {
     "model_module": "@jupyter-widgets/controls",
     "model_module_version": "1.5.0",
     "model_name": "FloatProgressModel",
     "state": {
      "_dom_classes": [],
      "_model_module": "@jupyter-widgets/controls",
      "_model_module_version": "1.5.0",
      "_model_name": "FloatProgressModel",
      "_view_count": null,
      "_view_module": "@jupyter-widgets/controls",
      "_view_module_version": "1.5.0",
      "_view_name": "ProgressView",
      "bar_style": "success",
      "description": "",
      "description_tooltip": null,
      "layout": "IPY_MODEL_694466013fd845bdbabb3055e2bed8e9",
      "max": 5,
      "min": 0,
      "orientation": "horizontal",
      "style": "IPY_MODEL_7b40ac70b3c24514b1ee7482dac16f1e",
      "value": 5
     }
    },
    "58531900c7d2424bbb1f144d6f2ed637": {
     "model_module": "@jupyter-widgets/base",
     "model_module_version": "1.2.0",
     "model_name": "LayoutModel",
     "state": {
      "_model_module": "@jupyter-widgets/base",
      "_model_module_version": "1.2.0",
      "_model_name": "LayoutModel",
      "_view_count": null,
      "_view_module": "@jupyter-widgets/base",
      "_view_module_version": "1.2.0",
      "_view_name": "LayoutView",
      "align_content": null,
      "align_items": null,
      "align_self": null,
      "border": null,
      "bottom": null,
      "display": null,
      "flex": null,
      "flex_flow": null,
      "grid_area": null,
      "grid_auto_columns": null,
      "grid_auto_flow": null,
      "grid_auto_rows": null,
      "grid_column": null,
      "grid_gap": null,
      "grid_row": null,
      "grid_template_areas": null,
      "grid_template_columns": null,
      "grid_template_rows": null,
      "height": null,
      "justify_content": null,
      "justify_items": null,
      "left": null,
      "margin": null,
      "max_height": null,
      "max_width": null,
      "min_height": null,
      "min_width": null,
      "object_fit": null,
      "object_position": null,
      "order": null,
      "overflow": null,
      "overflow_x": null,
      "overflow_y": null,
      "padding": null,
      "right": null,
      "top": null,
      "visibility": null,
      "width": null
     }
    },
    "5f083e85fe1b4eb498796777cc29f315": {
     "model_module": "@jupyter-widgets/controls",
     "model_module_version": "1.5.0",
     "model_name": "FloatProgressModel",
     "state": {
      "_dom_classes": [],
      "_model_module": "@jupyter-widgets/controls",
      "_model_module_version": "1.5.0",
      "_model_name": "FloatProgressModel",
      "_view_count": null,
      "_view_module": "@jupyter-widgets/controls",
      "_view_module_version": "1.5.0",
      "_view_name": "ProgressView",
      "bar_style": "success",
      "description": "",
      "description_tooltip": null,
      "layout": "IPY_MODEL_e1f5a8a12ec6479d82badd8b1ca5952d",
      "max": 1,
      "min": 0,
      "orientation": "horizontal",
      "style": "IPY_MODEL_612cdf22203741d4b33f5a0175e2d098",
      "value": 1
     }
    },
    "5f650a5790754f3e92651ee5266ea1aa": {
     "model_module": "@jupyter-widgets/controls",
     "model_module_version": "1.5.0",
     "model_name": "FloatProgressModel",
     "state": {
      "_dom_classes": [],
      "_model_module": "@jupyter-widgets/controls",
      "_model_module_version": "1.5.0",
      "_model_name": "FloatProgressModel",
      "_view_count": null,
      "_view_module": "@jupyter-widgets/controls",
      "_view_module_version": "1.5.0",
      "_view_name": "ProgressView",
      "bar_style": "success",
      "description": "",
      "description_tooltip": null,
      "layout": "IPY_MODEL_c29f82ecec3e404f9f39606bb17c0c53",
      "max": 1,
      "min": 0,
      "orientation": "horizontal",
      "style": "IPY_MODEL_9855f2d0a85c41acb7b76b53aa505d90",
      "value": 1
     }
    },
    "612cdf22203741d4b33f5a0175e2d098": {
     "model_module": "@jupyter-widgets/controls",
     "model_module_version": "1.5.0",
     "model_name": "ProgressStyleModel",
     "state": {
      "_model_module": "@jupyter-widgets/controls",
      "_model_module_version": "1.5.0",
      "_model_name": "ProgressStyleModel",
      "_view_count": null,
      "_view_module": "@jupyter-widgets/base",
      "_view_module_version": "1.2.0",
      "_view_name": "StyleView",
      "bar_color": null,
      "description_width": ""
     }
    },
    "63ffa4658e2341229f62bcc37fc2f57b": {
     "model_module": "@jupyter-widgets/controls",
     "model_module_version": "1.5.0",
     "model_name": "HTMLModel",
     "state": {
      "_dom_classes": [],
      "_model_module": "@jupyter-widgets/controls",
      "_model_module_version": "1.5.0",
      "_model_name": "HTMLModel",
      "_view_count": null,
      "_view_module": "@jupyter-widgets/controls",
      "_view_module_version": "1.5.0",
      "_view_name": "HTMLView",
      "description": "",
      "description_tooltip": null,
      "layout": "IPY_MODEL_58531900c7d2424bbb1f144d6f2ed637",
      "placeholder": "​",
      "style": "IPY_MODEL_7bf27697c56749028a4398bde6691275",
      "value": " 1/1 [00:00&lt;00:00,  1.43it/s]"
     }
    },
    "69347c5790c1465c883cbc2089fa09b5": {
     "model_module": "@jupyter-widgets/controls",
     "model_module_version": "1.5.0",
     "model_name": "DescriptionStyleModel",
     "state": {
      "_model_module": "@jupyter-widgets/controls",
      "_model_module_version": "1.5.0",
      "_model_name": "DescriptionStyleModel",
      "_view_count": null,
      "_view_module": "@jupyter-widgets/base",
      "_view_module_version": "1.2.0",
      "_view_name": "StyleView",
      "description_width": ""
     }
    },
    "694466013fd845bdbabb3055e2bed8e9": {
     "model_module": "@jupyter-widgets/base",
     "model_module_version": "1.2.0",
     "model_name": "LayoutModel",
     "state": {
      "_model_module": "@jupyter-widgets/base",
      "_model_module_version": "1.2.0",
      "_model_name": "LayoutModel",
      "_view_count": null,
      "_view_module": "@jupyter-widgets/base",
      "_view_module_version": "1.2.0",
      "_view_name": "LayoutView",
      "align_content": null,
      "align_items": null,
      "align_self": null,
      "border": null,
      "bottom": null,
      "display": null,
      "flex": null,
      "flex_flow": null,
      "grid_area": null,
      "grid_auto_columns": null,
      "grid_auto_flow": null,
      "grid_auto_rows": null,
      "grid_column": null,
      "grid_gap": null,
      "grid_row": null,
      "grid_template_areas": null,
      "grid_template_columns": null,
      "grid_template_rows": null,
      "height": null,
      "justify_content": null,
      "justify_items": null,
      "left": null,
      "margin": null,
      "max_height": null,
      "max_width": null,
      "min_height": null,
      "min_width": null,
      "object_fit": null,
      "object_position": null,
      "order": null,
      "overflow": null,
      "overflow_x": null,
      "overflow_y": null,
      "padding": null,
      "right": null,
      "top": null,
      "visibility": null,
      "width": null
     }
    },
    "72948d46831446f491b055259e195d93": {
     "model_module": "@jupyter-widgets/controls",
     "model_module_version": "1.5.0",
     "model_name": "ProgressStyleModel",
     "state": {
      "_model_module": "@jupyter-widgets/controls",
      "_model_module_version": "1.5.0",
      "_model_name": "ProgressStyleModel",
      "_view_count": null,
      "_view_module": "@jupyter-widgets/base",
      "_view_module_version": "1.2.0",
      "_view_name": "StyleView",
      "bar_color": null,
      "description_width": ""
     }
    },
    "7b40ac70b3c24514b1ee7482dac16f1e": {
     "model_module": "@jupyter-widgets/controls",
     "model_module_version": "1.5.0",
     "model_name": "ProgressStyleModel",
     "state": {
      "_model_module": "@jupyter-widgets/controls",
      "_model_module_version": "1.5.0",
      "_model_name": "ProgressStyleModel",
      "_view_count": null,
      "_view_module": "@jupyter-widgets/base",
      "_view_module_version": "1.2.0",
      "_view_name": "StyleView",
      "bar_color": null,
      "description_width": ""
     }
    },
    "7bf27697c56749028a4398bde6691275": {
     "model_module": "@jupyter-widgets/controls",
     "model_module_version": "1.5.0",
     "model_name": "DescriptionStyleModel",
     "state": {
      "_model_module": "@jupyter-widgets/controls",
      "_model_module_version": "1.5.0",
      "_model_name": "DescriptionStyleModel",
      "_view_count": null,
      "_view_module": "@jupyter-widgets/base",
      "_view_module_version": "1.2.0",
      "_view_name": "StyleView",
      "description_width": ""
     }
    },
    "7d128538c7df42479938519d327a93b1": {
     "model_module": "@jupyter-widgets/controls",
     "model_module_version": "1.5.0",
     "model_name": "DescriptionStyleModel",
     "state": {
      "_model_module": "@jupyter-widgets/controls",
      "_model_module_version": "1.5.0",
      "_model_name": "DescriptionStyleModel",
      "_view_count": null,
      "_view_module": "@jupyter-widgets/base",
      "_view_module_version": "1.2.0",
      "_view_name": "StyleView",
      "description_width": ""
     }
    },
    "862d5a97e37942d78cbc49c3d4160e3d": {
     "model_module": "@jupyter-widgets/controls",
     "model_module_version": "1.5.0",
     "model_name": "DescriptionStyleModel",
     "state": {
      "_model_module": "@jupyter-widgets/controls",
      "_model_module_version": "1.5.0",
      "_model_name": "DescriptionStyleModel",
      "_view_count": null,
      "_view_module": "@jupyter-widgets/base",
      "_view_module_version": "1.2.0",
      "_view_name": "StyleView",
      "description_width": ""
     }
    },
    "8c4e10bc67da4941a551d7af4c326cb3": {
     "model_module": "@jupyter-widgets/controls",
     "model_module_version": "1.5.0",
     "model_name": "HTMLModel",
     "state": {
      "_dom_classes": [],
      "_model_module": "@jupyter-widgets/controls",
      "_model_module_version": "1.5.0",
      "_model_name": "HTMLModel",
      "_view_count": null,
      "_view_module": "@jupyter-widgets/controls",
      "_view_module_version": "1.5.0",
      "_view_name": "HTMLView",
      "description": "",
      "description_tooltip": null,
      "layout": "IPY_MODEL_aca32b1b744a4c1e8d37c39da4edb283",
      "placeholder": "​",
      "style": "IPY_MODEL_69347c5790c1465c883cbc2089fa09b5",
      "value": " 33/33 [00:46&lt;00:00,  1.18s/it, Completed]"
     }
    },
    "92da5ecac1ba43398cd7020cec1ecbe6": {
     "model_module": "@jupyter-widgets/controls",
     "model_module_version": "1.5.0",
     "model_name": "HTMLModel",
     "state": {
      "_dom_classes": [],
      "_model_module": "@jupyter-widgets/controls",
      "_model_module_version": "1.5.0",
      "_model_name": "HTMLModel",
      "_view_count": null,
      "_view_module": "@jupyter-widgets/controls",
      "_view_module_version": "1.5.0",
      "_view_name": "HTMLView",
      "description": "",
      "description_tooltip": null,
      "layout": "IPY_MODEL_dbe0d5e8d88a446a8227359999959428",
      "placeholder": "​",
      "style": "IPY_MODEL_04ce721742204738bf0861839b7bc11e",
      "value": "Render HTML: 100%"
     }
    },
    "92e088ebc2604b02b650e16639ba4850": {
     "model_module": "@jupyter-widgets/base",
     "model_module_version": "1.2.0",
     "model_name": "LayoutModel",
     "state": {
      "_model_module": "@jupyter-widgets/base",
      "_model_module_version": "1.2.0",
      "_model_name": "LayoutModel",
      "_view_count": null,
      "_view_module": "@jupyter-widgets/base",
      "_view_module_version": "1.2.0",
      "_view_name": "LayoutView",
      "align_content": null,
      "align_items": null,
      "align_self": null,
      "border": null,
      "bottom": null,
      "display": null,
      "flex": null,
      "flex_flow": null,
      "grid_area": null,
      "grid_auto_columns": null,
      "grid_auto_flow": null,
      "grid_auto_rows": null,
      "grid_column": null,
      "grid_gap": null,
      "grid_row": null,
      "grid_template_areas": null,
      "grid_template_columns": null,
      "grid_template_rows": null,
      "height": null,
      "justify_content": null,
      "justify_items": null,
      "left": null,
      "margin": null,
      "max_height": null,
      "max_width": null,
      "min_height": null,
      "min_width": null,
      "object_fit": null,
      "object_position": null,
      "order": null,
      "overflow": null,
      "overflow_x": null,
      "overflow_y": null,
      "padding": null,
      "right": null,
      "top": null,
      "visibility": null,
      "width": null
     }
    },
    "95d00b7c42c149b89472ca549671d61c": {
     "model_module": "@jupyter-widgets/base",
     "model_module_version": "1.2.0",
     "model_name": "LayoutModel",
     "state": {
      "_model_module": "@jupyter-widgets/base",
      "_model_module_version": "1.2.0",
      "_model_name": "LayoutModel",
      "_view_count": null,
      "_view_module": "@jupyter-widgets/base",
      "_view_module_version": "1.2.0",
      "_view_name": "LayoutView",
      "align_content": null,
      "align_items": null,
      "align_self": null,
      "border": null,
      "bottom": null,
      "display": null,
      "flex": null,
      "flex_flow": null,
      "grid_area": null,
      "grid_auto_columns": null,
      "grid_auto_flow": null,
      "grid_auto_rows": null,
      "grid_column": null,
      "grid_gap": null,
      "grid_row": null,
      "grid_template_areas": null,
      "grid_template_columns": null,
      "grid_template_rows": null,
      "height": null,
      "justify_content": null,
      "justify_items": null,
      "left": null,
      "margin": null,
      "max_height": null,
      "max_width": null,
      "min_height": null,
      "min_width": null,
      "object_fit": null,
      "object_position": null,
      "order": null,
      "overflow": null,
      "overflow_x": null,
      "overflow_y": null,
      "padding": null,
      "right": null,
      "top": null,
      "visibility": null,
      "width": null
     }
    },
    "9855f2d0a85c41acb7b76b53aa505d90": {
     "model_module": "@jupyter-widgets/controls",
     "model_module_version": "1.5.0",
     "model_name": "ProgressStyleModel",
     "state": {
      "_model_module": "@jupyter-widgets/controls",
      "_model_module_version": "1.5.0",
      "_model_name": "ProgressStyleModel",
      "_view_count": null,
      "_view_module": "@jupyter-widgets/base",
      "_view_module_version": "1.2.0",
      "_view_name": "StyleView",
      "bar_color": null,
      "description_width": ""
     }
    },
    "9fa24a56edf74b549e4cb685129217ec": {
     "model_module": "@jupyter-widgets/base",
     "model_module_version": "1.2.0",
     "model_name": "LayoutModel",
     "state": {
      "_model_module": "@jupyter-widgets/base",
      "_model_module_version": "1.2.0",
      "_model_name": "LayoutModel",
      "_view_count": null,
      "_view_module": "@jupyter-widgets/base",
      "_view_module_version": "1.2.0",
      "_view_name": "LayoutView",
      "align_content": null,
      "align_items": null,
      "align_self": null,
      "border": null,
      "bottom": null,
      "display": null,
      "flex": null,
      "flex_flow": null,
      "grid_area": null,
      "grid_auto_columns": null,
      "grid_auto_flow": null,
      "grid_auto_rows": null,
      "grid_column": null,
      "grid_gap": null,
      "grid_row": null,
      "grid_template_areas": null,
      "grid_template_columns": null,
      "grid_template_rows": null,
      "height": null,
      "justify_content": null,
      "justify_items": null,
      "left": null,
      "margin": null,
      "max_height": null,
      "max_width": null,
      "min_height": null,
      "min_width": null,
      "object_fit": null,
      "object_position": null,
      "order": null,
      "overflow": null,
      "overflow_x": null,
      "overflow_y": null,
      "padding": null,
      "right": null,
      "top": null,
      "visibility": null,
      "width": null
     }
    },
    "aca32b1b744a4c1e8d37c39da4edb283": {
     "model_module": "@jupyter-widgets/base",
     "model_module_version": "1.2.0",
     "model_name": "LayoutModel",
     "state": {
      "_model_module": "@jupyter-widgets/base",
      "_model_module_version": "1.2.0",
      "_model_name": "LayoutModel",
      "_view_count": null,
      "_view_module": "@jupyter-widgets/base",
      "_view_module_version": "1.2.0",
      "_view_name": "LayoutView",
      "align_content": null,
      "align_items": null,
      "align_self": null,
      "border": null,
      "bottom": null,
      "display": null,
      "flex": null,
      "flex_flow": null,
      "grid_area": null,
      "grid_auto_columns": null,
      "grid_auto_flow": null,
      "grid_auto_rows": null,
      "grid_column": null,
      "grid_gap": null,
      "grid_row": null,
      "grid_template_areas": null,
      "grid_template_columns": null,
      "grid_template_rows": null,
      "height": null,
      "justify_content": null,
      "justify_items": null,
      "left": null,
      "margin": null,
      "max_height": null,
      "max_width": null,
      "min_height": null,
      "min_width": null,
      "object_fit": null,
      "object_position": null,
      "order": null,
      "overflow": null,
      "overflow_x": null,
      "overflow_y": null,
      "padding": null,
      "right": null,
      "top": null,
      "visibility": null,
      "width": null
     }
    },
    "ae21454a3b96435ab3530c9678d69e87": {
     "model_module": "@jupyter-widgets/base",
     "model_module_version": "1.2.0",
     "model_name": "LayoutModel",
     "state": {
      "_model_module": "@jupyter-widgets/base",
      "_model_module_version": "1.2.0",
      "_model_name": "LayoutModel",
      "_view_count": null,
      "_view_module": "@jupyter-widgets/base",
      "_view_module_version": "1.2.0",
      "_view_name": "LayoutView",
      "align_content": null,
      "align_items": null,
      "align_self": null,
      "border": null,
      "bottom": null,
      "display": null,
      "flex": null,
      "flex_flow": null,
      "grid_area": null,
      "grid_auto_columns": null,
      "grid_auto_flow": null,
      "grid_auto_rows": null,
      "grid_column": null,
      "grid_gap": null,
      "grid_row": null,
      "grid_template_areas": null,
      "grid_template_columns": null,
      "grid_template_rows": null,
      "height": null,
      "justify_content": null,
      "justify_items": null,
      "left": null,
      "margin": null,
      "max_height": null,
      "max_width": null,
      "min_height": null,
      "min_width": null,
      "object_fit": null,
      "object_position": null,
      "order": null,
      "overflow": null,
      "overflow_x": null,
      "overflow_y": null,
      "padding": null,
      "right": null,
      "top": null,
      "visibility": null,
      "width": null
     }
    },
    "ae8c2f9c55f046839215787ace952e19": {
     "model_module": "@jupyter-widgets/base",
     "model_module_version": "1.2.0",
     "model_name": "LayoutModel",
     "state": {
      "_model_module": "@jupyter-widgets/base",
      "_model_module_version": "1.2.0",
      "_model_name": "LayoutModel",
      "_view_count": null,
      "_view_module": "@jupyter-widgets/base",
      "_view_module_version": "1.2.0",
      "_view_name": "LayoutView",
      "align_content": null,
      "align_items": null,
      "align_self": null,
      "border": null,
      "bottom": null,
      "display": null,
      "flex": null,
      "flex_flow": null,
      "grid_area": null,
      "grid_auto_columns": null,
      "grid_auto_flow": null,
      "grid_auto_rows": null,
      "grid_column": null,
      "grid_gap": null,
      "grid_row": null,
      "grid_template_areas": null,
      "grid_template_columns": null,
      "grid_template_rows": null,
      "height": null,
      "justify_content": null,
      "justify_items": null,
      "left": null,
      "margin": null,
      "max_height": null,
      "max_width": null,
      "min_height": null,
      "min_width": null,
      "object_fit": null,
      "object_position": null,
      "order": null,
      "overflow": null,
      "overflow_x": null,
      "overflow_y": null,
      "padding": null,
      "right": null,
      "top": null,
      "visibility": null,
      "width": null
     }
    },
    "af4cfdf2dde44e84b551bab93af710db": {
     "model_module": "@jupyter-widgets/base",
     "model_module_version": "1.2.0",
     "model_name": "LayoutModel",
     "state": {
      "_model_module": "@jupyter-widgets/base",
      "_model_module_version": "1.2.0",
      "_model_name": "LayoutModel",
      "_view_count": null,
      "_view_module": "@jupyter-widgets/base",
      "_view_module_version": "1.2.0",
      "_view_name": "LayoutView",
      "align_content": null,
      "align_items": null,
      "align_self": null,
      "border": null,
      "bottom": null,
      "display": null,
      "flex": null,
      "flex_flow": null,
      "grid_area": null,
      "grid_auto_columns": null,
      "grid_auto_flow": null,
      "grid_auto_rows": null,
      "grid_column": null,
      "grid_gap": null,
      "grid_row": null,
      "grid_template_areas": null,
      "grid_template_columns": null,
      "grid_template_rows": null,
      "height": null,
      "justify_content": null,
      "justify_items": null,
      "left": null,
      "margin": null,
      "max_height": null,
      "max_width": null,
      "min_height": null,
      "min_width": null,
      "object_fit": null,
      "object_position": null,
      "order": null,
      "overflow": null,
      "overflow_x": null,
      "overflow_y": null,
      "padding": null,
      "right": null,
      "top": null,
      "visibility": null,
      "width": null
     }
    },
    "b13b7b7eb95143a883d19e64920f2930": {
     "model_module": "@jupyter-widgets/controls",
     "model_module_version": "1.5.0",
     "model_name": "HTMLModel",
     "state": {
      "_dom_classes": [],
      "_model_module": "@jupyter-widgets/controls",
      "_model_module_version": "1.5.0",
      "_model_name": "HTMLModel",
      "_view_count": null,
      "_view_module": "@jupyter-widgets/controls",
      "_view_module_version": "1.5.0",
      "_view_name": "HTMLView",
      "description": "",
      "description_tooltip": null,
      "layout": "IPY_MODEL_05da240cf52c42da902c0c6a55e0ba45",
      "placeholder": "​",
      "style": "IPY_MODEL_862d5a97e37942d78cbc49c3d4160e3d",
      "value": "Generate report structure: 100%"
     }
    },
    "b17fa0be699e456895a0b79456b9df86": {
     "model_module": "@jupyter-widgets/controls",
     "model_module_version": "1.5.0",
     "model_name": "HBoxModel",
     "state": {
      "_dom_classes": [],
      "_model_module": "@jupyter-widgets/controls",
      "_model_module_version": "1.5.0",
      "_model_name": "HBoxModel",
      "_view_count": null,
      "_view_module": "@jupyter-widgets/controls",
      "_view_module_version": "1.5.0",
      "_view_name": "HBoxView",
      "box_style": "",
      "children": [
       "IPY_MODEL_1b6047fbbabd498fb3a255b765b7c351",
       "IPY_MODEL_00846f8dcc1b4c47902c5cf4c3a4f726",
       "IPY_MODEL_e5b1529915514e458def3f7f452eaa31"
      ],
      "layout": "IPY_MODEL_af4cfdf2dde44e84b551bab93af710db"
     }
    },
    "c05c15c073b84dcda2d84ca72940e057": {
     "model_module": "@jupyter-widgets/controls",
     "model_module_version": "1.5.0",
     "model_name": "DescriptionStyleModel",
     "state": {
      "_model_module": "@jupyter-widgets/controls",
      "_model_module_version": "1.5.0",
      "_model_name": "DescriptionStyleModel",
      "_view_count": null,
      "_view_module": "@jupyter-widgets/base",
      "_view_module_version": "1.2.0",
      "_view_name": "StyleView",
      "description_width": ""
     }
    },
    "c29f82ecec3e404f9f39606bb17c0c53": {
     "model_module": "@jupyter-widgets/base",
     "model_module_version": "1.2.0",
     "model_name": "LayoutModel",
     "state": {
      "_model_module": "@jupyter-widgets/base",
      "_model_module_version": "1.2.0",
      "_model_name": "LayoutModel",
      "_view_count": null,
      "_view_module": "@jupyter-widgets/base",
      "_view_module_version": "1.2.0",
      "_view_name": "LayoutView",
      "align_content": null,
      "align_items": null,
      "align_self": null,
      "border": null,
      "bottom": null,
      "display": null,
      "flex": null,
      "flex_flow": null,
      "grid_area": null,
      "grid_auto_columns": null,
      "grid_auto_flow": null,
      "grid_auto_rows": null,
      "grid_column": null,
      "grid_gap": null,
      "grid_row": null,
      "grid_template_areas": null,
      "grid_template_columns": null,
      "grid_template_rows": null,
      "height": null,
      "justify_content": null,
      "justify_items": null,
      "left": null,
      "margin": null,
      "max_height": null,
      "max_width": null,
      "min_height": null,
      "min_width": null,
      "object_fit": null,
      "object_position": null,
      "order": null,
      "overflow": null,
      "overflow_x": null,
      "overflow_y": null,
      "padding": null,
      "right": null,
      "top": null,
      "visibility": null,
      "width": null
     }
    },
    "dbe0d5e8d88a446a8227359999959428": {
     "model_module": "@jupyter-widgets/base",
     "model_module_version": "1.2.0",
     "model_name": "LayoutModel",
     "state": {
      "_model_module": "@jupyter-widgets/base",
      "_model_module_version": "1.2.0",
      "_model_name": "LayoutModel",
      "_view_count": null,
      "_view_module": "@jupyter-widgets/base",
      "_view_module_version": "1.2.0",
      "_view_name": "LayoutView",
      "align_content": null,
      "align_items": null,
      "align_self": null,
      "border": null,
      "bottom": null,
      "display": null,
      "flex": null,
      "flex_flow": null,
      "grid_area": null,
      "grid_auto_columns": null,
      "grid_auto_flow": null,
      "grid_auto_rows": null,
      "grid_column": null,
      "grid_gap": null,
      "grid_row": null,
      "grid_template_areas": null,
      "grid_template_columns": null,
      "grid_template_rows": null,
      "height": null,
      "justify_content": null,
      "justify_items": null,
      "left": null,
      "margin": null,
      "max_height": null,
      "max_width": null,
      "min_height": null,
      "min_width": null,
      "object_fit": null,
      "object_position": null,
      "order": null,
      "overflow": null,
      "overflow_x": null,
      "overflow_y": null,
      "padding": null,
      "right": null,
      "top": null,
      "visibility": null,
      "width": null
     }
    },
    "e1f5a8a12ec6479d82badd8b1ca5952d": {
     "model_module": "@jupyter-widgets/base",
     "model_module_version": "1.2.0",
     "model_name": "LayoutModel",
     "state": {
      "_model_module": "@jupyter-widgets/base",
      "_model_module_version": "1.2.0",
      "_model_name": "LayoutModel",
      "_view_count": null,
      "_view_module": "@jupyter-widgets/base",
      "_view_module_version": "1.2.0",
      "_view_name": "LayoutView",
      "align_content": null,
      "align_items": null,
      "align_self": null,
      "border": null,
      "bottom": null,
      "display": null,
      "flex": null,
      "flex_flow": null,
      "grid_area": null,
      "grid_auto_columns": null,
      "grid_auto_flow": null,
      "grid_auto_rows": null,
      "grid_column": null,
      "grid_gap": null,
      "grid_row": null,
      "grid_template_areas": null,
      "grid_template_columns": null,
      "grid_template_rows": null,
      "height": null,
      "justify_content": null,
      "justify_items": null,
      "left": null,
      "margin": null,
      "max_height": null,
      "max_width": null,
      "min_height": null,
      "min_width": null,
      "object_fit": null,
      "object_position": null,
      "order": null,
      "overflow": null,
      "overflow_x": null,
      "overflow_y": null,
      "padding": null,
      "right": null,
      "top": null,
      "visibility": null,
      "width": null
     }
    },
    "e5b1529915514e458def3f7f452eaa31": {
     "model_module": "@jupyter-widgets/controls",
     "model_module_version": "1.5.0",
     "model_name": "HTMLModel",
     "state": {
      "_dom_classes": [],
      "_model_module": "@jupyter-widgets/controls",
      "_model_module_version": "1.5.0",
      "_model_name": "HTMLModel",
      "_view_count": null,
      "_view_module": "@jupyter-widgets/controls",
      "_view_module_version": "1.5.0",
      "_view_name": "HTMLView",
      "description": "",
      "description_tooltip": null,
      "layout": "IPY_MODEL_9fa24a56edf74b549e4cb685129217ec",
      "placeholder": "​",
      "style": "IPY_MODEL_c05c15c073b84dcda2d84ca72940e057",
      "value": " 1/1 [00:00&lt;00:00, 22.70it/s]"
     }
    },
    "e6c1de9f435a48ad93e7acf4dec3d55d": {
     "model_module": "@jupyter-widgets/controls",
     "model_module_version": "1.5.0",
     "model_name": "HTMLModel",
     "state": {
      "_dom_classes": [],
      "_model_module": "@jupyter-widgets/controls",
      "_model_module_version": "1.5.0",
      "_model_name": "HTMLModel",
      "_view_count": null,
      "_view_module": "@jupyter-widgets/controls",
      "_view_module_version": "1.5.0",
      "_view_name": "HTMLView",
      "description": "",
      "description_tooltip": null,
      "layout": "IPY_MODEL_ff05dcf275e1409d83c179f1649da5ff",
      "placeholder": "​",
      "style": "IPY_MODEL_2a0b94c2c2e44aa78fc195fead7dbcb4",
      "value": "Summarize dataset: 100%"
     }
    },
    "f9c81b82f27b4ca88a76cd32beedba44": {
     "model_module": "@jupyter-widgets/controls",
     "model_module_version": "1.5.0",
     "model_name": "DescriptionStyleModel",
     "state": {
      "_model_module": "@jupyter-widgets/controls",
      "_model_module_version": "1.5.0",
      "_model_name": "DescriptionStyleModel",
      "_view_count": null,
      "_view_module": "@jupyter-widgets/base",
      "_view_module_version": "1.2.0",
      "_view_name": "StyleView",
      "description_width": ""
     }
    },
    "ff05dcf275e1409d83c179f1649da5ff": {
     "model_module": "@jupyter-widgets/base",
     "model_module_version": "1.2.0",
     "model_name": "LayoutModel",
     "state": {
      "_model_module": "@jupyter-widgets/base",
      "_model_module_version": "1.2.0",
      "_model_name": "LayoutModel",
      "_view_count": null,
      "_view_module": "@jupyter-widgets/base",
      "_view_module_version": "1.2.0",
      "_view_name": "LayoutView",
      "align_content": null,
      "align_items": null,
      "align_self": null,
      "border": null,
      "bottom": null,
      "display": null,
      "flex": null,
      "flex_flow": null,
      "grid_area": null,
      "grid_auto_columns": null,
      "grid_auto_flow": null,
      "grid_auto_rows": null,
      "grid_column": null,
      "grid_gap": null,
      "grid_row": null,
      "grid_template_areas": null,
      "grid_template_columns": null,
      "grid_template_rows": null,
      "height": null,
      "justify_content": null,
      "justify_items": null,
      "left": null,
      "margin": null,
      "max_height": null,
      "max_width": null,
      "min_height": null,
      "min_width": null,
      "object_fit": null,
      "object_position": null,
      "order": null,
      "overflow": null,
      "overflow_x": null,
      "overflow_y": null,
      "padding": null,
      "right": null,
      "top": null,
      "visibility": null,
      "width": null
     }
    }
   }
  }
 },
 "nbformat": 4,
 "nbformat_minor": 1
}
