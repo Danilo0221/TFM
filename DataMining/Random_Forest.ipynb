{
 "cells": [
  {
   "cell_type": "markdown",
   "id": "b1cd46c2",
   "metadata": {},
   "source": [
    "# Random Forest"
   ]
  },
  {
   "cell_type": "code",
   "execution_count": 37,
   "id": "5d020d1b",
   "metadata": {},
   "outputs": [],
   "source": [
    "import pandas as pd\n",
    "import numpy as np\n",
    "import json\n",
    "import os\n",
    "import datetime as dt\n",
    "import matplotlib.pyplot as plt\n",
    "from sklearn.preprocessing import OneHotEncoder\n",
    "from sklearn.model_selection import TimeSeriesSplit, train_test_split\n",
    "from sklearn.ensemble import RandomForestRegressor\n",
    "from sklearn.metrics import mean_absolute_error\n",
    "from sklearn.feature_extraction import FeatureHasher\n",
    "# from sklearn.model_selection import train_test_split\n",
    "from warnings import simplefilter\n",
    "simplefilter(action='ignore', category=FutureWarning)                    "
   ]
  },
  {
   "cell_type": "code",
   "execution_count": 4,
   "id": "e526e2c3",
   "metadata": {},
   "outputs": [],
   "source": [
    "path = os.getcwd()\n",
    "path = path.replace(\"\\\\\", \"\\\\\\\\\")\n",
    "path = path.replace(\"\\\\\\\\\", \"/\")\n",
    "path_data = \"/\".join(path.split(\"/\")[:-1]) + \"/Data/\"\n",
    "path_est = path_data + \"Estandarizada/\""
   ]
  },
  {
   "cell_type": "code",
   "execution_count": 6,
   "id": "317bf94d",
   "metadata": {},
   "outputs": [],
   "source": [
    "df = pd.read_csv(path_est + \"data_refined.csv\", keep_default_na=False, na_values=\"\", sep=',')\n",
    "df['FECHA'] = pd.to_datetime(df.FECHA).dt.to_period('m')"
   ]
  },
  {
   "cell_type": "code",
   "execution_count": 7,
   "id": "324ac513",
   "metadata": {
    "scrolled": false
   },
   "outputs": [
    {
     "data": {
      "text/html": [
       "<div>\n",
       "<style scoped>\n",
       "    .dataframe tbody tr th:only-of-type {\n",
       "        vertical-align: middle;\n",
       "    }\n",
       "\n",
       "    .dataframe tbody tr th {\n",
       "        vertical-align: top;\n",
       "    }\n",
       "\n",
       "    .dataframe thead th {\n",
       "        text-align: right;\n",
       "    }\n",
       "</style>\n",
       "<table border=\"1\" class=\"dataframe\">\n",
       "  <thead>\n",
       "    <tr style=\"text-align: right;\">\n",
       "      <th></th>\n",
       "      <th>FECHA</th>\n",
       "      <th>PROVINCIA</th>\n",
       "      <th>ALTITUD</th>\n",
       "      <th>TEMP_MED</th>\n",
       "      <th>PREC</th>\n",
       "      <th>DIR</th>\n",
       "      <th>VEL_MEDIA</th>\n",
       "      <th>RACHA</th>\n",
       "      <th>PRES_MIN</th>\n",
       "      <th>SOL</th>\n",
       "      <th>TASA_INCIDENCIA</th>\n",
       "    </tr>\n",
       "  </thead>\n",
       "  <tbody>\n",
       "    <tr>\n",
       "      <th>0</th>\n",
       "      <td>2020-01</td>\n",
       "      <td>A CORUÑA</td>\n",
       "      <td>58.0</td>\n",
       "      <td>11.519355</td>\n",
       "      <td>3.848387</td>\n",
       "      <td>23.580645</td>\n",
       "      <td>3.706452</td>\n",
       "      <td>12.183871</td>\n",
       "      <td>1013.903226</td>\n",
       "      <td>3.838710</td>\n",
       "      <td>0.09</td>\n",
       "    </tr>\n",
       "    <tr>\n",
       "      <th>1</th>\n",
       "      <td>2020-01</td>\n",
       "      <td>ALBACETE</td>\n",
       "      <td>674.0</td>\n",
       "      <td>6.996774</td>\n",
       "      <td>1.354839</td>\n",
       "      <td>32.483871</td>\n",
       "      <td>0.916129</td>\n",
       "      <td>6.451613</td>\n",
       "      <td>945.961290</td>\n",
       "      <td>5.474194</td>\n",
       "      <td>0.00</td>\n",
       "    </tr>\n",
       "    <tr>\n",
       "      <th>2</th>\n",
       "      <td>2020-01</td>\n",
       "      <td>ALICANTE</td>\n",
       "      <td>81.0</td>\n",
       "      <td>11.664516</td>\n",
       "      <td>1.193548</td>\n",
       "      <td>22.000000</td>\n",
       "      <td>1.767742</td>\n",
       "      <td>7.741935</td>\n",
       "      <td>1013.180645</td>\n",
       "      <td>6.896774</td>\n",
       "      <td>0.00</td>\n",
       "    </tr>\n",
       "    <tr>\n",
       "      <th>3</th>\n",
       "      <td>2020-01</td>\n",
       "      <td>ALMERIA</td>\n",
       "      <td>21.0</td>\n",
       "      <td>12.487097</td>\n",
       "      <td>0.690323</td>\n",
       "      <td>53.967742</td>\n",
       "      <td>3.425806</td>\n",
       "      <td>9.629032</td>\n",
       "      <td>1020.690323</td>\n",
       "      <td>6.409677</td>\n",
       "      <td>0.00</td>\n",
       "    </tr>\n",
       "    <tr>\n",
       "      <th>4</th>\n",
       "      <td>2020-01</td>\n",
       "      <td>ARABA/ALAVA</td>\n",
       "      <td>513.0</td>\n",
       "      <td>5.445161</td>\n",
       "      <td>0.948387</td>\n",
       "      <td>54.516129</td>\n",
       "      <td>3.229032</td>\n",
       "      <td>10.045161</td>\n",
       "      <td>963.483871</td>\n",
       "      <td>3.254839</td>\n",
       "      <td>0.00</td>\n",
       "    </tr>\n",
       "    <tr>\n",
       "      <th>...</th>\n",
       "      <td>...</td>\n",
       "      <td>...</td>\n",
       "      <td>...</td>\n",
       "      <td>...</td>\n",
       "      <td>...</td>\n",
       "      <td>...</td>\n",
       "      <td>...</td>\n",
       "      <td>...</td>\n",
       "      <td>...</td>\n",
       "      <td>...</td>\n",
       "      <td>...</td>\n",
       "    </tr>\n",
       "    <tr>\n",
       "      <th>1971</th>\n",
       "      <td>2023-02</td>\n",
       "      <td>TOLEDO</td>\n",
       "      <td>690.0</td>\n",
       "      <td>5.757143</td>\n",
       "      <td>0.028571</td>\n",
       "      <td>19.892857</td>\n",
       "      <td>3.935714</td>\n",
       "      <td>11.978571</td>\n",
       "      <td>940.478571</td>\n",
       "      <td>7.700000</td>\n",
       "      <td>40.03</td>\n",
       "    </tr>\n",
       "    <tr>\n",
       "      <th>1972</th>\n",
       "      <td>2023-02</td>\n",
       "      <td>VALENCIA</td>\n",
       "      <td>56.0</td>\n",
       "      <td>9.582143</td>\n",
       "      <td>1.014286</td>\n",
       "      <td>59.678571</td>\n",
       "      <td>2.817857</td>\n",
       "      <td>8.164286</td>\n",
       "      <td>1015.625000</td>\n",
       "      <td>6.250000</td>\n",
       "      <td>24.16</td>\n",
       "    </tr>\n",
       "    <tr>\n",
       "      <th>1973</th>\n",
       "      <td>2023-02</td>\n",
       "      <td>VALLADOLID</td>\n",
       "      <td>846.0</td>\n",
       "      <td>4.242857</td>\n",
       "      <td>0.267857</td>\n",
       "      <td>13.107143</td>\n",
       "      <td>3.760714</td>\n",
       "      <td>9.750000</td>\n",
       "      <td>924.460714</td>\n",
       "      <td>7.260714</td>\n",
       "      <td>78.59</td>\n",
       "    </tr>\n",
       "    <tr>\n",
       "      <th>1974</th>\n",
       "      <td>2023-02</td>\n",
       "      <td>ZAMORA</td>\n",
       "      <td>715.0</td>\n",
       "      <td>5.128571</td>\n",
       "      <td>0.335714</td>\n",
       "      <td>20.071429</td>\n",
       "      <td>1.757143</td>\n",
       "      <td>8.932143</td>\n",
       "      <td>939.407143</td>\n",
       "      <td>6.792857</td>\n",
       "      <td>183.92</td>\n",
       "    </tr>\n",
       "    <tr>\n",
       "      <th>1975</th>\n",
       "      <td>2023-02</td>\n",
       "      <td>ZARAGOZA</td>\n",
       "      <td>582.0</td>\n",
       "      <td>4.732143</td>\n",
       "      <td>0.300000</td>\n",
       "      <td>18.607143</td>\n",
       "      <td>1.903571</td>\n",
       "      <td>8.242857</td>\n",
       "      <td>953.957143</td>\n",
       "      <td>5.964286</td>\n",
       "      <td>16.97</td>\n",
       "    </tr>\n",
       "  </tbody>\n",
       "</table>\n",
       "<p>1976 rows × 11 columns</p>\n",
       "</div>"
      ],
      "text/plain": [
       "        FECHA    PROVINCIA  ALTITUD   TEMP_MED      PREC        DIR  \\\n",
       "0     2020-01     A CORUÑA     58.0  11.519355  3.848387  23.580645   \n",
       "1     2020-01     ALBACETE    674.0   6.996774  1.354839  32.483871   \n",
       "2     2020-01     ALICANTE     81.0  11.664516  1.193548  22.000000   \n",
       "3     2020-01      ALMERIA     21.0  12.487097  0.690323  53.967742   \n",
       "4     2020-01  ARABA/ALAVA    513.0   5.445161  0.948387  54.516129   \n",
       "...       ...          ...      ...        ...       ...        ...   \n",
       "1971  2023-02       TOLEDO    690.0   5.757143  0.028571  19.892857   \n",
       "1972  2023-02     VALENCIA     56.0   9.582143  1.014286  59.678571   \n",
       "1973  2023-02   VALLADOLID    846.0   4.242857  0.267857  13.107143   \n",
       "1974  2023-02       ZAMORA    715.0   5.128571  0.335714  20.071429   \n",
       "1975  2023-02     ZARAGOZA    582.0   4.732143  0.300000  18.607143   \n",
       "\n",
       "      VEL_MEDIA      RACHA     PRES_MIN       SOL  TASA_INCIDENCIA  \n",
       "0      3.706452  12.183871  1013.903226  3.838710             0.09  \n",
       "1      0.916129   6.451613   945.961290  5.474194             0.00  \n",
       "2      1.767742   7.741935  1013.180645  6.896774             0.00  \n",
       "3      3.425806   9.629032  1020.690323  6.409677             0.00  \n",
       "4      3.229032  10.045161   963.483871  3.254839             0.00  \n",
       "...         ...        ...          ...       ...              ...  \n",
       "1971   3.935714  11.978571   940.478571  7.700000            40.03  \n",
       "1972   2.817857   8.164286  1015.625000  6.250000            24.16  \n",
       "1973   3.760714   9.750000   924.460714  7.260714            78.59  \n",
       "1974   1.757143   8.932143   939.407143  6.792857           183.92  \n",
       "1975   1.903571   8.242857   953.957143  5.964286            16.97  \n",
       "\n",
       "[1976 rows x 11 columns]"
      ]
     },
     "execution_count": 7,
     "metadata": {},
     "output_type": "execute_result"
    }
   ],
   "source": [
    "df"
   ]
  },
  {
   "cell_type": "code",
   "execution_count": 8,
   "id": "f8ae822d",
   "metadata": {},
   "outputs": [],
   "source": [
    "#Crear un objeto FeatureHasher\n",
    "fh = FeatureHasher(n_features=5, input_type='string')\n",
    "\n",
    "#Transformar la variable categórica utilizando la codificación Hashing\n",
    "hashed = fh.transform(df['PROVINCIA'])\n",
    "\n",
    "#Convertir el resultado en un dataframe\n",
    "hashed_df = pd.DataFrame(hashed.toarray())\n",
    "\n",
    "#Unir el dataframe original con el dataframe de características codificadas\n",
    "df = pd.concat([df, hashed_df], axis=1)\n",
    "df = df.drop(columns=['PROVINCIA'])"
   ]
  },
  {
   "cell_type": "code",
   "execution_count": 9,
   "id": "9589fb7e",
   "metadata": {},
   "outputs": [],
   "source": [
    "from sklearn.model_selection import train_test_split\n",
    "df_train, df_test = train_test_split(df, test_size=0.3)\n",
    "df_train = df_train.reset_index()\n",
    "df_test = df_test.reset_index()\n",
    "df_train = df_train.drop(columns=[\"index\"])\n",
    "df_test = df_test.drop(columns=[\"index\"])"
   ]
  },
  {
   "cell_type": "code",
   "execution_count": 91,
   "id": "b15d8b4c",
   "metadata": {},
   "outputs": [],
   "source": [
    "#df_train = df[(df['FECHA'] >= '2020-01-01 00:00:00') & (df['FECHA'] <= '2021-11-30 23:59:59')]\n",
    "#df_test  = df[(df['FECHA'] >= '2021-12-01 00:00:00')]"
   ]
  },
  {
   "cell_type": "code",
   "execution_count": 10,
   "id": "07f5abcd",
   "metadata": {},
   "outputs": [],
   "source": [
    "df_train = df_train.set_index('FECHA')\n",
    "df_test = df_test.set_index('FECHA')"
   ]
  },
  {
   "cell_type": "code",
   "execution_count": 11,
   "id": "161b7f0a",
   "metadata": {},
   "outputs": [],
   "source": [
    "df_train.reset_index(drop = True, inplace = True)"
   ]
  },
  {
   "cell_type": "code",
   "execution_count": 14,
   "id": "6f844f6f",
   "metadata": {},
   "outputs": [
    {
     "name": "stdout",
     "output_type": "stream",
     "text": [
      "2\n",
      "4\n",
      "8\n",
      "16\n",
      "32\n",
      "64\n",
      "128\n",
      "256\n"
     ]
    },
    {
     "data": {
      "image/png": "[encoded data removed]",
      "text/plain": [
       "<Figure size 640x480 with 1 Axes>"
      ]
     },
     "metadata": {},
     "output_type": "display_data"
    }
   ],
   "source": [
    "cv = TimeSeriesSplit()\n",
    "l_estimators = [2, 4, 8, 16, 32, 64, 128, 256] #, 512, 1024]\n",
    "\n",
    "total_scores = []\n",
    "for estimators in l_estimators:\n",
    "    print(estimators)\n",
    "    fold_accuracy = []\n",
    "    regressor =  RandomForestRegressor(n_estimators= estimators, criterion='absolute_error', random_state=0)\n",
    "    for train_fold, test_fold in cv.split(df_train):\n",
    "        #División train test aleatoria\n",
    "        f_train = df_train.loc[train_fold]\n",
    "        f_test = df_train.loc[test_fold]\n",
    "        # entrenamiento y ejecución del modelo\n",
    "        regressor.fit(X = f_train.drop(['TASA_INCIDENCIA'], axis=1), y = f_train['TASA_INCIDENCIA'])\n",
    "        y_pred = regressor.predict(X = f_test.drop(['TASA_INCIDENCIA'], axis = 1))\n",
    "        # evaluación del modelo\n",
    "        mae = mean_absolute_error(f_test['TASA_INCIDENCIA'], y_pred)\n",
    "        fold_accuracy.append(mae)\n",
    "    total_scores.append(sum(fold_accuracy)/len(fold_accuracy))\n",
    "\n",
    "\n",
    "plt.plot(l_estimators, total_scores, marker='o')\n",
    "plt.ylabel('MAE')      \n",
    "plt.show() "
   ]
  },
  {
   "cell_type": "code",
   "execution_count": 15,
   "id": "95b59c41",
   "metadata": {},
   "outputs": [
    {
     "name": "stdout",
     "output_type": "stream",
     "text": [
      "Min Value (estimators = 256, MAE = 769.23)\n"
     ]
    }
   ],
   "source": [
    "best_est = l_estimators[np.argmin(total_scores)]\n",
    "best_mae = min(total_scores)\n",
    "print (\"Min Value (estimators = %i, MAE = %6.2f)\"  % (best_est, best_mae))"
   ]
  },
  {
   "cell_type": "code",
   "execution_count": 16,
   "id": "37daf548",
   "metadata": {},
   "outputs": [],
   "source": [
    "# constructor\n",
    "regressor =  RandomForestRegressor(n_estimators= best_est, criterion='absolute_error', \n",
    "                                   random_state=0)\n",
    "# fit and predict\n",
    "\n",
    "regressor.fit( X = df_train.drop(['TASA_INCIDENCIA'], axis=1), y = df_train['TASA_INCIDENCIA'])\n",
    "y_pred = regressor.predict(X = df_test.drop(['TASA_INCIDENCIA'], axis = 1))"
   ]
  },
  {
   "cell_type": "code",
   "execution_count": 17,
   "id": "eb737e88",
   "metadata": {},
   "outputs": [
    {
     "name": "stdout",
     "output_type": "stream",
     "text": [
      "MAE 725.3149979579468\n"
     ]
    }
   ],
   "source": [
    "mae = mean_absolute_error(df_test['TASA_INCIDENCIA'], y_pred)\n",
    "print ('MAE', mae)"
   ]
  },
  {
   "cell_type": "code",
   "execution_count": 18,
   "id": "3ede3eea",
   "metadata": {},
   "outputs": [
    {
     "data": {
      "image/png": "[encoded data removed]",
      "text/plain": [
       "<Figure size 640x480 with 1 Axes>"
      ]
     },
     "metadata": {},
     "output_type": "display_data"
    }
   ],
   "source": [
    "xx = np.stack(i for i in range(df_test['TASA_INCIDENCIA'].shape[0]))\n",
    "plt.plot(xx, df_test['TASA_INCIDENCIA'], c='r', label='data')\n",
    "plt.plot(xx, y_pred, c='g', label='prediction')\n",
    "plt.axis('tight')\n",
    "plt.legend()\n",
    "plt.title(\"RandomForests Regressors (estimators = %i, MAE = %6.2f')\" % (best_est, mae))\n",
    "\n",
    "plt.show()"
   ]
  },
  {
   "cell_type": "code",
   "execution_count": 19,
   "id": "c50e744e",
   "metadata": {},
   "outputs": [
    {
     "data": {
      "text/plain": [
       "array([0.03645414, 0.17504949, 0.1355737 , 0.10251997, 0.08974392,\n",
       "       0.11602539, 0.13337605, 0.10916471, 0.01819262, 0.03221203,\n",
       "       0.02159293, 0.01007518, 0.02001988])"
      ]
     },
     "execution_count": 19,
     "metadata": {},
     "output_type": "execute_result"
    }
   ],
   "source": [
    "regressor.feature_importances_"
   ]
  },
  {
   "cell_type": "code",
   "execution_count": 20,
   "id": "6bcbca9c",
   "metadata": {
    "scrolled": true
   },
   "outputs": [
    {
     "name": "stdout",
     "output_type": "stream",
     "text": [
      "Feature Relevancies\n"
     ]
    },
    {
     "data": {
      "text/html": [
       "<div>\n",
       "<style scoped>\n",
       "    .dataframe tbody tr th:only-of-type {\n",
       "        vertical-align: middle;\n",
       "    }\n",
       "\n",
       "    .dataframe tbody tr th {\n",
       "        vertical-align: top;\n",
       "    }\n",
       "\n",
       "    .dataframe thead th {\n",
       "        text-align: right;\n",
       "    }\n",
       "</style>\n",
       "<table border=\"1\" class=\"dataframe\">\n",
       "  <thead>\n",
       "    <tr style=\"text-align: right;\">\n",
       "      <th></th>\n",
       "      <th>Attributes</th>\n",
       "      <th>Decision Tree</th>\n",
       "    </tr>\n",
       "  </thead>\n",
       "  <tbody>\n",
       "    <tr>\n",
       "      <th>0</th>\n",
       "      <td>ALTITUD</td>\n",
       "      <td>0.036454</td>\n",
       "    </tr>\n",
       "    <tr>\n",
       "      <th>1</th>\n",
       "      <td>TEMP_MED</td>\n",
       "      <td>0.175049</td>\n",
       "    </tr>\n",
       "    <tr>\n",
       "      <th>2</th>\n",
       "      <td>PREC</td>\n",
       "      <td>0.135574</td>\n",
       "    </tr>\n",
       "    <tr>\n",
       "      <th>3</th>\n",
       "      <td>DIR</td>\n",
       "      <td>0.102520</td>\n",
       "    </tr>\n",
       "    <tr>\n",
       "      <th>4</th>\n",
       "      <td>VEL_MEDIA</td>\n",
       "      <td>0.089744</td>\n",
       "    </tr>\n",
       "    <tr>\n",
       "      <th>5</th>\n",
       "      <td>RACHA</td>\n",
       "      <td>0.116025</td>\n",
       "    </tr>\n",
       "    <tr>\n",
       "      <th>6</th>\n",
       "      <td>PRES_MIN</td>\n",
       "      <td>0.133376</td>\n",
       "    </tr>\n",
       "    <tr>\n",
       "      <th>7</th>\n",
       "      <td>SOL</td>\n",
       "      <td>0.109165</td>\n",
       "    </tr>\n",
       "    <tr>\n",
       "      <th>8</th>\n",
       "      <td>0</td>\n",
       "      <td>0.018193</td>\n",
       "    </tr>\n",
       "    <tr>\n",
       "      <th>9</th>\n",
       "      <td>1</td>\n",
       "      <td>0.032212</td>\n",
       "    </tr>\n",
       "    <tr>\n",
       "      <th>10</th>\n",
       "      <td>2</td>\n",
       "      <td>0.021593</td>\n",
       "    </tr>\n",
       "    <tr>\n",
       "      <th>11</th>\n",
       "      <td>3</td>\n",
       "      <td>0.010075</td>\n",
       "    </tr>\n",
       "    <tr>\n",
       "      <th>12</th>\n",
       "      <td>4</td>\n",
       "      <td>0.020020</td>\n",
       "    </tr>\n",
       "  </tbody>\n",
       "</table>\n",
       "</div>"
      ],
      "text/plain": [
       "   Attributes  Decision Tree\n",
       "0     ALTITUD       0.036454\n",
       "1    TEMP_MED       0.175049\n",
       "2        PREC       0.135574\n",
       "3         DIR       0.102520\n",
       "4   VEL_MEDIA       0.089744\n",
       "5       RACHA       0.116025\n",
       "6    PRES_MIN       0.133376\n",
       "7         SOL       0.109165\n",
       "8           0       0.018193\n",
       "9           1       0.032212\n",
       "10          2       0.021593\n",
       "11          3       0.010075\n",
       "12          4       0.020020"
      ]
     },
     "execution_count": 20,
     "metadata": {},
     "output_type": "execute_result"
    }
   ],
   "source": [
    "print ('Feature Relevancies')\n",
    "pd.DataFrame({'Attributes': ('ALTITUD', 'TEMP_MED', 'PREC', 'DIR', 'VEL_MEDIA', 'RACHA', 'PRES_MIN', 'SOL', \n",
    "                             '0', '1', '2', '3', '4') \n",
    "              ,'Decision Tree': regressor.feature_importances_})"
   ]
  },
  {
   "cell_type": "markdown",
   "id": "4c6bdb19",
   "metadata": {},
   "source": [
    "# Mediante el Método de one hot encoding"
   ]
  },
  {
   "cell_type": "code",
   "execution_count": 22,
   "id": "a147facb",
   "metadata": {},
   "outputs": [],
   "source": [
    "df_2 = pd.read_csv(path_est + \"data_refined.csv\", keep_default_na=False, na_values=\"\", sep=',')\n",
    "df_2['FECHA'] = pd.to_datetime(df_2.FECHA).dt.to_period('m')"
   ]
  },
  {
   "cell_type": "code",
   "execution_count": 23,
   "id": "473a69df",
   "metadata": {
    "scrolled": true
   },
   "outputs": [
    {
     "data": {
      "text/html": [
       "<div>\n",
       "<style scoped>\n",
       "    .dataframe tbody tr th:only-of-type {\n",
       "        vertical-align: middle;\n",
       "    }\n",
       "\n",
       "    .dataframe tbody tr th {\n",
       "        vertical-align: top;\n",
       "    }\n",
       "\n",
       "    .dataframe thead th {\n",
       "        text-align: right;\n",
       "    }\n",
       "</style>\n",
       "<table border=\"1\" class=\"dataframe\">\n",
       "  <thead>\n",
       "    <tr style=\"text-align: right;\">\n",
       "      <th></th>\n",
       "      <th>FECHA</th>\n",
       "      <th>PROVINCIA</th>\n",
       "      <th>ALTITUD</th>\n",
       "      <th>TEMP_MED</th>\n",
       "      <th>PREC</th>\n",
       "      <th>DIR</th>\n",
       "      <th>VEL_MEDIA</th>\n",
       "      <th>RACHA</th>\n",
       "      <th>PRES_MIN</th>\n",
       "      <th>SOL</th>\n",
       "      <th>TASA_INCIDENCIA</th>\n",
       "    </tr>\n",
       "  </thead>\n",
       "  <tbody>\n",
       "    <tr>\n",
       "      <th>0</th>\n",
       "      <td>2020-01</td>\n",
       "      <td>A CORUÑA</td>\n",
       "      <td>58.0</td>\n",
       "      <td>11.519355</td>\n",
       "      <td>3.848387</td>\n",
       "      <td>23.580645</td>\n",
       "      <td>3.706452</td>\n",
       "      <td>12.183871</td>\n",
       "      <td>1013.903226</td>\n",
       "      <td>3.838710</td>\n",
       "      <td>0.09</td>\n",
       "    </tr>\n",
       "    <tr>\n",
       "      <th>1</th>\n",
       "      <td>2020-01</td>\n",
       "      <td>ALBACETE</td>\n",
       "      <td>674.0</td>\n",
       "      <td>6.996774</td>\n",
       "      <td>1.354839</td>\n",
       "      <td>32.483871</td>\n",
       "      <td>0.916129</td>\n",
       "      <td>6.451613</td>\n",
       "      <td>945.961290</td>\n",
       "      <td>5.474194</td>\n",
       "      <td>0.00</td>\n",
       "    </tr>\n",
       "    <tr>\n",
       "      <th>2</th>\n",
       "      <td>2020-01</td>\n",
       "      <td>ALICANTE</td>\n",
       "      <td>81.0</td>\n",
       "      <td>11.664516</td>\n",
       "      <td>1.193548</td>\n",
       "      <td>22.000000</td>\n",
       "      <td>1.767742</td>\n",
       "      <td>7.741935</td>\n",
       "      <td>1013.180645</td>\n",
       "      <td>6.896774</td>\n",
       "      <td>0.00</td>\n",
       "    </tr>\n",
       "    <tr>\n",
       "      <th>3</th>\n",
       "      <td>2020-01</td>\n",
       "      <td>ALMERIA</td>\n",
       "      <td>21.0</td>\n",
       "      <td>12.487097</td>\n",
       "      <td>0.690323</td>\n",
       "      <td>53.967742</td>\n",
       "      <td>3.425806</td>\n",
       "      <td>9.629032</td>\n",
       "      <td>1020.690323</td>\n",
       "      <td>6.409677</td>\n",
       "      <td>0.00</td>\n",
       "    </tr>\n",
       "    <tr>\n",
       "      <th>4</th>\n",
       "      <td>2020-01</td>\n",
       "      <td>ARABA/ALAVA</td>\n",
       "      <td>513.0</td>\n",
       "      <td>5.445161</td>\n",
       "      <td>0.948387</td>\n",
       "      <td>54.516129</td>\n",
       "      <td>3.229032</td>\n",
       "      <td>10.045161</td>\n",
       "      <td>963.483871</td>\n",
       "      <td>3.254839</td>\n",
       "      <td>0.00</td>\n",
       "    </tr>\n",
       "    <tr>\n",
       "      <th>...</th>\n",
       "      <td>...</td>\n",
       "      <td>...</td>\n",
       "      <td>...</td>\n",
       "      <td>...</td>\n",
       "      <td>...</td>\n",
       "      <td>...</td>\n",
       "      <td>...</td>\n",
       "      <td>...</td>\n",
       "      <td>...</td>\n",
       "      <td>...</td>\n",
       "      <td>...</td>\n",
       "    </tr>\n",
       "    <tr>\n",
       "      <th>1971</th>\n",
       "      <td>2023-02</td>\n",
       "      <td>TOLEDO</td>\n",
       "      <td>690.0</td>\n",
       "      <td>5.757143</td>\n",
       "      <td>0.028571</td>\n",
       "      <td>19.892857</td>\n",
       "      <td>3.935714</td>\n",
       "      <td>11.978571</td>\n",
       "      <td>940.478571</td>\n",
       "      <td>7.700000</td>\n",
       "      <td>40.03</td>\n",
       "    </tr>\n",
       "    <tr>\n",
       "      <th>1972</th>\n",
       "      <td>2023-02</td>\n",
       "      <td>VALENCIA</td>\n",
       "      <td>56.0</td>\n",
       "      <td>9.582143</td>\n",
       "      <td>1.014286</td>\n",
       "      <td>59.678571</td>\n",
       "      <td>2.817857</td>\n",
       "      <td>8.164286</td>\n",
       "      <td>1015.625000</td>\n",
       "      <td>6.250000</td>\n",
       "      <td>24.16</td>\n",
       "    </tr>\n",
       "    <tr>\n",
       "      <th>1973</th>\n",
       "      <td>2023-02</td>\n",
       "      <td>VALLADOLID</td>\n",
       "      <td>846.0</td>\n",
       "      <td>4.242857</td>\n",
       "      <td>0.267857</td>\n",
       "      <td>13.107143</td>\n",
       "      <td>3.760714</td>\n",
       "      <td>9.750000</td>\n",
       "      <td>924.460714</td>\n",
       "      <td>7.260714</td>\n",
       "      <td>78.59</td>\n",
       "    </tr>\n",
       "    <tr>\n",
       "      <th>1974</th>\n",
       "      <td>2023-02</td>\n",
       "      <td>ZAMORA</td>\n",
       "      <td>715.0</td>\n",
       "      <td>5.128571</td>\n",
       "      <td>0.335714</td>\n",
       "      <td>20.071429</td>\n",
       "      <td>1.757143</td>\n",
       "      <td>8.932143</td>\n",
       "      <td>939.407143</td>\n",
       "      <td>6.792857</td>\n",
       "      <td>183.92</td>\n",
       "    </tr>\n",
       "    <tr>\n",
       "      <th>1975</th>\n",
       "      <td>2023-02</td>\n",
       "      <td>ZARAGOZA</td>\n",
       "      <td>582.0</td>\n",
       "      <td>4.732143</td>\n",
       "      <td>0.300000</td>\n",
       "      <td>18.607143</td>\n",
       "      <td>1.903571</td>\n",
       "      <td>8.242857</td>\n",
       "      <td>953.957143</td>\n",
       "      <td>5.964286</td>\n",
       "      <td>16.97</td>\n",
       "    </tr>\n",
       "  </tbody>\n",
       "</table>\n",
       "<p>1976 rows × 11 columns</p>\n",
       "</div>"
      ],
      "text/plain": [
       "        FECHA    PROVINCIA  ALTITUD   TEMP_MED      PREC        DIR  \\\n",
       "0     2020-01     A CORUÑA     58.0  11.519355  3.848387  23.580645   \n",
       "1     2020-01     ALBACETE    674.0   6.996774  1.354839  32.483871   \n",
       "2     2020-01     ALICANTE     81.0  11.664516  1.193548  22.000000   \n",
       "3     2020-01      ALMERIA     21.0  12.487097  0.690323  53.967742   \n",
       "4     2020-01  ARABA/ALAVA    513.0   5.445161  0.948387  54.516129   \n",
       "...       ...          ...      ...        ...       ...        ...   \n",
       "1971  2023-02       TOLEDO    690.0   5.757143  0.028571  19.892857   \n",
       "1972  2023-02     VALENCIA     56.0   9.582143  1.014286  59.678571   \n",
       "1973  2023-02   VALLADOLID    846.0   4.242857  0.267857  13.107143   \n",
       "1974  2023-02       ZAMORA    715.0   5.128571  0.335714  20.071429   \n",
       "1975  2023-02     ZARAGOZA    582.0   4.732143  0.300000  18.607143   \n",
       "\n",
       "      VEL_MEDIA      RACHA     PRES_MIN       SOL  TASA_INCIDENCIA  \n",
       "0      3.706452  12.183871  1013.903226  3.838710             0.09  \n",
       "1      0.916129   6.451613   945.961290  5.474194             0.00  \n",
       "2      1.767742   7.741935  1013.180645  6.896774             0.00  \n",
       "3      3.425806   9.629032  1020.690323  6.409677             0.00  \n",
       "4      3.229032  10.045161   963.483871  3.254839             0.00  \n",
       "...         ...        ...          ...       ...              ...  \n",
       "1971   3.935714  11.978571   940.478571  7.700000            40.03  \n",
       "1972   2.817857   8.164286  1015.625000  6.250000            24.16  \n",
       "1973   3.760714   9.750000   924.460714  7.260714            78.59  \n",
       "1974   1.757143   8.932143   939.407143  6.792857           183.92  \n",
       "1975   1.903571   8.242857   953.957143  5.964286            16.97  \n",
       "\n",
       "[1976 rows x 11 columns]"
      ]
     },
     "execution_count": 23,
     "metadata": {},
     "output_type": "execute_result"
    }
   ],
   "source": [
    "df_2"
   ]
  },
  {
   "cell_type": "code",
   "execution_count": 25,
   "id": "f476f8aa",
   "metadata": {},
   "outputs": [],
   "source": [
    "oe_style = OneHotEncoder()\n",
    "\n",
    "oe_results = oe_style.fit_transform(df_2[[\"PROVINCIA\"]]) \n",
    "df_2 = df_2.join(pd.DataFrame(oe_results.toarray(), columns=oe_style.categories_))\n",
    "\n",
    "df_2 = df_2.drop(columns=['PROVINCIA'])"
   ]
  },
  {
   "cell_type": "code",
   "execution_count": 26,
   "id": "11d095bd",
   "metadata": {},
   "outputs": [],
   "source": [
    "df_train_2, df_test_2 = train_test_split(df_2, test_size=0.3)\n",
    "df_train_2 = df_train_2.reset_index()\n",
    "df_test_2 = df_test_2.reset_index()\n",
    "df_train_2 = df_train_2.drop(columns=[\"index\"])\n",
    "df_test_2 = df_test_2.drop(columns=[\"index\"])"
   ]
  },
  {
   "cell_type": "code",
   "execution_count": 27,
   "id": "8f58419e",
   "metadata": {},
   "outputs": [],
   "source": [
    "df_train_2 = df_train_2.set_index('FECHA')\n",
    "df_test_2 = df_test_2.set_index('FECHA')\n",
    "df_train_2.reset_index(drop = True, inplace = True)\n",
    "cv = TimeSeriesSplit()"
   ]
  },
  {
   "cell_type": "code",
   "execution_count": 29,
   "id": "7a8d8340",
   "metadata": {},
   "outputs": [
    {
     "name": "stdout",
     "output_type": "stream",
     "text": [
      "2\n",
      "4\n",
      "8\n",
      "16\n",
      "32\n",
      "64\n",
      "128\n",
      "256\n"
     ]
    },
    {
     "data": {
      "image/png": "[encoded data removed]",
      "text/plain": [
       "<Figure size 640x480 with 1 Axes>"
      ]
     },
     "metadata": {},
     "output_type": "display_data"
    }
   ],
   "source": [
    "l_estimators = [2, 4, 8, 16, 32, 64, 128, 256] #, 512, 1024]\n",
    "\n",
    "total_scores = []\n",
    "for estimators in l_estimators:\n",
    "    print(estimators)\n",
    "    fold_accuracy = []\n",
    "    regressor =  RandomForestRegressor(n_estimators= estimators, criterion='absolute_error', random_state=0)\n",
    "    for train_fold, test_fold in cv.split(df_train_2):\n",
    "        #División train test aleatoria\n",
    "        f_train = df_train.loc[train_fold]\n",
    "        f_test = df_train.loc[test_fold]\n",
    "        # entrenamiento y ejecución del modelo\n",
    "        regressor.fit(X = f_train.drop(['TASA_INCIDENCIA'], axis=1), y = f_train['TASA_INCIDENCIA'])\n",
    "        y_pred = regressor.predict(X = f_test.drop(['TASA_INCIDENCIA'], axis = 1))\n",
    "        # evaluación del modelo\n",
    "        mae = mean_absolute_error(f_test['TASA_INCIDENCIA'], y_pred)\n",
    "        fold_accuracy.append(mae)\n",
    "    total_scores.append(sum(fold_accuracy)/len(fold_accuracy))\n",
    "\n",
    "\n",
    "plt.plot(l_estimators, total_scores, marker='o')\n",
    "plt.ylabel('MAE')      \n",
    "plt.show()"
   ]
  },
  {
   "cell_type": "code",
   "execution_count": 30,
   "id": "91d64b29",
   "metadata": {},
   "outputs": [
    {
     "name": "stdout",
     "output_type": "stream",
     "text": [
      "Min Value (estimators = 256, MAE = 769.23)\n"
     ]
    }
   ],
   "source": [
    "best_est = l_estimators[np.argmin(total_scores)]\n",
    "best_mae = min(total_scores)\n",
    "print (\"Min Value (estimators = %i, MAE = %6.2f)\"  % (best_est, best_mae))"
   ]
  },
  {
   "cell_type": "code",
   "execution_count": 33,
   "id": "29d6d01c",
   "metadata": {},
   "outputs": [],
   "source": [
    "# constructor\n",
    "regressor =  RandomForestRegressor(n_estimators= best_est, criterion='absolute_error', \n",
    "                                   random_state=0)\n",
    "# fit and predict\n",
    "\n",
    "regressor.fit( X = df_train_2.drop(['TASA_INCIDENCIA'], axis=1), y = df_train_2['TASA_INCIDENCIA'])\n",
    "y_pred = regressor.predict(X = df_test_2.drop(['TASA_INCIDENCIA'], axis = 1))"
   ]
  },
  {
   "cell_type": "code",
   "execution_count": 34,
   "id": "24c0c279",
   "metadata": {
    "scrolled": true
   },
   "outputs": [
    {
     "name": "stdout",
     "output_type": "stream",
     "text": [
      "MAE 852.9633602642812\n"
     ]
    }
   ],
   "source": [
    "mae = mean_absolute_error(df_test['TASA_INCIDENCIA'], y_pred)\n",
    "print ('MAE', mae)"
   ]
  },
  {
   "cell_type": "code",
   "execution_count": 35,
   "id": "d5e11324",
   "metadata": {},
   "outputs": [
    {
     "data": {
      "image/png": "[encoded data removed]",
      "text/plain": [
       "<Figure size 640x480 with 1 Axes>"
      ]
     },
     "metadata": {},
     "output_type": "display_data"
    }
   ],
   "source": [
    "xx = np.stack(i for i in range(df_test_2['TASA_INCIDENCIA'].shape[0]))\n",
    "plt.plot(xx, df_test_2['TASA_INCIDENCIA'], c='r', label='data')\n",
    "plt.plot(xx, y_pred, c='g', label='prediction')\n",
    "plt.axis('tight')\n",
    "plt.legend()\n",
    "plt.title(\"RandomForests Regressors (estimators = %i, MAE = %6.2f')\" % (best_est, mae))\n",
    "\n",
    "plt.show()"
   ]
  }
 ],
 "metadata": {
  "kernelspec": {
   "display_name": "Python 3 (ipykernel)",
   "language": "python",
   "name": "python3"
  },
  "language_info": {
   "codemirror_mode": {
    "name": "ipython",
    "version": 3
   },
   "file_extension": ".py",
   "mimetype": "text/x-python",
   "name": "python",
   "nbconvert_exporter": "python",
   "pygments_lexer": "ipython3",
   "version": "3.9.13"
  }
 },
 "nbformat": 4,
 "nbformat_minor": 5
}
