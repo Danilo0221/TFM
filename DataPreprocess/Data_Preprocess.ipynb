{
 "cells": [
  {
   "cell_type": "code",
   "execution_count": 30,
   "metadata": {},
   "outputs": [],
   "source": [
    "import pandas as pd\n",
    "import numpy as np\n",
    "import json\n",
    "import datetime as dt\n",
    "import matplotlib.pyplot as plt"
   ]
  },
  {
   "cell_type": "code",
   "execution_count": 2,
   "metadata": {},
   "outputs": [],
   "source": [
    "df = pd.read_parquet(path = 'C:/Users/Asus/Documents/VIU_Notebooks/TFM/Estandarizada/data_total', engine = 'auto')"
   ]
  },
  {
   "cell_type": "code",
   "execution_count": 3,
   "metadata": {},
   "outputs": [],
   "source": [
    "df = df.drop(columns=['PROVINCIA_ISO','HORA_TEMP_MIN', 'HORA_TEMP_MAX', 'HORA_RACHA', 'HORA_PRES_MAX', 'HORA_PRES_MIN', 'NUM_HOSP', 'NUM_UCI', 'NUM_DEFU', 'GRUPO_EDAD', 'SEXO'])"
   ]
  },
  {
   "cell_type": "code",
   "execution_count": 4,
   "metadata": {},
   "outputs": [
    {
     "data": {
      "text/html": [
       "<div>\n",
       "<style scoped>\n",
       "    .dataframe tbody tr th:only-of-type {\n",
       "        vertical-align: middle;\n",
       "    }\n",
       "\n",
       "    .dataframe tbody tr th {\n",
       "        vertical-align: top;\n",
       "    }\n",
       "\n",
       "    .dataframe thead th {\n",
       "        text-align: right;\n",
       "    }\n",
       "</style>\n",
       "<table border=\"1\" class=\"dataframe\">\n",
       "  <thead>\n",
       "    <tr style=\"text-align: right;\">\n",
       "      <th></th>\n",
       "      <th>FECHA</th>\n",
       "      <th>NUM_CASOS</th>\n",
       "      <th>PROVINCIA</th>\n",
       "      <th>ALTITUD</th>\n",
       "      <th>TEMP_MED</th>\n",
       "      <th>PREC</th>\n",
       "      <th>TEMP_MIN</th>\n",
       "      <th>TEMP_MAX</th>\n",
       "      <th>DIR</th>\n",
       "      <th>VEL_MEDIA</th>\n",
       "      <th>RACHA</th>\n",
       "      <th>PRES_MAX</th>\n",
       "      <th>PRES_MIN</th>\n",
       "      <th>SOL</th>\n",
       "    </tr>\n",
       "  </thead>\n",
       "  <tbody>\n",
       "    <tr>\n",
       "      <th>0</th>\n",
       "      <td>2020-01-01</td>\n",
       "      <td>0</td>\n",
       "      <td>ALICANTE</td>\n",
       "      <td>81</td>\n",
       "      <td>10.3</td>\n",
       "      <td>0.0</td>\n",
       "      <td>4.3</td>\n",
       "      <td>16.3</td>\n",
       "      <td>20.0</td>\n",
       "      <td>1.1</td>\n",
       "      <td>5.0</td>\n",
       "      <td>1023.6</td>\n",
       "      <td>1020.9</td>\n",
       "      <td>8.8</td>\n",
       "    </tr>\n",
       "    <tr>\n",
       "      <th>1</th>\n",
       "      <td>2020-01-01</td>\n",
       "      <td>0</td>\n",
       "      <td>ALICANTE</td>\n",
       "      <td>81</td>\n",
       "      <td>10.3</td>\n",
       "      <td>0.0</td>\n",
       "      <td>4.3</td>\n",
       "      <td>16.3</td>\n",
       "      <td>20.0</td>\n",
       "      <td>1.1</td>\n",
       "      <td>5.0</td>\n",
       "      <td>1023.6</td>\n",
       "      <td>1020.9</td>\n",
       "      <td>8.8</td>\n",
       "    </tr>\n",
       "    <tr>\n",
       "      <th>2</th>\n",
       "      <td>2020-01-01</td>\n",
       "      <td>0</td>\n",
       "      <td>ALICANTE</td>\n",
       "      <td>81</td>\n",
       "      <td>10.3</td>\n",
       "      <td>0.0</td>\n",
       "      <td>4.3</td>\n",
       "      <td>16.3</td>\n",
       "      <td>20.0</td>\n",
       "      <td>1.1</td>\n",
       "      <td>5.0</td>\n",
       "      <td>1023.6</td>\n",
       "      <td>1020.9</td>\n",
       "      <td>8.8</td>\n",
       "    </tr>\n",
       "    <tr>\n",
       "      <th>3</th>\n",
       "      <td>2020-01-01</td>\n",
       "      <td>0</td>\n",
       "      <td>ALICANTE</td>\n",
       "      <td>81</td>\n",
       "      <td>10.3</td>\n",
       "      <td>0.0</td>\n",
       "      <td>4.3</td>\n",
       "      <td>16.3</td>\n",
       "      <td>20.0</td>\n",
       "      <td>1.1</td>\n",
       "      <td>5.0</td>\n",
       "      <td>1023.6</td>\n",
       "      <td>1020.9</td>\n",
       "      <td>8.8</td>\n",
       "    </tr>\n",
       "    <tr>\n",
       "      <th>4</th>\n",
       "      <td>2020-01-01</td>\n",
       "      <td>0</td>\n",
       "      <td>ALICANTE</td>\n",
       "      <td>81</td>\n",
       "      <td>10.3</td>\n",
       "      <td>0.0</td>\n",
       "      <td>4.3</td>\n",
       "      <td>16.3</td>\n",
       "      <td>20.0</td>\n",
       "      <td>1.1</td>\n",
       "      <td>5.0</td>\n",
       "      <td>1023.6</td>\n",
       "      <td>1020.9</td>\n",
       "      <td>8.8</td>\n",
       "    </tr>\n",
       "    <tr>\n",
       "      <th>...</th>\n",
       "      <td>...</td>\n",
       "      <td>...</td>\n",
       "      <td>...</td>\n",
       "      <td>...</td>\n",
       "      <td>...</td>\n",
       "      <td>...</td>\n",
       "      <td>...</td>\n",
       "      <td>...</td>\n",
       "      <td>...</td>\n",
       "      <td>...</td>\n",
       "      <td>...</td>\n",
       "      <td>...</td>\n",
       "      <td>...</td>\n",
       "      <td>...</td>\n",
       "    </tr>\n",
       "    <tr>\n",
       "      <th>1458283</th>\n",
       "      <td>2023-02-28</td>\n",
       "      <td>3</td>\n",
       "      <td>ZAMORA</td>\n",
       "      <td>715</td>\n",
       "      <td>0.6</td>\n",
       "      <td>0.0</td>\n",
       "      <td>-5.5</td>\n",
       "      <td>6.8</td>\n",
       "      <td>3.0</td>\n",
       "      <td>1.9</td>\n",
       "      <td>10.0</td>\n",
       "      <td>940.4</td>\n",
       "      <td>937.7</td>\n",
       "      <td>5.4</td>\n",
       "    </tr>\n",
       "    <tr>\n",
       "      <th>1458284</th>\n",
       "      <td>2023-02-28</td>\n",
       "      <td>5</td>\n",
       "      <td>ZAMORA</td>\n",
       "      <td>715</td>\n",
       "      <td>0.6</td>\n",
       "      <td>0.0</td>\n",
       "      <td>-5.5</td>\n",
       "      <td>6.8</td>\n",
       "      <td>3.0</td>\n",
       "      <td>1.9</td>\n",
       "      <td>10.0</td>\n",
       "      <td>940.4</td>\n",
       "      <td>937.7</td>\n",
       "      <td>5.4</td>\n",
       "    </tr>\n",
       "    <tr>\n",
       "      <th>1458285</th>\n",
       "      <td>2023-02-28</td>\n",
       "      <td>0</td>\n",
       "      <td>ZAMORA</td>\n",
       "      <td>715</td>\n",
       "      <td>0.6</td>\n",
       "      <td>0.0</td>\n",
       "      <td>-5.5</td>\n",
       "      <td>6.8</td>\n",
       "      <td>3.0</td>\n",
       "      <td>1.9</td>\n",
       "      <td>10.0</td>\n",
       "      <td>940.4</td>\n",
       "      <td>937.7</td>\n",
       "      <td>5.4</td>\n",
       "    </tr>\n",
       "    <tr>\n",
       "      <th>1458286</th>\n",
       "      <td>2023-02-28</td>\n",
       "      <td>0</td>\n",
       "      <td>ZAMORA</td>\n",
       "      <td>715</td>\n",
       "      <td>0.6</td>\n",
       "      <td>0.0</td>\n",
       "      <td>-5.5</td>\n",
       "      <td>6.8</td>\n",
       "      <td>3.0</td>\n",
       "      <td>1.9</td>\n",
       "      <td>10.0</td>\n",
       "      <td>940.4</td>\n",
       "      <td>937.7</td>\n",
       "      <td>5.4</td>\n",
       "    </tr>\n",
       "    <tr>\n",
       "      <th>1458287</th>\n",
       "      <td>2023-02-28</td>\n",
       "      <td>0</td>\n",
       "      <td>ZAMORA</td>\n",
       "      <td>715</td>\n",
       "      <td>0.6</td>\n",
       "      <td>0.0</td>\n",
       "      <td>-5.5</td>\n",
       "      <td>6.8</td>\n",
       "      <td>3.0</td>\n",
       "      <td>1.9</td>\n",
       "      <td>10.0</td>\n",
       "      <td>940.4</td>\n",
       "      <td>937.7</td>\n",
       "      <td>5.4</td>\n",
       "    </tr>\n",
       "  </tbody>\n",
       "</table>\n",
       "<p>1458288 rows × 14 columns</p>\n",
       "</div>"
      ],
      "text/plain": [
       "             FECHA  NUM_CASOS PROVINCIA  ALTITUD  TEMP_MED  PREC  TEMP_MIN  \\\n",
       "0       2020-01-01          0  ALICANTE       81      10.3   0.0       4.3   \n",
       "1       2020-01-01          0  ALICANTE       81      10.3   0.0       4.3   \n",
       "2       2020-01-01          0  ALICANTE       81      10.3   0.0       4.3   \n",
       "3       2020-01-01          0  ALICANTE       81      10.3   0.0       4.3   \n",
       "4       2020-01-01          0  ALICANTE       81      10.3   0.0       4.3   \n",
       "...            ...        ...       ...      ...       ...   ...       ...   \n",
       "1458283 2023-02-28          3    ZAMORA      715       0.6   0.0      -5.5   \n",
       "1458284 2023-02-28          5    ZAMORA      715       0.6   0.0      -5.5   \n",
       "1458285 2023-02-28          0    ZAMORA      715       0.6   0.0      -5.5   \n",
       "1458286 2023-02-28          0    ZAMORA      715       0.6   0.0      -5.5   \n",
       "1458287 2023-02-28          0    ZAMORA      715       0.6   0.0      -5.5   \n",
       "\n",
       "         TEMP_MAX   DIR  VEL_MEDIA  RACHA  PRES_MAX  PRES_MIN  SOL  \n",
       "0            16.3  20.0        1.1    5.0    1023.6    1020.9  8.8  \n",
       "1            16.3  20.0        1.1    5.0    1023.6    1020.9  8.8  \n",
       "2            16.3  20.0        1.1    5.0    1023.6    1020.9  8.8  \n",
       "3            16.3  20.0        1.1    5.0    1023.6    1020.9  8.8  \n",
       "4            16.3  20.0        1.1    5.0    1023.6    1020.9  8.8  \n",
       "...           ...   ...        ...    ...       ...       ...  ...  \n",
       "1458283       6.8   3.0        1.9   10.0     940.4     937.7  5.4  \n",
       "1458284       6.8   3.0        1.9   10.0     940.4     937.7  5.4  \n",
       "1458285       6.8   3.0        1.9   10.0     940.4     937.7  5.4  \n",
       "1458286       6.8   3.0        1.9   10.0     940.4     937.7  5.4  \n",
       "1458287       6.8   3.0        1.9   10.0     940.4     937.7  5.4  \n",
       "\n",
       "[1458288 rows x 14 columns]"
      ]
     },
     "execution_count": 4,
     "metadata": {},
     "output_type": "execute_result"
    }
   ],
   "source": [
    "df"
   ]
  },
  {
   "cell_type": "code",
   "execution_count": 5,
   "metadata": {},
   "outputs": [],
   "source": [
    "#df['MONTH'] = pd.DatetimeIndex(df['FECHA']).month\n",
    "#df['WEEK'] = df['FECHA'].dt.isocalendar().week.astype(int)\n",
    "df['FECHA'] = pd.to_datetime(df.FECHA).dt.to_period('m')"
   ]
  },
  {
   "cell_type": "code",
   "execution_count": 6,
   "metadata": {},
   "outputs": [
    {
     "name": "stdout",
     "output_type": "stream",
     "text": [
      "2020-01\n"
     ]
    }
   ],
   "source": [
    "fec_start = df.loc[df[\"FECHA\"].idxmin()][\"FECHA\"]\n",
    "print(fec_start)"
   ]
  },
  {
   "cell_type": "code",
   "execution_count": 7,
   "metadata": {
    "scrolled": true
   },
   "outputs": [
    {
     "name": "stdout",
     "output_type": "stream",
     "text": [
      "2023-02\n"
     ]
    }
   ],
   "source": [
    "fec_end = df.loc[df[\"FECHA\"].idxmax()][\"FECHA\"]\n",
    "print(fec_end)"
   ]
  },
  {
   "cell_type": "code",
   "execution_count": 8,
   "metadata": {
    "scrolled": true
   },
   "outputs": [
    {
     "name": "stdout",
     "output_type": "stream",
     "text": [
      "<37 * MonthEnds>\n"
     ]
    }
   ],
   "source": [
    "from operator import attrgetter\n",
    "diff = fec_end - fec_start\n",
    "print(diff)"
   ]
  },
  {
   "cell_type": "code",
   "execution_count": 9,
   "metadata": {},
   "outputs": [],
   "source": [
    "df = df.groupby(['FECHA', 'PROVINCIA']).agg(\n",
    "    {'NUM_CASOS':'sum', 'ALTITUD': 'mean', 'TEMP_MED': 'mean', \n",
    "     'PREC': 'mean', 'TEMP_MIN': 'mean', 'TEMP_MAX': 'mean', 'DIR': 'mean', 'VEL_MEDIA': 'mean', 'RACHA': 'mean', \n",
    "     'PRES_MAX': 'mean', 'PRES_MIN': 'mean', 'SOL': 'mean'}).reset_index()"
   ]
  },
  {
   "cell_type": "code",
   "execution_count": 10,
   "metadata": {},
   "outputs": [],
   "source": [
    "df_ten = df[[\"FECHA\", \"NUM_CASOS\"]]"
   ]
  },
  {
   "cell_type": "code",
   "execution_count": 11,
   "metadata": {},
   "outputs": [],
   "source": [
    "df_ten = df_ten.groupby(['FECHA']).agg({'NUM_CASOS':'sum'}).reset_index()"
   ]
  },
  {
   "cell_type": "code",
   "execution_count": 12,
   "metadata": {},
   "outputs": [
    {
     "ename": "NameError",
     "evalue": "name 'plt' is not defined",
     "output_type": "error",
     "traceback": [
      "\u001b[1;31m---------------------------------------------------------------------------\u001b[0m",
      "\u001b[1;31mNameError\u001b[0m                                 Traceback (most recent call last)",
      "\u001b[1;32m~\\AppData\\Local\\Temp\\ipykernel_15484\\680244625.py\u001b[0m in \u001b[0;36m<module>\u001b[1;34m\u001b[0m\n\u001b[0;32m      1\u001b[0m \u001b[0mdf_ten\u001b[0m\u001b[1;33m.\u001b[0m\u001b[0mplot\u001b[0m\u001b[1;33m(\u001b[0m\u001b[0mx\u001b[0m\u001b[1;33m=\u001b[0m\u001b[1;34m\"FECHA\"\u001b[0m\u001b[1;33m,\u001b[0m \u001b[0my\u001b[0m\u001b[1;33m=\u001b[0m\u001b[1;34m\"NUM_CASOS\"\u001b[0m\u001b[1;33m,\u001b[0m \u001b[0mkind\u001b[0m\u001b[1;33m=\u001b[0m\u001b[1;34m\"line\"\u001b[0m\u001b[1;33m)\u001b[0m\u001b[1;33m\u001b[0m\u001b[1;33m\u001b[0m\u001b[0m\n\u001b[1;32m----> 2\u001b[1;33m \u001b[0mplt\u001b[0m\u001b[1;33m.\u001b[0m\u001b[0mshow\u001b[0m\u001b[1;33m(\u001b[0m\u001b[1;33m)\u001b[0m\u001b[1;33m\u001b[0m\u001b[1;33m\u001b[0m\u001b[0m\n\u001b[0m",
      "\u001b[1;31mNameError\u001b[0m: name 'plt' is not defined"
     ]
    },
    {
     "data": {
      "image/png": "[encoded data removed]",
      "text/plain": [
       "<Figure size 640x480 with 1 Axes>"
      ]
     },
     "metadata": {},
     "output_type": "display_data"
    }
   ],
   "source": [
    "df_ten.plot(x=\"FECHA\", y=\"NUM_CASOS\", kind=\"line\")\n",
    "plt.show()"
   ]
  },
  {
   "cell_type": "code",
   "execution_count": 13,
   "metadata": {
    "scrolled": true
   },
   "outputs": [
    {
     "data": {
      "text/plain": [
       "(1976, 14)"
      ]
     },
     "execution_count": 13,
     "metadata": {},
     "output_type": "execute_result"
    }
   ],
   "source": [
    "df.shape"
   ]
  },
  {
   "cell_type": "code",
   "execution_count": 14,
   "metadata": {
    "scrolled": true
   },
   "outputs": [
    {
     "data": {
      "text/html": [
       "<div>\n",
       "<style scoped>\n",
       "    .dataframe tbody tr th:only-of-type {\n",
       "        vertical-align: middle;\n",
       "    }\n",
       "\n",
       "    .dataframe tbody tr th {\n",
       "        vertical-align: top;\n",
       "    }\n",
       "\n",
       "    .dataframe thead th {\n",
       "        text-align: right;\n",
       "    }\n",
       "</style>\n",
       "<table border=\"1\" class=\"dataframe\">\n",
       "  <thead>\n",
       "    <tr style=\"text-align: right;\">\n",
       "      <th></th>\n",
       "      <th>FECHA</th>\n",
       "      <th>PROVINCIA</th>\n",
       "      <th>NUM_CASOS</th>\n",
       "      <th>ALTITUD</th>\n",
       "      <th>TEMP_MED</th>\n",
       "      <th>PREC</th>\n",
       "      <th>TEMP_MIN</th>\n",
       "      <th>TEMP_MAX</th>\n",
       "      <th>DIR</th>\n",
       "      <th>VEL_MEDIA</th>\n",
       "      <th>RACHA</th>\n",
       "      <th>PRES_MAX</th>\n",
       "      <th>PRES_MIN</th>\n",
       "      <th>SOL</th>\n",
       "    </tr>\n",
       "  </thead>\n",
       "  <tbody>\n",
       "    <tr>\n",
       "      <th>0</th>\n",
       "      <td>2020-01</td>\n",
       "      <td>A CORUÑA</td>\n",
       "      <td>1</td>\n",
       "      <td>58.0</td>\n",
       "      <td>11.519355</td>\n",
       "      <td>3.848387</td>\n",
       "      <td>8.900000</td>\n",
       "      <td>14.132258</td>\n",
       "      <td>23.580645</td>\n",
       "      <td>3.706452</td>\n",
       "      <td>12.183871</td>\n",
       "      <td>1019.816129</td>\n",
       "      <td>1013.903226</td>\n",
       "      <td>3.838710</td>\n",
       "    </tr>\n",
       "    <tr>\n",
       "      <th>1</th>\n",
       "      <td>2020-01</td>\n",
       "      <td>ALBACETE</td>\n",
       "      <td>0</td>\n",
       "      <td>674.0</td>\n",
       "      <td>6.996774</td>\n",
       "      <td>1.354839</td>\n",
       "      <td>1.493548</td>\n",
       "      <td>12.483871</td>\n",
       "      <td>32.483871</td>\n",
       "      <td>0.916129</td>\n",
       "      <td>6.451613</td>\n",
       "      <td>949.235484</td>\n",
       "      <td>945.961290</td>\n",
       "      <td>5.474194</td>\n",
       "    </tr>\n",
       "    <tr>\n",
       "      <th>2</th>\n",
       "      <td>2020-01</td>\n",
       "      <td>ALICANTE</td>\n",
       "      <td>0</td>\n",
       "      <td>81.0</td>\n",
       "      <td>11.664516</td>\n",
       "      <td>1.193548</td>\n",
       "      <td>6.183871</td>\n",
       "      <td>17.145161</td>\n",
       "      <td>22.000000</td>\n",
       "      <td>1.767742</td>\n",
       "      <td>7.741935</td>\n",
       "      <td>1017.296774</td>\n",
       "      <td>1013.180645</td>\n",
       "      <td>6.896774</td>\n",
       "    </tr>\n",
       "    <tr>\n",
       "      <th>3</th>\n",
       "      <td>2020-01</td>\n",
       "      <td>ALMERIA</td>\n",
       "      <td>0</td>\n",
       "      <td>21.0</td>\n",
       "      <td>12.487097</td>\n",
       "      <td>0.690323</td>\n",
       "      <td>8.206452</td>\n",
       "      <td>16.758065</td>\n",
       "      <td>53.967742</td>\n",
       "      <td>3.425806</td>\n",
       "      <td>9.629032</td>\n",
       "      <td>1024.670968</td>\n",
       "      <td>1020.690323</td>\n",
       "      <td>6.409677</td>\n",
       "    </tr>\n",
       "    <tr>\n",
       "      <th>4</th>\n",
       "      <td>2020-01</td>\n",
       "      <td>ARABA/ALAVA</td>\n",
       "      <td>0</td>\n",
       "      <td>513.0</td>\n",
       "      <td>5.445161</td>\n",
       "      <td>0.948387</td>\n",
       "      <td>0.990323</td>\n",
       "      <td>9.912903</td>\n",
       "      <td>54.516129</td>\n",
       "      <td>3.229032</td>\n",
       "      <td>10.045161</td>\n",
       "      <td>967.941935</td>\n",
       "      <td>963.483871</td>\n",
       "      <td>3.254839</td>\n",
       "    </tr>\n",
       "    <tr>\n",
       "      <th>...</th>\n",
       "      <td>...</td>\n",
       "      <td>...</td>\n",
       "      <td>...</td>\n",
       "      <td>...</td>\n",
       "      <td>...</td>\n",
       "      <td>...</td>\n",
       "      <td>...</td>\n",
       "      <td>...</td>\n",
       "      <td>...</td>\n",
       "      <td>...</td>\n",
       "      <td>...</td>\n",
       "      <td>...</td>\n",
       "      <td>...</td>\n",
       "      <td>...</td>\n",
       "    </tr>\n",
       "    <tr>\n",
       "      <th>1971</th>\n",
       "      <td>2023-02</td>\n",
       "      <td>TOLEDO</td>\n",
       "      <td>286</td>\n",
       "      <td>690.0</td>\n",
       "      <td>5.757143</td>\n",
       "      <td>0.028571</td>\n",
       "      <td>-1.303571</td>\n",
       "      <td>12.803571</td>\n",
       "      <td>19.892857</td>\n",
       "      <td>3.935714</td>\n",
       "      <td>11.978571</td>\n",
       "      <td>944.539286</td>\n",
       "      <td>940.478571</td>\n",
       "      <td>7.700000</td>\n",
       "    </tr>\n",
       "    <tr>\n",
       "      <th>1972</th>\n",
       "      <td>2023-02</td>\n",
       "      <td>VALENCIA</td>\n",
       "      <td>630</td>\n",
       "      <td>56.0</td>\n",
       "      <td>9.582143</td>\n",
       "      <td>1.014286</td>\n",
       "      <td>3.578571</td>\n",
       "      <td>15.575000</td>\n",
       "      <td>59.678571</td>\n",
       "      <td>2.817857</td>\n",
       "      <td>8.164286</td>\n",
       "      <td>1019.975000</td>\n",
       "      <td>1015.625000</td>\n",
       "      <td>6.250000</td>\n",
       "    </tr>\n",
       "    <tr>\n",
       "      <th>1973</th>\n",
       "      <td>2023-02</td>\n",
       "      <td>VALLADOLID</td>\n",
       "      <td>407</td>\n",
       "      <td>846.0</td>\n",
       "      <td>4.242857</td>\n",
       "      <td>0.267857</td>\n",
       "      <td>-2.357143</td>\n",
       "      <td>10.853571</td>\n",
       "      <td>13.107143</td>\n",
       "      <td>3.760714</td>\n",
       "      <td>9.750000</td>\n",
       "      <td>928.325000</td>\n",
       "      <td>924.460714</td>\n",
       "      <td>7.260714</td>\n",
       "    </tr>\n",
       "    <tr>\n",
       "      <th>1974</th>\n",
       "      <td>2023-02</td>\n",
       "      <td>ZAMORA</td>\n",
       "      <td>307</td>\n",
       "      <td>715.0</td>\n",
       "      <td>5.128571</td>\n",
       "      <td>0.335714</td>\n",
       "      <td>-1.796429</td>\n",
       "      <td>12.064286</td>\n",
       "      <td>20.071429</td>\n",
       "      <td>1.757143</td>\n",
       "      <td>8.932143</td>\n",
       "      <td>943.646429</td>\n",
       "      <td>939.407143</td>\n",
       "      <td>6.792857</td>\n",
       "    </tr>\n",
       "    <tr>\n",
       "      <th>1975</th>\n",
       "      <td>2023-02</td>\n",
       "      <td>ZARAGOZA</td>\n",
       "      <td>164</td>\n",
       "      <td>582.0</td>\n",
       "      <td>4.732143</td>\n",
       "      <td>0.300000</td>\n",
       "      <td>-2.885714</td>\n",
       "      <td>12.346429</td>\n",
       "      <td>18.607143</td>\n",
       "      <td>1.903571</td>\n",
       "      <td>8.242857</td>\n",
       "      <td>958.775000</td>\n",
       "      <td>953.957143</td>\n",
       "      <td>5.964286</td>\n",
       "    </tr>\n",
       "  </tbody>\n",
       "</table>\n",
       "<p>1976 rows × 14 columns</p>\n",
       "</div>"
      ],
      "text/plain": [
       "        FECHA    PROVINCIA  NUM_CASOS  ALTITUD   TEMP_MED      PREC  TEMP_MIN  \\\n",
       "0     2020-01     A CORUÑA          1     58.0  11.519355  3.848387  8.900000   \n",
       "1     2020-01     ALBACETE          0    674.0   6.996774  1.354839  1.493548   \n",
       "2     2020-01     ALICANTE          0     81.0  11.664516  1.193548  6.183871   \n",
       "3     2020-01      ALMERIA          0     21.0  12.487097  0.690323  8.206452   \n",
       "4     2020-01  ARABA/ALAVA          0    513.0   5.445161  0.948387  0.990323   \n",
       "...       ...          ...        ...      ...        ...       ...       ...   \n",
       "1971  2023-02       TOLEDO        286    690.0   5.757143  0.028571 -1.303571   \n",
       "1972  2023-02     VALENCIA        630     56.0   9.582143  1.014286  3.578571   \n",
       "1973  2023-02   VALLADOLID        407    846.0   4.242857  0.267857 -2.357143   \n",
       "1974  2023-02       ZAMORA        307    715.0   5.128571  0.335714 -1.796429   \n",
       "1975  2023-02     ZARAGOZA        164    582.0   4.732143  0.300000 -2.885714   \n",
       "\n",
       "       TEMP_MAX        DIR  VEL_MEDIA      RACHA     PRES_MAX     PRES_MIN  \\\n",
       "0     14.132258  23.580645   3.706452  12.183871  1019.816129  1013.903226   \n",
       "1     12.483871  32.483871   0.916129   6.451613   949.235484   945.961290   \n",
       "2     17.145161  22.000000   1.767742   7.741935  1017.296774  1013.180645   \n",
       "3     16.758065  53.967742   3.425806   9.629032  1024.670968  1020.690323   \n",
       "4      9.912903  54.516129   3.229032  10.045161   967.941935   963.483871   \n",
       "...         ...        ...        ...        ...          ...          ...   \n",
       "1971  12.803571  19.892857   3.935714  11.978571   944.539286   940.478571   \n",
       "1972  15.575000  59.678571   2.817857   8.164286  1019.975000  1015.625000   \n",
       "1973  10.853571  13.107143   3.760714   9.750000   928.325000   924.460714   \n",
       "1974  12.064286  20.071429   1.757143   8.932143   943.646429   939.407143   \n",
       "1975  12.346429  18.607143   1.903571   8.242857   958.775000   953.957143   \n",
       "\n",
       "           SOL  \n",
       "0     3.838710  \n",
       "1     5.474194  \n",
       "2     6.896774  \n",
       "3     6.409677  \n",
       "4     3.254839  \n",
       "...        ...  \n",
       "1971  7.700000  \n",
       "1972  6.250000  \n",
       "1973  7.260714  \n",
       "1974  6.792857  \n",
       "1975  5.964286  \n",
       "\n",
       "[1976 rows x 14 columns]"
      ]
     },
     "execution_count": 14,
     "metadata": {},
     "output_type": "execute_result"
    }
   ],
   "source": [
    "df"
   ]
  },
  {
   "cell_type": "markdown",
   "metadata": {},
   "source": [
    "# Población por provincia"
   ]
  },
  {
   "cell_type": "code",
   "execution_count": 15,
   "metadata": {},
   "outputs": [
    {
     "name": "stderr",
     "output_type": "stream",
     "text": [
      "C:\\Users\\Asus\\AppData\\Local\\Temp\\ipykernel_15484\\3328156847.py:6: FutureWarning: The default value of regex will change from True to False in a future version. In addition, single character regular expressions will *not* be treated as literal strings when regex=True.\n",
      "  df_pob[\"Total\"] = df_pob[\"Total\"].str.replace(\".\",\"\").astype(int)\n"
     ]
    }
   ],
   "source": [
    "# Se utiliza la geometrica \n",
    "df_pob = pd.read_csv(\"pobla_prov.csv\", encoding=\"latin\", keep_default_na=False, na_values=\"\", sep=';')\n",
    "df_pob = df_pob.drop(columns=['Sexo','Edad (año a año)', 'Españoles/Extranjeros'])\n",
    "df_pob[\"Provincias\"] = df_pob[\"Provincias\"].str.slice(start=3)\n",
    "df_pob = df_pob[df_pob[\"Año\"] >= 2013]\n",
    "df_pob[\"Total\"] = df_pob[\"Total\"].str.replace(\".\",\"\").astype(int)\n",
    "df_pob = df_pob.assign(FEC_POB_INI = lambda x: (x['Año'] + 1))\n",
    "df_pob[\"Provincias\"] = df_pob[\"Provincias\"].str.upper()\n",
    "df_pob[\"Provincias\"] = df_pob[\"Provincias\"].str.strip()\n",
    "df_pob.columns = [\"PROVINCIA\", \"YEAR_ACUM\", \"TOTAL_POB\", \"YEAR\"]\n",
    "df_pob['PROVINCIA'] = df_pob['PROVINCIA'].replace(['ALMERÍA'], 'ALMERIA')\n",
    "df_pob['PROVINCIA'] = df_pob['PROVINCIA'].replace(['ARABA/ÁLAVA'], 'ARABA/ALAVA')\n",
    "df_pob['PROVINCIA'] = df_pob['PROVINCIA'].replace(['ALICANTE/ALACANT'], 'ALICANTE')\n",
    "df_pob['PROVINCIA'] = df_pob['PROVINCIA'].replace(['ÁVILA'], 'AVILA')\n",
    "df_pob['PROVINCIA'] = df_pob['PROVINCIA'].replace(['BALEARS, ILLES'], 'ILLES BALEARS')\n",
    "df_pob['PROVINCIA'] = df_pob['PROVINCIA'].replace(['CÁCERES'], 'CACERES')\n",
    "df_pob['PROVINCIA'] = df_pob['PROVINCIA'].replace(['CÁDIZ'], 'CADIZ')\n",
    "df_pob['PROVINCIA'] = df_pob['PROVINCIA'].replace(['CASTELLÓN/CASTELLÓ'], 'CASTELLON')\n",
    "df_pob['PROVINCIA'] = df_pob['PROVINCIA'].replace(['CÓRDOBA'], 'CORDOBA')\n",
    "df_pob['PROVINCIA'] = df_pob['PROVINCIA'].replace(['CORUÑA, A'], 'A CORUÑA')\n",
    "df_pob['PROVINCIA'] = df_pob['PROVINCIA'].replace(['JAÉN'], 'JAEN')\n",
    "df_pob['PROVINCIA'] = df_pob['PROVINCIA'].replace(['LEÓN'], 'LEON')\n",
    "df_pob['PROVINCIA'] = df_pob['PROVINCIA'].replace(['MÁLAGA'], 'MALAGA')\n",
    "df_pob['PROVINCIA'] = df_pob['PROVINCIA'].replace(['PALMAS, LAS'], 'LAS PALMAS')\n",
    "df_pob['PROVINCIA'] = df_pob['PROVINCIA'].replace(['RIOJA, LA'], 'LA RIOJA')\n",
    "df_pob['PROVINCIA'] = df_pob['PROVINCIA'].replace(['SANTA CRUZ DE TENERIFE'], 'STA. CRUZ DE TENERIFE')\n",
    "df_pob['PROVINCIA'] = df_pob['PROVINCIA'].replace(['VALENCIA/VALÈNCIA'], 'VALENCIA')\n",
    "\n",
    "d = {}\n",
    "num_year = 2022 - 2019\n",
    "prov = list(df_pob['PROVINCIA'].unique())\n",
    "for i in prov:\n",
    "    poblacion_inicial = df_pob[(df_pob[\"PROVINCIA\"] == i) & (df_pob[\"YEAR_ACUM\"] == 2019)][\"TOTAL_POB\"].values[0]\n",
    "    poblacion_final = df_pob[(df_pob[\"PROVINCIA\"] == i) & (df_pob[\"YEAR_ACUM\"] == 2022)][\"TOTAL_POB\"].values[0]\n",
    "    tasa_crecimiento_anual = ((poblacion_final / poblacion_inicial) ** (1 / num_year) - 1)\n",
    "    tasa_crecimiento_mensual = (1 + tasa_crecimiento_anual) ** (1 / 12) - 1\n",
    "    d[i] = tasa_crecimiento_mensual\n",
    "    \n",
    "tasa_prov = pd.DataFrame([d]).transpose()\n",
    "tasa_prov.reset_index(inplace = True)\n",
    "tasa_prov.rename(columns={0:\"TASA_MENSUAL\", \"index\": \"PROVINCIA\"}, inplace=True)"
   ]
  },
  {
   "cell_type": "code",
   "execution_count": 16,
   "metadata": {},
   "outputs": [],
   "source": [
    "df_prov_fec = df[[\"PROVINCIA\", \"FECHA\"]]\n",
    "df_prov_fec = df_prov_fec.drop_duplicates().sort_values(by=['PROVINCIA', 'FECHA'])\n",
    "df_prov_fec = df_prov_fec.assign(YEAR = lambda x: (x['FECHA'].astype(str).str.slice(stop=4).astype(int)))\n",
    "DF_PROV = df_prov_fec.merge(df_pob, how='left', on=['PROVINCIA', 'YEAR'])\n",
    "DF_PROV = DF_PROV.merge(tasa_prov, how='inner', on=['PROVINCIA'])\n",
    "DF_PROV = DF_PROV.assign(POB_MEN = lambda x: (\n",
    "    round(x[\"TOTAL_POB\"] * (1 + x[\"TASA_MENSUAL\"]) ** (x['FECHA'].astype(str).str.slice(start=5).astype(int))).astype(int)))\n",
    "DF_PROV = DF_PROV.drop(columns=['YEAR', 'YEAR_ACUM', 'TOTAL_POB', 'TASA_MENSUAL'])"
   ]
  },
  {
   "cell_type": "code",
   "execution_count": 17,
   "metadata": {},
   "outputs": [],
   "source": [
    "df = df.merge(DF_PROV, how='inner', on=[\"PROVINCIA\", \"FECHA\"])\n",
    "df = df.assign(TASA_INCIDENCIA = lambda x: (round((x[\"NUM_CASOS\"] / x[\"POB_MEN\"]) * 100000,2)))\n",
    "df = df.drop(columns=['NUM_CASOS', 'POB_MEN'])"
   ]
  },
  {
   "cell_type": "code",
   "execution_count": 18,
   "metadata": {
    "scrolled": true
   },
   "outputs": [
    {
     "data": {
      "text/plain": [
       "(1976, 14)"
      ]
     },
     "execution_count": 18,
     "metadata": {},
     "output_type": "execute_result"
    }
   ],
   "source": [
    "df.shape"
   ]
  },
  {
   "cell_type": "code",
   "execution_count": 19,
   "metadata": {
    "scrolled": true
   },
   "outputs": [
    {
     "data": {
      "text/html": [
       "<div>\n",
       "<style scoped>\n",
       "    .dataframe tbody tr th:only-of-type {\n",
       "        vertical-align: middle;\n",
       "    }\n",
       "\n",
       "    .dataframe tbody tr th {\n",
       "        vertical-align: top;\n",
       "    }\n",
       "\n",
       "    .dataframe thead th {\n",
       "        text-align: right;\n",
       "    }\n",
       "</style>\n",
       "<table border=\"1\" class=\"dataframe\">\n",
       "  <thead>\n",
       "    <tr style=\"text-align: right;\">\n",
       "      <th></th>\n",
       "      <th>FECHA</th>\n",
       "      <th>PROVINCIA</th>\n",
       "      <th>ALTITUD</th>\n",
       "      <th>TEMP_MED</th>\n",
       "      <th>PREC</th>\n",
       "      <th>TEMP_MIN</th>\n",
       "      <th>TEMP_MAX</th>\n",
       "      <th>DIR</th>\n",
       "      <th>VEL_MEDIA</th>\n",
       "      <th>RACHA</th>\n",
       "      <th>PRES_MAX</th>\n",
       "      <th>PRES_MIN</th>\n",
       "      <th>SOL</th>\n",
       "      <th>TASA_INCIDENCIA</th>\n",
       "    </tr>\n",
       "  </thead>\n",
       "  <tbody>\n",
       "    <tr>\n",
       "      <th>0</th>\n",
       "      <td>2020-01</td>\n",
       "      <td>A CORUÑA</td>\n",
       "      <td>58.0</td>\n",
       "      <td>11.519355</td>\n",
       "      <td>3.848387</td>\n",
       "      <td>8.900000</td>\n",
       "      <td>14.132258</td>\n",
       "      <td>23.580645</td>\n",
       "      <td>3.706452</td>\n",
       "      <td>12.183871</td>\n",
       "      <td>1019.816129</td>\n",
       "      <td>1013.903226</td>\n",
       "      <td>3.838710</td>\n",
       "      <td>0.09</td>\n",
       "    </tr>\n",
       "    <tr>\n",
       "      <th>1</th>\n",
       "      <td>2020-01</td>\n",
       "      <td>ALBACETE</td>\n",
       "      <td>674.0</td>\n",
       "      <td>6.996774</td>\n",
       "      <td>1.354839</td>\n",
       "      <td>1.493548</td>\n",
       "      <td>12.483871</td>\n",
       "      <td>32.483871</td>\n",
       "      <td>0.916129</td>\n",
       "      <td>6.451613</td>\n",
       "      <td>949.235484</td>\n",
       "      <td>945.961290</td>\n",
       "      <td>5.474194</td>\n",
       "      <td>0.00</td>\n",
       "    </tr>\n",
       "    <tr>\n",
       "      <th>2</th>\n",
       "      <td>2020-01</td>\n",
       "      <td>ALICANTE</td>\n",
       "      <td>81.0</td>\n",
       "      <td>11.664516</td>\n",
       "      <td>1.193548</td>\n",
       "      <td>6.183871</td>\n",
       "      <td>17.145161</td>\n",
       "      <td>22.000000</td>\n",
       "      <td>1.767742</td>\n",
       "      <td>7.741935</td>\n",
       "      <td>1017.296774</td>\n",
       "      <td>1013.180645</td>\n",
       "      <td>6.896774</td>\n",
       "      <td>0.00</td>\n",
       "    </tr>\n",
       "    <tr>\n",
       "      <th>3</th>\n",
       "      <td>2020-01</td>\n",
       "      <td>ALMERIA</td>\n",
       "      <td>21.0</td>\n",
       "      <td>12.487097</td>\n",
       "      <td>0.690323</td>\n",
       "      <td>8.206452</td>\n",
       "      <td>16.758065</td>\n",
       "      <td>53.967742</td>\n",
       "      <td>3.425806</td>\n",
       "      <td>9.629032</td>\n",
       "      <td>1024.670968</td>\n",
       "      <td>1020.690323</td>\n",
       "      <td>6.409677</td>\n",
       "      <td>0.00</td>\n",
       "    </tr>\n",
       "    <tr>\n",
       "      <th>4</th>\n",
       "      <td>2020-01</td>\n",
       "      <td>ARABA/ALAVA</td>\n",
       "      <td>513.0</td>\n",
       "      <td>5.445161</td>\n",
       "      <td>0.948387</td>\n",
       "      <td>0.990323</td>\n",
       "      <td>9.912903</td>\n",
       "      <td>54.516129</td>\n",
       "      <td>3.229032</td>\n",
       "      <td>10.045161</td>\n",
       "      <td>967.941935</td>\n",
       "      <td>963.483871</td>\n",
       "      <td>3.254839</td>\n",
       "      <td>0.00</td>\n",
       "    </tr>\n",
       "  </tbody>\n",
       "</table>\n",
       "</div>"
      ],
      "text/plain": [
       "     FECHA    PROVINCIA  ALTITUD   TEMP_MED      PREC  TEMP_MIN   TEMP_MAX  \\\n",
       "0  2020-01     A CORUÑA     58.0  11.519355  3.848387  8.900000  14.132258   \n",
       "1  2020-01     ALBACETE    674.0   6.996774  1.354839  1.493548  12.483871   \n",
       "2  2020-01     ALICANTE     81.0  11.664516  1.193548  6.183871  17.145161   \n",
       "3  2020-01      ALMERIA     21.0  12.487097  0.690323  8.206452  16.758065   \n",
       "4  2020-01  ARABA/ALAVA    513.0   5.445161  0.948387  0.990323   9.912903   \n",
       "\n",
       "         DIR  VEL_MEDIA      RACHA     PRES_MAX     PRES_MIN       SOL  \\\n",
       "0  23.580645   3.706452  12.183871  1019.816129  1013.903226  3.838710   \n",
       "1  32.483871   0.916129   6.451613   949.235484   945.961290  5.474194   \n",
       "2  22.000000   1.767742   7.741935  1017.296774  1013.180645  6.896774   \n",
       "3  53.967742   3.425806   9.629032  1024.670968  1020.690323  6.409677   \n",
       "4  54.516129   3.229032  10.045161   967.941935   963.483871  3.254839   \n",
       "\n",
       "   TASA_INCIDENCIA  \n",
       "0             0.09  \n",
       "1             0.00  \n",
       "2             0.00  \n",
       "3             0.00  \n",
       "4             0.00  "
      ]
     },
     "execution_count": 19,
     "metadata": {},
     "output_type": "execute_result"
    }
   ],
   "source": [
    "df.head()"
   ]
  },
  {
   "cell_type": "code",
   "execution_count": 23,
   "metadata": {},
   "outputs": [
    {
     "data": {
      "text/plain": [
       "12025.3"
      ]
     },
     "execution_count": 23,
     "metadata": {},
     "output_type": "execute_result"
    }
   ],
   "source": [
    "df[\"TASA_INCIDENCIA\"].max()"
   ]
  },
  {
   "cell_type": "code",
   "execution_count": 24,
   "metadata": {
    "scrolled": true
   },
   "outputs": [
    {
     "data": {
      "text/plain": [
       "(1976, 14)"
      ]
     },
     "execution_count": 24,
     "metadata": {},
     "output_type": "execute_result"
    }
   ],
   "source": [
    "df.shape"
   ]
  },
  {
   "cell_type": "code",
   "execution_count": 26,
   "metadata": {},
   "outputs": [],
   "source": [
    "#train = df[(df['FECHA'] >= '2020-01-01 00:00:00') & (df['FECHA'] <= '2021-11-30 23:59:59')]\n",
    "#test  = df[(df['FECHA'] >= '2021-12-01 00:00:00')]\n",
    "#print(round(test.shape[0]/df.shape[0], 2))"
   ]
  },
  {
   "cell_type": "markdown",
   "metadata": {},
   "source": [
    "Con Grupo edad\n",
    "print(df_train.shape) --> (82680, 16)\n",
    "print(df_test.shape) --> (47268, 16)"
   ]
  },
  {
   "cell_type": "code",
   "execution_count": 28,
   "metadata": {
    "scrolled": false
   },
   "outputs": [
    {
     "data": {
      "image/png": "[encoded data removed]",
      "text/plain": [
       "<Figure size 4000x3000 with 2 Axes>"
      ]
     },
     "metadata": {},
     "output_type": "display_data"
    }
   ],
   "source": [
    "from matplotlib import figure\n",
    "import seaborn as sns; sns.set()\n",
    "corr = df.corr()\n",
    "sns.heatmap(corr, annot=True)\n",
    "sns.set(rc={'figure.figsize':(40, 30)})"
   ]
  },
  {
   "cell_type": "code",
   "execution_count": 29,
   "metadata": {
    "scrolled": true
   },
   "outputs": [
    {
     "data": {
      "text/plain": [
       "(1976, 14)"
      ]
     },
     "execution_count": 29,
     "metadata": {},
     "output_type": "execute_result"
    }
   ],
   "source": [
    "df.shape"
   ]
  },
  {
   "cell_type": "code",
   "execution_count": 31,
   "metadata": {},
   "outputs": [],
   "source": [
    "df = df.drop(columns=[\"TEMP_MIN\", \"TEMP_MAX\", \"PRES_MAX\"])"
   ]
  },
  {
   "cell_type": "code",
   "execution_count": 32,
   "metadata": {},
   "outputs": [],
   "source": [
    "df.to_csv('data_preprocess.csv', index=False)"
   ]
  },
  {
   "cell_type": "markdown",
   "metadata": {},
   "source": [
    "# Caracterización de variable categorica Hash"
   ]
  },
  {
   "cell_type": "markdown",
   "metadata": {},
   "source": [
    "### Ejemplo:"
   ]
  },
  {
   "cell_type": "code",
   "execution_count": 107,
   "metadata": {},
   "outputs": [],
   "source": [
    "from sklearn.feature_extraction import FeatureHasher\n",
    "import pandas as pd\n",
    "\n",
    "# Crear un dataframe con una variable categórica nominal con 100 valores únicos\n",
    "df = pd.DataFrame({'ciudad': ['Ciudad1', 'Ciudad2', 'Ciudad3', 'Ciudad4', 'Ciudad5', 'Ciudad6', \n",
    "                              'Ciudad7', 'Ciudad8', 'Ciudad9', 'Ciudad10', 'Ciudad11', 'Ciudad12',\n",
    "                              'Ciudad13', 'Ciudad14', 'Ciudad15', 'Ciudad16', 'Ciudad17', 'Ciudad18',\n",
    "                              'Ciudad19', 'Ciudad20', 'Ciudad21', 'Ciudad22', 'Ciudad23', 'Ciudad24',\n",
    "                              'Ciudad25', 'Ciudad26', 'Ciudad27', 'Ciudad28', 'Ciudad29', 'Ciudad30',\n",
    "                              'Ciudad31', 'Ciudad32', 'Ciudad33', 'Ciudad34', 'Ciudad35', 'Ciudad36',\n",
    "                              'Ciudad37', 'Ciudad38', 'Ciudad39', 'Ciudad40', 'Ciudad41', 'Ciudad42',\n",
    "                              'Ciudad43', 'Ciudad44', 'Ciudad45', 'Ciudad46', 'Ciudad47', 'Ciudad48',\n",
    "                              'Ciudad49', 'Ciudad50', 'Ciudad51', 'Ciudad52', 'Ciudad53', 'Ciudad54',\n",
    "                              'Ciudad55', 'Ciudad56', 'Ciudad57', 'Ciudad58', 'Ciudad59', 'Ciudad60',\n",
    "                              'Ciudad61', 'Ciudad62', 'Ciudad63', 'Ciudad64', 'Ciudad65', 'Ciudad66',\n",
    "                              'Ciudad67', 'Ciudad68', 'Ciudad69', 'Ciudad70', 'Ciudad71', 'Ciudad72',\n",
    "                              'Ciudad73', 'Ciudad74', 'Ciudad75', 'Ciudad76', 'Ciudad77', 'Ciudad78',\n",
    "                              'Ciudad79', 'Ciudad80', 'Ciudad81', 'Ciudad82', 'Ciudad83', 'Ciudad84',\n",
    "                              'Ciudad85', 'Ciudad86', 'Ciudad87', 'Ciudad88', 'Ciudad89', 'Ciudad90',\n",
    "                              'Ciudad91', 'Ciudad92', 'Ciudad93', 'Ciudad94', 'Ciudad95', 'Ciudad96',\n",
    "                              'Ciudad97', 'Ciudad98', 'Ciudad99', 'Ciudad100']})\n",
    "\n"
   ]
  },
  {
   "cell_type": "code",
   "execution_count": 98,
   "metadata": {
    "scrolled": true
   },
   "outputs": [
    {
     "data": {
      "text/html": [
       "<div>\n",
       "<style scoped>\n",
       "    .dataframe tbody tr th:only-of-type {\n",
       "        vertical-align: middle;\n",
       "    }\n",
       "\n",
       "    .dataframe tbody tr th {\n",
       "        vertical-align: top;\n",
       "    }\n",
       "\n",
       "    .dataframe thead th {\n",
       "        text-align: right;\n",
       "    }\n",
       "</style>\n",
       "<table border=\"1\" class=\"dataframe\">\n",
       "  <thead>\n",
       "    <tr style=\"text-align: right;\">\n",
       "      <th></th>\n",
       "      <th>ciudad</th>\n",
       "    </tr>\n",
       "  </thead>\n",
       "  <tbody>\n",
       "    <tr>\n",
       "      <th>0</th>\n",
       "      <td>Ciudad1</td>\n",
       "    </tr>\n",
       "    <tr>\n",
       "      <th>1</th>\n",
       "      <td>Ciudad2</td>\n",
       "    </tr>\n",
       "    <tr>\n",
       "      <th>2</th>\n",
       "      <td>Ciudad3</td>\n",
       "    </tr>\n",
       "    <tr>\n",
       "      <th>3</th>\n",
       "      <td>Ciudad4</td>\n",
       "    </tr>\n",
       "    <tr>\n",
       "      <th>4</th>\n",
       "      <td>Ciudad5</td>\n",
       "    </tr>\n",
       "    <tr>\n",
       "      <th>...</th>\n",
       "      <td>...</td>\n",
       "    </tr>\n",
       "    <tr>\n",
       "      <th>95</th>\n",
       "      <td>Ciudad96</td>\n",
       "    </tr>\n",
       "    <tr>\n",
       "      <th>96</th>\n",
       "      <td>Ciudad97</td>\n",
       "    </tr>\n",
       "    <tr>\n",
       "      <th>97</th>\n",
       "      <td>Ciudad98</td>\n",
       "    </tr>\n",
       "    <tr>\n",
       "      <th>98</th>\n",
       "      <td>Ciudad99</td>\n",
       "    </tr>\n",
       "    <tr>\n",
       "      <th>99</th>\n",
       "      <td>Ciudad100</td>\n",
       "    </tr>\n",
       "  </tbody>\n",
       "</table>\n",
       "<p>100 rows × 1 columns</p>\n",
       "</div>"
      ],
      "text/plain": [
       "       ciudad\n",
       "0     Ciudad1\n",
       "1     Ciudad2\n",
       "2     Ciudad3\n",
       "3     Ciudad4\n",
       "4     Ciudad5\n",
       "..        ...\n",
       "95   Ciudad96\n",
       "96   Ciudad97\n",
       "97   Ciudad98\n",
       "98   Ciudad99\n",
       "99  Ciudad100\n",
       "\n",
       "[100 rows x 1 columns]"
      ]
     },
     "execution_count": 98,
     "metadata": {},
     "output_type": "execute_result"
    }
   ],
   "source": [
    "df"
   ]
  },
  {
   "cell_type": "code",
   "execution_count": 108,
   "metadata": {},
   "outputs": [],
   "source": [
    "# Crear un objeto FeatureHasher\n",
    "fh = FeatureHasher(n_features=10, input_type='string')\n",
    "\n",
    "# Transformar la variable categórica utilizando la codificación Hashing\n",
    "hashed = fh.transform(df['ciudad'])\n",
    "\n",
    "# Convertir el resultado en un dataframe\n",
    "hashed_df = pd.DataFrame(hashed.toarray())\n",
    "\n",
    "# Unir el dataframe original con el dataframe de características codificadas\n",
    "df = pd.concat([df, hashed_df], axis=1)"
   ]
  },
  {
   "cell_type": "code",
   "execution_count": 106,
   "metadata": {
    "scrolled": true
   },
   "outputs": [
    {
     "data": {
      "text/html": [
       "<div>\n",
       "<style scoped>\n",
       "    .dataframe tbody tr th:only-of-type {\n",
       "        vertical-align: middle;\n",
       "    }\n",
       "\n",
       "    .dataframe tbody tr th {\n",
       "        vertical-align: top;\n",
       "    }\n",
       "\n",
       "    .dataframe thead th {\n",
       "        text-align: right;\n",
       "    }\n",
       "</style>\n",
       "<table border=\"1\" class=\"dataframe\">\n",
       "  <thead>\n",
       "    <tr style=\"text-align: right;\">\n",
       "      <th></th>\n",
       "      <th>ciudad</th>\n",
       "      <th>0</th>\n",
       "      <th>1</th>\n",
       "      <th>2</th>\n",
       "    </tr>\n",
       "  </thead>\n",
       "  <tbody>\n",
       "    <tr>\n",
       "      <th>0</th>\n",
       "      <td>Ciudad1</td>\n",
       "      <td>-2.0</td>\n",
       "      <td>2.0</td>\n",
       "      <td>1.0</td>\n",
       "    </tr>\n",
       "    <tr>\n",
       "      <th>1</th>\n",
       "      <td>Ciudad2</td>\n",
       "      <td>-1.0</td>\n",
       "      <td>3.0</td>\n",
       "      <td>1.0</td>\n",
       "    </tr>\n",
       "    <tr>\n",
       "      <th>2</th>\n",
       "      <td>Ciudad3</td>\n",
       "      <td>-1.0</td>\n",
       "      <td>3.0</td>\n",
       "      <td>1.0</td>\n",
       "    </tr>\n",
       "    <tr>\n",
       "      <th>3</th>\n",
       "      <td>Ciudad4</td>\n",
       "      <td>-2.0</td>\n",
       "      <td>3.0</td>\n",
       "      <td>0.0</td>\n",
       "    </tr>\n",
       "    <tr>\n",
       "      <th>4</th>\n",
       "      <td>Ciudad5</td>\n",
       "      <td>-1.0</td>\n",
       "      <td>3.0</td>\n",
       "      <td>1.0</td>\n",
       "    </tr>\n",
       "    <tr>\n",
       "      <th>...</th>\n",
       "      <td>...</td>\n",
       "      <td>...</td>\n",
       "      <td>...</td>\n",
       "      <td>...</td>\n",
       "    </tr>\n",
       "    <tr>\n",
       "      <th>95</th>\n",
       "      <td>Ciudad96</td>\n",
       "      <td>-2.0</td>\n",
       "      <td>3.0</td>\n",
       "      <td>3.0</td>\n",
       "    </tr>\n",
       "    <tr>\n",
       "      <th>96</th>\n",
       "      <td>Ciudad97</td>\n",
       "      <td>-2.0</td>\n",
       "      <td>3.0</td>\n",
       "      <td>3.0</td>\n",
       "    </tr>\n",
       "    <tr>\n",
       "      <th>97</th>\n",
       "      <td>Ciudad98</td>\n",
       "      <td>-3.0</td>\n",
       "      <td>3.0</td>\n",
       "      <td>2.0</td>\n",
       "    </tr>\n",
       "    <tr>\n",
       "      <th>98</th>\n",
       "      <td>Ciudad99</td>\n",
       "      <td>-2.0</td>\n",
       "      <td>3.0</td>\n",
       "      <td>3.0</td>\n",
       "    </tr>\n",
       "    <tr>\n",
       "      <th>99</th>\n",
       "      <td>Ciudad100</td>\n",
       "      <td>-2.0</td>\n",
       "      <td>0.0</td>\n",
       "      <td>1.0</td>\n",
       "    </tr>\n",
       "  </tbody>\n",
       "</table>\n",
       "<p>100 rows × 4 columns</p>\n",
       "</div>"
      ],
      "text/plain": [
       "       ciudad    0    1    2\n",
       "0     Ciudad1 -2.0  2.0  1.0\n",
       "1     Ciudad2 -1.0  3.0  1.0\n",
       "2     Ciudad3 -1.0  3.0  1.0\n",
       "3     Ciudad4 -2.0  3.0  0.0\n",
       "4     Ciudad5 -1.0  3.0  1.0\n",
       "..        ...  ...  ...  ...\n",
       "95   Ciudad96 -2.0  3.0  3.0\n",
       "96   Ciudad97 -2.0  3.0  3.0\n",
       "97   Ciudad98 -3.0  3.0  2.0\n",
       "98   Ciudad99 -2.0  3.0  3.0\n",
       "99  Ciudad100 -2.0  0.0  1.0\n",
       "\n",
       "[100 rows x 4 columns]"
      ]
     },
     "execution_count": 106,
     "metadata": {},
     "output_type": "execute_result"
    }
   ],
   "source": [
    "df"
   ]
  },
  {
   "cell_type": "markdown",
   "metadata": {},
   "source": [
    "# Pruebas de Población"
   ]
  },
  {
   "cell_type": "code",
   "execution_count": 65,
   "metadata": {},
   "outputs": [
    {
     "name": "stdout",
     "output_type": "stream",
     "text": [
      "Introduce el valor inicial: 358597\n",
      "Introduce el valor final: 385727\n",
      "Introduce el valor: 24\n",
      "La tasa de crecimiento anual es del 0.3 %.\n"
     ]
    }
   ],
   "source": [
    "valor_inicial = float(input(\"Introduce el valor inicial: \"))\n",
    "valor_final = float(input(\"Introduce el valor final: \"))\n",
    "num_anios = int(input(\"Introduce el valor de años: \"))\n",
    "\n",
    "# Calculamos la tasa de crecimiento anual\n",
    "tasa_crecimiento = ((valor_final / valor_inicial) ** (1 / num_anios) - 1) * 100\n",
    "\n",
    "# Imprimimos la tasa de crecimiento anual\n",
    "print(\"La tasa de crecimiento anual es del\", round(tasa_crecimiento, 2), \"%.\")"
   ]
  },
  {
   "cell_type": "code",
   "execution_count": 66,
   "metadata": {},
   "outputs": [
    {
     "name": "stdout",
     "output_type": "stream",
     "text": [
      "Introduce la población actual: 385727\n",
      "Introduce la tasa de crecimiento anual en porcentaje: 0.3\n",
      "Introduce el número de años: 1\n",
      "La población futura después de 1 años será de 386884 habitantes.\n"
     ]
    }
   ],
   "source": [
    "# Pedimos al usuario que introduzca la población actual y la tasa de crecimiento anual\n",
    "poblacion_actual = int(input(\"Introduce la población actual: \"))\n",
    "tasa_crecimiento = float(input(\"Introduce la tasa de crecimiento anual en porcentaje: \"))\n",
    "\n",
    "# Convertimos la tasa de crecimiento a una fracción\n",
    "tasa_crecimiento = tasa_crecimiento / 100\n",
    "\n",
    "# Pedimos al usuario que introduzca el número de años para calcular la población futura\n",
    "num_anios = int(input(\"Introduce el número de años: \"))\n",
    "\n",
    "# Calculamos la población futura\n",
    "poblacion_futura = round(poblacion_actual * (1 + tasa_crecimiento) ** num_anios)\n",
    "\n",
    "# Imprimimos la población futura\n",
    "print(\"La población futura después de\", num_anios, \"años será de\", poblacion_futura, \"habitantes.\")\n"
   ]
  },
  {
   "cell_type": "code",
   "execution_count": 134,
   "metadata": {},
   "outputs": [
    {
     "name": "stdout",
     "output_type": "stream",
     "text": [
      "Introduce la población inicial: 386464\n",
      "Introduce la población final: 385727\n",
      "Introduce el número de años: 1\n",
      "La tasa de crecimiento mensual es del -0.02 %.\n"
     ]
    }
   ],
   "source": [
    "# Pedimos al usuario que introduzca la población inicial y final\n",
    "poblacion_inicial = float(input(\"Introduce la población inicial: \"))\n",
    "poblacion_final = float(input(\"Introduce la población final: \"))\n",
    "\n",
    "# Pedimos al usuario que introduzca el número de años para calcular la tasa de crecimiento mensual\n",
    "num_anios = int(input(\"Introduce el número de años: \"))\n",
    "\n",
    "# Calculamos la tasa de crecimiento anual\n",
    "tasa_crecimiento_anual = ((poblacion_final / poblacion_inicial) ** (1 / num_anios) - 1)\n",
    "\n",
    "# Calculamos la tasa de crecimiento mensual\n",
    "tasa_crecimiento_mensual = (1 + tasa_crecimiento_anual) ** (1 / 12) - 1\n",
    "\n",
    "# Imprimimos la tasa de crecimiento mensual\n",
    "print(\"La tasa de crecimiento mensual es del\", round(tasa_crecimiento_mensual * 100, 2), \"%.\")\n"
   ]
  },
  {
   "cell_type": "code",
   "execution_count": 135,
   "metadata": {
    "scrolled": true
   },
   "outputs": [
    {
     "name": "stdout",
     "output_type": "stream",
     "text": [
      "Introduce la población actual: 385727\n",
      "Introduce la tasa de crecimiento mensual en porcentaje: -0.02\n",
      "Introduce el número de meses: 1\n",
      "La población futura después de 1 meses será de 385650 habitantes.\n"
     ]
    }
   ],
   "source": [
    "# Pedimos al usuario que introduzca la población actual y la tasa de crecimiento mensual\n",
    "poblacion_actual = int(input(\"Introduce la población actual: \"))\n",
    "tasa_crecimiento_mensual = float(input(\"Introduce la tasa de crecimiento mensual en porcentaje: \"))\n",
    "\n",
    "# Convertimos la tasa de crecimiento a una fracción\n",
    "tasa_crecimiento_mensual = tasa_crecimiento_mensual / 100\n",
    "\n",
    "# Pedimos al usuario que introduzca el número de meses para calcular la población futura\n",
    "num_meses = int(input(\"Introduce el número de meses: \"))\n",
    "\n",
    "# Calculamos la población futura\n",
    "poblacion_futura = round(poblacion_actual * (1 + tasa_crecimiento_mensual) ** num_meses)\n",
    "\n",
    "# Imprimimos la población futura\n",
    "print(\"La población futura después de\", num_meses, \"meses será de\", poblacion_futura, \"habitantes.\")\n"
   ]
  },
  {
   "cell_type": "code",
   "execution_count": null,
   "metadata": {},
   "outputs": [],
   "source": [
    "#df[ ‘Result’ ] = df[ ‘Maths’ ].apply( lambda x: ‘Pass’ if x>=5 else ‘Fail’ )\n",
    "#DF_PROV = DF_PROV.assign(POB_MEN = lambda x: (x[\"TOTAL_POB\"] * (1 + x[\"TASA_MENSUAL\"]) ** (x['FECHA'].astype(str).str.slice(start=5).astype(int))))"
   ]
  },
  {
   "cell_type": "code",
   "execution_count": 107,
   "metadata": {
    "scrolled": true
   },
   "outputs": [
    {
     "data": {
      "text/html": [
       "<div>\n",
       "<style scoped>\n",
       "    .dataframe tbody tr th:only-of-type {\n",
       "        vertical-align: middle;\n",
       "    }\n",
       "\n",
       "    .dataframe tbody tr th {\n",
       "        vertical-align: top;\n",
       "    }\n",
       "\n",
       "    .dataframe thead th {\n",
       "        text-align: right;\n",
       "    }\n",
       "</style>\n",
       "<table border=\"1\" class=\"dataframe\">\n",
       "  <thead>\n",
       "    <tr style=\"text-align: right;\">\n",
       "      <th></th>\n",
       "      <th>PROVINCIA</th>\n",
       "      <th>FECHA</th>\n",
       "      <th>POB_MEN</th>\n",
       "    </tr>\n",
       "  </thead>\n",
       "  <tbody>\n",
       "    <tr>\n",
       "      <th>0</th>\n",
       "      <td>A CORUÑA</td>\n",
       "      <td>2020-01</td>\n",
       "      <td>1119584</td>\n",
       "    </tr>\n",
       "    <tr>\n",
       "      <th>1</th>\n",
       "      <td>A CORUÑA</td>\n",
       "      <td>2020-02</td>\n",
       "      <td>1119573</td>\n",
       "    </tr>\n",
       "    <tr>\n",
       "      <th>2</th>\n",
       "      <td>A CORUÑA</td>\n",
       "      <td>2020-03</td>\n",
       "      <td>1119561</td>\n",
       "    </tr>\n",
       "    <tr>\n",
       "      <th>3</th>\n",
       "      <td>A CORUÑA</td>\n",
       "      <td>2020-04</td>\n",
       "      <td>1119550</td>\n",
       "    </tr>\n",
       "    <tr>\n",
       "      <th>4</th>\n",
       "      <td>A CORUÑA</td>\n",
       "      <td>2020-05</td>\n",
       "      <td>1119538</td>\n",
       "    </tr>\n",
       "    <tr>\n",
       "      <th>...</th>\n",
       "      <td>...</td>\n",
       "      <td>...</td>\n",
       "      <td>...</td>\n",
       "    </tr>\n",
       "    <tr>\n",
       "      <th>1971</th>\n",
       "      <td>ZARAGOZA</td>\n",
       "      <td>2022-10</td>\n",
       "      <td>967938</td>\n",
       "    </tr>\n",
       "    <tr>\n",
       "      <th>1972</th>\n",
       "      <td>ZARAGOZA</td>\n",
       "      <td>2022-11</td>\n",
       "      <td>967986</td>\n",
       "    </tr>\n",
       "    <tr>\n",
       "      <th>1973</th>\n",
       "      <td>ZARAGOZA</td>\n",
       "      <td>2022-12</td>\n",
       "      <td>968035</td>\n",
       "    </tr>\n",
       "    <tr>\n",
       "      <th>1974</th>\n",
       "      <td>ZARAGOZA</td>\n",
       "      <td>2023-01</td>\n",
       "      <td>966487</td>\n",
       "    </tr>\n",
       "    <tr>\n",
       "      <th>1975</th>\n",
       "      <td>ZARAGOZA</td>\n",
       "      <td>2023-02</td>\n",
       "      <td>966535</td>\n",
       "    </tr>\n",
       "  </tbody>\n",
       "</table>\n",
       "<p>1976 rows × 3 columns</p>\n",
       "</div>"
      ],
      "text/plain": [
       "     PROVINCIA    FECHA  POB_MEN\n",
       "0     A CORUÑA  2020-01  1119584\n",
       "1     A CORUÑA  2020-02  1119573\n",
       "2     A CORUÑA  2020-03  1119561\n",
       "3     A CORUÑA  2020-04  1119550\n",
       "4     A CORUÑA  2020-05  1119538\n",
       "...        ...      ...      ...\n",
       "1971  ZARAGOZA  2022-10   967938\n",
       "1972  ZARAGOZA  2022-11   967986\n",
       "1973  ZARAGOZA  2022-12   968035\n",
       "1974  ZARAGOZA  2023-01   966487\n",
       "1975  ZARAGOZA  2023-02   966535\n",
       "\n",
       "[1976 rows x 3 columns]"
      ]
     },
     "execution_count": 107,
     "metadata": {},
     "output_type": "execute_result"
    }
   ],
   "source": [
    "DF_PROV"
   ]
  },
  {
   "cell_type": "code",
   "execution_count": 436,
   "metadata": {},
   "outputs": [],
   "source": [
    "df_no=pd.merge(df_prov_fec,df_pob,on=['PROVINCIA', 'YEAR'],how=\"outer\",indicator=True)\n",
    "df_no=df_no[df_no['_merge']=='left_only']"
   ]
  },
  {
   "cell_type": "code",
   "execution_count": 437,
   "metadata": {},
   "outputs": [
    {
     "data": {
      "text/html": [
       "<div>\n",
       "<style scoped>\n",
       "    .dataframe tbody tr th:only-of-type {\n",
       "        vertical-align: middle;\n",
       "    }\n",
       "\n",
       "    .dataframe tbody tr th {\n",
       "        vertical-align: top;\n",
       "    }\n",
       "\n",
       "    .dataframe thead th {\n",
       "        text-align: right;\n",
       "    }\n",
       "</style>\n",
       "<table border=\"1\" class=\"dataframe\">\n",
       "  <thead>\n",
       "    <tr style=\"text-align: right;\">\n",
       "      <th></th>\n",
       "      <th>PROVINCIA</th>\n",
       "      <th>FECHA</th>\n",
       "      <th>YEAR</th>\n",
       "      <th>TOTAL_POB</th>\n",
       "      <th>_merge</th>\n",
       "    </tr>\n",
       "  </thead>\n",
       "  <tbody>\n",
       "    <tr>\n",
       "      <th>36</th>\n",
       "      <td>A CORUÑA</td>\n",
       "      <td>2023-01</td>\n",
       "      <td>2023</td>\n",
       "      <td>NaN</td>\n",
       "      <td>left_only</td>\n",
       "    </tr>\n",
       "    <tr>\n",
       "      <th>37</th>\n",
       "      <td>A CORUÑA</td>\n",
       "      <td>2023-02</td>\n",
       "      <td>2023</td>\n",
       "      <td>NaN</td>\n",
       "      <td>left_only</td>\n",
       "    </tr>\n",
       "    <tr>\n",
       "      <th>74</th>\n",
       "      <td>ALBACETE</td>\n",
       "      <td>2023-01</td>\n",
       "      <td>2023</td>\n",
       "      <td>NaN</td>\n",
       "      <td>left_only</td>\n",
       "    </tr>\n",
       "    <tr>\n",
       "      <th>75</th>\n",
       "      <td>ALBACETE</td>\n",
       "      <td>2023-02</td>\n",
       "      <td>2023</td>\n",
       "      <td>NaN</td>\n",
       "      <td>left_only</td>\n",
       "    </tr>\n",
       "    <tr>\n",
       "      <th>112</th>\n",
       "      <td>ALICANTE</td>\n",
       "      <td>2023-01</td>\n",
       "      <td>2023</td>\n",
       "      <td>NaN</td>\n",
       "      <td>left_only</td>\n",
       "    </tr>\n",
       "    <tr>\n",
       "      <th>...</th>\n",
       "      <td>...</td>\n",
       "      <td>...</td>\n",
       "      <td>...</td>\n",
       "      <td>...</td>\n",
       "      <td>...</td>\n",
       "    </tr>\n",
       "    <tr>\n",
       "      <th>1899</th>\n",
       "      <td>VALLADOLID</td>\n",
       "      <td>2023-02</td>\n",
       "      <td>2023</td>\n",
       "      <td>NaN</td>\n",
       "      <td>left_only</td>\n",
       "    </tr>\n",
       "    <tr>\n",
       "      <th>1936</th>\n",
       "      <td>ZAMORA</td>\n",
       "      <td>2023-01</td>\n",
       "      <td>2023</td>\n",
       "      <td>NaN</td>\n",
       "      <td>left_only</td>\n",
       "    </tr>\n",
       "    <tr>\n",
       "      <th>1937</th>\n",
       "      <td>ZAMORA</td>\n",
       "      <td>2023-02</td>\n",
       "      <td>2023</td>\n",
       "      <td>NaN</td>\n",
       "      <td>left_only</td>\n",
       "    </tr>\n",
       "    <tr>\n",
       "      <th>1974</th>\n",
       "      <td>ZARAGOZA</td>\n",
       "      <td>2023-01</td>\n",
       "      <td>2023</td>\n",
       "      <td>NaN</td>\n",
       "      <td>left_only</td>\n",
       "    </tr>\n",
       "    <tr>\n",
       "      <th>1975</th>\n",
       "      <td>ZARAGOZA</td>\n",
       "      <td>2023-02</td>\n",
       "      <td>2023</td>\n",
       "      <td>NaN</td>\n",
       "      <td>left_only</td>\n",
       "    </tr>\n",
       "  </tbody>\n",
       "</table>\n",
       "<p>104 rows × 5 columns</p>\n",
       "</div>"
      ],
      "text/plain": [
       "       PROVINCIA    FECHA  YEAR  TOTAL_POB     _merge\n",
       "36      A CORUÑA  2023-01  2023        NaN  left_only\n",
       "37      A CORUÑA  2023-02  2023        NaN  left_only\n",
       "74      ALBACETE  2023-01  2023        NaN  left_only\n",
       "75      ALBACETE  2023-02  2023        NaN  left_only\n",
       "112     ALICANTE  2023-01  2023        NaN  left_only\n",
       "...          ...      ...   ...        ...        ...\n",
       "1899  VALLADOLID  2023-02  2023        NaN  left_only\n",
       "1936      ZAMORA  2023-01  2023        NaN  left_only\n",
       "1937      ZAMORA  2023-02  2023        NaN  left_only\n",
       "1974    ZARAGOZA  2023-01  2023        NaN  left_only\n",
       "1975    ZARAGOZA  2023-02  2023        NaN  left_only\n",
       "\n",
       "[104 rows x 5 columns]"
      ]
     },
     "execution_count": 437,
     "metadata": {},
     "output_type": "execute_result"
    }
   ],
   "source": [
    "df_no"
   ]
  }
 ],
 "metadata": {
  "kernelspec": {
   "display_name": "Python 3 (ipykernel)",
   "language": "python",
   "name": "python3"
  },
  "language_info": {
   "codemirror_mode": {
    "name": "ipython",
    "version": 3
   },
   "file_extension": ".py",
   "mimetype": "text/x-python",
   "name": "python",
   "nbconvert_exporter": "python",
   "pygments_lexer": "ipython3",
   "version": "3.9.13"
  }
 },
 "nbformat": 4,
 "nbformat_minor": 4
}
